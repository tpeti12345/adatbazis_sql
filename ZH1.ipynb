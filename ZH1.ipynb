{
    "metadata": {
        "kernelspec": {
            "name": "SQL",
            "display_name": "SQL",
            "language": "sql"
        },
        "language_info": {
            "name": "sql",
            "version": ""
        }
    },
    "nbformat_minor": 2,
    "nbformat": 4,
    "cells": [
        {
            "cell_type": "code",
            "source": [
                "------feladat1\r\n",
                "\r\n",
                "SELECT Count(f.FOGLALAS_PK) as 'Foglalás Szám', sz.SZOBA_ID\r\n",
                "FROM szoba sz JOIN Foglalas f on sz.SZOBA_ID = f.SZOBA_FK\r\n",
                "WHERE f.FELNOTT_SZAM > f.GYERMEK_SZAM\r\n",
                "GROUP BY sz.SZOBA_ID\r\n",
                "Having Count(f.FOGLALAS_PK) > 1\r\n",
                "ORDER by COUNT(f.FOGLALAS_PK)"
            ],
            "metadata": {
                "azdata_cell_guid": "7302c2f6-da2c-4fff-bdf8-5bfe7e6d7563",
                "language": "sql",
                "tags": []
            },
            "outputs": [
                {
                    "output_type": "display_data",
                    "data": {
                        "text/html": "(165 rows affected)"
                    },
                    "metadata": {}
                },
                {
                    "output_type": "display_data",
                    "data": {
                        "text/html": "Total execution time: 00:00:00.014"
                    },
                    "metadata": {}
                },
                {
                    "output_type": "execute_result",
                    "metadata": {},
                    "execution_count": 26,
                    "data": {
                        "application/vnd.dataresource+json": {
                            "schema": {
                                "fields": [
                                    {
                                        "name": "Foglalás Szám"
                                    },
                                    {
                                        "name": "SZOBA_ID"
                                    }
                                ]
                            },
                            "data": [
                                {
                                    "Foglalás Szám": "2",
                                    "SZOBA_ID": "2"
                                },
                                {
                                    "Foglalás Szám": "2",
                                    "SZOBA_ID": "5"
                                },
                                {
                                    "Foglalás Szám": "2",
                                    "SZOBA_ID": "17"
                                },
                                {
                                    "Foglalás Szám": "2",
                                    "SZOBA_ID": "22"
                                },
                                {
                                    "Foglalás Szám": "2",
                                    "SZOBA_ID": "30"
                                },
                                {
                                    "Foglalás Szám": "2",
                                    "SZOBA_ID": "37"
                                },
                                {
                                    "Foglalás Szám": "2",
                                    "SZOBA_ID": "47"
                                },
                                {
                                    "Foglalás Szám": "2",
                                    "SZOBA_ID": "71"
                                },
                                {
                                    "Foglalás Szám": "2",
                                    "SZOBA_ID": "72"
                                },
                                {
                                    "Foglalás Szám": "2",
                                    "SZOBA_ID": "75"
                                },
                                {
                                    "Foglalás Szám": "2",
                                    "SZOBA_ID": "76"
                                },
                                {
                                    "Foglalás Szám": "2",
                                    "SZOBA_ID": "67"
                                },
                                {
                                    "Foglalás Szám": "2",
                                    "SZOBA_ID": "69"
                                },
                                {
                                    "Foglalás Szám": "2",
                                    "SZOBA_ID": "85"
                                },
                                {
                                    "Foglalás Szám": "2",
                                    "SZOBA_ID": "91"
                                },
                                {
                                    "Foglalás Szám": "2",
                                    "SZOBA_ID": "100"
                                },
                                {
                                    "Foglalás Szám": "2",
                                    "SZOBA_ID": "109"
                                },
                                {
                                    "Foglalás Szám": "2",
                                    "SZOBA_ID": "113"
                                },
                                {
                                    "Foglalás Szám": "2",
                                    "SZOBA_ID": "118"
                                },
                                {
                                    "Foglalás Szám": "2",
                                    "SZOBA_ID": "120"
                                },
                                {
                                    "Foglalás Szám": "2",
                                    "SZOBA_ID": "136"
                                },
                                {
                                    "Foglalás Szám": "2",
                                    "SZOBA_ID": "137"
                                },
                                {
                                    "Foglalás Szám": "2",
                                    "SZOBA_ID": "144"
                                },
                                {
                                    "Foglalás Szám": "2",
                                    "SZOBA_ID": "145"
                                },
                                {
                                    "Foglalás Szám": "2",
                                    "SZOBA_ID": "151"
                                },
                                {
                                    "Foglalás Szám": "2",
                                    "SZOBA_ID": "156"
                                },
                                {
                                    "Foglalás Szám": "2",
                                    "SZOBA_ID": "157"
                                },
                                {
                                    "Foglalás Szám": "2",
                                    "SZOBA_ID": "160"
                                },
                                {
                                    "Foglalás Szám": "2",
                                    "SZOBA_ID": "162"
                                },
                                {
                                    "Foglalás Szám": "2",
                                    "SZOBA_ID": "167"
                                },
                                {
                                    "Foglalás Szám": "2",
                                    "SZOBA_ID": "176"
                                },
                                {
                                    "Foglalás Szám": "2",
                                    "SZOBA_ID": "179"
                                },
                                {
                                    "Foglalás Szám": "2",
                                    "SZOBA_ID": "188"
                                },
                                {
                                    "Foglalás Szám": "2",
                                    "SZOBA_ID": "193"
                                },
                                {
                                    "Foglalás Szám": "2",
                                    "SZOBA_ID": "196"
                                },
                                {
                                    "Foglalás Szám": "3",
                                    "SZOBA_ID": "191"
                                },
                                {
                                    "Foglalás Szám": "3",
                                    "SZOBA_ID": "183"
                                },
                                {
                                    "Foglalás Szám": "3",
                                    "SZOBA_ID": "173"
                                },
                                {
                                    "Foglalás Szám": "3",
                                    "SZOBA_ID": "166"
                                },
                                {
                                    "Foglalás Szám": "3",
                                    "SZOBA_ID": "175"
                                },
                                {
                                    "Foglalás Szám": "3",
                                    "SZOBA_ID": "169"
                                },
                                {
                                    "Foglalás Szám": "3",
                                    "SZOBA_ID": "170"
                                },
                                {
                                    "Foglalás Szám": "3",
                                    "SZOBA_ID": "161"
                                },
                                {
                                    "Foglalás Szám": "3",
                                    "SZOBA_ID": "158"
                                },
                                {
                                    "Foglalás Szám": "3",
                                    "SZOBA_ID": "152"
                                },
                                {
                                    "Foglalás Szám": "3",
                                    "SZOBA_ID": "154"
                                },
                                {
                                    "Foglalás Szám": "3",
                                    "SZOBA_ID": "155"
                                },
                                {
                                    "Foglalás Szám": "3",
                                    "SZOBA_ID": "146"
                                },
                                {
                                    "Foglalás Szám": "3",
                                    "SZOBA_ID": "135"
                                },
                                {
                                    "Foglalás Szám": "3",
                                    "SZOBA_ID": "122"
                                },
                                {
                                    "Foglalás Szám": "3",
                                    "SZOBA_ID": "129"
                                },
                                {
                                    "Foglalás Szám": "3",
                                    "SZOBA_ID": "104"
                                },
                                {
                                    "Foglalás Szám": "3",
                                    "SZOBA_ID": "90"
                                },
                                {
                                    "Foglalás Szám": "3",
                                    "SZOBA_ID": "66"
                                },
                                {
                                    "Foglalás Szám": "3",
                                    "SZOBA_ID": "84"
                                },
                                {
                                    "Foglalás Szám": "3",
                                    "SZOBA_ID": "93"
                                },
                                {
                                    "Foglalás Szám": "3",
                                    "SZOBA_ID": "95"
                                },
                                {
                                    "Foglalás Szám": "3",
                                    "SZOBA_ID": "81"
                                },
                                {
                                    "Foglalás Szám": "3",
                                    "SZOBA_ID": "77"
                                },
                                {
                                    "Foglalás Szám": "3",
                                    "SZOBA_ID": "78"
                                },
                                {
                                    "Foglalás Szám": "3",
                                    "SZOBA_ID": "50"
                                },
                                {
                                    "Foglalás Szám": "3",
                                    "SZOBA_ID": "51"
                                },
                                {
                                    "Foglalás Szám": "3",
                                    "SZOBA_ID": "46"
                                },
                                {
                                    "Foglalás Szám": "3",
                                    "SZOBA_ID": "55"
                                },
                                {
                                    "Foglalás Szám": "3",
                                    "SZOBA_ID": "57"
                                },
                                {
                                    "Foglalás Szám": "3",
                                    "SZOBA_ID": "62"
                                },
                                {
                                    "Foglalás Szám": "3",
                                    "SZOBA_ID": "63"
                                },
                                {
                                    "Foglalás Szám": "3",
                                    "SZOBA_ID": "29"
                                },
                                {
                                    "Foglalás Szám": "3",
                                    "SZOBA_ID": "40"
                                },
                                {
                                    "Foglalás Szám": "3",
                                    "SZOBA_ID": "33"
                                },
                                {
                                    "Foglalás Szám": "3",
                                    "SZOBA_ID": "34"
                                },
                                {
                                    "Foglalás Szám": "3",
                                    "SZOBA_ID": "23"
                                },
                                {
                                    "Foglalás Szám": "3",
                                    "SZOBA_ID": "24"
                                },
                                {
                                    "Foglalás Szám": "3",
                                    "SZOBA_ID": "18"
                                },
                                {
                                    "Foglalás Szám": "3",
                                    "SZOBA_ID": "14"
                                },
                                {
                                    "Foglalás Szám": "3",
                                    "SZOBA_ID": "3"
                                },
                                {
                                    "Foglalás Szám": "4",
                                    "SZOBA_ID": "9"
                                },
                                {
                                    "Foglalás Szám": "4",
                                    "SZOBA_ID": "10"
                                },
                                {
                                    "Foglalás Szám": "4",
                                    "SZOBA_ID": "11"
                                },
                                {
                                    "Foglalás Szám": "4",
                                    "SZOBA_ID": "15"
                                },
                                {
                                    "Foglalás Szám": "4",
                                    "SZOBA_ID": "19"
                                },
                                {
                                    "Foglalás Szám": "4",
                                    "SZOBA_ID": "36"
                                },
                                {
                                    "Foglalás Szám": "4",
                                    "SZOBA_ID": "39"
                                },
                                {
                                    "Foglalás Szám": "4",
                                    "SZOBA_ID": "13"
                                },
                                {
                                    "Foglalás Szám": "4",
                                    "SZOBA_ID": "59"
                                },
                                {
                                    "Foglalás Szám": "4",
                                    "SZOBA_ID": "61"
                                },
                                {
                                    "Foglalás Szám": "4",
                                    "SZOBA_ID": "54"
                                },
                                {
                                    "Foglalás Szám": "4",
                                    "SZOBA_ID": "45"
                                },
                                {
                                    "Foglalás Szám": "4",
                                    "SZOBA_ID": "43"
                                },
                                {
                                    "Foglalás Szám": "4",
                                    "SZOBA_ID": "79"
                                },
                                {
                                    "Foglalás Szám": "4",
                                    "SZOBA_ID": "73"
                                },
                                {
                                    "Foglalás Szám": "4",
                                    "SZOBA_ID": "86"
                                },
                                {
                                    "Foglalás Szám": "4",
                                    "SZOBA_ID": "98"
                                },
                                {
                                    "Foglalás Szám": "4",
                                    "SZOBA_ID": "99"
                                },
                                {
                                    "Foglalás Szám": "4",
                                    "SZOBA_ID": "106"
                                },
                                {
                                    "Foglalás Szám": "4",
                                    "SZOBA_ID": "107"
                                },
                                {
                                    "Foglalás Szám": "4",
                                    "SZOBA_ID": "124"
                                },
                                {
                                    "Foglalás Szám": "4",
                                    "SZOBA_ID": "126"
                                },
                                {
                                    "Foglalás Szám": "4",
                                    "SZOBA_ID": "119"
                                },
                                {
                                    "Foglalás Szám": "4",
                                    "SZOBA_ID": "112"
                                },
                                {
                                    "Foglalás Szám": "4",
                                    "SZOBA_ID": "117"
                                },
                                {
                                    "Foglalás Szám": "4",
                                    "SZOBA_ID": "141"
                                },
                                {
                                    "Foglalás Szám": "4",
                                    "SZOBA_ID": "131"
                                },
                                {
                                    "Foglalás Szám": "4",
                                    "SZOBA_ID": "132"
                                },
                                {
                                    "Foglalás Szám": "4",
                                    "SZOBA_ID": "133"
                                },
                                {
                                    "Foglalás Szám": "4",
                                    "SZOBA_ID": "134"
                                },
                                {
                                    "Foglalás Szám": "4",
                                    "SZOBA_ID": "153"
                                },
                                {
                                    "Foglalás Szám": "4",
                                    "SZOBA_ID": "164"
                                },
                                {
                                    "Foglalás Szám": "4",
                                    "SZOBA_ID": "174"
                                },
                                {
                                    "Foglalás Szám": "4",
                                    "SZOBA_ID": "184"
                                },
                                {
                                    "Foglalás Szám": "5",
                                    "SZOBA_ID": "190"
                                },
                                {
                                    "Foglalás Szám": "5",
                                    "SZOBA_ID": "195"
                                },
                                {
                                    "Foglalás Szám": "5",
                                    "SZOBA_ID": "181"
                                },
                                {
                                    "Foglalás Szám": "5",
                                    "SZOBA_ID": "165"
                                },
                                {
                                    "Foglalás Szám": "5",
                                    "SZOBA_ID": "163"
                                },
                                {
                                    "Foglalás Szám": "5",
                                    "SZOBA_ID": "171"
                                },
                                {
                                    "Foglalás Szám": "5",
                                    "SZOBA_ID": "138"
                                },
                                {
                                    "Foglalás Szám": "5",
                                    "SZOBA_ID": "143"
                                },
                                {
                                    "Foglalás Szám": "5",
                                    "SZOBA_ID": "140"
                                },
                                {
                                    "Foglalás Szám": "5",
                                    "SZOBA_ID": "148"
                                },
                                {
                                    "Foglalás Szám": "5",
                                    "SZOBA_ID": "149"
                                },
                                {
                                    "Foglalás Szám": "5",
                                    "SZOBA_ID": "115"
                                },
                                {
                                    "Foglalás Szám": "5",
                                    "SZOBA_ID": "110"
                                },
                                {
                                    "Foglalás Szám": "5",
                                    "SZOBA_ID": "127"
                                },
                                {
                                    "Foglalás Szám": "5",
                                    "SZOBA_ID": "130"
                                },
                                {
                                    "Foglalás Szám": "5",
                                    "SZOBA_ID": "123"
                                },
                                {
                                    "Foglalás Szám": "5",
                                    "SZOBA_ID": "121"
                                },
                                {
                                    "Foglalás Szám": "5",
                                    "SZOBA_ID": "97"
                                },
                                {
                                    "Foglalás Szám": "5",
                                    "SZOBA_ID": "92"
                                },
                                {
                                    "Foglalás Szám": "5",
                                    "SZOBA_ID": "87"
                                },
                                {
                                    "Foglalás Szám": "5",
                                    "SZOBA_ID": "88"
                                },
                                {
                                    "Foglalás Szám": "5",
                                    "SZOBA_ID": "82"
                                },
                                {
                                    "Foglalás Szám": "5",
                                    "SZOBA_ID": "83"
                                },
                                {
                                    "Foglalás Szám": "5",
                                    "SZOBA_ID": "80"
                                },
                                {
                                    "Foglalás Szám": "5",
                                    "SZOBA_ID": "52"
                                },
                                {
                                    "Foglalás Szám": "5",
                                    "SZOBA_ID": "49"
                                },
                                {
                                    "Foglalás Szám": "5",
                                    "SZOBA_ID": "64"
                                },
                                {
                                    "Foglalás Szám": "5",
                                    "SZOBA_ID": "38"
                                },
                                {
                                    "Foglalás Szám": "5",
                                    "SZOBA_ID": "42"
                                },
                                {
                                    "Foglalás Szám": "5",
                                    "SZOBA_ID": "27"
                                },
                                {
                                    "Foglalás Szám": "5",
                                    "SZOBA_ID": "28"
                                },
                                {
                                    "Foglalás Szám": "5",
                                    "SZOBA_ID": "20"
                                },
                                {
                                    "Foglalás Szám": "5",
                                    "SZOBA_ID": "8"
                                },
                                {
                                    "Foglalás Szám": "5",
                                    "SZOBA_ID": "4"
                                },
                                {
                                    "Foglalás Szám": "5",
                                    "SZOBA_ID": "6"
                                },
                                {
                                    "Foglalás Szám": "6",
                                    "SZOBA_ID": "7"
                                },
                                {
                                    "Foglalás Szám": "6",
                                    "SZOBA_ID": "35"
                                },
                                {
                                    "Foglalás Szám": "6",
                                    "SZOBA_ID": "48"
                                },
                                {
                                    "Foglalás Szám": "6",
                                    "SZOBA_ID": "44"
                                },
                                {
                                    "Foglalás Szám": "6",
                                    "SZOBA_ID": "96"
                                },
                                {
                                    "Foglalás Szám": "6",
                                    "SZOBA_ID": "94"
                                },
                                {
                                    "Foglalás Szám": "6",
                                    "SZOBA_ID": "150"
                                },
                                {
                                    "Foglalás Szám": "6",
                                    "SZOBA_ID": "139"
                                },
                                {
                                    "Foglalás Szám": "6",
                                    "SZOBA_ID": "172"
                                },
                                {
                                    "Foglalás Szám": "6",
                                    "SZOBA_ID": "187"
                                },
                                {
                                    "Foglalás Szám": "6",
                                    "SZOBA_ID": "197"
                                },
                                {
                                    "Foglalás Szám": "7",
                                    "SZOBA_ID": "198"
                                },
                                {
                                    "Foglalás Szám": "7",
                                    "SZOBA_ID": "12"
                                },
                                {
                                    "Foglalás Szám": "7",
                                    "SZOBA_ID": "1"
                                },
                                {
                                    "Foglalás Szám": "8",
                                    "SZOBA_ID": "58"
                                },
                                {
                                    "Foglalás Szám": "8",
                                    "SZOBA_ID": "74"
                                },
                                {
                                    "Foglalás Szám": "8",
                                    "SZOBA_ID": "70"
                                },
                                {
                                    "Foglalás Szám": "8",
                                    "SZOBA_ID": "89"
                                },
                                {
                                    "Foglalás Szám": "10",
                                    "SZOBA_ID": "185"
                                },
                                {
                                    "Foglalás Szám": "11",
                                    "SZOBA_ID": "182"
                                }
                            ]
                        },
                        "text/html": [
                            "<table>",
                            "<tr><th>Foglalás Szám</th><th>SZOBA_ID</th></tr>",
                            "<tr><td>2</td><td>2</td></tr>",
                            "<tr><td>2</td><td>5</td></tr>",
                            "<tr><td>2</td><td>17</td></tr>",
                            "<tr><td>2</td><td>22</td></tr>",
                            "<tr><td>2</td><td>30</td></tr>",
                            "<tr><td>2</td><td>37</td></tr>",
                            "<tr><td>2</td><td>47</td></tr>",
                            "<tr><td>2</td><td>71</td></tr>",
                            "<tr><td>2</td><td>72</td></tr>",
                            "<tr><td>2</td><td>75</td></tr>",
                            "<tr><td>2</td><td>76</td></tr>",
                            "<tr><td>2</td><td>67</td></tr>",
                            "<tr><td>2</td><td>69</td></tr>",
                            "<tr><td>2</td><td>85</td></tr>",
                            "<tr><td>2</td><td>91</td></tr>",
                            "<tr><td>2</td><td>100</td></tr>",
                            "<tr><td>2</td><td>109</td></tr>",
                            "<tr><td>2</td><td>113</td></tr>",
                            "<tr><td>2</td><td>118</td></tr>",
                            "<tr><td>2</td><td>120</td></tr>",
                            "<tr><td>2</td><td>136</td></tr>",
                            "<tr><td>2</td><td>137</td></tr>",
                            "<tr><td>2</td><td>144</td></tr>",
                            "<tr><td>2</td><td>145</td></tr>",
                            "<tr><td>2</td><td>151</td></tr>",
                            "<tr><td>2</td><td>156</td></tr>",
                            "<tr><td>2</td><td>157</td></tr>",
                            "<tr><td>2</td><td>160</td></tr>",
                            "<tr><td>2</td><td>162</td></tr>",
                            "<tr><td>2</td><td>167</td></tr>",
                            "<tr><td>2</td><td>176</td></tr>",
                            "<tr><td>2</td><td>179</td></tr>",
                            "<tr><td>2</td><td>188</td></tr>",
                            "<tr><td>2</td><td>193</td></tr>",
                            "<tr><td>2</td><td>196</td></tr>",
                            "<tr><td>3</td><td>191</td></tr>",
                            "<tr><td>3</td><td>183</td></tr>",
                            "<tr><td>3</td><td>173</td></tr>",
                            "<tr><td>3</td><td>166</td></tr>",
                            "<tr><td>3</td><td>175</td></tr>",
                            "<tr><td>3</td><td>169</td></tr>",
                            "<tr><td>3</td><td>170</td></tr>",
                            "<tr><td>3</td><td>161</td></tr>",
                            "<tr><td>3</td><td>158</td></tr>",
                            "<tr><td>3</td><td>152</td></tr>",
                            "<tr><td>3</td><td>154</td></tr>",
                            "<tr><td>3</td><td>155</td></tr>",
                            "<tr><td>3</td><td>146</td></tr>",
                            "<tr><td>3</td><td>135</td></tr>",
                            "<tr><td>3</td><td>122</td></tr>",
                            "<tr><td>3</td><td>129</td></tr>",
                            "<tr><td>3</td><td>104</td></tr>",
                            "<tr><td>3</td><td>90</td></tr>",
                            "<tr><td>3</td><td>66</td></tr>",
                            "<tr><td>3</td><td>84</td></tr>",
                            "<tr><td>3</td><td>93</td></tr>",
                            "<tr><td>3</td><td>95</td></tr>",
                            "<tr><td>3</td><td>81</td></tr>",
                            "<tr><td>3</td><td>77</td></tr>",
                            "<tr><td>3</td><td>78</td></tr>",
                            "<tr><td>3</td><td>50</td></tr>",
                            "<tr><td>3</td><td>51</td></tr>",
                            "<tr><td>3</td><td>46</td></tr>",
                            "<tr><td>3</td><td>55</td></tr>",
                            "<tr><td>3</td><td>57</td></tr>",
                            "<tr><td>3</td><td>62</td></tr>",
                            "<tr><td>3</td><td>63</td></tr>",
                            "<tr><td>3</td><td>29</td></tr>",
                            "<tr><td>3</td><td>40</td></tr>",
                            "<tr><td>3</td><td>33</td></tr>",
                            "<tr><td>3</td><td>34</td></tr>",
                            "<tr><td>3</td><td>23</td></tr>",
                            "<tr><td>3</td><td>24</td></tr>",
                            "<tr><td>3</td><td>18</td></tr>",
                            "<tr><td>3</td><td>14</td></tr>",
                            "<tr><td>3</td><td>3</td></tr>",
                            "<tr><td>4</td><td>9</td></tr>",
                            "<tr><td>4</td><td>10</td></tr>",
                            "<tr><td>4</td><td>11</td></tr>",
                            "<tr><td>4</td><td>15</td></tr>",
                            "<tr><td>4</td><td>19</td></tr>",
                            "<tr><td>4</td><td>36</td></tr>",
                            "<tr><td>4</td><td>39</td></tr>",
                            "<tr><td>4</td><td>13</td></tr>",
                            "<tr><td>4</td><td>59</td></tr>",
                            "<tr><td>4</td><td>61</td></tr>",
                            "<tr><td>4</td><td>54</td></tr>",
                            "<tr><td>4</td><td>45</td></tr>",
                            "<tr><td>4</td><td>43</td></tr>",
                            "<tr><td>4</td><td>79</td></tr>",
                            "<tr><td>4</td><td>73</td></tr>",
                            "<tr><td>4</td><td>86</td></tr>",
                            "<tr><td>4</td><td>98</td></tr>",
                            "<tr><td>4</td><td>99</td></tr>",
                            "<tr><td>4</td><td>106</td></tr>",
                            "<tr><td>4</td><td>107</td></tr>",
                            "<tr><td>4</td><td>124</td></tr>",
                            "<tr><td>4</td><td>126</td></tr>",
                            "<tr><td>4</td><td>119</td></tr>",
                            "<tr><td>4</td><td>112</td></tr>",
                            "<tr><td>4</td><td>117</td></tr>",
                            "<tr><td>4</td><td>141</td></tr>",
                            "<tr><td>4</td><td>131</td></tr>",
                            "<tr><td>4</td><td>132</td></tr>",
                            "<tr><td>4</td><td>133</td></tr>",
                            "<tr><td>4</td><td>134</td></tr>",
                            "<tr><td>4</td><td>153</td></tr>",
                            "<tr><td>4</td><td>164</td></tr>",
                            "<tr><td>4</td><td>174</td></tr>",
                            "<tr><td>4</td><td>184</td></tr>",
                            "<tr><td>5</td><td>190</td></tr>",
                            "<tr><td>5</td><td>195</td></tr>",
                            "<tr><td>5</td><td>181</td></tr>",
                            "<tr><td>5</td><td>165</td></tr>",
                            "<tr><td>5</td><td>163</td></tr>",
                            "<tr><td>5</td><td>171</td></tr>",
                            "<tr><td>5</td><td>138</td></tr>",
                            "<tr><td>5</td><td>143</td></tr>",
                            "<tr><td>5</td><td>140</td></tr>",
                            "<tr><td>5</td><td>148</td></tr>",
                            "<tr><td>5</td><td>149</td></tr>",
                            "<tr><td>5</td><td>115</td></tr>",
                            "<tr><td>5</td><td>110</td></tr>",
                            "<tr><td>5</td><td>127</td></tr>",
                            "<tr><td>5</td><td>130</td></tr>",
                            "<tr><td>5</td><td>123</td></tr>",
                            "<tr><td>5</td><td>121</td></tr>",
                            "<tr><td>5</td><td>97</td></tr>",
                            "<tr><td>5</td><td>92</td></tr>",
                            "<tr><td>5</td><td>87</td></tr>",
                            "<tr><td>5</td><td>88</td></tr>",
                            "<tr><td>5</td><td>82</td></tr>",
                            "<tr><td>5</td><td>83</td></tr>",
                            "<tr><td>5</td><td>80</td></tr>",
                            "<tr><td>5</td><td>52</td></tr>",
                            "<tr><td>5</td><td>49</td></tr>",
                            "<tr><td>5</td><td>64</td></tr>",
                            "<tr><td>5</td><td>38</td></tr>",
                            "<tr><td>5</td><td>42</td></tr>",
                            "<tr><td>5</td><td>27</td></tr>",
                            "<tr><td>5</td><td>28</td></tr>",
                            "<tr><td>5</td><td>20</td></tr>",
                            "<tr><td>5</td><td>8</td></tr>",
                            "<tr><td>5</td><td>4</td></tr>",
                            "<tr><td>5</td><td>6</td></tr>",
                            "<tr><td>6</td><td>7</td></tr>",
                            "<tr><td>6</td><td>35</td></tr>",
                            "<tr><td>6</td><td>48</td></tr>",
                            "<tr><td>6</td><td>44</td></tr>",
                            "<tr><td>6</td><td>96</td></tr>",
                            "<tr><td>6</td><td>94</td></tr>",
                            "<tr><td>6</td><td>150</td></tr>",
                            "<tr><td>6</td><td>139</td></tr>",
                            "<tr><td>6</td><td>172</td></tr>",
                            "<tr><td>6</td><td>187</td></tr>",
                            "<tr><td>6</td><td>197</td></tr>",
                            "<tr><td>7</td><td>198</td></tr>",
                            "<tr><td>7</td><td>12</td></tr>",
                            "<tr><td>7</td><td>1</td></tr>",
                            "<tr><td>8</td><td>58</td></tr>",
                            "<tr><td>8</td><td>74</td></tr>",
                            "<tr><td>8</td><td>70</td></tr>",
                            "<tr><td>8</td><td>89</td></tr>",
                            "<tr><td>10</td><td>185</td></tr>",
                            "<tr><td>11</td><td>182</td></tr>",
                            "</table>"
                        ]
                    }
                }
            ],
            "execution_count": 26
        },
        {
            "cell_type": "code",
            "source": [
                "---feladat2\r\n",
                "\r\n",
                "SELECT sz.SZOBA_SZAMA ,YEAR(f.METTOL) as 'év', COUNT(f.FOGLALAS_PK) as 'Foglalás szám'\r\n",
                "FROM szoba sz JOIN Foglalas f on sz.SZOBA_ID = f.SZOBA_FK\r\n",
                "WHERE sz.SZOBA_SZAMA % 2 = 1\r\n",
                "GROUP BY sz.SZOBA_SZAMA,  YEAR(f.METTOL)\r\n",
                "HAVING COUNT(f.FOGLALAS_PK)> 10"
            ],
            "metadata": {
                "language": "sql",
                "azdata_cell_guid": "a08cd251-7182-4aad-aed3-a6d5bb2510d3"
            },
            "outputs": [
                {
                    "output_type": "display_data",
                    "data": {
                        "text/html": "(18 rows affected)"
                    },
                    "metadata": {}
                },
                {
                    "output_type": "display_data",
                    "data": {
                        "text/html": "Total execution time: 00:00:00.022"
                    },
                    "metadata": {}
                },
                {
                    "output_type": "execute_result",
                    "metadata": {},
                    "execution_count": 25,
                    "data": {
                        "application/vnd.dataresource+json": {
                            "schema": {
                                "fields": [
                                    {
                                        "name": "SZOBA_SZAMA"
                                    },
                                    {
                                        "name": "év"
                                    },
                                    {
                                        "name": "Foglalás szám"
                                    }
                                ]
                            },
                            "data": [
                                {
                                    "SZOBA_SZAMA": "1",
                                    "év": "2016",
                                    "Foglalás szám": "52"
                                },
                                {
                                    "SZOBA_SZAMA": "11",
                                    "év": "2016",
                                    "Foglalás szám": "22"
                                },
                                {
                                    "SZOBA_SZAMA": "13",
                                    "év": "2016",
                                    "Foglalás szám": "14"
                                },
                                {
                                    "SZOBA_SZAMA": "15",
                                    "év": "2016",
                                    "Foglalás szám": "16"
                                },
                                {
                                    "SZOBA_SZAMA": "17",
                                    "év": "2016",
                                    "Foglalás szám": "16"
                                },
                                {
                                    "SZOBA_SZAMA": "19",
                                    "év": "2016",
                                    "Foglalás szám": "14"
                                },
                                {
                                    "SZOBA_SZAMA": "21",
                                    "év": "2016",
                                    "Foglalás szám": "29"
                                },
                                {
                                    "SZOBA_SZAMA": "23",
                                    "év": "2016",
                                    "Foglalás szám": "18"
                                },
                                {
                                    "SZOBA_SZAMA": "25",
                                    "év": "2016",
                                    "Foglalás szám": "17"
                                },
                                {
                                    "SZOBA_SZAMA": "27",
                                    "év": "2016",
                                    "Foglalás szám": "12"
                                },
                                {
                                    "SZOBA_SZAMA": "29",
                                    "év": "2016",
                                    "Foglalás szám": "15"
                                },
                                {
                                    "SZOBA_SZAMA": "3",
                                    "év": "2016",
                                    "Foglalás szám": "53"
                                },
                                {
                                    "SZOBA_SZAMA": "31",
                                    "év": "2016",
                                    "Foglalás szám": "19"
                                },
                                {
                                    "SZOBA_SZAMA": "33",
                                    "év": "2016",
                                    "Foglalás szám": "17"
                                },
                                {
                                    "SZOBA_SZAMA": "5",
                                    "év": "2016",
                                    "Foglalás szám": "53"
                                },
                                {
                                    "SZOBA_SZAMA": "7",
                                    "év": "2016",
                                    "Foglalás szám": "32"
                                },
                                {
                                    "SZOBA_SZAMA": "9",
                                    "év": "2016",
                                    "Foglalás szám": "41"
                                },
                                {
                                    "SZOBA_SZAMA": "3",
                                    "év": "2017",
                                    "Foglalás szám": "12"
                                }
                            ]
                        },
                        "text/html": [
                            "<table>",
                            "<tr><th>SZOBA_SZAMA</th><th>év</th><th>Foglalás szám</th></tr>",
                            "<tr><td>1</td><td>2016</td><td>52</td></tr>",
                            "<tr><td>11</td><td>2016</td><td>22</td></tr>",
                            "<tr><td>13</td><td>2016</td><td>14</td></tr>",
                            "<tr><td>15</td><td>2016</td><td>16</td></tr>",
                            "<tr><td>17</td><td>2016</td><td>16</td></tr>",
                            "<tr><td>19</td><td>2016</td><td>14</td></tr>",
                            "<tr><td>21</td><td>2016</td><td>29</td></tr>",
                            "<tr><td>23</td><td>2016</td><td>18</td></tr>",
                            "<tr><td>25</td><td>2016</td><td>17</td></tr>",
                            "<tr><td>27</td><td>2016</td><td>12</td></tr>",
                            "<tr><td>29</td><td>2016</td><td>15</td></tr>",
                            "<tr><td>3</td><td>2016</td><td>53</td></tr>",
                            "<tr><td>31</td><td>2016</td><td>19</td></tr>",
                            "<tr><td>33</td><td>2016</td><td>17</td></tr>",
                            "<tr><td>5</td><td>2016</td><td>53</td></tr>",
                            "<tr><td>7</td><td>2016</td><td>32</td></tr>",
                            "<tr><td>9</td><td>2016</td><td>41</td></tr>",
                            "<tr><td>3</td><td>2017</td><td>12</td></tr>",
                            "</table>"
                        ]
                    }
                }
            ],
            "execution_count": 25
        }
    ]
}