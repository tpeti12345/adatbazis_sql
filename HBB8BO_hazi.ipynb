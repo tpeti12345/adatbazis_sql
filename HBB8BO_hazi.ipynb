{
    "metadata": {
        "kernelspec": {
            "name": "SQL",
            "display_name": "SQL",
            "language": "sql"
        },
        "language_info": {
            "name": "sql",
            "version": ""
        }
    },
    "nbformat_minor": 2,
    "nbformat": 4,
    "cells": [
        {
            "cell_type": "markdown",
            "source": [
                "Valasztott tabla: Ugyfel"
            ],
            "metadata": {
                "azdata_cell_guid": "eee745fc-1be3-43f1-b2dc-55b0abe1ef86"
            },
            "attachments": {}
        },
        {
            "cell_type": "markdown",
            "source": [
                "1\\. Ugyfelek korat vizsgalo lekerdezesek"
            ],
            "metadata": {
                "azdata_cell_guid": "241cc602-f47a-474b-b625-030505b9d928"
            },
            "attachments": {}
        },
        {
            "cell_type": "code",
            "source": [
                "SELECT YEAR(CURRENT_TIMESTAMP) - MAX(SZULEV) AS 'Legfiatalabb',\r\n",
                "       YEAR(CURRENT_TIMESTAMP) - MIN(SZULEV) AS 'Legoregebb',\r\n",
                "       YEAR(CURRENT_TIMESTAMP) - AVG(SZULEV) AS 'Atlag eletkor'\r\n",
                "FROM Ugyfel\r\n",
                "WHERE SZULEV IS NOT NULL\r\n",
                ""
            ],
            "metadata": {
                "azdata_cell_guid": "a85b0abf-e536-480d-8f10-7b021f77c3b1",
                "language": "sql"
            },
            "outputs": [
                {
                    "output_type": "display_data",
                    "data": {
                        "text/html": "(1 row affected)"
                    },
                    "metadata": {}
                },
                {
                    "output_type": "display_data",
                    "data": {
                        "text/html": "Total execution time: 00:00:00.030"
                    },
                    "metadata": {}
                },
                {
                    "output_type": "execute_result",
                    "metadata": {
                        "azdata_chartOptions": {
                            "type": "table",
                            "dataDirection": "horizontal",
                            "columnsAsLabels": true,
                            "labelFirstColumn": false,
                            "legendPosition": "top"
                        }
                    },
                    "execution_count": 11,
                    "data": {
                        "application/vnd.dataresource+json": {
                            "schema": {
                                "fields": [
                                    {
                                        "name": "Legfiatalabb"
                                    },
                                    {
                                        "name": "Legoregebb"
                                    },
                                    {
                                        "name": "Atlag eletkor"
                                    }
                                ]
                            },
                            "data": [
                                {
                                    "Legfiatalabb": "25",
                                    "Legoregebb": "58",
                                    "Atlag eletkor": "43"
                                }
                            ]
                        },
                        "text/html": [
                            "<table>",
                            "<tr><th>Legfiatalabb</th><th>Legoregebb</th><th>Atlag eletkor</th></tr>",
                            "<tr><td>25</td><td>58</td><td>43</td></tr>",
                            "</table>"
                        ]
                    }
                }
            ],
            "execution_count": 11
        },
        {
            "cell_type": "markdown",
            "source": [
                "2\\. Nem oszlopra vonatkozo lekerdezesek"
            ],
            "metadata": {
                "language": "sql",
                "azdata_cell_guid": "6c4409e1-63ec-4851-a332-3a0879aa4cd8"
            },
            "attachments": {}
        },
        {
            "cell_type": "code",
            "source": [
                "SELECT  DISTINCT (SELECT YEAR(CURRENT_TIMESTAMP) - AVG(SZULEV)\r\n",
                "        FROM Ugyfel\r\n",
                "        WHERE NEM = 'F') AS 'Ferfiak Atlag Eletkora',\r\n",
                "        (SELECT YEAR(CURRENT_TIMESTAMP) - AVG(SZULEV)\r\n",
                "        FROM Ugyfel\r\n",
                "        WHERE NEM = 'N') AS 'Nok Atlag Eletkora'\r\n",
                "FROM Ugyfel\r\n",
                "WHERE NEM IS NOT NULL"
            ],
            "metadata": {
                "language": "sql",
                "azdata_cell_guid": "38bcabbe-97c3-4848-9d7c-6e7d55463e0e",
                "tags": []
            },
            "outputs": [
                {
                    "output_type": "display_data",
                    "data": {
                        "text/html": "(1 row affected)"
                    },
                    "metadata": {}
                },
                {
                    "output_type": "display_data",
                    "data": {
                        "text/html": "Total execution time: 00:00:00.026"
                    },
                    "metadata": {}
                },
                {
                    "output_type": "execute_result",
                    "metadata": {},
                    "execution_count": 21,
                    "data": {
                        "application/vnd.dataresource+json": {
                            "schema": {
                                "fields": [
                                    {
                                        "name": "Ferfiak Atlag Eletkora"
                                    },
                                    {
                                        "name": "Nok Atlag Eletkora"
                                    }
                                ]
                            },
                            "data": [
                                {
                                    "Ferfiak Atlag Eletkora": "43",
                                    "Nok Atlag Eletkora": "43"
                                }
                            ]
                        },
                        "text/html": [
                            "<table>",
                            "<tr><th>Ferfiak Atlag Eletkora</th><th>Nok Atlag Eletkora</th></tr>",
                            "<tr><td>43</td><td>43</td></tr>",
                            "</table>"
                        ]
                    }
                }
            ],
            "execution_count": 21
        },
        {
            "cell_type": "markdown",
            "source": [
                "3\\. A cim oszlopra vonatkozo lekerdezesek\n",
                "\n",
                "Eszrevetel: A legtobb megrendeles a 2-es szamu regiobol erkezett(~Pest megye). A legkevesebb pedig a 4-es regiobol (Eszak Alfold)."
            ],
            "metadata": {
                "azdata_cell_guid": "68fa8379-1cda-44ae-8fca-f10a9d01bb27"
            },
            "attachments": {}
        },
        {
            "cell_type": "code",
            "source": [
                "SELECT LEFT(CIM, 1) AS 'Regio Kodja',\r\n",
                "       COUNT(CIM) AS 'Cimek Szama'\r\n",
                "FROM Ugyfel\r\n",
                "GROUP BY LEFT(CIM,1)\r\n",
                "ORDER BY COUNT(CIM)"
            ],
            "metadata": {
                "azdata_cell_guid": "dc7bdfde-a514-490e-95a2-28ffc0bf19fe",
                "language": "sql"
            },
            "outputs": [
                {
                    "output_type": "display_data",
                    "data": {
                        "text/html": "(9 rows affected)"
                    },
                    "metadata": {}
                },
                {
                    "output_type": "display_data",
                    "data": {
                        "text/html": "Total execution time: 00:00:00.028"
                    },
                    "metadata": {}
                },
                {
                    "output_type": "execute_result",
                    "metadata": {
                        "azdata_chartOptions": {
                            "type": "doughnut",
                            "dataDirection": "vertical",
                            "columnsAsLabels": true,
                            "labelFirstColumn": true,
                            "legendPosition": "bottom"
                        }
                    },
                    "execution_count": 31,
                    "data": {
                        "application/vnd.dataresource+json": {
                            "schema": {
                                "fields": [
                                    {
                                        "name": "Regio Kodja"
                                    },
                                    {
                                        "name": "Cimek Szama"
                                    }
                                ]
                            },
                            "data": [
                                {
                                    "Regio Kodja": "4",
                                    "Cimek Szama": "11"
                                },
                                {
                                    "Regio Kodja": "9",
                                    "Cimek Szama": "15"
                                },
                                {
                                    "Regio Kodja": "7",
                                    "Cimek Szama": "17"
                                },
                                {
                                    "Regio Kodja": "3",
                                    "Cimek Szama": "19"
                                },
                                {
                                    "Regio Kodja": "8",
                                    "Cimek Szama": "23"
                                },
                                {
                                    "Regio Kodja": "5",
                                    "Cimek Szama": "23"
                                },
                                {
                                    "Regio Kodja": "1",
                                    "Cimek Szama": "25"
                                },
                                {
                                    "Regio Kodja": "6",
                                    "Cimek Szama": "30"
                                },
                                {
                                    "Regio Kodja": "2",
                                    "Cimek Szama": "37"
                                }
                            ]
                        },
                        "text/html": [
                            "<table>",
                            "<tr><th>Regio Kodja</th><th>Cimek Szama</th></tr>",
                            "<tr><td>4</td><td>11</td></tr>",
                            "<tr><td>9</td><td>15</td></tr>",
                            "<tr><td>7</td><td>17</td></tr>",
                            "<tr><td>3</td><td>19</td></tr>",
                            "<tr><td>8</td><td>23</td></tr>",
                            "<tr><td>5</td><td>23</td></tr>",
                            "<tr><td>1</td><td>25</td></tr>",
                            "<tr><td>6</td><td>30</td></tr>",
                            "<tr><td>2</td><td>37</td></tr>",
                            "</table>"
                        ]
                    }
                }
            ],
            "execution_count": 31
        },
        {
            "cell_type": "markdown",
            "source": [
                "4\\. Felhasznalo nevre vonatkozo lekerdezesek"
            ],
            "metadata": {
                "language": "sql",
                "azdata_cell_guid": "e1137c42-ad18-4c2f-b8b6-88831f3211e2"
            },
            "attachments": {}
        },
        {
            "cell_type": "code",
            "source": [
                "SELECT MAX(LEN([LOGIN])) AS \"Leghosszabb login\",\r\n",
                "       MIN(LEN(LOGIN)) AS 'Legrovidebb login'\r\n",
                "FROM Ugyfel\r\n",
                "WHERE [LOGIN] IS NOT NULL"
            ],
            "metadata": {
                "azdata_cell_guid": "1838d91d-053d-4e1c-ad77-793500ceab31",
                "language": "sql"
            },
            "outputs": [
                {
                    "output_type": "display_data",
                    "data": {
                        "text/html": "(1 row affected)"
                    },
                    "metadata": {}
                },
                {
                    "output_type": "display_data",
                    "data": {
                        "text/html": "Total execution time: 00:00:00.021"
                    },
                    "metadata": {}
                },
                {
                    "output_type": "execute_result",
                    "metadata": {},
                    "execution_count": 33,
                    "data": {
                        "application/vnd.dataresource+json": {
                            "schema": {
                                "fields": [
                                    {
                                        "name": "Leghosszabb login"
                                    },
                                    {
                                        "name": "Legrovidebb login"
                                    }
                                ]
                            },
                            "data": [
                                {
                                    "Leghosszabb login": "11",
                                    "Legrovidebb login": "3"
                                }
                            ]
                        },
                        "text/html": [
                            "<table>",
                            "<tr><th>Leghosszabb login</th><th>Legrovidebb login</th></tr>",
                            "<tr><td>11</td><td>3</td></tr>",
                            "</table>"
                        ]
                    }
                }
            ],
            "execution_count": 33
        },
        {
            "cell_type": "code",
            "source": [
                "SELECT LEN([LOGIN]) AS 'Login hossz',\r\n",
                "       COUNT(*) AS 'Elofordulas'\r\n",
                "FROM Ugyfel\r\n",
                "WHERE [LOGIN] IS NOT NULL\r\n",
                "GROUP BY LEN([LOGIN])\r\n",
                ""
            ],
            "metadata": {
                "language": "sql",
                "azdata_cell_guid": "fea0b9fe-a2ec-43fc-a8b2-be68ab5f1ead",
                "tags": []
            },
            "outputs": [
                {
                    "output_type": "display_data",
                    "data": {
                        "text/html": "(9 rows affected)"
                    },
                    "metadata": {}
                },
                {
                    "output_type": "display_data",
                    "data": {
                        "text/html": "Total execution time: 00:00:00.023"
                    },
                    "metadata": {}
                },
                {
                    "output_type": "execute_result",
                    "metadata": {
                        "azdata_chartOptions": {
                            "type": "bar",
                            "dataDirection": "horizontal",
                            "columnsAsLabels": true,
                            "labelFirstColumn": true,
                            "legendPosition": "top"
                        }
                    },
                    "execution_count": 38,
                    "data": {
                        "application/vnd.dataresource+json": {
                            "schema": {
                                "fields": [
                                    {
                                        "name": "Login hossz"
                                    },
                                    {
                                        "name": "Elofordulas"
                                    }
                                ]
                            },
                            "data": [
                                {
                                    "Login hossz": "3",
                                    "Elofordulas": "2"
                                },
                                {
                                    "Login hossz": "4",
                                    "Elofordulas": "13"
                                },
                                {
                                    "Login hossz": "5",
                                    "Elofordulas": "27"
                                },
                                {
                                    "Login hossz": "6",
                                    "Elofordulas": "49"
                                },
                                {
                                    "Login hossz": "7",
                                    "Elofordulas": "62"
                                },
                                {
                                    "Login hossz": "8",
                                    "Elofordulas": "21"
                                },
                                {
                                    "Login hossz": "9",
                                    "Elofordulas": "12"
                                },
                                {
                                    "Login hossz": "10",
                                    "Elofordulas": "13"
                                },
                                {
                                    "Login hossz": "11",
                                    "Elofordulas": "1"
                                }
                            ]
                        },
                        "text/html": [
                            "<table>",
                            "<tr><th>Login hossz</th><th>Elofordulas</th></tr>",
                            "<tr><td>3</td><td>2</td></tr>",
                            "<tr><td>4</td><td>13</td></tr>",
                            "<tr><td>5</td><td>27</td></tr>",
                            "<tr><td>6</td><td>49</td></tr>",
                            "<tr><td>7</td><td>62</td></tr>",
                            "<tr><td>8</td><td>21</td></tr>",
                            "<tr><td>9</td><td>12</td></tr>",
                            "<tr><td>10</td><td>13</td></tr>",
                            "<tr><td>11</td><td>1</td></tr>",
                            "</table>"
                        ]
                    }
                }
            ],
            "execution_count": 38
        }
    ]
}