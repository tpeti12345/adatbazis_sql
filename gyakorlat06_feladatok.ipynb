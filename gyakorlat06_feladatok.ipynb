{
    "metadata": {
        "kernelspec": {
            "name": "SQL",
            "display_name": "SQL",
            "language": "sql"
        },
        "language_info": {
            "name": "sql",
            "version": ""
        }
    },
    "nbformat_minor": 2,
    "nbformat": 4,
    "cells": [
        {
            "cell_type": "markdown",
            "source": [
                "1. <span style=\"background-color: rgb(255, 255, 255); color: rgb(0, 0, 0); font-family: &quot;Open Sans&quot;, sans-serif; font-size: 14.44px;\">Készítsünk sorszámozott listát a szálláshelyek adatairól!&nbsp;</span> \n",
                "\n",
                "a. A lista legyen a szálláshely típusa szerint, azon belül hely szerint, majd a neve szerint növekvően rendezve! \n",
                "\n",
                "b. A számozás típusonként kezdődjön újra!"
            ],
            "metadata": {
                "azdata_cell_guid": "363cd270-6577-449b-9c89-d4b7c7972d52"
            },
            "attachments": {}
        },
        {
            "cell_type": "code",
            "source": [
                ""
            ],
            "metadata": {
                "azdata_cell_guid": "6ab9f633-a3b5-48c9-a1dc-4fb8235ae85b",
                "language": "sql"
            },
            "outputs": [],
            "execution_count": null
        },
        {
            "cell_type": "markdown",
            "source": [
                "2. <span style=\"background-color: rgb(255, 255, 255); color: rgb(0, 0, 0); font-family: &quot;Open Sans&quot;, sans-serif; font-size: 14.44px;\">Készítsünk lekérdezést, amely a foglalások adatait jeleníti meg!&nbsp;</span> \n",
                "\n",
                "a. A lista tartalmazzon két új oszlopot, amelyek az adott ügyfél legrövidebb, illetve leghosszabb foglalásának hosszát (a foglalt napok számát) mutatják meg! \n",
                "\n",
                "b. Az oszlopokat nevezzük el értelemszerűen!"
            ],
            "metadata": {
                "azdata_cell_guid": "ea75c103-911f-41a3-a32c-3d40fb3e4e4a"
            },
            "attachments": {}
        },
        {
            "cell_type": "code",
            "source": [
                ""
            ],
            "metadata": {
                "azdata_cell_guid": "222b9618-a8e8-42b4-a8e8-d002257122b7",
                "language": "sql"
            },
            "outputs": [],
            "execution_count": null
        },
        {
            "cell_type": "markdown",
            "source": [
                "```\n",
                "3. Készítsük listát, amely megjeleníti az ügyfelek azonosítóját, nevét és a foglalásainak kezdő- és befejező dátumát, valamint azt, hogy a foglalás összesen hány főre történt! \n",
                "```\n",
                "\n",
                "a. Egy új oszlopban jelenítsük meg azt is, hogy az ügyfél előző három foglalása összesen hány főre történt!\n",
                "\n",
                "![](https://moodle.uni-corvinus.hu/theme/image.php/adaptable/atto_h5p/1709548862/icon)"
            ],
            "metadata": {
                "azdata_cell_guid": "d7876bb9-76d0-4d07-baed-3cb17b2f96c3"
            },
            "attachments": {}
        },
        {
            "cell_type": "code",
            "source": [
                "SELECT UGYFEL_FK, METTOL, MEDDIG, FELNOTT_SZAM + GYERMEK_SZAM as 'Vendegek' ,\r\n",
                "       SUM(FELNOTT_SZAM + GYERMEK_SZAM) OVER (\r\n",
                "                    PARTITION BY UGYFEL_FK\r\n",
                "                    ORDER BY FOGLALAS_PK\r\n",
                "                    ROWS BETWEEN 3 PRECEDING AND 1 PRECEDING\r\n",
                "       ) as 'Elozok'\r\n",
                "FROM Foglalas "
            ],
            "metadata": {
                "azdata_cell_guid": "56ec19ce-e249-4551-b2a8-f17569765acc",
                "language": "sql",
                "tags": []
            },
            "outputs": [
                {
                    "output_type": "display_data",
                    "data": {
                        "text/html": "(1027 rows affected)"
                    },
                    "metadata": {}
                },
                {
                    "output_type": "display_data",
                    "data": {
                        "text/html": "Total execution time: 00:00:00.063"
                    },
                    "metadata": {}
                },
                {
                    "output_type": "execute_result",
                    "metadata": {},
                    "execution_count": 17,
                    "data": {
                        "application/vnd.dataresource+json": {
                            "schema": {
                                "fields": [
                                    {
                                        "name": "UGYFEL_FK"
                                    },
                                    {
                                        "name": "METTOL"
                                    },
                                    {
                                        "name": "MEDDIG"
                                    },
                                    {
                                        "name": "Vendegek"
                                    },
                                    {
                                        "name": "Elozok"
                                    }
                                ]
                            },
                            "data": [
                                {
                                    "UGYFEL_FK": "adam1",
                                    "METTOL": "2016-08-20",
                                    "MEDDIG": "2016-08-24",
                                    "Vendegek": "1",
                                    "Elozok": "NULL"
                                },
                                {
                                    "UGYFEL_FK": "adam1",
                                    "METTOL": "2016-05-28",
                                    "MEDDIG": "2016-06-03",
                                    "Vendegek": "3",
                                    "Elozok": "1"
                                },
                                {
                                    "UGYFEL_FK": "adam1",
                                    "METTOL": "2016-10-19",
                                    "MEDDIG": "2016-10-24",
                                    "Vendegek": "2",
                                    "Elozok": "4"
                                },
                                {
                                    "UGYFEL_FK": "adam3",
                                    "METTOL": "2016-09-12",
                                    "MEDDIG": "2016-09-16",
                                    "Vendegek": "2",
                                    "Elozok": "NULL"
                                },
                                {
                                    "UGYFEL_FK": "adam3",
                                    "METTOL": "2017-02-06",
                                    "MEDDIG": "2017-02-10",
                                    "Vendegek": "1",
                                    "Elozok": "2"
                                },
                                {
                                    "UGYFEL_FK": "adam4",
                                    "METTOL": "2016-08-28",
                                    "MEDDIG": "2016-08-30",
                                    "Vendegek": "3",
                                    "Elozok": "NULL"
                                },
                                {
                                    "UGYFEL_FK": "adam4",
                                    "METTOL": "2016-10-27",
                                    "MEDDIG": "2016-11-02",
                                    "Vendegek": "3",
                                    "Elozok": "3"
                                },
                                {
                                    "UGYFEL_FK": "adam4",
                                    "METTOL": "2016-11-15",
                                    "MEDDIG": "2016-11-18",
                                    "Vendegek": "2",
                                    "Elozok": "6"
                                },
                                {
                                    "UGYFEL_FK": "adam4",
                                    "METTOL": "2016-12-06",
                                    "MEDDIG": "2016-12-09",
                                    "Vendegek": "3",
                                    "Elozok": "8"
                                },
                                {
                                    "UGYFEL_FK": "adam4",
                                    "METTOL": "2017-01-12",
                                    "MEDDIG": "2017-01-19",
                                    "Vendegek": "2",
                                    "Elozok": "8"
                                },
                                {
                                    "UGYFEL_FK": "adam4",
                                    "METTOL": "2017-02-23",
                                    "MEDDIG": "2017-02-27",
                                    "Vendegek": "3",
                                    "Elozok": "7"
                                },
                                {
                                    "UGYFEL_FK": "agnes",
                                    "METTOL": "2016-05-09",
                                    "MEDDIG": "2016-05-11",
                                    "Vendegek": "3",
                                    "Elozok": "NULL"
                                },
                                {
                                    "UGYFEL_FK": "agnes",
                                    "METTOL": "2016-07-13",
                                    "MEDDIG": "2016-07-19",
                                    "Vendegek": "3",
                                    "Elozok": "3"
                                },
                                {
                                    "UGYFEL_FK": "agnes",
                                    "METTOL": "2016-07-30",
                                    "MEDDIG": "2016-08-06",
                                    "Vendegek": "3",
                                    "Elozok": "6"
                                },
                                {
                                    "UGYFEL_FK": "agnes",
                                    "METTOL": "2016-05-25",
                                    "MEDDIG": "2016-05-30",
                                    "Vendegek": "1",
                                    "Elozok": "9"
                                },
                                {
                                    "UGYFEL_FK": "agnes",
                                    "METTOL": "2016-11-07",
                                    "MEDDIG": "2016-11-13",
                                    "Vendegek": "2",
                                    "Elozok": "7"
                                },
                                {
                                    "UGYFEL_FK": "agnes3",
                                    "METTOL": "2016-08-04",
                                    "MEDDIG": "2016-08-10",
                                    "Vendegek": "1",
                                    "Elozok": "NULL"
                                },
                                {
                                    "UGYFEL_FK": "agnes3",
                                    "METTOL": "2016-10-22",
                                    "MEDDIG": "2016-10-23",
                                    "Vendegek": "3",
                                    "Elozok": "1"
                                },
                                {
                                    "UGYFEL_FK": "agnes3",
                                    "METTOL": "2017-02-16",
                                    "MEDDIG": "2017-02-21",
                                    "Vendegek": "3",
                                    "Elozok": "4"
                                },
                                {
                                    "UGYFEL_FK": "AGNESH",
                                    "METTOL": "2016-04-10",
                                    "MEDDIG": "2016-04-12",
                                    "Vendegek": "2",
                                    "Elozok": "NULL"
                                },
                                {
                                    "UGYFEL_FK": "AGNESH",
                                    "METTOL": "2016-04-27",
                                    "MEDDIG": "2016-04-28",
                                    "Vendegek": "4",
                                    "Elozok": "2"
                                },
                                {
                                    "UGYFEL_FK": "AGNESH",
                                    "METTOL": "2016-06-23",
                                    "MEDDIG": "2016-06-26",
                                    "Vendegek": "1",
                                    "Elozok": "6"
                                },
                                {
                                    "UGYFEL_FK": "AGNESH",
                                    "METTOL": "2016-10-30",
                                    "MEDDIG": "2016-11-04",
                                    "Vendegek": "1",
                                    "Elozok": "7"
                                },
                                {
                                    "UGYFEL_FK": "AGNESH",
                                    "METTOL": "2017-01-03",
                                    "MEDDIG": "2017-01-10",
                                    "Vendegek": "2",
                                    "Elozok": "6"
                                },
                                {
                                    "UGYFEL_FK": "AGNESH",
                                    "METTOL": "2017-01-16",
                                    "MEDDIG": "2017-01-23",
                                    "Vendegek": "3",
                                    "Elozok": "4"
                                },
                                {
                                    "UGYFEL_FK": "AGNESK",
                                    "METTOL": "2016-07-29",
                                    "MEDDIG": "2016-08-01",
                                    "Vendegek": "3",
                                    "Elozok": "NULL"
                                },
                                {
                                    "UGYFEL_FK": "AGNESK",
                                    "METTOL": "2016-10-17",
                                    "MEDDIG": "2016-10-19",
                                    "Vendegek": "2",
                                    "Elozok": "3"
                                },
                                {
                                    "UGYFEL_FK": "AGNESK",
                                    "METTOL": "2016-12-17",
                                    "MEDDIG": "2016-12-18",
                                    "Vendegek": "2",
                                    "Elozok": "5"
                                },
                                {
                                    "UGYFEL_FK": "akos",
                                    "METTOL": "2016-05-18",
                                    "MEDDIG": "2016-05-19",
                                    "Vendegek": "2",
                                    "Elozok": "NULL"
                                },
                                {
                                    "UGYFEL_FK": "akos",
                                    "METTOL": "2016-07-14",
                                    "MEDDIG": "2016-07-19",
                                    "Vendegek": "2",
                                    "Elozok": "2"
                                },
                                {
                                    "UGYFEL_FK": "akos",
                                    "METTOL": "2016-07-16",
                                    "MEDDIG": "2016-07-18",
                                    "Vendegek": "2",
                                    "Elozok": "4"
                                },
                                {
                                    "UGYFEL_FK": "akos",
                                    "METTOL": "2016-07-22",
                                    "MEDDIG": "2016-07-26",
                                    "Vendegek": "1",
                                    "Elozok": "6"
                                },
                                {
                                    "UGYFEL_FK": "akos",
                                    "METTOL": "2016-09-06",
                                    "MEDDIG": "2016-09-12",
                                    "Vendegek": "1",
                                    "Elozok": "5"
                                },
                                {
                                    "UGYFEL_FK": "akos",
                                    "METTOL": "2016-10-05",
                                    "MEDDIG": "2016-10-09",
                                    "Vendegek": "2",
                                    "Elozok": "4"
                                },
                                {
                                    "UGYFEL_FK": "akos",
                                    "METTOL": "2016-10-18",
                                    "MEDDIG": "2016-10-23",
                                    "Vendegek": "2",
                                    "Elozok": "4"
                                },
                                {
                                    "UGYFEL_FK": "akos",
                                    "METTOL": "2016-11-21",
                                    "MEDDIG": "2016-11-27",
                                    "Vendegek": "2",
                                    "Elozok": "5"
                                },
                                {
                                    "UGYFEL_FK": "akos",
                                    "METTOL": "2016-12-15",
                                    "MEDDIG": "2016-12-21",
                                    "Vendegek": "2",
                                    "Elozok": "6"
                                },
                                {
                                    "UGYFEL_FK": "akos",
                                    "METTOL": "2016-12-29",
                                    "MEDDIG": "2016-12-30",
                                    "Vendegek": "3",
                                    "Elozok": "6"
                                },
                                {
                                    "UGYFEL_FK": "aladar",
                                    "METTOL": "2016-05-17",
                                    "MEDDIG": "2016-05-24",
                                    "Vendegek": "1",
                                    "Elozok": "NULL"
                                },
                                {
                                    "UGYFEL_FK": "aladar",
                                    "METTOL": "2016-09-24",
                                    "MEDDIG": "2016-09-28",
                                    "Vendegek": "1",
                                    "Elozok": "1"
                                },
                                {
                                    "UGYFEL_FK": "aladar",
                                    "METTOL": "2016-11-22",
                                    "MEDDIG": "2016-11-23",
                                    "Vendegek": "2",
                                    "Elozok": "2"
                                },
                                {
                                    "UGYFEL_FK": "alexandra",
                                    "METTOL": "2016-05-21",
                                    "MEDDIG": "2016-05-27",
                                    "Vendegek": "3",
                                    "Elozok": "NULL"
                                },
                                {
                                    "UGYFEL_FK": "alexandra",
                                    "METTOL": "2016-07-27",
                                    "MEDDIG": "2016-07-30",
                                    "Vendegek": "2",
                                    "Elozok": "3"
                                },
                                {
                                    "UGYFEL_FK": "alexandra",
                                    "METTOL": "2016-06-08",
                                    "MEDDIG": "2016-06-11",
                                    "Vendegek": "3",
                                    "Elozok": "5"
                                },
                                {
                                    "UGYFEL_FK": "alexandra",
                                    "METTOL": "2016-10-21",
                                    "MEDDIG": "2016-10-25",
                                    "Vendegek": "2",
                                    "Elozok": "8"
                                },
                                {
                                    "UGYFEL_FK": "alexandra",
                                    "METTOL": "2016-11-29",
                                    "MEDDIG": "2016-12-05",
                                    "Vendegek": "2",
                                    "Elozok": "7"
                                },
                                {
                                    "UGYFEL_FK": "alexandra",
                                    "METTOL": "2017-01-13",
                                    "MEDDIG": "2017-01-14",
                                    "Vendegek": "1",
                                    "Elozok": "7"
                                },
                                {
                                    "UGYFEL_FK": "alexandra",
                                    "METTOL": "2017-01-19",
                                    "MEDDIG": "2017-01-26",
                                    "Vendegek": "2",
                                    "Elozok": "5"
                                },
                                {
                                    "UGYFEL_FK": "andi",
                                    "METTOL": "2016-05-08",
                                    "MEDDIG": "2016-05-14",
                                    "Vendegek": "4",
                                    "Elozok": "NULL"
                                },
                                {
                                    "UGYFEL_FK": "andi",
                                    "METTOL": "2016-06-13",
                                    "MEDDIG": "2016-06-14",
                                    "Vendegek": "1",
                                    "Elozok": "4"
                                },
                                {
                                    "UGYFEL_FK": "andi",
                                    "METTOL": "2016-09-13",
                                    "MEDDIG": "2016-09-16",
                                    "Vendegek": "2",
                                    "Elozok": "5"
                                },
                                {
                                    "UGYFEL_FK": "andi",
                                    "METTOL": "2016-11-16",
                                    "MEDDIG": "2016-11-17",
                                    "Vendegek": "3",
                                    "Elozok": "7"
                                },
                                {
                                    "UGYFEL_FK": "andi",
                                    "METTOL": "2017-01-13",
                                    "MEDDIG": "2017-01-17",
                                    "Vendegek": "3",
                                    "Elozok": "6"
                                },
                                {
                                    "UGYFEL_FK": "andras2",
                                    "METTOL": "2016-07-20",
                                    "MEDDIG": "2016-07-22",
                                    "Vendegek": "2",
                                    "Elozok": "NULL"
                                },
                                {
                                    "UGYFEL_FK": "andras2",
                                    "METTOL": "2016-05-30",
                                    "MEDDIG": "2016-06-04",
                                    "Vendegek": "1",
                                    "Elozok": "2"
                                },
                                {
                                    "UGYFEL_FK": "andras2",
                                    "METTOL": "2016-09-30",
                                    "MEDDIG": "2016-10-03",
                                    "Vendegek": "2",
                                    "Elozok": "3"
                                },
                                {
                                    "UGYFEL_FK": "andras2",
                                    "METTOL": "2016-10-07",
                                    "MEDDIG": "2016-10-10",
                                    "Vendegek": "3",
                                    "Elozok": "5"
                                },
                                {
                                    "UGYFEL_FK": "andras2",
                                    "METTOL": "2017-02-08",
                                    "MEDDIG": "2017-02-10",
                                    "Vendegek": "4",
                                    "Elozok": "6"
                                },
                                {
                                    "UGYFEL_FK": "andras21",
                                    "METTOL": "2016-07-20",
                                    "MEDDIG": "2016-07-22",
                                    "Vendegek": "1",
                                    "Elozok": "NULL"
                                },
                                {
                                    "UGYFEL_FK": "andras21",
                                    "METTOL": "2016-06-21",
                                    "MEDDIG": "2016-06-26",
                                    "Vendegek": "2",
                                    "Elozok": "1"
                                },
                                {
                                    "UGYFEL_FK": "andras21",
                                    "METTOL": "2016-07-04",
                                    "MEDDIG": "2016-07-05",
                                    "Vendegek": "3",
                                    "Elozok": "3"
                                },
                                {
                                    "UGYFEL_FK": "andras21",
                                    "METTOL": "2016-10-01",
                                    "MEDDIG": "2016-10-06",
                                    "Vendegek": "3",
                                    "Elozok": "6"
                                },
                                {
                                    "UGYFEL_FK": "andras21",
                                    "METTOL": "2016-10-04",
                                    "MEDDIG": "2016-10-11",
                                    "Vendegek": "3",
                                    "Elozok": "8"
                                },
                                {
                                    "UGYFEL_FK": "andras21",
                                    "METTOL": "2016-11-23",
                                    "MEDDIG": "2016-11-24",
                                    "Vendegek": "4",
                                    "Elozok": "9"
                                },
                                {
                                    "UGYFEL_FK": "andras21",
                                    "METTOL": "2017-01-28",
                                    "MEDDIG": "2017-02-01",
                                    "Vendegek": "2",
                                    "Elozok": "10"
                                },
                                {
                                    "UGYFEL_FK": "andras3",
                                    "METTOL": "2016-05-01",
                                    "MEDDIG": "2016-05-06",
                                    "Vendegek": "2",
                                    "Elozok": "NULL"
                                },
                                {
                                    "UGYFEL_FK": "andras3",
                                    "METTOL": "2016-07-15",
                                    "MEDDIG": "2016-07-19",
                                    "Vendegek": "3",
                                    "Elozok": "2"
                                },
                                {
                                    "UGYFEL_FK": "andras3",
                                    "METTOL": "2016-07-21",
                                    "MEDDIG": "2016-07-23",
                                    "Vendegek": "2",
                                    "Elozok": "5"
                                },
                                {
                                    "UGYFEL_FK": "andras3",
                                    "METTOL": "2016-08-29",
                                    "MEDDIG": "2016-09-02",
                                    "Vendegek": "3",
                                    "Elozok": "7"
                                },
                                {
                                    "UGYFEL_FK": "andras3",
                                    "METTOL": "2016-05-30",
                                    "MEDDIG": "2016-06-03",
                                    "Vendegek": "1",
                                    "Elozok": "8"
                                },
                                {
                                    "UGYFEL_FK": "andras3",
                                    "METTOL": "2016-06-10",
                                    "MEDDIG": "2016-06-11",
                                    "Vendegek": "1",
                                    "Elozok": "6"
                                },
                                {
                                    "UGYFEL_FK": "andras3",
                                    "METTOL": "2016-11-28",
                                    "MEDDIG": "2016-12-02",
                                    "Vendegek": "2",
                                    "Elozok": "5"
                                },
                                {
                                    "UGYFEL_FK": "andras3",
                                    "METTOL": "2017-02-02",
                                    "MEDDIG": "2017-02-08",
                                    "Vendegek": "2",
                                    "Elozok": "4"
                                },
                                {
                                    "UGYFEL_FK": "andras4",
                                    "METTOL": "2016-09-17",
                                    "MEDDIG": "2016-09-20",
                                    "Vendegek": "2",
                                    "Elozok": "NULL"
                                },
                                {
                                    "UGYFEL_FK": "andras4",
                                    "METTOL": "2016-11-25",
                                    "MEDDIG": "2016-11-28",
                                    "Vendegek": "2",
                                    "Elozok": "2"
                                },
                                {
                                    "UGYFEL_FK": "andras4",
                                    "METTOL": "2017-01-09",
                                    "MEDDIG": "2017-01-10",
                                    "Vendegek": "2",
                                    "Elozok": "4"
                                },
                                {
                                    "UGYFEL_FK": "andras41",
                                    "METTOL": "2016-05-14",
                                    "MEDDIG": "2016-05-16",
                                    "Vendegek": "2",
                                    "Elozok": "NULL"
                                },
                                {
                                    "UGYFEL_FK": "andras41",
                                    "METTOL": "2016-05-21",
                                    "MEDDIG": "2016-05-23",
                                    "Vendegek": "4",
                                    "Elozok": "2"
                                },
                                {
                                    "UGYFEL_FK": "andras41",
                                    "METTOL": "2016-07-28",
                                    "MEDDIG": "2016-08-03",
                                    "Vendegek": "3",
                                    "Elozok": "6"
                                },
                                {
                                    "UGYFEL_FK": "andras41",
                                    "METTOL": "2016-08-17",
                                    "MEDDIG": "2016-08-21",
                                    "Vendegek": "3",
                                    "Elozok": "9"
                                },
                                {
                                    "UGYFEL_FK": "andras41",
                                    "METTOL": "2016-08-19",
                                    "MEDDIG": "2016-08-23",
                                    "Vendegek": "1",
                                    "Elozok": "10"
                                },
                                {
                                    "UGYFEL_FK": "andras41",
                                    "METTOL": "2016-06-07",
                                    "MEDDIG": "2016-06-11",
                                    "Vendegek": "3",
                                    "Elozok": "7"
                                },
                                {
                                    "UGYFEL_FK": "andras41",
                                    "METTOL": "2016-06-23",
                                    "MEDDIG": "2016-06-29",
                                    "Vendegek": "2",
                                    "Elozok": "7"
                                },
                                {
                                    "UGYFEL_FK": "andras41",
                                    "METTOL": "2016-09-22",
                                    "MEDDIG": "2016-09-29",
                                    "Vendegek": "1",
                                    "Elozok": "6"
                                },
                                {
                                    "UGYFEL_FK": "andras41",
                                    "METTOL": "2016-09-30",
                                    "MEDDIG": "2016-10-05",
                                    "Vendegek": "2",
                                    "Elozok": "6"
                                },
                                {
                                    "UGYFEL_FK": "andras41",
                                    "METTOL": "2016-10-09",
                                    "MEDDIG": "2016-10-13",
                                    "Vendegek": "2",
                                    "Elozok": "5"
                                },
                                {
                                    "UGYFEL_FK": "andras41",
                                    "METTOL": "2016-10-15",
                                    "MEDDIG": "2016-10-18",
                                    "Vendegek": "3",
                                    "Elozok": "5"
                                },
                                {
                                    "UGYFEL_FK": "andras41",
                                    "METTOL": "2016-11-20",
                                    "MEDDIG": "2016-11-24",
                                    "Vendegek": "3",
                                    "Elozok": "7"
                                },
                                {
                                    "UGYFEL_FK": "andras41",
                                    "METTOL": "2016-11-23",
                                    "MEDDIG": "2016-11-24",
                                    "Vendegek": "1",
                                    "Elozok": "8"
                                },
                                {
                                    "UGYFEL_FK": "ANDRASE",
                                    "METTOL": "2016-04-24",
                                    "MEDDIG": "2016-05-01",
                                    "Vendegek": "1",
                                    "Elozok": "NULL"
                                },
                                {
                                    "UGYFEL_FK": "ANDRASE",
                                    "METTOL": "2016-08-16",
                                    "MEDDIG": "2016-08-20",
                                    "Vendegek": "2",
                                    "Elozok": "1"
                                },
                                {
                                    "UGYFEL_FK": "ANDRASE",
                                    "METTOL": "2016-07-06",
                                    "MEDDIG": "2016-07-07",
                                    "Vendegek": "2",
                                    "Elozok": "3"
                                },
                                {
                                    "UGYFEL_FK": "ANDRASE",
                                    "METTOL": "2016-11-19",
                                    "MEDDIG": "2016-11-20",
                                    "Vendegek": "4",
                                    "Elozok": "5"
                                },
                                {
                                    "UGYFEL_FK": "ANDRASE",
                                    "METTOL": "2016-11-29",
                                    "MEDDIG": "2016-12-06",
                                    "Vendegek": "3",
                                    "Elozok": "8"
                                },
                                {
                                    "UGYFEL_FK": "ANDRASN",
                                    "METTOL": "2016-11-25",
                                    "MEDDIG": "2016-12-01",
                                    "Vendegek": "2",
                                    "Elozok": "NULL"
                                },
                                {
                                    "UGYFEL_FK": "andrea",
                                    "METTOL": "2016-07-27",
                                    "MEDDIG": "2016-07-28",
                                    "Vendegek": "2",
                                    "Elozok": "NULL"
                                },
                                {
                                    "UGYFEL_FK": "andrea",
                                    "METTOL": "2016-08-01",
                                    "MEDDIG": "2016-08-02",
                                    "Vendegek": "2",
                                    "Elozok": "2"
                                },
                                {
                                    "UGYFEL_FK": "andrea",
                                    "METTOL": "2016-08-23",
                                    "MEDDIG": "2016-08-26",
                                    "Vendegek": "3",
                                    "Elozok": "4"
                                },
                                {
                                    "UGYFEL_FK": "andrea",
                                    "METTOL": "2016-08-26",
                                    "MEDDIG": "2016-08-30",
                                    "Vendegek": "2",
                                    "Elozok": "7"
                                },
                                {
                                    "UGYFEL_FK": "andrea",
                                    "METTOL": "2016-10-21",
                                    "MEDDIG": "2016-10-27",
                                    "Vendegek": "4",
                                    "Elozok": "7"
                                },
                                {
                                    "UGYFEL_FK": "andrea",
                                    "METTOL": "2017-02-09",
                                    "MEDDIG": "2017-02-14",
                                    "Vendegek": "2",
                                    "Elozok": "9"
                                },
                                {
                                    "UGYFEL_FK": "andrea3",
                                    "METTOL": "2016-11-19",
                                    "MEDDIG": "2016-11-21",
                                    "Vendegek": "3",
                                    "Elozok": "NULL"
                                },
                                {
                                    "UGYFEL_FK": "andrea4",
                                    "METTOL": "2016-05-27",
                                    "MEDDIG": "2016-05-29",
                                    "Vendegek": "1",
                                    "Elozok": "NULL"
                                },
                                {
                                    "UGYFEL_FK": "andrea4",
                                    "METTOL": "2016-09-13",
                                    "MEDDIG": "2016-09-17",
                                    "Vendegek": "2",
                                    "Elozok": "1"
                                },
                                {
                                    "UGYFEL_FK": "andrea4",
                                    "METTOL": "2016-10-30",
                                    "MEDDIG": "2016-11-06",
                                    "Vendegek": "3",
                                    "Elozok": "3"
                                },
                                {
                                    "UGYFEL_FK": "andrea4",
                                    "METTOL": "2017-01-22",
                                    "MEDDIG": "2017-01-29",
                                    "Vendegek": "2",
                                    "Elozok": "6"
                                },
                                {
                                    "UGYFEL_FK": "ANDREAT",
                                    "METTOL": "2016-07-27",
                                    "MEDDIG": "2016-08-01",
                                    "Vendegek": "2",
                                    "Elozok": "NULL"
                                },
                                {
                                    "UGYFEL_FK": "ANDREAT",
                                    "METTOL": "2016-09-15",
                                    "MEDDIG": "2016-09-16",
                                    "Vendegek": "2",
                                    "Elozok": "2"
                                },
                                {
                                    "UGYFEL_FK": "ANDREAT",
                                    "METTOL": "2016-10-08",
                                    "MEDDIG": "2016-10-12",
                                    "Vendegek": "3",
                                    "Elozok": "4"
                                },
                                {
                                    "UGYFEL_FK": "anett3",
                                    "METTOL": "2016-04-10",
                                    "MEDDIG": "2016-04-17",
                                    "Vendegek": "1",
                                    "Elozok": "NULL"
                                },
                                {
                                    "UGYFEL_FK": "anett3",
                                    "METTOL": "2016-04-13",
                                    "MEDDIG": "2016-04-19",
                                    "Vendegek": "3",
                                    "Elozok": "1"
                                },
                                {
                                    "UGYFEL_FK": "anett3",
                                    "METTOL": "2016-04-15",
                                    "MEDDIG": "2016-04-19",
                                    "Vendegek": "3",
                                    "Elozok": "4"
                                },
                                {
                                    "UGYFEL_FK": "anett3",
                                    "METTOL": "2016-04-28",
                                    "MEDDIG": "2016-05-02",
                                    "Vendegek": "3",
                                    "Elozok": "7"
                                },
                                {
                                    "UGYFEL_FK": "anett3",
                                    "METTOL": "2016-08-15",
                                    "MEDDIG": "2016-08-16",
                                    "Vendegek": "2",
                                    "Elozok": "9"
                                },
                                {
                                    "UGYFEL_FK": "anett3",
                                    "METTOL": "2016-08-17",
                                    "MEDDIG": "2016-08-23",
                                    "Vendegek": "3",
                                    "Elozok": "8"
                                },
                                {
                                    "UGYFEL_FK": "anett3",
                                    "METTOL": "2016-10-12",
                                    "MEDDIG": "2016-10-19",
                                    "Vendegek": "3",
                                    "Elozok": "8"
                                },
                                {
                                    "UGYFEL_FK": "anett3",
                                    "METTOL": "2016-10-16",
                                    "MEDDIG": "2016-10-21",
                                    "Vendegek": "1",
                                    "Elozok": "8"
                                },
                                {
                                    "UGYFEL_FK": "aniko",
                                    "METTOL": "2016-06-25",
                                    "MEDDIG": "2016-06-30",
                                    "Vendegek": "3",
                                    "Elozok": "NULL"
                                },
                                {
                                    "UGYFEL_FK": "aniko",
                                    "METTOL": "2017-02-12",
                                    "MEDDIG": "2017-02-14",
                                    "Vendegek": "3",
                                    "Elozok": "3"
                                },
                                {
                                    "UGYFEL_FK": "aniko",
                                    "METTOL": "2017-02-23",
                                    "MEDDIG": "2017-02-24",
                                    "Vendegek": "2",
                                    "Elozok": "6"
                                },
                                {
                                    "UGYFEL_FK": "aniko4",
                                    "METTOL": "2016-07-22",
                                    "MEDDIG": "2016-07-25",
                                    "Vendegek": "3",
                                    "Elozok": "NULL"
                                },
                                {
                                    "UGYFEL_FK": "aniko4",
                                    "METTOL": "2016-07-02",
                                    "MEDDIG": "2016-07-09",
                                    "Vendegek": "1",
                                    "Elozok": "3"
                                },
                                {
                                    "UGYFEL_FK": "aniko4",
                                    "METTOL": "2016-09-05",
                                    "MEDDIG": "2016-09-07",
                                    "Vendegek": "4",
                                    "Elozok": "4"
                                },
                                {
                                    "UGYFEL_FK": "aniko4",
                                    "METTOL": "2016-10-16",
                                    "MEDDIG": "2016-10-18",
                                    "Vendegek": "3",
                                    "Elozok": "8"
                                },
                                {
                                    "UGYFEL_FK": "ANIKOS",
                                    "METTOL": "2016-04-19",
                                    "MEDDIG": "2016-04-24",
                                    "Vendegek": "2",
                                    "Elozok": "NULL"
                                },
                                {
                                    "UGYFEL_FK": "ANIKOS",
                                    "METTOL": "2016-07-17",
                                    "MEDDIG": "2016-07-22",
                                    "Vendegek": "3",
                                    "Elozok": "2"
                                },
                                {
                                    "UGYFEL_FK": "ANIKOS",
                                    "METTOL": "2016-08-26",
                                    "MEDDIG": "2016-09-02",
                                    "Vendegek": "2",
                                    "Elozok": "5"
                                },
                                {
                                    "UGYFEL_FK": "ANIKOS",
                                    "METTOL": "2016-05-24",
                                    "MEDDIG": "2016-05-25",
                                    "Vendegek": "3",
                                    "Elozok": "7"
                                },
                                {
                                    "UGYFEL_FK": "ANIKOS",
                                    "METTOL": "2016-06-16",
                                    "MEDDIG": "2016-06-23",
                                    "Vendegek": "1",
                                    "Elozok": "8"
                                },
                                {
                                    "UGYFEL_FK": "ANIKOS",
                                    "METTOL": "2016-06-27",
                                    "MEDDIG": "2016-06-30",
                                    "Vendegek": "2",
                                    "Elozok": "6"
                                },
                                {
                                    "UGYFEL_FK": "ANIKOS",
                                    "METTOL": "2016-10-08",
                                    "MEDDIG": "2016-10-14",
                                    "Vendegek": "2",
                                    "Elozok": "6"
                                },
                                {
                                    "UGYFEL_FK": "ANIKOS",
                                    "METTOL": "2016-10-29",
                                    "MEDDIG": "2016-11-05",
                                    "Vendegek": "3",
                                    "Elozok": "5"
                                },
                                {
                                    "UGYFEL_FK": "ANIKOS",
                                    "METTOL": "2016-11-10",
                                    "MEDDIG": "2016-11-15",
                                    "Vendegek": "2",
                                    "Elozok": "7"
                                },
                                {
                                    "UGYFEL_FK": "anita",
                                    "METTOL": "2016-09-28",
                                    "MEDDIG": "2016-10-02",
                                    "Vendegek": "4",
                                    "Elozok": "NULL"
                                },
                                {
                                    "UGYFEL_FK": "anita",
                                    "METTOL": "2016-10-01",
                                    "MEDDIG": "2016-10-04",
                                    "Vendegek": "2",
                                    "Elozok": "4"
                                },
                                {
                                    "UGYFEL_FK": "anita",
                                    "METTOL": "2017-02-19",
                                    "MEDDIG": "2017-02-22",
                                    "Vendegek": "2",
                                    "Elozok": "6"
                                },
                                {
                                    "UGYFEL_FK": "anita",
                                    "METTOL": "2017-02-20",
                                    "MEDDIG": "2017-02-25",
                                    "Vendegek": "2",
                                    "Elozok": "8"
                                },
                                {
                                    "UGYFEL_FK": "annamaria1",
                                    "METTOL": "2016-06-06",
                                    "MEDDIG": "2016-06-07",
                                    "Vendegek": "3",
                                    "Elozok": "NULL"
                                },
                                {
                                    "UGYFEL_FK": "annamaria1",
                                    "METTOL": "2017-01-30",
                                    "MEDDIG": "2017-01-31",
                                    "Vendegek": "4",
                                    "Elozok": "3"
                                },
                                {
                                    "UGYFEL_FK": "ANNAMARIAR",
                                    "METTOL": "2016-07-18",
                                    "MEDDIG": "2016-07-21",
                                    "Vendegek": "1",
                                    "Elozok": "NULL"
                                },
                                {
                                    "UGYFEL_FK": "ANNAMARIAR",
                                    "METTOL": "2016-06-08",
                                    "MEDDIG": "2016-06-11",
                                    "Vendegek": "2",
                                    "Elozok": "1"
                                },
                                {
                                    "UGYFEL_FK": "ANNAMARIAR",
                                    "METTOL": "2016-09-23",
                                    "MEDDIG": "2016-09-27",
                                    "Vendegek": "2",
                                    "Elozok": "3"
                                },
                                {
                                    "UGYFEL_FK": "ANNAMARIAR",
                                    "METTOL": "2016-11-11",
                                    "MEDDIG": "2016-11-12",
                                    "Vendegek": "3",
                                    "Elozok": "5"
                                },
                                {
                                    "UGYFEL_FK": "ANNAMARIAR",
                                    "METTOL": "2017-01-10",
                                    "MEDDIG": "2017-01-13",
                                    "Vendegek": "2",
                                    "Elozok": "7"
                                },
                                {
                                    "UGYFEL_FK": "ANNAMARIAR",
                                    "METTOL": "2017-02-16",
                                    "MEDDIG": "2017-02-18",
                                    "Vendegek": "2",
                                    "Elozok": "7"
                                },
                                {
                                    "UGYFEL_FK": "aron2",
                                    "METTOL": "2016-04-11",
                                    "MEDDIG": "2016-04-12",
                                    "Vendegek": "3",
                                    "Elozok": "NULL"
                                },
                                {
                                    "UGYFEL_FK": "aron2",
                                    "METTOL": "2016-07-04",
                                    "MEDDIG": "2016-07-06",
                                    "Vendegek": "3",
                                    "Elozok": "3"
                                },
                                {
                                    "UGYFEL_FK": "aron2",
                                    "METTOL": "2016-10-23",
                                    "MEDDIG": "2016-10-27",
                                    "Vendegek": "2",
                                    "Elozok": "6"
                                },
                                {
                                    "UGYFEL_FK": "aron2",
                                    "METTOL": "2016-11-05",
                                    "MEDDIG": "2016-11-09",
                                    "Vendegek": "2",
                                    "Elozok": "8"
                                },
                                {
                                    "UGYFEL_FK": "aron2",
                                    "METTOL": "2017-01-17",
                                    "MEDDIG": "2017-01-18",
                                    "Vendegek": "3",
                                    "Elozok": "7"
                                },
                                {
                                    "UGYFEL_FK": "aron2",
                                    "METTOL": "2017-02-26",
                                    "MEDDIG": "2017-02-27",
                                    "Vendegek": "3",
                                    "Elozok": "7"
                                },
                                {
                                    "UGYFEL_FK": "ARONK",
                                    "METTOL": "2016-04-06",
                                    "MEDDIG": "2016-04-08",
                                    "Vendegek": "2",
                                    "Elozok": "NULL"
                                },
                                {
                                    "UGYFEL_FK": "ARONK",
                                    "METTOL": "2016-05-14",
                                    "MEDDIG": "2016-05-20",
                                    "Vendegek": "4",
                                    "Elozok": "2"
                                },
                                {
                                    "UGYFEL_FK": "ARONK",
                                    "METTOL": "2016-08-05",
                                    "MEDDIG": "2016-08-08",
                                    "Vendegek": "4",
                                    "Elozok": "6"
                                },
                                {
                                    "UGYFEL_FK": "ARONK",
                                    "METTOL": "2016-06-04",
                                    "MEDDIG": "2016-06-09",
                                    "Vendegek": "2",
                                    "Elozok": "10"
                                },
                                {
                                    "UGYFEL_FK": "ARONK",
                                    "METTOL": "2016-06-07",
                                    "MEDDIG": "2016-06-13",
                                    "Vendegek": "3",
                                    "Elozok": "10"
                                },
                                {
                                    "UGYFEL_FK": "ARONK",
                                    "METTOL": "2016-07-03",
                                    "MEDDIG": "2016-07-07",
                                    "Vendegek": "2",
                                    "Elozok": "9"
                                },
                                {
                                    "UGYFEL_FK": "ARONK",
                                    "METTOL": "2016-09-08",
                                    "MEDDIG": "2016-09-15",
                                    "Vendegek": "2",
                                    "Elozok": "7"
                                },
                                {
                                    "UGYFEL_FK": "ARONK",
                                    "METTOL": "2016-11-03",
                                    "MEDDIG": "2016-11-10",
                                    "Vendegek": "2",
                                    "Elozok": "7"
                                },
                                {
                                    "UGYFEL_FK": "ARONK",
                                    "METTOL": "2016-11-05",
                                    "MEDDIG": "2016-11-07",
                                    "Vendegek": "2",
                                    "Elozok": "6"
                                },
                                {
                                    "UGYFEL_FK": "ARONK",
                                    "METTOL": "2016-12-07",
                                    "MEDDIG": "2016-12-12",
                                    "Vendegek": "3",
                                    "Elozok": "6"
                                },
                                {
                                    "UGYFEL_FK": "ARONK",
                                    "METTOL": "2017-01-01",
                                    "MEDDIG": "2017-01-03",
                                    "Vendegek": "2",
                                    "Elozok": "7"
                                },
                                {
                                    "UGYFEL_FK": "ARONK",
                                    "METTOL": "2017-01-30",
                                    "MEDDIG": "2017-02-03",
                                    "Vendegek": "2",
                                    "Elozok": "7"
                                },
                                {
                                    "UGYFEL_FK": "ARONK",
                                    "METTOL": "2017-02-21",
                                    "MEDDIG": "2017-02-23",
                                    "Vendegek": "2",
                                    "Elozok": "7"
                                },
                                {
                                    "UGYFEL_FK": "arpad2",
                                    "METTOL": "2016-08-23",
                                    "MEDDIG": "2016-08-25",
                                    "Vendegek": "2",
                                    "Elozok": "NULL"
                                },
                                {
                                    "UGYFEL_FK": "arpad2",
                                    "METTOL": "2016-06-05",
                                    "MEDDIG": "2016-06-07",
                                    "Vendegek": "2",
                                    "Elozok": "2"
                                },
                                {
                                    "UGYFEL_FK": "arpad2",
                                    "METTOL": "2016-09-28",
                                    "MEDDIG": "2016-09-30",
                                    "Vendegek": "2",
                                    "Elozok": "4"
                                },
                                {
                                    "UGYFEL_FK": "arpad2",
                                    "METTOL": "2016-10-13",
                                    "MEDDIG": "2016-10-19",
                                    "Vendegek": "3",
                                    "Elozok": "6"
                                },
                                {
                                    "UGYFEL_FK": "arpad2",
                                    "METTOL": "2016-11-06",
                                    "MEDDIG": "2016-11-10",
                                    "Vendegek": "2",
                                    "Elozok": "7"
                                },
                                {
                                    "UGYFEL_FK": "arpad2",
                                    "METTOL": "2016-12-24",
                                    "MEDDIG": "2016-12-27",
                                    "Vendegek": "3",
                                    "Elozok": "7"
                                },
                                {
                                    "UGYFEL_FK": "arpad2",
                                    "METTOL": "2017-02-18",
                                    "MEDDIG": "2017-02-19",
                                    "Vendegek": "4",
                                    "Elozok": "8"
                                },
                                {
                                    "UGYFEL_FK": "ARPADH",
                                    "METTOL": "2016-07-14",
                                    "MEDDIG": "2016-07-18",
                                    "Vendegek": "2",
                                    "Elozok": "NULL"
                                },
                                {
                                    "UGYFEL_FK": "ARPADH",
                                    "METTOL": "2016-06-06",
                                    "MEDDIG": "2016-06-07",
                                    "Vendegek": "3",
                                    "Elozok": "2"
                                },
                                {
                                    "UGYFEL_FK": "ARPADH",
                                    "METTOL": "2016-09-16",
                                    "MEDDIG": "2016-09-23",
                                    "Vendegek": "1",
                                    "Elozok": "5"
                                },
                                {
                                    "UGYFEL_FK": "ARPADH",
                                    "METTOL": "2016-09-18",
                                    "MEDDIG": "2016-09-25",
                                    "Vendegek": "1",
                                    "Elozok": "6"
                                },
                                {
                                    "UGYFEL_FK": "ARPADH",
                                    "METTOL": "2016-12-04",
                                    "MEDDIG": "2016-12-10",
                                    "Vendegek": "1",
                                    "Elozok": "5"
                                },
                                {
                                    "UGYFEL_FK": "ARPADH",
                                    "METTOL": "2016-12-18",
                                    "MEDDIG": "2016-12-19",
                                    "Vendegek": "3",
                                    "Elozok": "3"
                                },
                                {
                                    "UGYFEL_FK": "ARPADH",
                                    "METTOL": "2017-02-16",
                                    "MEDDIG": "2017-02-18",
                                    "Vendegek": "2",
                                    "Elozok": "5"
                                },
                                {
                                    "UGYFEL_FK": "ARPADM",
                                    "METTOL": "2016-08-12",
                                    "MEDDIG": "2016-08-16",
                                    "Vendegek": "2",
                                    "Elozok": "NULL"
                                },
                                {
                                    "UGYFEL_FK": "ARPADM",
                                    "METTOL": "2016-05-29",
                                    "MEDDIG": "2016-06-01",
                                    "Vendegek": "2",
                                    "Elozok": "2"
                                },
                                {
                                    "UGYFEL_FK": "ARPADM",
                                    "METTOL": "2016-11-09",
                                    "MEDDIG": "2016-11-11",
                                    "Vendegek": "2",
                                    "Elozok": "4"
                                },
                                {
                                    "UGYFEL_FK": "ARPADM",
                                    "METTOL": "2016-12-14",
                                    "MEDDIG": "2016-12-17",
                                    "Vendegek": "3",
                                    "Elozok": "6"
                                },
                                {
                                    "UGYFEL_FK": "ARPADM",
                                    "METTOL": "2017-01-05",
                                    "MEDDIG": "2017-01-10",
                                    "Vendegek": "1",
                                    "Elozok": "7"
                                },
                                {
                                    "UGYFEL_FK": "ARPADM",
                                    "METTOL": "2017-02-12",
                                    "MEDDIG": "2017-02-14",
                                    "Vendegek": "3",
                                    "Elozok": "6"
                                },
                                {
                                    "UGYFEL_FK": "attila",
                                    "METTOL": "2016-09-30",
                                    "MEDDIG": "2016-10-07",
                                    "Vendegek": "3",
                                    "Elozok": "NULL"
                                },
                                {
                                    "UGYFEL_FK": "attila",
                                    "METTOL": "2016-10-15",
                                    "MEDDIG": "2016-10-19",
                                    "Vendegek": "1",
                                    "Elozok": "3"
                                },
                                {
                                    "UGYFEL_FK": "attila",
                                    "METTOL": "2016-12-22",
                                    "MEDDIG": "2016-12-26",
                                    "Vendegek": "2",
                                    "Elozok": "4"
                                },
                                {
                                    "UGYFEL_FK": "attila1",
                                    "METTOL": "2016-05-20",
                                    "MEDDIG": "2016-05-26",
                                    "Vendegek": "1",
                                    "Elozok": "NULL"
                                },
                                {
                                    "UGYFEL_FK": "attila1",
                                    "METTOL": "2016-10-09",
                                    "MEDDIG": "2016-10-12",
                                    "Vendegek": "2",
                                    "Elozok": "1"
                                },
                                {
                                    "UGYFEL_FK": "attila1",
                                    "METTOL": "2016-10-15",
                                    "MEDDIG": "2016-10-16",
                                    "Vendegek": "3",
                                    "Elozok": "3"
                                },
                                {
                                    "UGYFEL_FK": "attila1",
                                    "METTOL": "2016-10-30",
                                    "MEDDIG": "2016-11-05",
                                    "Vendegek": "2",
                                    "Elozok": "6"
                                },
                                {
                                    "UGYFEL_FK": "attila1",
                                    "METTOL": "2016-11-10",
                                    "MEDDIG": "2016-11-14",
                                    "Vendegek": "2",
                                    "Elozok": "7"
                                },
                                {
                                    "UGYFEL_FK": "attila1",
                                    "METTOL": "2017-01-23",
                                    "MEDDIG": "2017-01-30",
                                    "Vendegek": "4",
                                    "Elozok": "7"
                                },
                                {
                                    "UGYFEL_FK": "attila4",
                                    "METTOL": "2016-08-18",
                                    "MEDDIG": "2016-08-23",
                                    "Vendegek": "4",
                                    "Elozok": "NULL"
                                },
                                {
                                    "UGYFEL_FK": "attila4",
                                    "METTOL": "2016-12-31",
                                    "MEDDIG": "2017-01-01",
                                    "Vendegek": "2",
                                    "Elozok": "4"
                                },
                                {
                                    "UGYFEL_FK": "attila4",
                                    "METTOL": "2017-02-15",
                                    "MEDDIG": "2017-02-22",
                                    "Vendegek": "2",
                                    "Elozok": "6"
                                },
                                {
                                    "UGYFEL_FK": "ATTILAO",
                                    "METTOL": "2016-05-21",
                                    "MEDDIG": "2016-05-26",
                                    "Vendegek": "3",
                                    "Elozok": "NULL"
                                },
                                {
                                    "UGYFEL_FK": "ATTILAO",
                                    "METTOL": "2016-06-04",
                                    "MEDDIG": "2016-06-11",
                                    "Vendegek": "3",
                                    "Elozok": "3"
                                },
                                {
                                    "UGYFEL_FK": "ATTILAO",
                                    "METTOL": "2016-10-30",
                                    "MEDDIG": "2016-11-03",
                                    "Vendegek": "2",
                                    "Elozok": "6"
                                },
                                {
                                    "UGYFEL_FK": "ATTILAO",
                                    "METTOL": "2017-02-22",
                                    "MEDDIG": "2017-02-25",
                                    "Vendegek": "3",
                                    "Elozok": "8"
                                },
                                {
                                    "UGYFEL_FK": "balazs1",
                                    "METTOL": "2016-05-07",
                                    "MEDDIG": "2016-05-14",
                                    "Vendegek": "2",
                                    "Elozok": "NULL"
                                },
                                {
                                    "UGYFEL_FK": "balazs1",
                                    "METTOL": "2016-07-22",
                                    "MEDDIG": "2016-07-26",
                                    "Vendegek": "4",
                                    "Elozok": "2"
                                },
                                {
                                    "UGYFEL_FK": "balazs1",
                                    "METTOL": "2016-12-26",
                                    "MEDDIG": "2016-12-28",
                                    "Vendegek": "3",
                                    "Elozok": "6"
                                },
                                {
                                    "UGYFEL_FK": "balazs1",
                                    "METTOL": "2017-01-01",
                                    "MEDDIG": "2017-01-05",
                                    "Vendegek": "2",
                                    "Elozok": "9"
                                },
                                {
                                    "UGYFEL_FK": "balazs1",
                                    "METTOL": "2017-02-10",
                                    "MEDDIG": "2017-02-14",
                                    "Vendegek": "3",
                                    "Elozok": "9"
                                },
                                {
                                    "UGYFEL_FK": "balazs1",
                                    "METTOL": "2017-02-12",
                                    "MEDDIG": "2017-02-14",
                                    "Vendegek": "2",
                                    "Elozok": "8"
                                },
                                {
                                    "UGYFEL_FK": "balazs2",
                                    "METTOL": "2016-04-16",
                                    "MEDDIG": "2016-04-19",
                                    "Vendegek": "2",
                                    "Elozok": "NULL"
                                },
                                {
                                    "UGYFEL_FK": "balazs2",
                                    "METTOL": "2016-07-20",
                                    "MEDDIG": "2016-07-25",
                                    "Vendegek": "2",
                                    "Elozok": "2"
                                },
                                {
                                    "UGYFEL_FK": "balazs2",
                                    "METTOL": "2016-08-21",
                                    "MEDDIG": "2016-08-22",
                                    "Vendegek": "3",
                                    "Elozok": "4"
                                },
                                {
                                    "UGYFEL_FK": "balazs2",
                                    "METTOL": "2016-05-22",
                                    "MEDDIG": "2016-05-29",
                                    "Vendegek": "3",
                                    "Elozok": "7"
                                },
                                {
                                    "UGYFEL_FK": "balazs2",
                                    "METTOL": "2016-05-28",
                                    "MEDDIG": "2016-06-01",
                                    "Vendegek": "3",
                                    "Elozok": "8"
                                },
                                {
                                    "UGYFEL_FK": "balazs2",
                                    "METTOL": "2016-07-08",
                                    "MEDDIG": "2016-07-12",
                                    "Vendegek": "3",
                                    "Elozok": "9"
                                },
                                {
                                    "UGYFEL_FK": "balazs2",
                                    "METTOL": "2016-07-10",
                                    "MEDDIG": "2016-07-17",
                                    "Vendegek": "3",
                                    "Elozok": "9"
                                },
                                {
                                    "UGYFEL_FK": "balazs2",
                                    "METTOL": "2016-09-12",
                                    "MEDDIG": "2016-09-14",
                                    "Vendegek": "3",
                                    "Elozok": "9"
                                },
                                {
                                    "UGYFEL_FK": "balazs2",
                                    "METTOL": "2016-11-03",
                                    "MEDDIG": "2016-11-05",
                                    "Vendegek": "3",
                                    "Elozok": "9"
                                },
                                {
                                    "UGYFEL_FK": "balazs2",
                                    "METTOL": "2017-02-27",
                                    "MEDDIG": "2017-03-06",
                                    "Vendegek": "1",
                                    "Elozok": "9"
                                },
                                {
                                    "UGYFEL_FK": "balazs3",
                                    "METTOL": "2016-07-17",
                                    "MEDDIG": "2016-07-21",
                                    "Vendegek": "2",
                                    "Elozok": "NULL"
                                },
                                {
                                    "UGYFEL_FK": "balazs3",
                                    "METTOL": "2016-07-27",
                                    "MEDDIG": "2016-07-31",
                                    "Vendegek": "4",
                                    "Elozok": "2"
                                },
                                {
                                    "UGYFEL_FK": "balazs3",
                                    "METTOL": "2016-08-24",
                                    "MEDDIG": "2016-08-28",
                                    "Vendegek": "3",
                                    "Elozok": "6"
                                },
                                {
                                    "UGYFEL_FK": "balazs3",
                                    "METTOL": "2016-09-15",
                                    "MEDDIG": "2016-09-16",
                                    "Vendegek": "3",
                                    "Elozok": "9"
                                },
                                {
                                    "UGYFEL_FK": "balazs3",
                                    "METTOL": "2016-12-05",
                                    "MEDDIG": "2016-12-11",
                                    "Vendegek": "3",
                                    "Elozok": "10"
                                },
                                {
                                    "UGYFEL_FK": "balazs3",
                                    "METTOL": "2017-01-20",
                                    "MEDDIG": "2017-01-22",
                                    "Vendegek": "2",
                                    "Elozok": "9"
                                },
                                {
                                    "UGYFEL_FK": "balint",
                                    "METTOL": "2016-04-22",
                                    "MEDDIG": "2016-04-29",
                                    "Vendegek": "2",
                                    "Elozok": "NULL"
                                },
                                {
                                    "UGYFEL_FK": "balint",
                                    "METTOL": "2016-10-09",
                                    "MEDDIG": "2016-10-11",
                                    "Vendegek": "2",
                                    "Elozok": "2"
                                },
                                {
                                    "UGYFEL_FK": "balint",
                                    "METTOL": "2016-11-24",
                                    "MEDDIG": "2016-11-29",
                                    "Vendegek": "3",
                                    "Elozok": "4"
                                },
                                {
                                    "UGYFEL_FK": "balint1",
                                    "METTOL": "2016-07-26",
                                    "MEDDIG": "2016-07-28",
                                    "Vendegek": "2",
                                    "Elozok": "NULL"
                                },
                                {
                                    "UGYFEL_FK": "balint1",
                                    "METTOL": "2016-08-03",
                                    "MEDDIG": "2016-08-08",
                                    "Vendegek": "2",
                                    "Elozok": "2"
                                },
                                {
                                    "UGYFEL_FK": "balint1",
                                    "METTOL": "2016-06-07",
                                    "MEDDIG": "2016-06-12",
                                    "Vendegek": "3",
                                    "Elozok": "4"
                                },
                                {
                                    "UGYFEL_FK": "balint1",
                                    "METTOL": "2016-06-07",
                                    "MEDDIG": "2016-06-11",
                                    "Vendegek": "3",
                                    "Elozok": "7"
                                },
                                {
                                    "UGYFEL_FK": "balint1",
                                    "METTOL": "2016-06-10",
                                    "MEDDIG": "2016-06-12",
                                    "Vendegek": "1",
                                    "Elozok": "8"
                                },
                                {
                                    "UGYFEL_FK": "balint1",
                                    "METTOL": "2016-09-16",
                                    "MEDDIG": "2016-09-21",
                                    "Vendegek": "1",
                                    "Elozok": "7"
                                },
                                {
                                    "UGYFEL_FK": "balint1",
                                    "METTOL": "2016-11-07",
                                    "MEDDIG": "2016-11-10",
                                    "Vendegek": "2",
                                    "Elozok": "5"
                                },
                                {
                                    "UGYFEL_FK": "balint1",
                                    "METTOL": "2016-12-17",
                                    "MEDDIG": "2016-12-22",
                                    "Vendegek": "3",
                                    "Elozok": "4"
                                },
                                {
                                    "UGYFEL_FK": "balint1",
                                    "METTOL": "2016-12-29",
                                    "MEDDIG": "2016-12-31",
                                    "Vendegek": "3",
                                    "Elozok": "6"
                                },
                                {
                                    "UGYFEL_FK": "balint1",
                                    "METTOL": "2017-01-03",
                                    "MEDDIG": "2017-01-08",
                                    "Vendegek": "2",
                                    "Elozok": "8"
                                },
                                {
                                    "UGYFEL_FK": "balint2",
                                    "METTOL": "2016-07-21",
                                    "MEDDIG": "2016-07-26",
                                    "Vendegek": "1",
                                    "Elozok": "NULL"
                                },
                                {
                                    "UGYFEL_FK": "balint2",
                                    "METTOL": "2016-12-04",
                                    "MEDDIG": "2016-12-06",
                                    "Vendegek": "3",
                                    "Elozok": "1"
                                },
                                {
                                    "UGYFEL_FK": "balu",
                                    "METTOL": "2016-08-06",
                                    "MEDDIG": "2016-08-10",
                                    "Vendegek": "2",
                                    "Elozok": "NULL"
                                },
                                {
                                    "UGYFEL_FK": "balu",
                                    "METTOL": "2016-12-22",
                                    "MEDDIG": "2016-12-23",
                                    "Vendegek": "2",
                                    "Elozok": "2"
                                },
                                {
                                    "UGYFEL_FK": "beata4",
                                    "METTOL": "2016-04-20",
                                    "MEDDIG": "2016-04-21",
                                    "Vendegek": "2",
                                    "Elozok": "NULL"
                                },
                                {
                                    "UGYFEL_FK": "beata4",
                                    "METTOL": "2016-08-25",
                                    "MEDDIG": "2016-08-27",
                                    "Vendegek": "3",
                                    "Elozok": "2"
                                },
                                {
                                    "UGYFEL_FK": "beata4",
                                    "METTOL": "2016-06-03",
                                    "MEDDIG": "2016-06-04",
                                    "Vendegek": "2",
                                    "Elozok": "5"
                                },
                                {
                                    "UGYFEL_FK": "beata4",
                                    "METTOL": "2016-07-03",
                                    "MEDDIG": "2016-07-06",
                                    "Vendegek": "1",
                                    "Elozok": "7"
                                },
                                {
                                    "UGYFEL_FK": "beata4",
                                    "METTOL": "2016-10-01",
                                    "MEDDIG": "2016-10-05",
                                    "Vendegek": "1",
                                    "Elozok": "6"
                                },
                                {
                                    "UGYFEL_FK": "beata4",
                                    "METTOL": "2016-10-03",
                                    "MEDDIG": "2016-10-06",
                                    "Vendegek": "3",
                                    "Elozok": "4"
                                },
                                {
                                    "UGYFEL_FK": "BEATRIXK",
                                    "METTOL": "2016-08-12",
                                    "MEDDIG": "2016-08-18",
                                    "Vendegek": "4",
                                    "Elozok": "NULL"
                                },
                                {
                                    "UGYFEL_FK": "BEATRIXK",
                                    "METTOL": "2016-06-10",
                                    "MEDDIG": "2016-06-11",
                                    "Vendegek": "2",
                                    "Elozok": "4"
                                },
                                {
                                    "UGYFEL_FK": "BEATRIXK",
                                    "METTOL": "2016-06-10",
                                    "MEDDIG": "2016-06-14",
                                    "Vendegek": "2",
                                    "Elozok": "6"
                                },
                                {
                                    "UGYFEL_FK": "BEATRIXK",
                                    "METTOL": "2016-06-19",
                                    "MEDDIG": "2016-06-21",
                                    "Vendegek": "3",
                                    "Elozok": "8"
                                },
                                {
                                    "UGYFEL_FK": "BEATRIXK",
                                    "METTOL": "2016-10-23",
                                    "MEDDIG": "2016-10-28",
                                    "Vendegek": "2",
                                    "Elozok": "7"
                                },
                                {
                                    "UGYFEL_FK": "BEATRIXK",
                                    "METTOL": "2016-11-14",
                                    "MEDDIG": "2016-11-19",
                                    "Vendegek": "2",
                                    "Elozok": "7"
                                },
                                {
                                    "UGYFEL_FK": "BEATRIXK",
                                    "METTOL": "2016-12-12",
                                    "MEDDIG": "2016-12-14",
                                    "Vendegek": "3",
                                    "Elozok": "7"
                                },
                                {
                                    "UGYFEL_FK": "BEATRIXK",
                                    "METTOL": "2016-12-17",
                                    "MEDDIG": "2016-12-22",
                                    "Vendegek": "4",
                                    "Elozok": "7"
                                },
                                {
                                    "UGYFEL_FK": "BEATRIXK",
                                    "METTOL": "2017-02-08",
                                    "MEDDIG": "2017-02-09",
                                    "Vendegek": "3",
                                    "Elozok": "9"
                                },
                                {
                                    "UGYFEL_FK": "BEATRIXS",
                                    "METTOL": "2016-04-18",
                                    "MEDDIG": "2016-04-24",
                                    "Vendegek": "1",
                                    "Elozok": "NULL"
                                },
                                {
                                    "UGYFEL_FK": "BEATRIXS",
                                    "METTOL": "2016-06-11",
                                    "MEDDIG": "2016-06-14",
                                    "Vendegek": "3",
                                    "Elozok": "1"
                                },
                                {
                                    "UGYFEL_FK": "BEATRIXS",
                                    "METTOL": "2016-10-01",
                                    "MEDDIG": "2016-10-03",
                                    "Vendegek": "3",
                                    "Elozok": "4"
                                },
                                {
                                    "UGYFEL_FK": "BEATRIXS",
                                    "METTOL": "2016-10-01",
                                    "MEDDIG": "2016-10-05",
                                    "Vendegek": "3",
                                    "Elozok": "7"
                                },
                                {
                                    "UGYFEL_FK": "BEATRIXS",
                                    "METTOL": "2016-12-21",
                                    "MEDDIG": "2016-12-27",
                                    "Vendegek": "2",
                                    "Elozok": "9"
                                },
                                {
                                    "UGYFEL_FK": "BEATRIXS",
                                    "METTOL": "2017-02-03",
                                    "MEDDIG": "2017-02-04",
                                    "Vendegek": "2",
                                    "Elozok": "8"
                                },
                                {
                                    "UGYFEL_FK": "BELAF",
                                    "METTOL": "2016-07-27",
                                    "MEDDIG": "2016-07-30",
                                    "Vendegek": "3",
                                    "Elozok": "NULL"
                                },
                                {
                                    "UGYFEL_FK": "BELAF",
                                    "METTOL": "2016-07-29",
                                    "MEDDIG": "2016-07-31",
                                    "Vendegek": "2",
                                    "Elozok": "3"
                                },
                                {
                                    "UGYFEL_FK": "BELAF",
                                    "METTOL": "2016-08-29",
                                    "MEDDIG": "2016-08-31",
                                    "Vendegek": "2",
                                    "Elozok": "5"
                                },
                                {
                                    "UGYFEL_FK": "BELAF",
                                    "METTOL": "2016-11-03",
                                    "MEDDIG": "2016-11-09",
                                    "Vendegek": "4",
                                    "Elozok": "7"
                                },
                                {
                                    "UGYFEL_FK": "BELAF",
                                    "METTOL": "2016-12-02",
                                    "MEDDIG": "2016-12-04",
                                    "Vendegek": "3",
                                    "Elozok": "8"
                                },
                                {
                                    "UGYFEL_FK": "BELAF",
                                    "METTOL": "2016-12-06",
                                    "MEDDIG": "2016-12-09",
                                    "Vendegek": "1",
                                    "Elozok": "9"
                                },
                                {
                                    "UGYFEL_FK": "bence",
                                    "METTOL": "2016-05-08",
                                    "MEDDIG": "2016-05-11",
                                    "Vendegek": "2",
                                    "Elozok": "NULL"
                                },
                                {
                                    "UGYFEL_FK": "bence",
                                    "METTOL": "2016-07-24",
                                    "MEDDIG": "2016-07-30",
                                    "Vendegek": "2",
                                    "Elozok": "2"
                                },
                                {
                                    "UGYFEL_FK": "bence",
                                    "METTOL": "2016-07-25",
                                    "MEDDIG": "2016-08-01",
                                    "Vendegek": "3",
                                    "Elozok": "4"
                                },
                                {
                                    "UGYFEL_FK": "bence",
                                    "METTOL": "2016-09-03",
                                    "MEDDIG": "2016-09-06",
                                    "Vendegek": "3",
                                    "Elozok": "7"
                                },
                                {
                                    "UGYFEL_FK": "bence",
                                    "METTOL": "2016-05-29",
                                    "MEDDIG": "2016-06-03",
                                    "Vendegek": "1",
                                    "Elozok": "8"
                                },
                                {
                                    "UGYFEL_FK": "bence",
                                    "METTOL": "2016-10-30",
                                    "MEDDIG": "2016-11-02",
                                    "Vendegek": "4",
                                    "Elozok": "7"
                                },
                                {
                                    "UGYFEL_FK": "bence",
                                    "METTOL": "2016-12-17",
                                    "MEDDIG": "2016-12-18",
                                    "Vendegek": "2",
                                    "Elozok": "8"
                                },
                                {
                                    "UGYFEL_FK": "bence",
                                    "METTOL": "2016-12-26",
                                    "MEDDIG": "2016-12-27",
                                    "Vendegek": "2",
                                    "Elozok": "7"
                                },
                                {
                                    "UGYFEL_FK": "bence",
                                    "METTOL": "2017-02-05",
                                    "MEDDIG": "2017-02-09",
                                    "Vendegek": "3",
                                    "Elozok": "8"
                                },
                                {
                                    "UGYFEL_FK": "BENCEB",
                                    "METTOL": "2016-05-14",
                                    "MEDDIG": "2016-05-17",
                                    "Vendegek": "3",
                                    "Elozok": "NULL"
                                },
                                {
                                    "UGYFEL_FK": "BENCEB",
                                    "METTOL": "2016-08-01",
                                    "MEDDIG": "2016-08-02",
                                    "Vendegek": "2",
                                    "Elozok": "3"
                                },
                                {
                                    "UGYFEL_FK": "BENCEB",
                                    "METTOL": "2016-06-03",
                                    "MEDDIG": "2016-06-09",
                                    "Vendegek": "2",
                                    "Elozok": "5"
                                },
                                {
                                    "UGYFEL_FK": "BENCEB",
                                    "METTOL": "2016-10-22",
                                    "MEDDIG": "2016-10-29",
                                    "Vendegek": "3",
                                    "Elozok": "7"
                                },
                                {
                                    "UGYFEL_FK": "BENCEB",
                                    "METTOL": "2016-11-28",
                                    "MEDDIG": "2016-12-02",
                                    "Vendegek": "2",
                                    "Elozok": "7"
                                },
                                {
                                    "UGYFEL_FK": "BENCEB",
                                    "METTOL": "2017-02-12",
                                    "MEDDIG": "2017-02-19",
                                    "Vendegek": "3",
                                    "Elozok": "7"
                                },
                                {
                                    "UGYFEL_FK": "bernadett1",
                                    "METTOL": "2016-06-12",
                                    "MEDDIG": "2016-06-17",
                                    "Vendegek": "3",
                                    "Elozok": "NULL"
                                },
                                {
                                    "UGYFEL_FK": "bernadett1",
                                    "METTOL": "2016-10-08",
                                    "MEDDIG": "2016-10-09",
                                    "Vendegek": "4",
                                    "Elozok": "3"
                                },
                                {
                                    "UGYFEL_FK": "bernadett1",
                                    "METTOL": "2016-10-15",
                                    "MEDDIG": "2016-10-22",
                                    "Vendegek": "3",
                                    "Elozok": "7"
                                },
                                {
                                    "UGYFEL_FK": "bernadett1",
                                    "METTOL": "2016-10-26",
                                    "MEDDIG": "2016-11-02",
                                    "Vendegek": "3",
                                    "Elozok": "10"
                                },
                                {
                                    "UGYFEL_FK": "bernadett1",
                                    "METTOL": "2016-10-28",
                                    "MEDDIG": "2016-11-01",
                                    "Vendegek": "3",
                                    "Elozok": "10"
                                },
                                {
                                    "UGYFEL_FK": "bernadett1",
                                    "METTOL": "2017-02-14",
                                    "MEDDIG": "2017-02-15",
                                    "Vendegek": "3",
                                    "Elozok": "9"
                                },
                                {
                                    "UGYFEL_FK": "bernadett1",
                                    "METTOL": "2017-02-24",
                                    "MEDDIG": "2017-03-03",
                                    "Vendegek": "1",
                                    "Elozok": "9"
                                },
                                {
                                    "UGYFEL_FK": "bernadett2",
                                    "METTOL": "2016-05-01",
                                    "MEDDIG": "2016-05-03",
                                    "Vendegek": "2",
                                    "Elozok": "NULL"
                                },
                                {
                                    "UGYFEL_FK": "bernadett2",
                                    "METTOL": "2016-08-23",
                                    "MEDDIG": "2016-08-29",
                                    "Vendegek": "2",
                                    "Elozok": "2"
                                },
                                {
                                    "UGYFEL_FK": "bernadett2",
                                    "METTOL": "2016-08-25",
                                    "MEDDIG": "2016-08-27",
                                    "Vendegek": "3",
                                    "Elozok": "4"
                                },
                                {
                                    "UGYFEL_FK": "bernadett2",
                                    "METTOL": "2016-06-17",
                                    "MEDDIG": "2016-06-23",
                                    "Vendegek": "3",
                                    "Elozok": "7"
                                },
                                {
                                    "UGYFEL_FK": "bernadett2",
                                    "METTOL": "2016-09-07",
                                    "MEDDIG": "2016-09-13",
                                    "Vendegek": "3",
                                    "Elozok": "8"
                                },
                                {
                                    "UGYFEL_FK": "bernadett2",
                                    "METTOL": "2016-10-30",
                                    "MEDDIG": "2016-11-06",
                                    "Vendegek": "3",
                                    "Elozok": "9"
                                },
                                {
                                    "UGYFEL_FK": "bernadett2",
                                    "METTOL": "2016-12-17",
                                    "MEDDIG": "2016-12-20",
                                    "Vendegek": "1",
                                    "Elozok": "9"
                                },
                                {
                                    "UGYFEL_FK": "bernadett2",
                                    "METTOL": "2017-01-24",
                                    "MEDDIG": "2017-01-30",
                                    "Vendegek": "3",
                                    "Elozok": "7"
                                },
                                {
                                    "UGYFEL_FK": "BERNADETTO",
                                    "METTOL": "2016-04-10",
                                    "MEDDIG": "2016-04-17",
                                    "Vendegek": "2",
                                    "Elozok": "NULL"
                                },
                                {
                                    "UGYFEL_FK": "BERNADETTO",
                                    "METTOL": "2016-04-17",
                                    "MEDDIG": "2016-04-19",
                                    "Vendegek": "2",
                                    "Elozok": "2"
                                },
                                {
                                    "UGYFEL_FK": "BERNADETTO",
                                    "METTOL": "2016-06-07",
                                    "MEDDIG": "2016-06-13",
                                    "Vendegek": "3",
                                    "Elozok": "4"
                                },
                                {
                                    "UGYFEL_FK": "BERNADETTO",
                                    "METTOL": "2016-06-10",
                                    "MEDDIG": "2016-06-16",
                                    "Vendegek": "4",
                                    "Elozok": "7"
                                },
                                {
                                    "UGYFEL_FK": "BERNADETTO",
                                    "METTOL": "2016-10-04",
                                    "MEDDIG": "2016-10-05",
                                    "Vendegek": "2",
                                    "Elozok": "9"
                                },
                                {
                                    "UGYFEL_FK": "BERNADETTO",
                                    "METTOL": "2017-01-01",
                                    "MEDDIG": "2017-01-02",
                                    "Vendegek": "3",
                                    "Elozok": "9"
                                },
                                {
                                    "UGYFEL_FK": "BERNADETTO",
                                    "METTOL": "2017-01-28",
                                    "MEDDIG": "2017-02-03",
                                    "Vendegek": "2",
                                    "Elozok": "9"
                                },
                                {
                                    "UGYFEL_FK": "bertalan",
                                    "METTOL": "2016-05-18",
                                    "MEDDIG": "2016-05-23",
                                    "Vendegek": "2",
                                    "Elozok": "NULL"
                                },
                                {
                                    "UGYFEL_FK": "bertalan",
                                    "METTOL": "2016-06-20",
                                    "MEDDIG": "2016-06-21",
                                    "Vendegek": "1",
                                    "Elozok": "2"
                                },
                                {
                                    "UGYFEL_FK": "bertalan",
                                    "METTOL": "2016-11-03",
                                    "MEDDIG": "2016-11-10",
                                    "Vendegek": "2",
                                    "Elozok": "3"
                                },
                                {
                                    "UGYFEL_FK": "bertalan",
                                    "METTOL": "2016-11-26",
                                    "MEDDIG": "2016-11-29",
                                    "Vendegek": "3",
                                    "Elozok": "5"
                                },
                                {
                                    "UGYFEL_FK": "bertalan",
                                    "METTOL": "2017-02-16",
                                    "MEDDIG": "2017-02-22",
                                    "Vendegek": "2",
                                    "Elozok": "6"
                                },
                                {
                                    "UGYFEL_FK": "bertalan",
                                    "METTOL": "2017-02-20",
                                    "MEDDIG": "2017-02-24",
                                    "Vendegek": "4",
                                    "Elozok": "7"
                                },
                                {
                                    "UGYFEL_FK": "brigitta",
                                    "METTOL": "2016-08-28",
                                    "MEDDIG": "2016-09-01",
                                    "Vendegek": "3",
                                    "Elozok": "NULL"
                                },
                                {
                                    "UGYFEL_FK": "brigitta",
                                    "METTOL": "2016-05-30",
                                    "MEDDIG": "2016-06-06",
                                    "Vendegek": "3",
                                    "Elozok": "3"
                                },
                                {
                                    "UGYFEL_FK": "brigitta",
                                    "METTOL": "2016-10-21",
                                    "MEDDIG": "2016-10-28",
                                    "Vendegek": "3",
                                    "Elozok": "6"
                                },
                                {
                                    "UGYFEL_FK": "brigitta",
                                    "METTOL": "2016-12-17",
                                    "MEDDIG": "2016-12-22",
                                    "Vendegek": "2",
                                    "Elozok": "9"
                                },
                                {
                                    "UGYFEL_FK": "brigitta",
                                    "METTOL": "2017-01-23",
                                    "MEDDIG": "2017-01-25",
                                    "Vendegek": "1",
                                    "Elozok": "8"
                                },
                                {
                                    "UGYFEL_FK": "brigitta3",
                                    "METTOL": "2016-06-01",
                                    "MEDDIG": "2016-06-05",
                                    "Vendegek": "2",
                                    "Elozok": "NULL"
                                },
                                {
                                    "UGYFEL_FK": "brigitta3",
                                    "METTOL": "2016-06-13",
                                    "MEDDIG": "2016-06-17",
                                    "Vendegek": "3",
                                    "Elozok": "2"
                                },
                                {
                                    "UGYFEL_FK": "brigitta3",
                                    "METTOL": "2016-10-10",
                                    "MEDDIG": "2016-10-14",
                                    "Vendegek": "2",
                                    "Elozok": "5"
                                },
                                {
                                    "UGYFEL_FK": "brigitta3",
                                    "METTOL": "2016-11-03",
                                    "MEDDIG": "2016-11-09",
                                    "Vendegek": "3",
                                    "Elozok": "7"
                                },
                                {
                                    "UGYFEL_FK": "brigitta3",
                                    "METTOL": "2017-02-09",
                                    "MEDDIG": "2017-02-16",
                                    "Vendegek": "2",
                                    "Elozok": "8"
                                },
                                {
                                    "UGYFEL_FK": "csongor3",
                                    "METTOL": "2016-05-01",
                                    "MEDDIG": "2016-05-04",
                                    "Vendegek": "2",
                                    "Elozok": "NULL"
                                },
                                {
                                    "UGYFEL_FK": "csongor3",
                                    "METTOL": "2016-05-08",
                                    "MEDDIG": "2016-05-15",
                                    "Vendegek": "3",
                                    "Elozok": "2"
                                },
                                {
                                    "UGYFEL_FK": "csongor3",
                                    "METTOL": "2016-06-04",
                                    "MEDDIG": "2016-06-05",
                                    "Vendegek": "2",
                                    "Elozok": "5"
                                },
                                {
                                    "UGYFEL_FK": "csongor3",
                                    "METTOL": "2016-06-10",
                                    "MEDDIG": "2016-06-17",
                                    "Vendegek": "3",
                                    "Elozok": "7"
                                },
                                {
                                    "UGYFEL_FK": "csongor3",
                                    "METTOL": "2016-06-11",
                                    "MEDDIG": "2016-06-14",
                                    "Vendegek": "2",
                                    "Elozok": "8"
                                },
                                {
                                    "UGYFEL_FK": "csongor3",
                                    "METTOL": "2016-07-09",
                                    "MEDDIG": "2016-07-10",
                                    "Vendegek": "4",
                                    "Elozok": "7"
                                },
                                {
                                    "UGYFEL_FK": "csongor3",
                                    "METTOL": "2016-11-12",
                                    "MEDDIG": "2016-11-17",
                                    "Vendegek": "3",
                                    "Elozok": "9"
                                },
                                {
                                    "UGYFEL_FK": "csongor3",
                                    "METTOL": "2017-02-13",
                                    "MEDDIG": "2017-02-19",
                                    "Vendegek": "3",
                                    "Elozok": "9"
                                },
                                {
                                    "UGYFEL_FK": "dani",
                                    "METTOL": "2016-08-06",
                                    "MEDDIG": "2016-08-09",
                                    "Vendegek": "2",
                                    "Elozok": "NULL"
                                },
                                {
                                    "UGYFEL_FK": "dani",
                                    "METTOL": "2016-06-06",
                                    "MEDDIG": "2016-06-10",
                                    "Vendegek": "3",
                                    "Elozok": "2"
                                },
                                {
                                    "UGYFEL_FK": "dani",
                                    "METTOL": "2016-07-11",
                                    "MEDDIG": "2016-07-12",
                                    "Vendegek": "3",
                                    "Elozok": "5"
                                },
                                {
                                    "UGYFEL_FK": "dani",
                                    "METTOL": "2016-09-19",
                                    "MEDDIG": "2016-09-25",
                                    "Vendegek": "4",
                                    "Elozok": "8"
                                },
                                {
                                    "UGYFEL_FK": "dani",
                                    "METTOL": "2016-10-01",
                                    "MEDDIG": "2016-10-02",
                                    "Vendegek": "1",
                                    "Elozok": "10"
                                },
                                {
                                    "UGYFEL_FK": "dani",
                                    "METTOL": "2016-11-22",
                                    "MEDDIG": "2016-11-24",
                                    "Vendegek": "2",
                                    "Elozok": "8"
                                },
                                {
                                    "UGYFEL_FK": "dani",
                                    "METTOL": "2017-01-17",
                                    "MEDDIG": "2017-01-23",
                                    "Vendegek": "2",
                                    "Elozok": "7"
                                },
                                {
                                    "UGYFEL_FK": "dani",
                                    "METTOL": "2017-01-22",
                                    "MEDDIG": "2017-01-29",
                                    "Vendegek": "1",
                                    "Elozok": "5"
                                },
                                {
                                    "UGYFEL_FK": "dani",
                                    "METTOL": "2017-02-25",
                                    "MEDDIG": "2017-03-01",
                                    "Vendegek": "3",
                                    "Elozok": "5"
                                },
                                {
                                    "UGYFEL_FK": "daniel",
                                    "METTOL": "2016-04-10",
                                    "MEDDIG": "2016-04-11",
                                    "Vendegek": "4",
                                    "Elozok": "NULL"
                                },
                                {
                                    "UGYFEL_FK": "daniel",
                                    "METTOL": "2016-04-22",
                                    "MEDDIG": "2016-04-25",
                                    "Vendegek": "2",
                                    "Elozok": "4"
                                },
                                {
                                    "UGYFEL_FK": "daniel",
                                    "METTOL": "2016-05-09",
                                    "MEDDIG": "2016-05-13",
                                    "Vendegek": "3",
                                    "Elozok": "6"
                                },
                                {
                                    "UGYFEL_FK": "daniel",
                                    "METTOL": "2016-09-08",
                                    "MEDDIG": "2016-09-10",
                                    "Vendegek": "4",
                                    "Elozok": "9"
                                },
                                {
                                    "UGYFEL_FK": "daniel",
                                    "METTOL": "2016-11-13",
                                    "MEDDIG": "2016-11-19",
                                    "Vendegek": "3",
                                    "Elozok": "9"
                                },
                                {
                                    "UGYFEL_FK": "daniel",
                                    "METTOL": "2016-12-25",
                                    "MEDDIG": "2016-12-26",
                                    "Vendegek": "3",
                                    "Elozok": "10"
                                },
                                {
                                    "UGYFEL_FK": "daniel",
                                    "METTOL": "2017-01-09",
                                    "MEDDIG": "2017-01-11",
                                    "Vendegek": "1",
                                    "Elozok": "10"
                                },
                                {
                                    "UGYFEL_FK": "daniel",
                                    "METTOL": "2017-02-12",
                                    "MEDDIG": "2017-02-13",
                                    "Vendegek": "3",
                                    "Elozok": "7"
                                },
                                {
                                    "UGYFEL_FK": "daniel",
                                    "METTOL": "2017-02-20",
                                    "MEDDIG": "2017-02-23",
                                    "Vendegek": "3",
                                    "Elozok": "7"
                                },
                                {
                                    "UGYFEL_FK": "daniel1",
                                    "METTOL": "2016-04-10",
                                    "MEDDIG": "2016-04-15",
                                    "Vendegek": "2",
                                    "Elozok": "NULL"
                                },
                                {
                                    "UGYFEL_FK": "daniel1",
                                    "METTOL": "2016-05-10",
                                    "MEDDIG": "2016-05-13",
                                    "Vendegek": "4",
                                    "Elozok": "2"
                                },
                                {
                                    "UGYFEL_FK": "daniel1",
                                    "METTOL": "2016-05-26",
                                    "MEDDIG": "2016-05-27",
                                    "Vendegek": "3",
                                    "Elozok": "6"
                                },
                                {
                                    "UGYFEL_FK": "daniel1",
                                    "METTOL": "2016-11-09",
                                    "MEDDIG": "2016-11-11",
                                    "Vendegek": "2",
                                    "Elozok": "9"
                                },
                                {
                                    "UGYFEL_FK": "daniel1",
                                    "METTOL": "2016-11-23",
                                    "MEDDIG": "2016-11-25",
                                    "Vendegek": "2",
                                    "Elozok": "9"
                                },
                                {
                                    "UGYFEL_FK": "daniel1",
                                    "METTOL": "2017-01-05",
                                    "MEDDIG": "2017-01-08",
                                    "Vendegek": "3",
                                    "Elozok": "7"
                                },
                                {
                                    "UGYFEL_FK": "daniel1",
                                    "METTOL": "2017-03-01",
                                    "MEDDIG": "2017-03-06",
                                    "Vendegek": "4",
                                    "Elozok": "7"
                                },
                                {
                                    "UGYFEL_FK": "david",
                                    "METTOL": "2016-05-18",
                                    "MEDDIG": "2016-05-25",
                                    "Vendegek": "2",
                                    "Elozok": "NULL"
                                },
                                {
                                    "UGYFEL_FK": "david",
                                    "METTOL": "2016-07-18",
                                    "MEDDIG": "2016-07-21",
                                    "Vendegek": "2",
                                    "Elozok": "2"
                                },
                                {
                                    "UGYFEL_FK": "david",
                                    "METTOL": "2016-08-05",
                                    "MEDDIG": "2016-08-12",
                                    "Vendegek": "1",
                                    "Elozok": "4"
                                },
                                {
                                    "UGYFEL_FK": "david",
                                    "METTOL": "2016-08-20",
                                    "MEDDIG": "2016-08-25",
                                    "Vendegek": "3",
                                    "Elozok": "5"
                                },
                                {
                                    "UGYFEL_FK": "david",
                                    "METTOL": "2016-08-22",
                                    "MEDDIG": "2016-08-24",
                                    "Vendegek": "3",
                                    "Elozok": "6"
                                },
                                {
                                    "UGYFEL_FK": "david",
                                    "METTOL": "2016-06-09",
                                    "MEDDIG": "2016-06-10",
                                    "Vendegek": "2",
                                    "Elozok": "7"
                                },
                                {
                                    "UGYFEL_FK": "david",
                                    "METTOL": "2016-06-30",
                                    "MEDDIG": "2016-07-07",
                                    "Vendegek": "2",
                                    "Elozok": "8"
                                },
                                {
                                    "UGYFEL_FK": "david",
                                    "METTOL": "2016-10-30",
                                    "MEDDIG": "2016-11-04",
                                    "Vendegek": "2",
                                    "Elozok": "7"
                                },
                                {
                                    "UGYFEL_FK": "david",
                                    "METTOL": "2017-01-18",
                                    "MEDDIG": "2017-01-19",
                                    "Vendegek": "2",
                                    "Elozok": "6"
                                },
                                {
                                    "UGYFEL_FK": "david1",
                                    "METTOL": "2016-09-20",
                                    "MEDDIG": "2016-09-21",
                                    "Vendegek": "2",
                                    "Elozok": "NULL"
                                },
                                {
                                    "UGYFEL_FK": "david1",
                                    "METTOL": "2016-10-01",
                                    "MEDDIG": "2016-10-02",
                                    "Vendegek": "2",
                                    "Elozok": "2"
                                },
                                {
                                    "UGYFEL_FK": "david1",
                                    "METTOL": "2016-11-19",
                                    "MEDDIG": "2016-11-22",
                                    "Vendegek": "2",
                                    "Elozok": "4"
                                },
                                {
                                    "UGYFEL_FK": "david1",
                                    "METTOL": "2016-12-30",
                                    "MEDDIG": "2017-01-06",
                                    "Vendegek": "2",
                                    "Elozok": "6"
                                },
                                {
                                    "UGYFEL_FK": "david1",
                                    "METTOL": "2017-02-17",
                                    "MEDDIG": "2017-02-20",
                                    "Vendegek": "3",
                                    "Elozok": "6"
                                },
                                {
                                    "UGYFEL_FK": "david1",
                                    "METTOL": "2017-02-25",
                                    "MEDDIG": "2017-02-27",
                                    "Vendegek": "4",
                                    "Elozok": "7"
                                },
                                {
                                    "UGYFEL_FK": "david4",
                                    "METTOL": "2017-02-16",
                                    "MEDDIG": "2017-02-19",
                                    "Vendegek": "3",
                                    "Elozok": "NULL"
                                },
                                {
                                    "UGYFEL_FK": "debora",
                                    "METTOL": "2016-06-22",
                                    "MEDDIG": "2016-06-24",
                                    "Vendegek": "5",
                                    "Elozok": "NULL"
                                },
                                {
                                    "UGYFEL_FK": "debora",
                                    "METTOL": "2016-10-29",
                                    "MEDDIG": "2016-11-03",
                                    "Vendegek": "2",
                                    "Elozok": "5"
                                },
                                {
                                    "UGYFEL_FK": "debora",
                                    "METTOL": "2017-01-23",
                                    "MEDDIG": "2017-01-28",
                                    "Vendegek": "3",
                                    "Elozok": "7"
                                },
                                {
                                    "UGYFEL_FK": "debora",
                                    "METTOL": "2017-02-04",
                                    "MEDDIG": "2017-02-06",
                                    "Vendegek": "3",
                                    "Elozok": "10"
                                },
                                {
                                    "UGYFEL_FK": "denes",
                                    "METTOL": "2016-07-19",
                                    "MEDDIG": "2016-07-23",
                                    "Vendegek": "2",
                                    "Elozok": "NULL"
                                },
                                {
                                    "UGYFEL_FK": "denes",
                                    "METTOL": "2016-08-01",
                                    "MEDDIG": "2016-08-08",
                                    "Vendegek": "3",
                                    "Elozok": "2"
                                },
                                {
                                    "UGYFEL_FK": "denes",
                                    "METTOL": "2016-08-16",
                                    "MEDDIG": "2016-08-23",
                                    "Vendegek": "2",
                                    "Elozok": "5"
                                },
                                {
                                    "UGYFEL_FK": "denes",
                                    "METTOL": "2016-08-20",
                                    "MEDDIG": "2016-08-27",
                                    "Vendegek": "3",
                                    "Elozok": "7"
                                },
                                {
                                    "UGYFEL_FK": "denes",
                                    "METTOL": "2016-05-27",
                                    "MEDDIG": "2016-05-31",
                                    "Vendegek": "3",
                                    "Elozok": "8"
                                },
                                {
                                    "UGYFEL_FK": "denes",
                                    "METTOL": "2016-11-06",
                                    "MEDDIG": "2016-11-10",
                                    "Vendegek": "2",
                                    "Elozok": "8"
                                },
                                {
                                    "UGYFEL_FK": "dora3",
                                    "METTOL": "2016-08-16",
                                    "MEDDIG": "2016-08-19",
                                    "Vendegek": "4",
                                    "Elozok": "NULL"
                                },
                                {
                                    "UGYFEL_FK": "dora3",
                                    "METTOL": "2016-08-25",
                                    "MEDDIG": "2016-08-29",
                                    "Vendegek": "3",
                                    "Elozok": "4"
                                },
                                {
                                    "UGYFEL_FK": "dora3",
                                    "METTOL": "2016-10-09",
                                    "MEDDIG": "2016-10-12",
                                    "Vendegek": "3",
                                    "Elozok": "7"
                                },
                                {
                                    "UGYFEL_FK": "dora3",
                                    "METTOL": "2016-10-29",
                                    "MEDDIG": "2016-11-02",
                                    "Vendegek": "3",
                                    "Elozok": "10"
                                },
                                {
                                    "UGYFEL_FK": "dora3",
                                    "METTOL": "2016-11-22",
                                    "MEDDIG": "2016-11-29",
                                    "Vendegek": "3",
                                    "Elozok": "9"
                                },
                                {
                                    "UGYFEL_FK": "edit",
                                    "METTOL": "2016-07-14",
                                    "MEDDIG": "2016-07-17",
                                    "Vendegek": "3",
                                    "Elozok": "NULL"
                                },
                                {
                                    "UGYFEL_FK": "edit",
                                    "METTOL": "2016-08-03",
                                    "MEDDIG": "2016-08-09",
                                    "Vendegek": "4",
                                    "Elozok": "3"
                                },
                                {
                                    "UGYFEL_FK": "edit",
                                    "METTOL": "2016-08-12",
                                    "MEDDIG": "2016-08-14",
                                    "Vendegek": "2",
                                    "Elozok": "7"
                                },
                                {
                                    "UGYFEL_FK": "edit",
                                    "METTOL": "2016-09-17",
                                    "MEDDIG": "2016-09-24",
                                    "Vendegek": "2",
                                    "Elozok": "9"
                                },
                                {
                                    "UGYFEL_FK": "edit",
                                    "METTOL": "2016-09-18",
                                    "MEDDIG": "2016-09-21",
                                    "Vendegek": "3",
                                    "Elozok": "8"
                                },
                                {
                                    "UGYFEL_FK": "edit",
                                    "METTOL": "2017-01-15",
                                    "MEDDIG": "2017-01-18",
                                    "Vendegek": "4",
                                    "Elozok": "7"
                                },
                                {
                                    "UGYFEL_FK": "edit",
                                    "METTOL": "2017-02-08",
                                    "MEDDIG": "2017-02-14",
                                    "Vendegek": "3",
                                    "Elozok": "9"
                                },
                                {
                                    "UGYFEL_FK": "emese",
                                    "METTOL": "2016-07-22",
                                    "MEDDIG": "2016-07-24",
                                    "Vendegek": "2",
                                    "Elozok": "NULL"
                                },
                                {
                                    "UGYFEL_FK": "emese",
                                    "METTOL": "2016-08-09",
                                    "MEDDIG": "2016-08-12",
                                    "Vendegek": "2",
                                    "Elozok": "2"
                                },
                                {
                                    "UGYFEL_FK": "emese",
                                    "METTOL": "2016-09-27",
                                    "MEDDIG": "2016-09-28",
                                    "Vendegek": "3",
                                    "Elozok": "4"
                                },
                                {
                                    "UGYFEL_FK": "emese",
                                    "METTOL": "2016-11-05",
                                    "MEDDIG": "2016-11-09",
                                    "Vendegek": "1",
                                    "Elozok": "7"
                                },
                                {
                                    "UGYFEL_FK": "emese",
                                    "METTOL": "2016-11-23",
                                    "MEDDIG": "2016-11-27",
                                    "Vendegek": "4",
                                    "Elozok": "6"
                                },
                                {
                                    "UGYFEL_FK": "emese",
                                    "METTOL": "2016-12-07",
                                    "MEDDIG": "2016-12-08",
                                    "Vendegek": "3",
                                    "Elozok": "8"
                                },
                                {
                                    "UGYFEL_FK": "emese",
                                    "METTOL": "2017-01-30",
                                    "MEDDIG": "2017-01-31",
                                    "Vendegek": "2",
                                    "Elozok": "8"
                                },
                                {
                                    "UGYFEL_FK": "eszter",
                                    "METTOL": "2016-08-12",
                                    "MEDDIG": "2016-08-18",
                                    "Vendegek": "3",
                                    "Elozok": "NULL"
                                },
                                {
                                    "UGYFEL_FK": "eszter",
                                    "METTOL": "2016-10-04",
                                    "MEDDIG": "2016-10-10",
                                    "Vendegek": "3",
                                    "Elozok": "3"
                                },
                                {
                                    "UGYFEL_FK": "eszter",
                                    "METTOL": "2016-10-26",
                                    "MEDDIG": "2016-11-01",
                                    "Vendegek": "3",
                                    "Elozok": "6"
                                },
                                {
                                    "UGYFEL_FK": "eszter",
                                    "METTOL": "2016-12-23",
                                    "MEDDIG": "2016-12-28",
                                    "Vendegek": "2",
                                    "Elozok": "9"
                                },
                                {
                                    "UGYFEL_FK": "eszter2",
                                    "METTOL": "2016-06-30",
                                    "MEDDIG": "2016-07-07",
                                    "Vendegek": "3",
                                    "Elozok": "NULL"
                                },
                                {
                                    "UGYFEL_FK": "eszter2",
                                    "METTOL": "2016-07-08",
                                    "MEDDIG": "2016-07-09",
                                    "Vendegek": "1",
                                    "Elozok": "3"
                                },
                                {
                                    "UGYFEL_FK": "eszter2",
                                    "METTOL": "2016-10-01",
                                    "MEDDIG": "2016-10-05",
                                    "Vendegek": "3",
                                    "Elozok": "4"
                                },
                                {
                                    "UGYFEL_FK": "eszter2",
                                    "METTOL": "2016-10-01",
                                    "MEDDIG": "2016-10-06",
                                    "Vendegek": "1",
                                    "Elozok": "7"
                                },
                                {
                                    "UGYFEL_FK": "eszter2",
                                    "METTOL": "2016-10-20",
                                    "MEDDIG": "2016-10-25",
                                    "Vendegek": "1",
                                    "Elozok": "5"
                                },
                                {
                                    "UGYFEL_FK": "eszter2",
                                    "METTOL": "2016-10-23",
                                    "MEDDIG": "2016-10-30",
                                    "Vendegek": "1",
                                    "Elozok": "5"
                                },
                                {
                                    "UGYFEL_FK": "eszter2",
                                    "METTOL": "2016-11-05",
                                    "MEDDIG": "2016-11-12",
                                    "Vendegek": "4",
                                    "Elozok": "3"
                                },
                                {
                                    "UGYFEL_FK": "eszter2",
                                    "METTOL": "2016-12-02",
                                    "MEDDIG": "2016-12-07",
                                    "Vendegek": "1",
                                    "Elozok": "6"
                                },
                                {
                                    "UGYFEL_FK": "eszter2",
                                    "METTOL": "2016-12-05",
                                    "MEDDIG": "2016-12-08",
                                    "Vendegek": "2",
                                    "Elozok": "6"
                                },
                                {
                                    "UGYFEL_FK": "eszter2",
                                    "METTOL": "2016-12-29",
                                    "MEDDIG": "2017-02-04",
                                    "Vendegek": "1",
                                    "Elozok": "7"
                                },
                                {
                                    "UGYFEL_FK": "eszter4",
                                    "METTOL": "2017-01-05",
                                    "MEDDIG": "2017-01-10",
                                    "Vendegek": "2",
                                    "Elozok": "NULL"
                                },
                                {
                                    "UGYFEL_FK": "eszter4",
                                    "METTOL": "2017-01-26",
                                    "MEDDIG": "2017-02-02",
                                    "Vendegek": "2",
                                    "Elozok": "2"
                                },
                                {
                                    "UGYFEL_FK": "eszter4",
                                    "METTOL": "2017-02-26",
                                    "MEDDIG": "2017-02-27",
                                    "Vendegek": "3",
                                    "Elozok": "4"
                                },
                                {
                                    "UGYFEL_FK": "ESZTERE",
                                    "METTOL": "2016-07-19",
                                    "MEDDIG": "2016-07-21",
                                    "Vendegek": "2",
                                    "Elozok": "NULL"
                                },
                                {
                                    "UGYFEL_FK": "ESZTERE",
                                    "METTOL": "2016-05-30",
                                    "MEDDIG": "2016-06-05",
                                    "Vendegek": "2",
                                    "Elozok": "2"
                                },
                                {
                                    "UGYFEL_FK": "ESZTERE",
                                    "METTOL": "2016-11-01",
                                    "MEDDIG": "2016-11-08",
                                    "Vendegek": "2",
                                    "Elozok": "4"
                                },
                                {
                                    "UGYFEL_FK": "ESZTERE",
                                    "METTOL": "2017-02-10",
                                    "MEDDIG": "2017-02-14",
                                    "Vendegek": "2",
                                    "Elozok": "6"
                                },
                                {
                                    "UGYFEL_FK": "eva",
                                    "METTOL": "2016-10-06",
                                    "MEDDIG": "2016-10-09",
                                    "Vendegek": "3",
                                    "Elozok": "NULL"
                                },
                                {
                                    "UGYFEL_FK": "eva",
                                    "METTOL": "2017-01-14",
                                    "MEDDIG": "2017-01-16",
                                    "Vendegek": "2",
                                    "Elozok": "3"
                                },
                                {
                                    "UGYFEL_FK": "eva2",
                                    "METTOL": "2016-09-02",
                                    "MEDDIG": "2016-09-03",
                                    "Vendegek": "1",
                                    "Elozok": "NULL"
                                },
                                {
                                    "UGYFEL_FK": "eva2",
                                    "METTOL": "2016-11-06",
                                    "MEDDIG": "2016-11-13",
                                    "Vendegek": "2",
                                    "Elozok": "1"
                                },
                                {
                                    "UGYFEL_FK": "eva2",
                                    "METTOL": "2016-12-06",
                                    "MEDDIG": "2016-12-11",
                                    "Vendegek": "2",
                                    "Elozok": "3"
                                },
                                {
                                    "UGYFEL_FK": "eva2",
                                    "METTOL": "2017-01-06",
                                    "MEDDIG": "2017-01-09",
                                    "Vendegek": "4",
                                    "Elozok": "5"
                                },
                                {
                                    "UGYFEL_FK": "EVAV",
                                    "METTOL": "2016-05-01",
                                    "MEDDIG": "2016-05-05",
                                    "Vendegek": "3",
                                    "Elozok": "NULL"
                                },
                                {
                                    "UGYFEL_FK": "EVAV",
                                    "METTOL": "2016-08-31",
                                    "MEDDIG": "2016-09-04",
                                    "Vendegek": "2",
                                    "Elozok": "3"
                                },
                                {
                                    "UGYFEL_FK": "EVAV",
                                    "METTOL": "2016-10-15",
                                    "MEDDIG": "2016-10-21",
                                    "Vendegek": "3",
                                    "Elozok": "5"
                                },
                                {
                                    "UGYFEL_FK": "EVAV",
                                    "METTOL": "2016-10-16",
                                    "MEDDIG": "2016-10-23",
                                    "Vendegek": "2",
                                    "Elozok": "8"
                                },
                                {
                                    "UGYFEL_FK": "EVAV",
                                    "METTOL": "2017-02-04",
                                    "MEDDIG": "2017-02-11",
                                    "Vendegek": "5",
                                    "Elozok": "7"
                                },
                                {
                                    "UGYFEL_FK": "ferenc1",
                                    "METTOL": "2016-05-08",
                                    "MEDDIG": "2016-05-11",
                                    "Vendegek": "2",
                                    "Elozok": "NULL"
                                },
                                {
                                    "UGYFEL_FK": "ferenc1",
                                    "METTOL": "2016-06-16",
                                    "MEDDIG": "2016-06-22",
                                    "Vendegek": "2",
                                    "Elozok": "2"
                                },
                                {
                                    "UGYFEL_FK": "ferenc1",
                                    "METTOL": "2016-10-08",
                                    "MEDDIG": "2016-10-09",
                                    "Vendegek": "2",
                                    "Elozok": "4"
                                },
                                {
                                    "UGYFEL_FK": "ferenc1",
                                    "METTOL": "2016-11-07",
                                    "MEDDIG": "2016-11-08",
                                    "Vendegek": "3",
                                    "Elozok": "6"
                                },
                                {
                                    "UGYFEL_FK": "fruzsina4",
                                    "METTOL": "2016-07-13",
                                    "MEDDIG": "2016-07-19",
                                    "Vendegek": "3",
                                    "Elozok": "NULL"
                                },
                                {
                                    "UGYFEL_FK": "fruzsina4",
                                    "METTOL": "2016-08-27",
                                    "MEDDIG": "2016-08-30",
                                    "Vendegek": "4",
                                    "Elozok": "3"
                                },
                                {
                                    "UGYFEL_FK": "fruzsina4",
                                    "METTOL": "2016-06-02",
                                    "MEDDIG": "2016-06-04",
                                    "Vendegek": "2",
                                    "Elozok": "7"
                                },
                                {
                                    "UGYFEL_FK": "fruzsina4",
                                    "METTOL": "2016-07-01",
                                    "MEDDIG": "2016-07-04",
                                    "Vendegek": "3",
                                    "Elozok": "9"
                                },
                                {
                                    "UGYFEL_FK": "fruzsina4",
                                    "METTOL": "2016-09-29",
                                    "MEDDIG": "2016-10-01",
                                    "Vendegek": "3",
                                    "Elozok": "9"
                                },
                                {
                                    "UGYFEL_FK": "fruzsina4",
                                    "METTOL": "2016-11-22",
                                    "MEDDIG": "2016-11-24",
                                    "Vendegek": "2",
                                    "Elozok": "8"
                                },
                                {
                                    "UGYFEL_FK": "fruzsina4",
                                    "METTOL": "2016-12-16",
                                    "MEDDIG": "2016-12-21",
                                    "Vendegek": "1",
                                    "Elozok": "8"
                                },
                                {
                                    "UGYFEL_FK": "fruzsina4",
                                    "METTOL": "2017-01-22",
                                    "MEDDIG": "2017-01-25",
                                    "Vendegek": "4",
                                    "Elozok": "6"
                                },
                                {
                                    "UGYFEL_FK": "gabor1",
                                    "METTOL": "2016-07-28",
                                    "MEDDIG": "2016-07-30",
                                    "Vendegek": "2",
                                    "Elozok": "NULL"
                                },
                                {
                                    "UGYFEL_FK": "gabor1",
                                    "METTOL": "2016-09-02",
                                    "MEDDIG": "2016-09-03",
                                    "Vendegek": "3",
                                    "Elozok": "2"
                                },
                                {
                                    "UGYFEL_FK": "gabor1",
                                    "METTOL": "2016-06-20",
                                    "MEDDIG": "2016-06-21",
                                    "Vendegek": "4",
                                    "Elozok": "5"
                                },
                                {
                                    "UGYFEL_FK": "gabor1",
                                    "METTOL": "2016-07-12",
                                    "MEDDIG": "2016-07-15",
                                    "Vendegek": "1",
                                    "Elozok": "9"
                                },
                                {
                                    "UGYFEL_FK": "gabor1",
                                    "METTOL": "2016-10-20",
                                    "MEDDIG": "2016-10-24",
                                    "Vendegek": "1",
                                    "Elozok": "8"
                                },
                                {
                                    "UGYFEL_FK": "gabor1",
                                    "METTOL": "2016-11-19",
                                    "MEDDIG": "2016-11-22",
                                    "Vendegek": "2",
                                    "Elozok": "6"
                                },
                                {
                                    "UGYFEL_FK": "gabor4",
                                    "METTOL": "2016-04-26",
                                    "MEDDIG": "2016-04-29",
                                    "Vendegek": "3",
                                    "Elozok": "NULL"
                                },
                                {
                                    "UGYFEL_FK": "gabor4",
                                    "METTOL": "2016-08-31",
                                    "MEDDIG": "2016-09-06",
                                    "Vendegek": "4",
                                    "Elozok": "3"
                                },
                                {
                                    "UGYFEL_FK": "gabor4",
                                    "METTOL": "2016-05-30",
                                    "MEDDIG": "2016-06-05",
                                    "Vendegek": "1",
                                    "Elozok": "7"
                                },
                                {
                                    "UGYFEL_FK": "gabor4",
                                    "METTOL": "2016-11-07",
                                    "MEDDIG": "2016-11-13",
                                    "Vendegek": "4",
                                    "Elozok": "8"
                                },
                                {
                                    "UGYFEL_FK": "gabriella1",
                                    "METTOL": "2016-04-21",
                                    "MEDDIG": "2016-04-24",
                                    "Vendegek": "3",
                                    "Elozok": "NULL"
                                },
                                {
                                    "UGYFEL_FK": "gabriella1",
                                    "METTOL": "2016-07-24",
                                    "MEDDIG": "2016-07-31",
                                    "Vendegek": "2",
                                    "Elozok": "3"
                                },
                                {
                                    "UGYFEL_FK": "gabriella1",
                                    "METTOL": "2016-07-10",
                                    "MEDDIG": "2016-07-11",
                                    "Vendegek": "3",
                                    "Elozok": "5"
                                },
                                {
                                    "UGYFEL_FK": "gabriella1",
                                    "METTOL": "2017-02-04",
                                    "MEDDIG": "2017-02-11",
                                    "Vendegek": "3",
                                    "Elozok": "8"
                                },
                                {
                                    "UGYFEL_FK": "gabriella1",
                                    "METTOL": "2017-02-12",
                                    "MEDDIG": "2017-02-13",
                                    "Vendegek": "2",
                                    "Elozok": "8"
                                },
                                {
                                    "UGYFEL_FK": "gabriella1",
                                    "METTOL": "2017-02-21",
                                    "MEDDIG": "2017-02-27",
                                    "Vendegek": "3",
                                    "Elozok": "8"
                                },
                                {
                                    "UGYFEL_FK": "gabriella10",
                                    "METTOL": "2016-10-01",
                                    "MEDDIG": "2016-10-06",
                                    "Vendegek": "3",
                                    "Elozok": "NULL"
                                },
                                {
                                    "UGYFEL_FK": "georgij",
                                    "METTOL": "2016-08-16",
                                    "MEDDIG": "2016-08-22",
                                    "Vendegek": "4",
                                    "Elozok": "NULL"
                                },
                                {
                                    "UGYFEL_FK": "georgij",
                                    "METTOL": "2016-08-28",
                                    "MEDDIG": "2016-09-04",
                                    "Vendegek": "2",
                                    "Elozok": "4"
                                },
                                {
                                    "UGYFEL_FK": "georgij",
                                    "METTOL": "2016-06-16",
                                    "MEDDIG": "2016-06-20",
                                    "Vendegek": "3",
                                    "Elozok": "6"
                                },
                                {
                                    "UGYFEL_FK": "georgij",
                                    "METTOL": "2016-09-18",
                                    "MEDDIG": "2016-09-24",
                                    "Vendegek": "3",
                                    "Elozok": "9"
                                },
                                {
                                    "UGYFEL_FK": "gusztav",
                                    "METTOL": "2016-05-06",
                                    "MEDDIG": "2016-05-13",
                                    "Vendegek": "2",
                                    "Elozok": "NULL"
                                },
                                {
                                    "UGYFEL_FK": "gusztav",
                                    "METTOL": "2016-08-05",
                                    "MEDDIG": "2016-08-11",
                                    "Vendegek": "3",
                                    "Elozok": "2"
                                },
                                {
                                    "UGYFEL_FK": "gusztav",
                                    "METTOL": "2016-10-01",
                                    "MEDDIG": "2016-10-03",
                                    "Vendegek": "3",
                                    "Elozok": "5"
                                },
                                {
                                    "UGYFEL_FK": "gusztav",
                                    "METTOL": "2017-02-03",
                                    "MEDDIG": "2017-02-09",
                                    "Vendegek": "2",
                                    "Elozok": "8"
                                },
                                {
                                    "UGYFEL_FK": "gusztav",
                                    "METTOL": "2017-02-23",
                                    "MEDDIG": "2017-03-01",
                                    "Vendegek": "4",
                                    "Elozok": "8"
                                },
                                {
                                    "UGYFEL_FK": "GYONGYIK",
                                    "METTOL": "2016-08-17",
                                    "MEDDIG": "2016-08-21",
                                    "Vendegek": "3",
                                    "Elozok": "NULL"
                                },
                                {
                                    "UGYFEL_FK": "GYONGYIK",
                                    "METTOL": "2016-06-02",
                                    "MEDDIG": "2016-06-05",
                                    "Vendegek": "3",
                                    "Elozok": "3"
                                },
                                {
                                    "UGYFEL_FK": "GYONGYIK",
                                    "METTOL": "2016-06-10",
                                    "MEDDIG": "2016-06-17",
                                    "Vendegek": "1",
                                    "Elozok": "6"
                                },
                                {
                                    "UGYFEL_FK": "GYONGYIK",
                                    "METTOL": "2016-07-01",
                                    "MEDDIG": "2016-07-05",
                                    "Vendegek": "2",
                                    "Elozok": "7"
                                },
                                {
                                    "UGYFEL_FK": "GYONGYIK",
                                    "METTOL": "2016-11-08",
                                    "MEDDIG": "2016-11-13",
                                    "Vendegek": "2",
                                    "Elozok": "6"
                                },
                                {
                                    "UGYFEL_FK": "GYONGYIK",
                                    "METTOL": "2016-12-01",
                                    "MEDDIG": "2016-12-08",
                                    "Vendegek": "2",
                                    "Elozok": "5"
                                },
                                {
                                    "UGYFEL_FK": "GYONGYIK",
                                    "METTOL": "2017-01-22",
                                    "MEDDIG": "2017-01-29",
                                    "Vendegek": "3",
                                    "Elozok": "6"
                                },
                                {
                                    "UGYFEL_FK": "GYORGYO",
                                    "METTOL": "2016-07-18",
                                    "MEDDIG": "2016-07-25",
                                    "Vendegek": "2",
                                    "Elozok": "NULL"
                                },
                                {
                                    "UGYFEL_FK": "GYORGYO",
                                    "METTOL": "2016-07-28",
                                    "MEDDIG": "2016-08-03",
                                    "Vendegek": "3",
                                    "Elozok": "2"
                                },
                                {
                                    "UGYFEL_FK": "GYORGYO",
                                    "METTOL": "2016-05-27",
                                    "MEDDIG": "2016-05-28",
                                    "Vendegek": "3",
                                    "Elozok": "5"
                                },
                                {
                                    "UGYFEL_FK": "GYORGYO",
                                    "METTOL": "2016-06-01",
                                    "MEDDIG": "2016-06-07",
                                    "Vendegek": "2",
                                    "Elozok": "8"
                                },
                                {
                                    "UGYFEL_FK": "GYORGYO",
                                    "METTOL": "2016-06-10",
                                    "MEDDIG": "2016-06-15",
                                    "Vendegek": "2",
                                    "Elozok": "8"
                                },
                                {
                                    "UGYFEL_FK": "GYORGYO",
                                    "METTOL": "2016-10-28",
                                    "MEDDIG": "2016-10-31",
                                    "Vendegek": "1",
                                    "Elozok": "7"
                                },
                                {
                                    "UGYFEL_FK": "GYORGYO",
                                    "METTOL": "2017-02-13",
                                    "MEDDIG": "2017-02-15",
                                    "Vendegek": "2",
                                    "Elozok": "5"
                                },
                                {
                                    "UGYFEL_FK": "GYORGYO",
                                    "METTOL": "2017-02-24",
                                    "MEDDIG": "2017-02-25",
                                    "Vendegek": "3",
                                    "Elozok": "5"
                                },
                                {
                                    "UGYFEL_FK": "henrik3",
                                    "METTOL": "2016-08-24",
                                    "MEDDIG": "2016-08-28",
                                    "Vendegek": "1",
                                    "Elozok": "NULL"
                                },
                                {
                                    "UGYFEL_FK": "henrik3",
                                    "METTOL": "2016-12-29",
                                    "MEDDIG": "2017-01-03",
                                    "Vendegek": "3",
                                    "Elozok": "1"
                                },
                                {
                                    "UGYFEL_FK": "henrik3",
                                    "METTOL": "2017-01-27",
                                    "MEDDIG": "2017-01-28",
                                    "Vendegek": "3",
                                    "Elozok": "4"
                                },
                                {
                                    "UGYFEL_FK": "IBOLYAA",
                                    "METTOL": "2016-08-29",
                                    "MEDDIG": "2016-08-31",
                                    "Vendegek": "5",
                                    "Elozok": "NULL"
                                },
                                {
                                    "UGYFEL_FK": "IBOLYAA",
                                    "METTOL": "2016-10-23",
                                    "MEDDIG": "2016-10-28",
                                    "Vendegek": "2",
                                    "Elozok": "5"
                                },
                                {
                                    "UGYFEL_FK": "IBOLYAA",
                                    "METTOL": "2017-01-17",
                                    "MEDDIG": "2017-01-23",
                                    "Vendegek": "3",
                                    "Elozok": "7"
                                },
                                {
                                    "UGYFEL_FK": "ilona3",
                                    "METTOL": "2016-07-31",
                                    "MEDDIG": "2016-08-06",
                                    "Vendegek": "2",
                                    "Elozok": "NULL"
                                },
                                {
                                    "UGYFEL_FK": "ilona3",
                                    "METTOL": "2016-08-04",
                                    "MEDDIG": "2016-08-08",
                                    "Vendegek": "3",
                                    "Elozok": "2"
                                },
                                {
                                    "UGYFEL_FK": "ilona3",
                                    "METTOL": "2016-11-04",
                                    "MEDDIG": "2016-11-06",
                                    "Vendegek": "4",
                                    "Elozok": "5"
                                },
                                {
                                    "UGYFEL_FK": "ilona3",
                                    "METTOL": "2016-12-25",
                                    "MEDDIG": "2016-12-31",
                                    "Vendegek": "3",
                                    "Elozok": "9"
                                },
                                {
                                    "UGYFEL_FK": "imre",
                                    "METTOL": "2016-09-17",
                                    "MEDDIG": "2016-09-19",
                                    "Vendegek": "3",
                                    "Elozok": "NULL"
                                },
                                {
                                    "UGYFEL_FK": "imre",
                                    "METTOL": "2016-10-28",
                                    "MEDDIG": "2016-10-29",
                                    "Vendegek": "4",
                                    "Elozok": "3"
                                },
                                {
                                    "UGYFEL_FK": "imre1",
                                    "METTOL": "2016-08-21",
                                    "MEDDIG": "2016-08-27",
                                    "Vendegek": "2",
                                    "Elozok": "NULL"
                                },
                                {
                                    "UGYFEL_FK": "imre1",
                                    "METTOL": "2016-08-23",
                                    "MEDDIG": "2016-08-25",
                                    "Vendegek": "3",
                                    "Elozok": "2"
                                },
                                {
                                    "UGYFEL_FK": "imre1",
                                    "METTOL": "2016-08-29",
                                    "MEDDIG": "2016-08-31",
                                    "Vendegek": "2",
                                    "Elozok": "5"
                                },
                                {
                                    "UGYFEL_FK": "imre1",
                                    "METTOL": "2016-06-23",
                                    "MEDDIG": "2016-06-26",
                                    "Vendegek": "4",
                                    "Elozok": "7"
                                },
                                {
                                    "UGYFEL_FK": "imre1",
                                    "METTOL": "2016-06-27",
                                    "MEDDIG": "2016-06-28",
                                    "Vendegek": "2",
                                    "Elozok": "9"
                                },
                                {
                                    "UGYFEL_FK": "imre1",
                                    "METTOL": "2017-02-01",
                                    "MEDDIG": "2017-02-04",
                                    "Vendegek": "2",
                                    "Elozok": "8"
                                },
                                {
                                    "UGYFEL_FK": "imre1",
                                    "METTOL": "2017-02-05",
                                    "MEDDIG": "2017-02-07",
                                    "Vendegek": "4",
                                    "Elozok": "8"
                                },
                                {
                                    "UGYFEL_FK": "istvan",
                                    "METTOL": "2016-10-07",
                                    "MEDDIG": "2016-10-10",
                                    "Vendegek": "2",
                                    "Elozok": "NULL"
                                },
                                {
                                    "UGYFEL_FK": "istvan",
                                    "METTOL": "2016-11-22",
                                    "MEDDIG": "2016-11-24",
                                    "Vendegek": "3",
                                    "Elozok": "2"
                                },
                                {
                                    "UGYFEL_FK": "istvan",
                                    "METTOL": "2017-01-02",
                                    "MEDDIG": "2017-01-05",
                                    "Vendegek": "2",
                                    "Elozok": "5"
                                },
                                {
                                    "UGYFEL_FK": "istvan1",
                                    "METTOL": "2016-04-16",
                                    "MEDDIG": "2016-04-22",
                                    "Vendegek": "3",
                                    "Elozok": "NULL"
                                },
                                {
                                    "UGYFEL_FK": "istvan1",
                                    "METTOL": "2016-04-24",
                                    "MEDDIG": "2016-04-28",
                                    "Vendegek": "3",
                                    "Elozok": "3"
                                },
                                {
                                    "UGYFEL_FK": "istvan1",
                                    "METTOL": "2016-07-19",
                                    "MEDDIG": "2016-07-24",
                                    "Vendegek": "1",
                                    "Elozok": "6"
                                },
                                {
                                    "UGYFEL_FK": "istvan1",
                                    "METTOL": "2017-02-07",
                                    "MEDDIG": "2017-02-10",
                                    "Vendegek": "3",
                                    "Elozok": "7"
                                },
                                {
                                    "UGYFEL_FK": "ISTVANV",
                                    "METTOL": "2016-07-01",
                                    "MEDDIG": "2016-07-04",
                                    "Vendegek": "4",
                                    "Elozok": "NULL"
                                },
                                {
                                    "UGYFEL_FK": "ISTVANV",
                                    "METTOL": "2016-09-29",
                                    "MEDDIG": "2016-10-01",
                                    "Vendegek": "3",
                                    "Elozok": "4"
                                },
                                {
                                    "UGYFEL_FK": "janos3",
                                    "METTOL": "2016-08-24",
                                    "MEDDIG": "2016-08-25",
                                    "Vendegek": "3",
                                    "Elozok": "NULL"
                                },
                                {
                                    "UGYFEL_FK": "janos3",
                                    "METTOL": "2016-06-04",
                                    "MEDDIG": "2016-06-06",
                                    "Vendegek": "1",
                                    "Elozok": "3"
                                },
                                {
                                    "UGYFEL_FK": "janos3",
                                    "METTOL": "2016-10-03",
                                    "MEDDIG": "2016-10-08",
                                    "Vendegek": "3",
                                    "Elozok": "4"
                                },
                                {
                                    "UGYFEL_FK": "janos3",
                                    "METTOL": "2016-10-22",
                                    "MEDDIG": "2016-10-23",
                                    "Vendegek": "1",
                                    "Elozok": "7"
                                },
                                {
                                    "UGYFEL_FK": "janos3",
                                    "METTOL": "2017-02-12",
                                    "MEDDIG": "2017-02-14",
                                    "Vendegek": "3",
                                    "Elozok": "5"
                                },
                                {
                                    "UGYFEL_FK": "JANOSG",
                                    "METTOL": "2016-05-09",
                                    "MEDDIG": "2016-05-15",
                                    "Vendegek": "1",
                                    "Elozok": "NULL"
                                },
                                {
                                    "UGYFEL_FK": "JANOSG",
                                    "METTOL": "2016-08-16",
                                    "MEDDIG": "2016-08-23",
                                    "Vendegek": "3",
                                    "Elozok": "1"
                                },
                                {
                                    "UGYFEL_FK": "JANOSG",
                                    "METTOL": "2016-08-30",
                                    "MEDDIG": "2016-09-03",
                                    "Vendegek": "3",
                                    "Elozok": "4"
                                },
                                {
                                    "UGYFEL_FK": "JANOSG",
                                    "METTOL": "2016-11-07",
                                    "MEDDIG": "2016-11-14",
                                    "Vendegek": "3",
                                    "Elozok": "7"
                                },
                                {
                                    "UGYFEL_FK": "JANOSG",
                                    "METTOL": "2016-12-28",
                                    "MEDDIG": "2016-12-30",
                                    "Vendegek": "2",
                                    "Elozok": "9"
                                },
                                {
                                    "UGYFEL_FK": "JANOSG",
                                    "METTOL": "2017-01-10",
                                    "MEDDIG": "2017-01-15",
                                    "Vendegek": "2",
                                    "Elozok": "8"
                                },
                                {
                                    "UGYFEL_FK": "JANOSG",
                                    "METTOL": "2017-01-31",
                                    "MEDDIG": "2017-02-05",
                                    "Vendegek": "2",
                                    "Elozok": "7"
                                },
                                {
                                    "UGYFEL_FK": "JANOSP",
                                    "METTOL": "2016-07-04",
                                    "MEDDIG": "2016-07-11",
                                    "Vendegek": "3",
                                    "Elozok": "NULL"
                                },
                                {
                                    "UGYFEL_FK": "JANOSP",
                                    "METTOL": "2016-11-23",
                                    "MEDDIG": "2016-11-28",
                                    "Vendegek": "2",
                                    "Elozok": "3"
                                },
                                {
                                    "UGYFEL_FK": "JANOSP",
                                    "METTOL": "2016-11-25",
                                    "MEDDIG": "2016-11-27",
                                    "Vendegek": "2",
                                    "Elozok": "5"
                                },
                                {
                                    "UGYFEL_FK": "JANOSP",
                                    "METTOL": "2016-12-18",
                                    "MEDDIG": "2016-12-21",
                                    "Vendegek": "2",
                                    "Elozok": "7"
                                },
                                {
                                    "UGYFEL_FK": "jozsef",
                                    "METTOL": "2016-09-13",
                                    "MEDDIG": "2016-09-19",
                                    "Vendegek": "2",
                                    "Elozok": "NULL"
                                },
                                {
                                    "UGYFEL_FK": "jozsef",
                                    "METTOL": "2016-10-08",
                                    "MEDDIG": "2016-10-10",
                                    "Vendegek": "2",
                                    "Elozok": "2"
                                },
                                {
                                    "UGYFEL_FK": "jozsef",
                                    "METTOL": "2016-12-06",
                                    "MEDDIG": "2016-12-07",
                                    "Vendegek": "2",
                                    "Elozok": "4"
                                },
                                {
                                    "UGYFEL_FK": "jozsef2",
                                    "METTOL": "2016-07-16",
                                    "MEDDIG": "2016-07-20",
                                    "Vendegek": "3",
                                    "Elozok": "NULL"
                                },
                                {
                                    "UGYFEL_FK": "jozsef2",
                                    "METTOL": "2016-07-06",
                                    "MEDDIG": "2016-07-11",
                                    "Vendegek": "2",
                                    "Elozok": "3"
                                },
                                {
                                    "UGYFEL_FK": "jozsef2",
                                    "METTOL": "2016-09-09",
                                    "MEDDIG": "2016-09-15",
                                    "Vendegek": "2",
                                    "Elozok": "5"
                                },
                                {
                                    "UGYFEL_FK": "jozsef2",
                                    "METTOL": "2016-11-23",
                                    "MEDDIG": "2016-11-29",
                                    "Vendegek": "3",
                                    "Elozok": "7"
                                },
                                {
                                    "UGYFEL_FK": "jozsef2",
                                    "METTOL": "2016-11-25",
                                    "MEDDIG": "2016-11-29",
                                    "Vendegek": "3",
                                    "Elozok": "7"
                                },
                                {
                                    "UGYFEL_FK": "JOZSEFG",
                                    "METTOL": "2016-05-02",
                                    "MEDDIG": "2016-05-06",
                                    "Vendegek": "2",
                                    "Elozok": "NULL"
                                },
                                {
                                    "UGYFEL_FK": "JOZSEFG",
                                    "METTOL": "2016-08-24",
                                    "MEDDIG": "2016-08-27",
                                    "Vendegek": "3",
                                    "Elozok": "2"
                                },
                                {
                                    "UGYFEL_FK": "JOZSEFG",
                                    "METTOL": "2016-05-23",
                                    "MEDDIG": "2016-05-25",
                                    "Vendegek": "1",
                                    "Elozok": "5"
                                },
                                {
                                    "UGYFEL_FK": "JOZSEFG",
                                    "METTOL": "2016-06-04",
                                    "MEDDIG": "2016-06-09",
                                    "Vendegek": "4",
                                    "Elozok": "6"
                                },
                                {
                                    "UGYFEL_FK": "JOZSEFG",
                                    "METTOL": "2017-01-09",
                                    "MEDDIG": "2017-01-13",
                                    "Vendegek": "2",
                                    "Elozok": "8"
                                },
                                {
                                    "UGYFEL_FK": "JOZSEFG",
                                    "METTOL": "2017-01-22",
                                    "MEDDIG": "2017-01-26",
                                    "Vendegek": "1",
                                    "Elozok": "7"
                                },
                                {
                                    "UGYFEL_FK": "JOZSEFG",
                                    "METTOL": "2017-02-24",
                                    "MEDDIG": "2017-03-03",
                                    "Vendegek": "3",
                                    "Elozok": "7"
                                },
                                {
                                    "UGYFEL_FK": "JUDITH",
                                    "METTOL": "2016-07-28",
                                    "MEDDIG": "2016-07-30",
                                    "Vendegek": "2",
                                    "Elozok": "NULL"
                                },
                                {
                                    "UGYFEL_FK": "JUDITH",
                                    "METTOL": "2016-06-06",
                                    "MEDDIG": "2016-06-10",
                                    "Vendegek": "2",
                                    "Elozok": "2"
                                },
                                {
                                    "UGYFEL_FK": "JUDITH",
                                    "METTOL": "2016-12-19",
                                    "MEDDIG": "2016-12-26",
                                    "Vendegek": "1",
                                    "Elozok": "4"
                                },
                                {
                                    "UGYFEL_FK": "julia",
                                    "METTOL": "2016-04-21",
                                    "MEDDIG": "2016-04-26",
                                    "Vendegek": "2",
                                    "Elozok": "NULL"
                                },
                                {
                                    "UGYFEL_FK": "julia",
                                    "METTOL": "2016-05-12",
                                    "MEDDIG": "2016-05-17",
                                    "Vendegek": "1",
                                    "Elozok": "2"
                                },
                                {
                                    "UGYFEL_FK": "julia",
                                    "METTOL": "2016-07-20",
                                    "MEDDIG": "2016-07-22",
                                    "Vendegek": "2",
                                    "Elozok": "3"
                                },
                                {
                                    "UGYFEL_FK": "julia",
                                    "METTOL": "2016-06-07",
                                    "MEDDIG": "2016-06-08",
                                    "Vendegek": "5",
                                    "Elozok": "5"
                                },
                                {
                                    "UGYFEL_FK": "julia",
                                    "METTOL": "2017-02-27",
                                    "MEDDIG": "2017-03-06",
                                    "Vendegek": "3",
                                    "Elozok": "8"
                                },
                                {
                                    "UGYFEL_FK": "julia4",
                                    "METTOL": "2016-11-07",
                                    "MEDDIG": "2016-11-12",
                                    "Vendegek": "1",
                                    "Elozok": "NULL"
                                },
                                {
                                    "UGYFEL_FK": "julia4",
                                    "METTOL": "2017-02-04",
                                    "MEDDIG": "2017-02-11",
                                    "Vendegek": "4",
                                    "Elozok": "1"
                                },
                                {
                                    "UGYFEL_FK": "julianna4",
                                    "METTOL": "2016-07-20",
                                    "MEDDIG": "2016-07-26",
                                    "Vendegek": "2",
                                    "Elozok": "NULL"
                                },
                                {
                                    "UGYFEL_FK": "julianna4",
                                    "METTOL": "2016-10-29",
                                    "MEDDIG": "2016-10-31",
                                    "Vendegek": "3",
                                    "Elozok": "2"
                                },
                                {
                                    "UGYFEL_FK": "julianna4",
                                    "METTOL": "2016-11-03",
                                    "MEDDIG": "2016-11-04",
                                    "Vendegek": "2",
                                    "Elozok": "5"
                                },
                                {
                                    "UGYFEL_FK": "julianna4",
                                    "METTOL": "2016-11-27",
                                    "MEDDIG": "2016-12-04",
                                    "Vendegek": "3",
                                    "Elozok": "7"
                                },
                                {
                                    "UGYFEL_FK": "kata",
                                    "METTOL": "2016-04-10",
                                    "MEDDIG": "2016-04-11",
                                    "Vendegek": "2",
                                    "Elozok": "NULL"
                                },
                                {
                                    "UGYFEL_FK": "kata",
                                    "METTOL": "2016-04-25",
                                    "MEDDIG": "2016-05-01",
                                    "Vendegek": "1",
                                    "Elozok": "2"
                                },
                                {
                                    "UGYFEL_FK": "kata",
                                    "METTOL": "2016-08-24",
                                    "MEDDIG": "2016-08-27",
                                    "Vendegek": "3",
                                    "Elozok": "3"
                                },
                                {
                                    "UGYFEL_FK": "kata",
                                    "METTOL": "2016-05-31",
                                    "MEDDIG": "2016-06-01",
                                    "Vendegek": "3",
                                    "Elozok": "6"
                                },
                                {
                                    "UGYFEL_FK": "kata",
                                    "METTOL": "2016-06-07",
                                    "MEDDIG": "2016-06-12",
                                    "Vendegek": "2",
                                    "Elozok": "7"
                                },
                                {
                                    "UGYFEL_FK": "kata",
                                    "METTOL": "2016-07-01",
                                    "MEDDIG": "2016-07-07",
                                    "Vendegek": "2",
                                    "Elozok": "8"
                                },
                                {
                                    "UGYFEL_FK": "kata",
                                    "METTOL": "2016-07-03",
                                    "MEDDIG": "2016-07-06",
                                    "Vendegek": "1",
                                    "Elozok": "7"
                                },
                                {
                                    "UGYFEL_FK": "kata",
                                    "METTOL": "2016-07-07",
                                    "MEDDIG": "2016-07-09",
                                    "Vendegek": "3",
                                    "Elozok": "5"
                                },
                                {
                                    "UGYFEL_FK": "kata",
                                    "METTOL": "2016-09-19",
                                    "MEDDIG": "2016-09-20",
                                    "Vendegek": "3",
                                    "Elozok": "6"
                                },
                                {
                                    "UGYFEL_FK": "kata",
                                    "METTOL": "2017-01-15",
                                    "MEDDIG": "2017-01-21",
                                    "Vendegek": "3",
                                    "Elozok": "7"
                                },
                                {
                                    "UGYFEL_FK": "katalin",
                                    "METTOL": "2016-04-10",
                                    "MEDDIG": "2016-04-17",
                                    "Vendegek": "2",
                                    "Elozok": "NULL"
                                },
                                {
                                    "UGYFEL_FK": "katalin",
                                    "METTOL": "2016-05-21",
                                    "MEDDIG": "2016-05-26",
                                    "Vendegek": "1",
                                    "Elozok": "2"
                                },
                                {
                                    "UGYFEL_FK": "katalin",
                                    "METTOL": "2016-07-28",
                                    "MEDDIG": "2016-07-29",
                                    "Vendegek": "1",
                                    "Elozok": "3"
                                },
                                {
                                    "UGYFEL_FK": "katalin",
                                    "METTOL": "2016-07-06",
                                    "MEDDIG": "2016-07-11",
                                    "Vendegek": "1",
                                    "Elozok": "4"
                                },
                                {
                                    "UGYFEL_FK": "katalin",
                                    "METTOL": "2016-10-26",
                                    "MEDDIG": "2016-10-30",
                                    "Vendegek": "2",
                                    "Elozok": "3"
                                },
                                {
                                    "UGYFEL_FK": "katalin",
                                    "METTOL": "2016-12-13",
                                    "MEDDIG": "2016-12-19",
                                    "Vendegek": "2",
                                    "Elozok": "4"
                                },
                                {
                                    "UGYFEL_FK": "katalin",
                                    "METTOL": "2016-12-17",
                                    "MEDDIG": "2016-12-24",
                                    "Vendegek": "1",
                                    "Elozok": "5"
                                },
                                {
                                    "UGYFEL_FK": "katalin",
                                    "METTOL": "2016-12-24",
                                    "MEDDIG": "2016-12-27",
                                    "Vendegek": "2",
                                    "Elozok": "5"
                                },
                                {
                                    "UGYFEL_FK": "katalin",
                                    "METTOL": "2017-02-24",
                                    "MEDDIG": "2017-02-27",
                                    "Vendegek": "3",
                                    "Elozok": "5"
                                },
                                {
                                    "UGYFEL_FK": "katalin4",
                                    "METTOL": "2016-07-01",
                                    "MEDDIG": "2016-07-07",
                                    "Vendegek": "1",
                                    "Elozok": "NULL"
                                },
                                {
                                    "UGYFEL_FK": "katalin4",
                                    "METTOL": "2016-07-03",
                                    "MEDDIG": "2016-07-04",
                                    "Vendegek": "4",
                                    "Elozok": "1"
                                },
                                {
                                    "UGYFEL_FK": "katalin4",
                                    "METTOL": "2016-11-27",
                                    "MEDDIG": "2016-12-04",
                                    "Vendegek": "3",
                                    "Elozok": "5"
                                },
                                {
                                    "UGYFEL_FK": "katalin4",
                                    "METTOL": "2016-12-04",
                                    "MEDDIG": "2016-12-09",
                                    "Vendegek": "3",
                                    "Elozok": "8"
                                },
                                {
                                    "UGYFEL_FK": "katalin4",
                                    "METTOL": "2017-01-18",
                                    "MEDDIG": "2017-01-20",
                                    "Vendegek": "2",
                                    "Elozok": "10"
                                },
                                {
                                    "UGYFEL_FK": "katalin4",
                                    "METTOL": "2017-01-24",
                                    "MEDDIG": "2017-01-31",
                                    "Vendegek": "2",
                                    "Elozok": "8"
                                },
                                {
                                    "UGYFEL_FK": "kati",
                                    "METTOL": "2016-07-13",
                                    "MEDDIG": "2016-07-20",
                                    "Vendegek": "2",
                                    "Elozok": "NULL"
                                },
                                {
                                    "UGYFEL_FK": "kati",
                                    "METTOL": "2016-07-27",
                                    "MEDDIG": "2016-08-03",
                                    "Vendegek": "2",
                                    "Elozok": "2"
                                },
                                {
                                    "UGYFEL_FK": "kati",
                                    "METTOL": "2016-08-03",
                                    "MEDDIG": "2016-08-07",
                                    "Vendegek": "2",
                                    "Elozok": "4"
                                },
                                {
                                    "UGYFEL_FK": "kati",
                                    "METTOL": "2016-06-06",
                                    "MEDDIG": "2016-06-10",
                                    "Vendegek": "2",
                                    "Elozok": "6"
                                },
                                {
                                    "UGYFEL_FK": "kati",
                                    "METTOL": "2016-06-06",
                                    "MEDDIG": "2016-06-11",
                                    "Vendegek": "3",
                                    "Elozok": "6"
                                },
                                {
                                    "UGYFEL_FK": "kati",
                                    "METTOL": "2016-10-26",
                                    "MEDDIG": "2016-10-28",
                                    "Vendegek": "2",
                                    "Elozok": "7"
                                },
                                {
                                    "UGYFEL_FK": "kati",
                                    "METTOL": "2016-10-30",
                                    "MEDDIG": "2016-11-01",
                                    "Vendegek": "3",
                                    "Elozok": "7"
                                },
                                {
                                    "UGYFEL_FK": "katka",
                                    "METTOL": "2016-04-10",
                                    "MEDDIG": "2016-04-12",
                                    "Vendegek": "2",
                                    "Elozok": "NULL"
                                },
                                {
                                    "UGYFEL_FK": "katka",
                                    "METTOL": "2016-05-09",
                                    "MEDDIG": "2016-05-15",
                                    "Vendegek": "3",
                                    "Elozok": "2"
                                },
                                {
                                    "UGYFEL_FK": "katka",
                                    "METTOL": "2016-08-24",
                                    "MEDDIG": "2016-08-26",
                                    "Vendegek": "2",
                                    "Elozok": "5"
                                },
                                {
                                    "UGYFEL_FK": "katka",
                                    "METTOL": "2016-06-13",
                                    "MEDDIG": "2016-06-18",
                                    "Vendegek": "1",
                                    "Elozok": "7"
                                },
                                {
                                    "UGYFEL_FK": "katka",
                                    "METTOL": "2016-06-13",
                                    "MEDDIG": "2016-06-19",
                                    "Vendegek": "4",
                                    "Elozok": "6"
                                },
                                {
                                    "UGYFEL_FK": "katka",
                                    "METTOL": "2016-09-05",
                                    "MEDDIG": "2016-09-10",
                                    "Vendegek": "4",
                                    "Elozok": "7"
                                },
                                {
                                    "UGYFEL_FK": "katka",
                                    "METTOL": "2016-11-05",
                                    "MEDDIG": "2016-11-08",
                                    "Vendegek": "3",
                                    "Elozok": "9"
                                },
                                {
                                    "UGYFEL_FK": "katka",
                                    "METTOL": "2017-01-02",
                                    "MEDDIG": "2017-01-05",
                                    "Vendegek": "3",
                                    "Elozok": "11"
                                },
                                {
                                    "UGYFEL_FK": "katka",
                                    "METTOL": "2017-01-19",
                                    "MEDDIG": "2017-01-20",
                                    "Vendegek": "3",
                                    "Elozok": "10"
                                },
                                {
                                    "UGYFEL_FK": "klaudia2",
                                    "METTOL": "2016-06-06",
                                    "MEDDIG": "2016-06-08",
                                    "Vendegek": "4",
                                    "Elozok": "NULL"
                                },
                                {
                                    "UGYFEL_FK": "klaudia2",
                                    "METTOL": "2016-10-01",
                                    "MEDDIG": "2016-10-02",
                                    "Vendegek": "2",
                                    "Elozok": "4"
                                },
                                {
                                    "UGYFEL_FK": "klaudia2",
                                    "METTOL": "2016-10-02",
                                    "MEDDIG": "2016-10-05",
                                    "Vendegek": "2",
                                    "Elozok": "6"
                                },
                                {
                                    "UGYFEL_FK": "kornel4",
                                    "METTOL": "2016-05-08",
                                    "MEDDIG": "2016-05-14",
                                    "Vendegek": "3",
                                    "Elozok": "NULL"
                                },
                                {
                                    "UGYFEL_FK": "kornel4",
                                    "METTOL": "2016-06-02",
                                    "MEDDIG": "2016-06-09",
                                    "Vendegek": "3",
                                    "Elozok": "3"
                                },
                                {
                                    "UGYFEL_FK": "kornel4",
                                    "METTOL": "2016-09-23",
                                    "MEDDIG": "2016-09-24",
                                    "Vendegek": "3",
                                    "Elozok": "6"
                                },
                                {
                                    "UGYFEL_FK": "kristof4",
                                    "METTOL": "2016-04-08",
                                    "MEDDIG": "2016-04-14",
                                    "Vendegek": "2",
                                    "Elozok": "NULL"
                                },
                                {
                                    "UGYFEL_FK": "kristof4",
                                    "METTOL": "2016-09-30",
                                    "MEDDIG": "2016-10-04",
                                    "Vendegek": "2",
                                    "Elozok": "2"
                                },
                                {
                                    "UGYFEL_FK": "kriszti",
                                    "METTOL": "2016-05-19",
                                    "MEDDIG": "2016-05-26",
                                    "Vendegek": "2",
                                    "Elozok": "NULL"
                                },
                                {
                                    "UGYFEL_FK": "kriszti",
                                    "METTOL": "2016-08-24",
                                    "MEDDIG": "2016-08-25",
                                    "Vendegek": "3",
                                    "Elozok": "2"
                                },
                                {
                                    "UGYFEL_FK": "kriszti",
                                    "METTOL": "2016-09-30",
                                    "MEDDIG": "2016-10-05",
                                    "Vendegek": "3",
                                    "Elozok": "5"
                                },
                                {
                                    "UGYFEL_FK": "kriszti",
                                    "METTOL": "2016-10-01",
                                    "MEDDIG": "2016-10-02",
                                    "Vendegek": "3",
                                    "Elozok": "8"
                                },
                                {
                                    "UGYFEL_FK": "kriszti",
                                    "METTOL": "2017-02-04",
                                    "MEDDIG": "2017-02-11",
                                    "Vendegek": "3",
                                    "Elozok": "9"
                                },
                                {
                                    "UGYFEL_FK": "kriszti",
                                    "METTOL": "2017-03-03",
                                    "MEDDIG": "2017-03-04",
                                    "Vendegek": "3",
                                    "Elozok": "9"
                                },
                                {
                                    "UGYFEL_FK": "krisztian4",
                                    "METTOL": "2016-07-28",
                                    "MEDDIG": "2016-08-01",
                                    "Vendegek": "2",
                                    "Elozok": "NULL"
                                },
                                {
                                    "UGYFEL_FK": "krisztian4",
                                    "METTOL": "2016-08-01",
                                    "MEDDIG": "2016-08-04",
                                    "Vendegek": "3",
                                    "Elozok": "2"
                                },
                                {
                                    "UGYFEL_FK": "krisztian4",
                                    "METTOL": "2016-08-16",
                                    "MEDDIG": "2016-08-19",
                                    "Vendegek": "1",
                                    "Elozok": "5"
                                },
                                {
                                    "UGYFEL_FK": "krisztian4",
                                    "METTOL": "2016-08-29",
                                    "MEDDIG": "2016-09-03",
                                    "Vendegek": "1",
                                    "Elozok": "6"
                                },
                                {
                                    "UGYFEL_FK": "krisztian4",
                                    "METTOL": "2016-06-03",
                                    "MEDDIG": "2016-06-04",
                                    "Vendegek": "2",
                                    "Elozok": "5"
                                },
                                {
                                    "UGYFEL_FK": "krisztian4",
                                    "METTOL": "2016-06-07",
                                    "MEDDIG": "2016-06-09",
                                    "Vendegek": "2",
                                    "Elozok": "4"
                                },
                                {
                                    "UGYFEL_FK": "krisztian4",
                                    "METTOL": "2016-10-17",
                                    "MEDDIG": "2016-10-22",
                                    "Vendegek": "3",
                                    "Elozok": "5"
                                },
                                {
                                    "UGYFEL_FK": "krisztian4",
                                    "METTOL": "2016-11-02",
                                    "MEDDIG": "2016-11-03",
                                    "Vendegek": "2",
                                    "Elozok": "7"
                                },
                                {
                                    "UGYFEL_FK": "krisztian4",
                                    "METTOL": "2016-12-11",
                                    "MEDDIG": "2016-12-18",
                                    "Vendegek": "2",
                                    "Elozok": "7"
                                },
                                {
                                    "UGYFEL_FK": "krisztian4",
                                    "METTOL": "2017-01-06",
                                    "MEDDIG": "2017-01-09",
                                    "Vendegek": "1",
                                    "Elozok": "7"
                                },
                                {
                                    "UGYFEL_FK": "krisztian4",
                                    "METTOL": "2017-01-16",
                                    "MEDDIG": "2017-01-23",
                                    "Vendegek": "3",
                                    "Elozok": "5"
                                },
                                {
                                    "UGYFEL_FK": "krisztian4",
                                    "METTOL": "2017-02-23",
                                    "MEDDIG": "2017-03-02",
                                    "Vendegek": "2",
                                    "Elozok": "6"
                                },
                                {
                                    "UGYFEL_FK": "KRISZTIANM",
                                    "METTOL": "2016-04-09",
                                    "MEDDIG": "2016-04-15",
                                    "Vendegek": "2",
                                    "Elozok": "NULL"
                                },
                                {
                                    "UGYFEL_FK": "KRISZTIANM",
                                    "METTOL": "2016-08-02",
                                    "MEDDIG": "2016-08-08",
                                    "Vendegek": "4",
                                    "Elozok": "2"
                                },
                                {
                                    "UGYFEL_FK": "KRISZTIANM",
                                    "METTOL": "2016-06-04",
                                    "MEDDIG": "2016-06-08",
                                    "Vendegek": "2",
                                    "Elozok": "6"
                                },
                                {
                                    "UGYFEL_FK": "KRISZTIANM",
                                    "METTOL": "2016-07-09",
                                    "MEDDIG": "2016-07-14",
                                    "Vendegek": "3",
                                    "Elozok": "8"
                                },
                                {
                                    "UGYFEL_FK": "KRISZTIANM",
                                    "METTOL": "2016-12-25",
                                    "MEDDIG": "2016-12-31",
                                    "Vendegek": "2",
                                    "Elozok": "9"
                                },
                                {
                                    "UGYFEL_FK": "KRISZTIANM",
                                    "METTOL": "2017-01-16",
                                    "MEDDIG": "2017-01-23",
                                    "Vendegek": "1",
                                    "Elozok": "7"
                                },
                                {
                                    "UGYFEL_FK": "krisztina",
                                    "METTOL": "2016-05-21",
                                    "MEDDIG": "2016-05-27",
                                    "Vendegek": "2",
                                    "Elozok": "NULL"
                                },
                                {
                                    "UGYFEL_FK": "krisztina",
                                    "METTOL": "2016-07-05",
                                    "MEDDIG": "2016-07-12",
                                    "Vendegek": "3",
                                    "Elozok": "2"
                                },
                                {
                                    "UGYFEL_FK": "krisztina",
                                    "METTOL": "2016-09-13",
                                    "MEDDIG": "2016-09-16",
                                    "Vendegek": "1",
                                    "Elozok": "5"
                                },
                                {
                                    "UGYFEL_FK": "krisztina",
                                    "METTOL": "2016-09-19",
                                    "MEDDIG": "2016-09-26",
                                    "Vendegek": "2",
                                    "Elozok": "6"
                                },
                                {
                                    "UGYFEL_FK": "krisztina",
                                    "METTOL": "2016-11-08",
                                    "MEDDIG": "2016-11-12",
                                    "Vendegek": "2",
                                    "Elozok": "6"
                                },
                                {
                                    "UGYFEL_FK": "krisztina",
                                    "METTOL": "2016-11-22",
                                    "MEDDIG": "2016-11-25",
                                    "Vendegek": "1",
                                    "Elozok": "5"
                                },
                                {
                                    "UGYFEL_FK": "krisztina",
                                    "METTOL": "2017-02-05",
                                    "MEDDIG": "2017-02-07",
                                    "Vendegek": "2",
                                    "Elozok": "5"
                                },
                                {
                                    "UGYFEL_FK": "krisztina",
                                    "METTOL": "2017-02-16",
                                    "MEDDIG": "2017-02-20",
                                    "Vendegek": "4",
                                    "Elozok": "5"
                                },
                                {
                                    "UGYFEL_FK": "krisztina1",
                                    "METTOL": "2016-04-28",
                                    "MEDDIG": "2016-04-30",
                                    "Vendegek": "2",
                                    "Elozok": "NULL"
                                },
                                {
                                    "UGYFEL_FK": "krisztina1",
                                    "METTOL": "2016-05-16",
                                    "MEDDIG": "2016-05-20",
                                    "Vendegek": "1",
                                    "Elozok": "2"
                                },
                                {
                                    "UGYFEL_FK": "krisztina1",
                                    "METTOL": "2016-06-16",
                                    "MEDDIG": "2016-06-22",
                                    "Vendegek": "2",
                                    "Elozok": "3"
                                },
                                {
                                    "UGYFEL_FK": "krisztina1",
                                    "METTOL": "2016-09-15",
                                    "MEDDIG": "2016-09-20",
                                    "Vendegek": "3",
                                    "Elozok": "5"
                                },
                                {
                                    "UGYFEL_FK": "krisztina1",
                                    "METTOL": "2016-10-29",
                                    "MEDDIG": "2016-10-30",
                                    "Vendegek": "4",
                                    "Elozok": "6"
                                },
                                {
                                    "UGYFEL_FK": "krisztina1",
                                    "METTOL": "2017-01-21",
                                    "MEDDIG": "2017-01-24",
                                    "Vendegek": "2",
                                    "Elozok": "9"
                                },
                                {
                                    "UGYFEL_FK": "KRISZTINAG",
                                    "METTOL": "2016-04-23",
                                    "MEDDIG": "2016-04-24",
                                    "Vendegek": "2",
                                    "Elozok": "NULL"
                                },
                                {
                                    "UGYFEL_FK": "KRISZTINAG",
                                    "METTOL": "2016-08-08",
                                    "MEDDIG": "2016-08-12",
                                    "Vendegek": "3",
                                    "Elozok": "2"
                                },
                                {
                                    "UGYFEL_FK": "KRISZTINAG",
                                    "METTOL": "2016-05-24",
                                    "MEDDIG": "2016-05-31",
                                    "Vendegek": "1",
                                    "Elozok": "5"
                                },
                                {
                                    "UGYFEL_FK": "KRISZTINAG",
                                    "METTOL": "2016-06-08",
                                    "MEDDIG": "2016-06-12",
                                    "Vendegek": "1",
                                    "Elozok": "6"
                                },
                                {
                                    "UGYFEL_FK": "KRISZTINAG",
                                    "METTOL": "2017-01-25",
                                    "MEDDIG": "2017-01-30",
                                    "Vendegek": "2",
                                    "Elozok": "5"
                                },
                                {
                                    "UGYFEL_FK": "lajos",
                                    "METTOL": "2016-07-18",
                                    "MEDDIG": "2016-07-21",
                                    "Vendegek": "2",
                                    "Elozok": "NULL"
                                },
                                {
                                    "UGYFEL_FK": "lajos",
                                    "METTOL": "2016-12-25",
                                    "MEDDIG": "2016-12-28",
                                    "Vendegek": "4",
                                    "Elozok": "2"
                                },
                                {
                                    "UGYFEL_FK": "lajos",
                                    "METTOL": "2017-02-12",
                                    "MEDDIG": "2017-02-13",
                                    "Vendegek": "1",
                                    "Elozok": "6"
                                },
                                {
                                    "UGYFEL_FK": "lala",
                                    "METTOL": "2016-07-20",
                                    "MEDDIG": "2016-07-21",
                                    "Vendegek": "3",
                                    "Elozok": "NULL"
                                },
                                {
                                    "UGYFEL_FK": "lala",
                                    "METTOL": "2016-07-26",
                                    "MEDDIG": "2016-07-27",
                                    "Vendegek": "3",
                                    "Elozok": "3"
                                },
                                {
                                    "UGYFEL_FK": "lala",
                                    "METTOL": "2016-06-16",
                                    "MEDDIG": "2016-06-22",
                                    "Vendegek": "2",
                                    "Elozok": "6"
                                },
                                {
                                    "UGYFEL_FK": "lala",
                                    "METTOL": "2016-10-30",
                                    "MEDDIG": "2016-10-31",
                                    "Vendegek": "3",
                                    "Elozok": "8"
                                },
                                {
                                    "UGYFEL_FK": "lala",
                                    "METTOL": "2017-01-08",
                                    "MEDDIG": "2017-01-10",
                                    "Vendegek": "3",
                                    "Elozok": "8"
                                },
                                {
                                    "UGYFEL_FK": "lala",
                                    "METTOL": "2017-01-17",
                                    "MEDDIG": "2017-01-19",
                                    "Vendegek": "2",
                                    "Elozok": "8"
                                },
                                {
                                    "UGYFEL_FK": "laszlo1",
                                    "METTOL": "2016-09-23",
                                    "MEDDIG": "2016-09-30",
                                    "Vendegek": "3",
                                    "Elozok": "NULL"
                                },
                                {
                                    "UGYFEL_FK": "laszlo2",
                                    "METTOL": "2016-04-06",
                                    "MEDDIG": "2016-04-10",
                                    "Vendegek": "2",
                                    "Elozok": "NULL"
                                },
                                {
                                    "UGYFEL_FK": "laszlo2",
                                    "METTOL": "2016-04-27",
                                    "MEDDIG": "2016-04-29",
                                    "Vendegek": "2",
                                    "Elozok": "2"
                                },
                                {
                                    "UGYFEL_FK": "laszlo2",
                                    "METTOL": "2016-08-14",
                                    "MEDDIG": "2016-08-15",
                                    "Vendegek": "3",
                                    "Elozok": "4"
                                },
                                {
                                    "UGYFEL_FK": "laszlo2",
                                    "METTOL": "2016-09-05",
                                    "MEDDIG": "2016-09-10",
                                    "Vendegek": "3",
                                    "Elozok": "7"
                                },
                                {
                                    "UGYFEL_FK": "laszlo2",
                                    "METTOL": "2016-11-25",
                                    "MEDDIG": "2016-11-26",
                                    "Vendegek": "3",
                                    "Elozok": "8"
                                },
                                {
                                    "UGYFEL_FK": "LASZLOA",
                                    "METTOL": "2016-06-03",
                                    "MEDDIG": "2016-06-09",
                                    "Vendegek": "2",
                                    "Elozok": "NULL"
                                },
                                {
                                    "UGYFEL_FK": "LASZLOA",
                                    "METTOL": "2016-06-07",
                                    "MEDDIG": "2016-06-11",
                                    "Vendegek": "1",
                                    "Elozok": "2"
                                },
                                {
                                    "UGYFEL_FK": "LASZLOA",
                                    "METTOL": "2016-06-10",
                                    "MEDDIG": "2016-06-13",
                                    "Vendegek": "3",
                                    "Elozok": "3"
                                },
                                {
                                    "UGYFEL_FK": "LASZLOA",
                                    "METTOL": "2017-02-08",
                                    "MEDDIG": "2017-02-14",
                                    "Vendegek": "2",
                                    "Elozok": "6"
                                },
                                {
                                    "UGYFEL_FK": "LASZLON",
                                    "METTOL": "2016-06-03",
                                    "MEDDIG": "2016-06-06",
                                    "Vendegek": "1",
                                    "Elozok": "NULL"
                                },
                                {
                                    "UGYFEL_FK": "LASZLON",
                                    "METTOL": "2016-06-08",
                                    "MEDDIG": "2016-06-09",
                                    "Vendegek": "2",
                                    "Elozok": "1"
                                },
                                {
                                    "UGYFEL_FK": "LASZLON",
                                    "METTOL": "2016-10-01",
                                    "MEDDIG": "2016-10-04",
                                    "Vendegek": "3",
                                    "Elozok": "3"
                                },
                                {
                                    "UGYFEL_FK": "LASZLON",
                                    "METTOL": "2016-10-09",
                                    "MEDDIG": "2016-10-14",
                                    "Vendegek": "1",
                                    "Elozok": "6"
                                },
                                {
                                    "UGYFEL_FK": "LASZLON",
                                    "METTOL": "2016-11-29",
                                    "MEDDIG": "2016-12-04",
                                    "Vendegek": "1",
                                    "Elozok": "6"
                                },
                                {
                                    "UGYFEL_FK": "LASZLON",
                                    "METTOL": "2017-02-18",
                                    "MEDDIG": "2017-02-25",
                                    "Vendegek": "3",
                                    "Elozok": "5"
                                },
                                {
                                    "UGYFEL_FK": "maria1",
                                    "METTOL": "2016-05-13",
                                    "MEDDIG": "2016-05-18",
                                    "Vendegek": "2",
                                    "Elozok": "NULL"
                                },
                                {
                                    "UGYFEL_FK": "maria1",
                                    "METTOL": "2016-05-18",
                                    "MEDDIG": "2016-05-19",
                                    "Vendegek": "1",
                                    "Elozok": "2"
                                },
                                {
                                    "UGYFEL_FK": "maria1",
                                    "METTOL": "2016-08-11",
                                    "MEDDIG": "2016-08-14",
                                    "Vendegek": "3",
                                    "Elozok": "3"
                                },
                                {
                                    "UGYFEL_FK": "maria1",
                                    "METTOL": "2016-09-02",
                                    "MEDDIG": "2016-09-05",
                                    "Vendegek": "1",
                                    "Elozok": "6"
                                },
                                {
                                    "UGYFEL_FK": "maria1",
                                    "METTOL": "2016-05-28",
                                    "MEDDIG": "2016-06-03",
                                    "Vendegek": "2",
                                    "Elozok": "5"
                                },
                                {
                                    "UGYFEL_FK": "maria1",
                                    "METTOL": "2016-06-23",
                                    "MEDDIG": "2016-06-27",
                                    "Vendegek": "1",
                                    "Elozok": "6"
                                },
                                {
                                    "UGYFEL_FK": "maria1",
                                    "METTOL": "2016-11-08",
                                    "MEDDIG": "2016-11-12",
                                    "Vendegek": "3",
                                    "Elozok": "4"
                                },
                                {
                                    "UGYFEL_FK": "maria1",
                                    "METTOL": "2017-02-24",
                                    "MEDDIG": "2017-03-02",
                                    "Vendegek": "2",
                                    "Elozok": "6"
                                },
                                {
                                    "UGYFEL_FK": "mark",
                                    "METTOL": "2016-04-19",
                                    "MEDDIG": "2016-04-26",
                                    "Vendegek": "4",
                                    "Elozok": "NULL"
                                },
                                {
                                    "UGYFEL_FK": "mark",
                                    "METTOL": "2016-08-09",
                                    "MEDDIG": "2016-08-16",
                                    "Vendegek": "3",
                                    "Elozok": "4"
                                },
                                {
                                    "UGYFEL_FK": "mark",
                                    "METTOL": "2016-06-13",
                                    "MEDDIG": "2016-06-18",
                                    "Vendegek": "3",
                                    "Elozok": "7"
                                },
                                {
                                    "UGYFEL_FK": "mark",
                                    "METTOL": "2016-10-20",
                                    "MEDDIG": "2016-10-27",
                                    "Vendegek": "1",
                                    "Elozok": "10"
                                },
                                {
                                    "UGYFEL_FK": "mark",
                                    "METTOL": "2016-11-19",
                                    "MEDDIG": "2016-11-22",
                                    "Vendegek": "2",
                                    "Elozok": "7"
                                },
                                {
                                    "UGYFEL_FK": "MARKH",
                                    "METTOL": "2016-09-14",
                                    "MEDDIG": "2016-09-17",
                                    "Vendegek": "3",
                                    "Elozok": "NULL"
                                },
                                {
                                    "UGYFEL_FK": "MARKH",
                                    "METTOL": "2016-09-23",
                                    "MEDDIG": "2016-09-30",
                                    "Vendegek": "2",
                                    "Elozok": "3"
                                },
                                {
                                    "UGYFEL_FK": "MARKH",
                                    "METTOL": "2016-09-26",
                                    "MEDDIG": "2016-10-01",
                                    "Vendegek": "4",
                                    "Elozok": "5"
                                },
                                {
                                    "UGYFEL_FK": "MARKH",
                                    "METTOL": "2017-01-22",
                                    "MEDDIG": "2017-01-29",
                                    "Vendegek": "4",
                                    "Elozok": "9"
                                },
                                {
                                    "UGYFEL_FK": "marton",
                                    "METTOL": "2016-04-27",
                                    "MEDDIG": "2016-05-04",
                                    "Vendegek": "3",
                                    "Elozok": "NULL"
                                },
                                {
                                    "UGYFEL_FK": "marton",
                                    "METTOL": "2016-05-05",
                                    "MEDDIG": "2016-05-10",
                                    "Vendegek": "1",
                                    "Elozok": "3"
                                },
                                {
                                    "UGYFEL_FK": "marton",
                                    "METTOL": "2016-08-12",
                                    "MEDDIG": "2016-08-17",
                                    "Vendegek": "2",
                                    "Elozok": "4"
                                },
                                {
                                    "UGYFEL_FK": "marton",
                                    "METTOL": "2016-06-06",
                                    "MEDDIG": "2016-06-08",
                                    "Vendegek": "3",
                                    "Elozok": "6"
                                },
                                {
                                    "UGYFEL_FK": "marton",
                                    "METTOL": "2016-06-22",
                                    "MEDDIG": "2016-06-29",
                                    "Vendegek": "2",
                                    "Elozok": "6"
                                },
                                {
                                    "UGYFEL_FK": "marton",
                                    "METTOL": "2016-09-10",
                                    "MEDDIG": "2016-09-12",
                                    "Vendegek": "2",
                                    "Elozok": "7"
                                },
                                {
                                    "UGYFEL_FK": "marton",
                                    "METTOL": "2017-03-02",
                                    "MEDDIG": "2017-03-03",
                                    "Vendegek": "2",
                                    "Elozok": "7"
                                },
                                {
                                    "UGYFEL_FK": "MATEK",
                                    "METTOL": "2016-08-17",
                                    "MEDDIG": "2016-08-21",
                                    "Vendegek": "4",
                                    "Elozok": "NULL"
                                },
                                {
                                    "UGYFEL_FK": "MATEK",
                                    "METTOL": "2016-10-01",
                                    "MEDDIG": "2016-10-04",
                                    "Vendegek": "2",
                                    "Elozok": "4"
                                },
                                {
                                    "UGYFEL_FK": "MATEK",
                                    "METTOL": "2017-01-16",
                                    "MEDDIG": "2017-01-22",
                                    "Vendegek": "2",
                                    "Elozok": "6"
                                },
                                {
                                    "UGYFEL_FK": "matyas2",
                                    "METTOL": "2016-07-13",
                                    "MEDDIG": "2016-07-16",
                                    "Vendegek": "2",
                                    "Elozok": "NULL"
                                },
                                {
                                    "UGYFEL_FK": "matyas2",
                                    "METTOL": "2016-12-09",
                                    "MEDDIG": "2016-12-13",
                                    "Vendegek": "3",
                                    "Elozok": "2"
                                },
                                {
                                    "UGYFEL_FK": "MATYASS",
                                    "METTOL": "2016-05-10",
                                    "MEDDIG": "2016-05-16",
                                    "Vendegek": "2",
                                    "Elozok": "NULL"
                                },
                                {
                                    "UGYFEL_FK": "MATYASS",
                                    "METTOL": "2016-07-23",
                                    "MEDDIG": "2016-07-25",
                                    "Vendegek": "3",
                                    "Elozok": "2"
                                },
                                {
                                    "UGYFEL_FK": "MATYASS",
                                    "METTOL": "2016-06-02",
                                    "MEDDIG": "2016-06-08",
                                    "Vendegek": "1",
                                    "Elozok": "5"
                                },
                                {
                                    "UGYFEL_FK": "MATYASS",
                                    "METTOL": "2016-10-09",
                                    "MEDDIG": "2016-10-15",
                                    "Vendegek": "3",
                                    "Elozok": "6"
                                },
                                {
                                    "UGYFEL_FK": "MATYASS",
                                    "METTOL": "2016-10-24",
                                    "MEDDIG": "2016-10-31",
                                    "Vendegek": "1",
                                    "Elozok": "7"
                                },
                                {
                                    "UGYFEL_FK": "MATYASS",
                                    "METTOL": "2016-10-30",
                                    "MEDDIG": "2016-11-04",
                                    "Vendegek": "3",
                                    "Elozok": "5"
                                },
                                {
                                    "UGYFEL_FK": "MATYASS",
                                    "METTOL": "2016-12-20",
                                    "MEDDIG": "2016-12-25",
                                    "Vendegek": "2",
                                    "Elozok": "7"
                                },
                                {
                                    "UGYFEL_FK": "MATYASS",
                                    "METTOL": "2017-01-09",
                                    "MEDDIG": "2017-01-13",
                                    "Vendegek": "2",
                                    "Elozok": "6"
                                },
                                {
                                    "UGYFEL_FK": "MIHALYJ",
                                    "METTOL": "2016-08-29",
                                    "MEDDIG": "2016-09-03",
                                    "Vendegek": "1",
                                    "Elozok": "NULL"
                                },
                                {
                                    "UGYFEL_FK": "MIHALYJ",
                                    "METTOL": "2016-05-30",
                                    "MEDDIG": "2016-06-01",
                                    "Vendegek": "2",
                                    "Elozok": "1"
                                },
                                {
                                    "UGYFEL_FK": "MIHALYJ",
                                    "METTOL": "2016-06-27",
                                    "MEDDIG": "2016-07-01",
                                    "Vendegek": "1",
                                    "Elozok": "3"
                                },
                                {
                                    "UGYFEL_FK": "MIHALYJ",
                                    "METTOL": "2016-11-01",
                                    "MEDDIG": "2016-11-04",
                                    "Vendegek": "3",
                                    "Elozok": "4"
                                },
                                {
                                    "UGYFEL_FK": "MIHALYJ",
                                    "METTOL": "2017-02-06",
                                    "MEDDIG": "2017-02-12",
                                    "Vendegek": "4",
                                    "Elozok": "6"
                                },
                                {
                                    "UGYFEL_FK": "miklos2",
                                    "METTOL": "2016-04-19",
                                    "MEDDIG": "2016-04-21",
                                    "Vendegek": "3",
                                    "Elozok": "NULL"
                                },
                                {
                                    "UGYFEL_FK": "miklos2",
                                    "METTOL": "2016-10-08",
                                    "MEDDIG": "2016-10-09",
                                    "Vendegek": "1",
                                    "Elozok": "3"
                                },
                                {
                                    "UGYFEL_FK": "miklos2",
                                    "METTOL": "2016-11-16",
                                    "MEDDIG": "2016-11-18",
                                    "Vendegek": "3",
                                    "Elozok": "4"
                                },
                                {
                                    "UGYFEL_FK": "MIKLOSB",
                                    "METTOL": "2016-07-18",
                                    "MEDDIG": "2016-07-21",
                                    "Vendegek": "2",
                                    "Elozok": "NULL"
                                },
                                {
                                    "UGYFEL_FK": "MIKLOSB",
                                    "METTOL": "2016-06-26",
                                    "MEDDIG": "2016-06-30",
                                    "Vendegek": "2",
                                    "Elozok": "2"
                                },
                                {
                                    "UGYFEL_FK": "MIKLOSB",
                                    "METTOL": "2016-12-05",
                                    "MEDDIG": "2016-12-10",
                                    "Vendegek": "2",
                                    "Elozok": "4"
                                },
                                {
                                    "UGYFEL_FK": "MONIKAM",
                                    "METTOL": "2016-04-29",
                                    "MEDDIG": "2016-05-01",
                                    "Vendegek": "2",
                                    "Elozok": "NULL"
                                },
                                {
                                    "UGYFEL_FK": "MONIKAM",
                                    "METTOL": "2016-07-23",
                                    "MEDDIG": "2016-07-30",
                                    "Vendegek": "1",
                                    "Elozok": "2"
                                },
                                {
                                    "UGYFEL_FK": "MONIKAM",
                                    "METTOL": "2016-11-09",
                                    "MEDDIG": "2016-11-16",
                                    "Vendegek": "2",
                                    "Elozok": "3"
                                },
                                {
                                    "UGYFEL_FK": "MONIKAM",
                                    "METTOL": "2017-01-17",
                                    "MEDDIG": "2017-01-24",
                                    "Vendegek": "1",
                                    "Elozok": "5"
                                },
                                {
                                    "UGYFEL_FK": "MONIKAM",
                                    "METTOL": "2017-02-06",
                                    "MEDDIG": "2017-02-09",
                                    "Vendegek": "2",
                                    "Elozok": "4"
                                },
                                {
                                    "UGYFEL_FK": "MONIKAM",
                                    "METTOL": "2017-02-23",
                                    "MEDDIG": "2017-02-26",
                                    "Vendegek": "2",
                                    "Elozok": "5"
                                },
                                {
                                    "UGYFEL_FK": "NANDORF",
                                    "METTOL": "2016-04-06",
                                    "MEDDIG": "2016-04-10",
                                    "Vendegek": "3",
                                    "Elozok": "NULL"
                                },
                                {
                                    "UGYFEL_FK": "NANDORF",
                                    "METTOL": "2016-11-03",
                                    "MEDDIG": "2016-11-04",
                                    "Vendegek": "3",
                                    "Elozok": "3"
                                },
                                {
                                    "UGYFEL_FK": "NANDORF",
                                    "METTOL": "2017-02-05",
                                    "MEDDIG": "2017-02-08",
                                    "Vendegek": "3",
                                    "Elozok": "6"
                                },
                                {
                                    "UGYFEL_FK": "nikolett3",
                                    "METTOL": "2016-05-24",
                                    "MEDDIG": "2016-05-29",
                                    "Vendegek": "2",
                                    "Elozok": "NULL"
                                },
                                {
                                    "UGYFEL_FK": "nikolett3",
                                    "METTOL": "2016-06-03",
                                    "MEDDIG": "2016-06-09",
                                    "Vendegek": "1",
                                    "Elozok": "2"
                                },
                                {
                                    "UGYFEL_FK": "nikolett3",
                                    "METTOL": "2016-06-22",
                                    "MEDDIG": "2016-06-24",
                                    "Vendegek": "1",
                                    "Elozok": "3"
                                },
                                {
                                    "UGYFEL_FK": "nikolett3",
                                    "METTOL": "2016-10-22",
                                    "MEDDIG": "2016-10-29",
                                    "Vendegek": "3",
                                    "Elozok": "4"
                                },
                                {
                                    "UGYFEL_FK": "nikoletta4",
                                    "METTOL": "2016-04-08",
                                    "MEDDIG": "2016-04-10",
                                    "Vendegek": "2",
                                    "Elozok": "NULL"
                                },
                                {
                                    "UGYFEL_FK": "nikoletta4",
                                    "METTOL": "2016-05-09",
                                    "MEDDIG": "2016-05-15",
                                    "Vendegek": "2",
                                    "Elozok": "2"
                                },
                                {
                                    "UGYFEL_FK": "nikoletta4",
                                    "METTOL": "2016-08-13",
                                    "MEDDIG": "2016-08-17",
                                    "Vendegek": "3",
                                    "Elozok": "4"
                                },
                                {
                                    "UGYFEL_FK": "nikoletta4",
                                    "METTOL": "2016-05-30",
                                    "MEDDIG": "2016-06-03",
                                    "Vendegek": "3",
                                    "Elozok": "7"
                                },
                                {
                                    "UGYFEL_FK": "nikoletta4",
                                    "METTOL": "2016-06-29",
                                    "MEDDIG": "2016-07-06",
                                    "Vendegek": "2",
                                    "Elozok": "8"
                                },
                                {
                                    "UGYFEL_FK": "nikoletta4",
                                    "METTOL": "2016-12-08",
                                    "MEDDIG": "2016-12-10",
                                    "Vendegek": "5",
                                    "Elozok": "8"
                                },
                                {
                                    "UGYFEL_FK": "nikoletta4",
                                    "METTOL": "2017-02-01",
                                    "MEDDIG": "2017-02-04",
                                    "Vendegek": "2",
                                    "Elozok": "10"
                                },
                                {
                                    "UGYFEL_FK": "NIKOLETTAT",
                                    "METTOL": "2016-05-22",
                                    "MEDDIG": "2016-05-23",
                                    "Vendegek": "4",
                                    "Elozok": "NULL"
                                },
                                {
                                    "UGYFEL_FK": "NIKOLETTAT",
                                    "METTOL": "2016-07-27",
                                    "MEDDIG": "2016-07-29",
                                    "Vendegek": "4",
                                    "Elozok": "4"
                                },
                                {
                                    "UGYFEL_FK": "NIKOLETTAT",
                                    "METTOL": "2016-06-07",
                                    "MEDDIG": "2016-06-09",
                                    "Vendegek": "2",
                                    "Elozok": "8"
                                },
                                {
                                    "UGYFEL_FK": "NIKOLETTAT",
                                    "METTOL": "2016-09-21",
                                    "MEDDIG": "2016-09-26",
                                    "Vendegek": "2",
                                    "Elozok": "10"
                                },
                                {
                                    "UGYFEL_FK": "norbert",
                                    "METTOL": "2016-07-08",
                                    "MEDDIG": "2016-07-13",
                                    "Vendegek": "1",
                                    "Elozok": "NULL"
                                },
                                {
                                    "UGYFEL_FK": "norbert",
                                    "METTOL": "2016-11-16",
                                    "MEDDIG": "2016-11-23",
                                    "Vendegek": "3",
                                    "Elozok": "1"
                                },
                                {
                                    "UGYFEL_FK": "norbert",
                                    "METTOL": "2016-12-15",
                                    "MEDDIG": "2016-12-18",
                                    "Vendegek": "2",
                                    "Elozok": "4"
                                },
                                {
                                    "UGYFEL_FK": "norbert",
                                    "METTOL": "2017-02-13",
                                    "MEDDIG": "2017-02-15",
                                    "Vendegek": "3",
                                    "Elozok": "6"
                                },
                                {
                                    "UGYFEL_FK": "norbert",
                                    "METTOL": "2017-02-26",
                                    "MEDDIG": "2017-03-01",
                                    "Vendegek": "1",
                                    "Elozok": "8"
                                },
                                {
                                    "UGYFEL_FK": "norbert2",
                                    "METTOL": "2016-04-19",
                                    "MEDDIG": "2016-04-26",
                                    "Vendegek": "1",
                                    "Elozok": "NULL"
                                },
                                {
                                    "UGYFEL_FK": "norbert2",
                                    "METTOL": "2016-05-09",
                                    "MEDDIG": "2016-05-10",
                                    "Vendegek": "2",
                                    "Elozok": "1"
                                },
                                {
                                    "UGYFEL_FK": "norbert2",
                                    "METTOL": "2016-07-27",
                                    "MEDDIG": "2016-08-02",
                                    "Vendegek": "2",
                                    "Elozok": "3"
                                },
                                {
                                    "UGYFEL_FK": "norbert2",
                                    "METTOL": "2016-08-16",
                                    "MEDDIG": "2016-08-19",
                                    "Vendegek": "1",
                                    "Elozok": "5"
                                },
                                {
                                    "UGYFEL_FK": "norbert2",
                                    "METTOL": "2016-07-13",
                                    "MEDDIG": "2016-07-15",
                                    "Vendegek": "3",
                                    "Elozok": "5"
                                },
                                {
                                    "UGYFEL_FK": "norbert2",
                                    "METTOL": "2016-10-31",
                                    "MEDDIG": "2016-11-07",
                                    "Vendegek": "2",
                                    "Elozok": "6"
                                },
                                {
                                    "UGYFEL_FK": "norbert2",
                                    "METTOL": "2017-01-29",
                                    "MEDDIG": "2017-02-05",
                                    "Vendegek": "3",
                                    "Elozok": "6"
                                },
                                {
                                    "UGYFEL_FK": "norbert4",
                                    "METTOL": "2016-04-10",
                                    "MEDDIG": "2016-04-13",
                                    "Vendegek": "2",
                                    "Elozok": "NULL"
                                },
                                {
                                    "UGYFEL_FK": "norbert4",
                                    "METTOL": "2016-05-29",
                                    "MEDDIG": "2016-06-03",
                                    "Vendegek": "3",
                                    "Elozok": "2"
                                },
                                {
                                    "UGYFEL_FK": "norbert4",
                                    "METTOL": "2016-06-16",
                                    "MEDDIG": "2016-06-17",
                                    "Vendegek": "4",
                                    "Elozok": "5"
                                },
                                {
                                    "UGYFEL_FK": "norbert4",
                                    "METTOL": "2016-06-16",
                                    "MEDDIG": "2016-06-21",
                                    "Vendegek": "3",
                                    "Elozok": "9"
                                },
                                {
                                    "UGYFEL_FK": "norbert4",
                                    "METTOL": "2016-10-05",
                                    "MEDDIG": "2016-10-10",
                                    "Vendegek": "3",
                                    "Elozok": "10"
                                },
                                {
                                    "UGYFEL_FK": "norbert4",
                                    "METTOL": "2016-10-28",
                                    "MEDDIG": "2016-10-31",
                                    "Vendegek": "3",
                                    "Elozok": "10"
                                },
                                {
                                    "UGYFEL_FK": "norbert4",
                                    "METTOL": "2016-11-30",
                                    "MEDDIG": "2016-12-06",
                                    "Vendegek": "3",
                                    "Elozok": "9"
                                },
                                {
                                    "UGYFEL_FK": "norbert4",
                                    "METTOL": "2017-02-16",
                                    "MEDDIG": "2017-02-17",
                                    "Vendegek": "1",
                                    "Elozok": "9"
                                },
                                {
                                    "UGYFEL_FK": "norbert4",
                                    "METTOL": "2017-03-03",
                                    "MEDDIG": "2017-03-07",
                                    "Vendegek": "2",
                                    "Elozok": "7"
                                },
                                {
                                    "UGYFEL_FK": "norbert5",
                                    "METTOL": "2016-08-10",
                                    "MEDDIG": "2016-08-11",
                                    "Vendegek": "2",
                                    "Elozok": "NULL"
                                },
                                {
                                    "UGYFEL_FK": "norbert5",
                                    "METTOL": "2016-06-24",
                                    "MEDDIG": "2016-06-28",
                                    "Vendegek": "2",
                                    "Elozok": "2"
                                },
                                {
                                    "UGYFEL_FK": "norbert5",
                                    "METTOL": "2016-11-05",
                                    "MEDDIG": "2016-11-07",
                                    "Vendegek": "1",
                                    "Elozok": "4"
                                },
                                {
                                    "UGYFEL_FK": "pal",
                                    "METTOL": "2016-08-14",
                                    "MEDDIG": "2016-08-18",
                                    "Vendegek": "3",
                                    "Elozok": "NULL"
                                },
                                {
                                    "UGYFEL_FK": "pal",
                                    "METTOL": "2016-09-16",
                                    "MEDDIG": "2016-09-19",
                                    "Vendegek": "2",
                                    "Elozok": "3"
                                },
                                {
                                    "UGYFEL_FK": "pal",
                                    "METTOL": "2016-12-17",
                                    "MEDDIG": "2016-12-23",
                                    "Vendegek": "3",
                                    "Elozok": "5"
                                },
                                {
                                    "UGYFEL_FK": "pal",
                                    "METTOL": "2017-02-13",
                                    "MEDDIG": "2017-02-19",
                                    "Vendegek": "3",
                                    "Elozok": "8"
                                },
                                {
                                    "UGYFEL_FK": "pal",
                                    "METTOL": "2017-02-20",
                                    "MEDDIG": "2017-02-22",
                                    "Vendegek": "3",
                                    "Elozok": "8"
                                },
                                {
                                    "UGYFEL_FK": "peter1",
                                    "METTOL": "2016-07-14",
                                    "MEDDIG": "2016-07-18",
                                    "Vendegek": "3",
                                    "Elozok": "NULL"
                                },
                                {
                                    "UGYFEL_FK": "peter1",
                                    "METTOL": "2016-10-26",
                                    "MEDDIG": "2016-11-01",
                                    "Vendegek": "3",
                                    "Elozok": "3"
                                },
                                {
                                    "UGYFEL_FK": "peter1",
                                    "METTOL": "2017-02-23",
                                    "MEDDIG": "2017-02-26",
                                    "Vendegek": "3",
                                    "Elozok": "6"
                                },
                                {
                                    "UGYFEL_FK": "peter1",
                                    "METTOL": "2017-02-28",
                                    "MEDDIG": "2017-03-05",
                                    "Vendegek": "3",
                                    "Elozok": "9"
                                },
                                {
                                    "UGYFEL_FK": "peter2",
                                    "METTOL": "2016-07-03",
                                    "MEDDIG": "2016-07-08",
                                    "Vendegek": "2",
                                    "Elozok": "NULL"
                                },
                                {
                                    "UGYFEL_FK": "peter2",
                                    "METTOL": "2016-10-10",
                                    "MEDDIG": "2016-10-16",
                                    "Vendegek": "2",
                                    "Elozok": "2"
                                },
                                {
                                    "UGYFEL_FK": "peter2",
                                    "METTOL": "2016-11-01",
                                    "MEDDIG": "2016-11-02",
                                    "Vendegek": "2",
                                    "Elozok": "4"
                                },
                                {
                                    "UGYFEL_FK": "peter2",
                                    "METTOL": "2016-11-15",
                                    "MEDDIG": "2016-11-21",
                                    "Vendegek": "3",
                                    "Elozok": "6"
                                },
                                {
                                    "UGYFEL_FK": "peter3",
                                    "METTOL": "2016-07-27",
                                    "MEDDIG": "2016-07-31",
                                    "Vendegek": "4",
                                    "Elozok": "NULL"
                                },
                                {
                                    "UGYFEL_FK": "peter3",
                                    "METTOL": "2016-06-30",
                                    "MEDDIG": "2016-07-05",
                                    "Vendegek": "3",
                                    "Elozok": "4"
                                },
                                {
                                    "UGYFEL_FK": "peter3",
                                    "METTOL": "2016-10-30",
                                    "MEDDIG": "2016-11-06",
                                    "Vendegek": "2",
                                    "Elozok": "7"
                                },
                                {
                                    "UGYFEL_FK": "peter3",
                                    "METTOL": "2016-12-25",
                                    "MEDDIG": "2016-12-28",
                                    "Vendegek": "1",
                                    "Elozok": "9"
                                },
                                {
                                    "UGYFEL_FK": "peter3",
                                    "METTOL": "2017-01-12",
                                    "MEDDIG": "2017-01-17",
                                    "Vendegek": "1",
                                    "Elozok": "6"
                                },
                                {
                                    "UGYFEL_FK": "peter3",
                                    "METTOL": "2017-02-21",
                                    "MEDDIG": "2017-02-24",
                                    "Vendegek": "2",
                                    "Elozok": "4"
                                },
                                {
                                    "UGYFEL_FK": "peter4",
                                    "METTOL": "2016-04-12",
                                    "MEDDIG": "2016-04-15",
                                    "Vendegek": "3",
                                    "Elozok": "NULL"
                                },
                                {
                                    "UGYFEL_FK": "peter4",
                                    "METTOL": "2016-08-06",
                                    "MEDDIG": "2016-08-13",
                                    "Vendegek": "2",
                                    "Elozok": "3"
                                },
                                {
                                    "UGYFEL_FK": "peter4",
                                    "METTOL": "2016-08-24",
                                    "MEDDIG": "2016-08-25",
                                    "Vendegek": "3",
                                    "Elozok": "5"
                                },
                                {
                                    "UGYFEL_FK": "peter4",
                                    "METTOL": "2016-09-11",
                                    "MEDDIG": "2016-09-17",
                                    "Vendegek": "4",
                                    "Elozok": "8"
                                },
                                {
                                    "UGYFEL_FK": "peter4",
                                    "METTOL": "2016-09-25",
                                    "MEDDIG": "2016-09-26",
                                    "Vendegek": "3",
                                    "Elozok": "9"
                                },
                                {
                                    "UGYFEL_FK": "peter4",
                                    "METTOL": "2016-09-30",
                                    "MEDDIG": "2016-10-06",
                                    "Vendegek": "3",
                                    "Elozok": "10"
                                },
                                {
                                    "UGYFEL_FK": "peter4",
                                    "METTOL": "2016-10-09",
                                    "MEDDIG": "2016-10-16",
                                    "Vendegek": "3",
                                    "Elozok": "10"
                                },
                                {
                                    "UGYFEL_FK": "peter4",
                                    "METTOL": "2016-10-24",
                                    "MEDDIG": "2016-10-25",
                                    "Vendegek": "2",
                                    "Elozok": "9"
                                },
                                {
                                    "UGYFEL_FK": "peter4",
                                    "METTOL": "2016-10-30",
                                    "MEDDIG": "2016-11-01",
                                    "Vendegek": "3",
                                    "Elozok": "8"
                                },
                                {
                                    "UGYFEL_FK": "peter4",
                                    "METTOL": "2016-11-10",
                                    "MEDDIG": "2016-11-17",
                                    "Vendegek": "3",
                                    "Elozok": "8"
                                },
                                {
                                    "UGYFEL_FK": "peter4",
                                    "METTOL": "2016-11-25",
                                    "MEDDIG": "2016-11-30",
                                    "Vendegek": "3",
                                    "Elozok": "8"
                                },
                                {
                                    "UGYFEL_FK": "peter4",
                                    "METTOL": "2017-02-05",
                                    "MEDDIG": "2017-02-09",
                                    "Vendegek": "3",
                                    "Elozok": "9"
                                },
                                {
                                    "UGYFEL_FK": "PETERB",
                                    "METTOL": "2016-04-06",
                                    "MEDDIG": "2016-04-10",
                                    "Vendegek": "1",
                                    "Elozok": "NULL"
                                },
                                {
                                    "UGYFEL_FK": "PETERB",
                                    "METTOL": "2016-07-20",
                                    "MEDDIG": "2016-07-24",
                                    "Vendegek": "2",
                                    "Elozok": "1"
                                },
                                {
                                    "UGYFEL_FK": "PETERB",
                                    "METTOL": "2016-08-16",
                                    "MEDDIG": "2016-08-23",
                                    "Vendegek": "1",
                                    "Elozok": "3"
                                },
                                {
                                    "UGYFEL_FK": "PETERB",
                                    "METTOL": "2016-10-19",
                                    "MEDDIG": "2016-10-20",
                                    "Vendegek": "4",
                                    "Elozok": "4"
                                },
                                {
                                    "UGYFEL_FK": "PETERB",
                                    "METTOL": "2016-11-17",
                                    "MEDDIG": "2016-11-20",
                                    "Vendegek": "2",
                                    "Elozok": "7"
                                },
                                {
                                    "UGYFEL_FK": "polla",
                                    "METTOL": "2016-04-17",
                                    "MEDDIG": "2016-04-22",
                                    "Vendegek": "3",
                                    "Elozok": "NULL"
                                },
                                {
                                    "UGYFEL_FK": "polla",
                                    "METTOL": "2016-08-14",
                                    "MEDDIG": "2016-08-17",
                                    "Vendegek": "2",
                                    "Elozok": "3"
                                },
                                {
                                    "UGYFEL_FK": "polla",
                                    "METTOL": "2016-08-16",
                                    "MEDDIG": "2016-08-19",
                                    "Vendegek": "4",
                                    "Elozok": "5"
                                },
                                {
                                    "UGYFEL_FK": "polla",
                                    "METTOL": "2016-05-28",
                                    "MEDDIG": "2016-06-04",
                                    "Vendegek": "2",
                                    "Elozok": "9"
                                },
                                {
                                    "UGYFEL_FK": "polla",
                                    "METTOL": "2017-01-29",
                                    "MEDDIG": "2017-02-01",
                                    "Vendegek": "2",
                                    "Elozok": "8"
                                },
                                {
                                    "UGYFEL_FK": "polla",
                                    "METTOL": "2017-02-11",
                                    "MEDDIG": "2017-02-16",
                                    "Vendegek": "2",
                                    "Elozok": "8"
                                },
                                {
                                    "UGYFEL_FK": "rajmond4",
                                    "METTOL": "2016-09-05",
                                    "MEDDIG": "2016-09-07",
                                    "Vendegek": "3",
                                    "Elozok": "NULL"
                                },
                                {
                                    "UGYFEL_FK": "rajmond4",
                                    "METTOL": "2016-10-03",
                                    "MEDDIG": "2016-10-04",
                                    "Vendegek": "3",
                                    "Elozok": "3"
                                },
                                {
                                    "UGYFEL_FK": "rajmond4",
                                    "METTOL": "2016-11-08",
                                    "MEDDIG": "2016-11-09",
                                    "Vendegek": "4",
                                    "Elozok": "6"
                                },
                                {
                                    "UGYFEL_FK": "rajmond4",
                                    "METTOL": "2016-11-16",
                                    "MEDDIG": "2016-11-20",
                                    "Vendegek": "2",
                                    "Elozok": "10"
                                },
                                {
                                    "UGYFEL_FK": "reka4",
                                    "METTOL": "2016-07-27",
                                    "MEDDIG": "2016-07-31",
                                    "Vendegek": "2",
                                    "Elozok": "NULL"
                                },
                                {
                                    "UGYFEL_FK": "reka4",
                                    "METTOL": "2016-08-02",
                                    "MEDDIG": "2016-08-04",
                                    "Vendegek": "4",
                                    "Elozok": "2"
                                },
                                {
                                    "UGYFEL_FK": "reka4",
                                    "METTOL": "2016-09-05",
                                    "MEDDIG": "2016-09-07",
                                    "Vendegek": "3",
                                    "Elozok": "6"
                                },
                                {
                                    "UGYFEL_FK": "reka4",
                                    "METTOL": "2016-09-30",
                                    "MEDDIG": "2016-10-06",
                                    "Vendegek": "2",
                                    "Elozok": "9"
                                },
                                {
                                    "UGYFEL_FK": "reka4",
                                    "METTOL": "2017-02-26",
                                    "MEDDIG": "2017-03-04",
                                    "Vendegek": "2",
                                    "Elozok": "9"
                                },
                                {
                                    "UGYFEL_FK": "RENATAK",
                                    "METTOL": "2016-10-27",
                                    "MEDDIG": "2016-10-29",
                                    "Vendegek": "4",
                                    "Elozok": "NULL"
                                },
                                {
                                    "UGYFEL_FK": "RENATAK",
                                    "METTOL": "2016-10-30",
                                    "MEDDIG": "2016-10-31",
                                    "Vendegek": "1",
                                    "Elozok": "4"
                                },
                                {
                                    "UGYFEL_FK": "RENATAK",
                                    "METTOL": "2016-11-23",
                                    "MEDDIG": "2016-11-26",
                                    "Vendegek": "1",
                                    "Elozok": "5"
                                },
                                {
                                    "UGYFEL_FK": "RENATAK",
                                    "METTOL": "2017-01-23",
                                    "MEDDIG": "2017-01-24",
                                    "Vendegek": "3",
                                    "Elozok": "6"
                                },
                                {
                                    "UGYFEL_FK": "RENATAK",
                                    "METTOL": "2017-02-16",
                                    "MEDDIG": "2017-02-23",
                                    "Vendegek": "1",
                                    "Elozok": "5"
                                },
                                {
                                    "UGYFEL_FK": "RENATAK",
                                    "METTOL": "2017-03-01",
                                    "MEDDIG": "2017-03-06",
                                    "Vendegek": "1",
                                    "Elozok": "5"
                                },
                                {
                                    "UGYFEL_FK": "RENATAS",
                                    "METTOL": "2016-05-04",
                                    "MEDDIG": "2016-05-11",
                                    "Vendegek": "2",
                                    "Elozok": "NULL"
                                },
                                {
                                    "UGYFEL_FK": "RENATAS",
                                    "METTOL": "2016-05-11",
                                    "MEDDIG": "2016-05-16",
                                    "Vendegek": "2",
                                    "Elozok": "2"
                                },
                                {
                                    "UGYFEL_FK": "RENATAS",
                                    "METTOL": "2016-06-24",
                                    "MEDDIG": "2016-06-30",
                                    "Vendegek": "5",
                                    "Elozok": "4"
                                },
                                {
                                    "UGYFEL_FK": "RENATAS",
                                    "METTOL": "2017-02-13",
                                    "MEDDIG": "2017-02-17",
                                    "Vendegek": "1",
                                    "Elozok": "9"
                                },
                                {
                                    "UGYFEL_FK": "RENATAS",
                                    "METTOL": "2017-02-14",
                                    "MEDDIG": "2017-02-17",
                                    "Vendegek": "2",
                                    "Elozok": "8"
                                },
                                {
                                    "UGYFEL_FK": "robert2",
                                    "METTOL": "2016-05-15",
                                    "MEDDIG": "2016-05-18",
                                    "Vendegek": "2",
                                    "Elozok": "NULL"
                                },
                                {
                                    "UGYFEL_FK": "robert2",
                                    "METTOL": "2016-08-20",
                                    "MEDDIG": "2016-08-27",
                                    "Vendegek": "2",
                                    "Elozok": "2"
                                },
                                {
                                    "UGYFEL_FK": "robert2",
                                    "METTOL": "2016-10-23",
                                    "MEDDIG": "2016-10-28",
                                    "Vendegek": "3",
                                    "Elozok": "4"
                                },
                                {
                                    "UGYFEL_FK": "robert2",
                                    "METTOL": "2016-12-17",
                                    "MEDDIG": "2016-12-22",
                                    "Vendegek": "1",
                                    "Elozok": "7"
                                },
                                {
                                    "UGYFEL_FK": "ROBERTI",
                                    "METTOL": "2016-08-16",
                                    "MEDDIG": "2016-08-21",
                                    "Vendegek": "2",
                                    "Elozok": "NULL"
                                },
                                {
                                    "UGYFEL_FK": "ROBERTI",
                                    "METTOL": "2016-08-23",
                                    "MEDDIG": "2016-08-25",
                                    "Vendegek": "2",
                                    "Elozok": "2"
                                },
                                {
                                    "UGYFEL_FK": "ROBERTI",
                                    "METTOL": "2016-07-12",
                                    "MEDDIG": "2016-07-19",
                                    "Vendegek": "4",
                                    "Elozok": "4"
                                },
                                {
                                    "UGYFEL_FK": "ROBERTI",
                                    "METTOL": "2016-10-08",
                                    "MEDDIG": "2016-10-12",
                                    "Vendegek": "3",
                                    "Elozok": "8"
                                },
                                {
                                    "UGYFEL_FK": "ROBERTI",
                                    "METTOL": "2016-10-09",
                                    "MEDDIG": "2016-10-10",
                                    "Vendegek": "2",
                                    "Elozok": "9"
                                },
                                {
                                    "UGYFEL_FK": "ROBERTI",
                                    "METTOL": "2016-10-23",
                                    "MEDDIG": "2016-10-29",
                                    "Vendegek": "1",
                                    "Elozok": "9"
                                },
                                {
                                    "UGYFEL_FK": "ROBERTI",
                                    "METTOL": "2016-10-26",
                                    "MEDDIG": "2016-11-01",
                                    "Vendegek": "2",
                                    "Elozok": "6"
                                },
                                {
                                    "UGYFEL_FK": "ROBERTI",
                                    "METTOL": "2017-02-17",
                                    "MEDDIG": "2017-02-20",
                                    "Vendegek": "2",
                                    "Elozok": "5"
                                },
                                {
                                    "UGYFEL_FK": "ROBERTP",
                                    "METTOL": "2016-07-30",
                                    "MEDDIG": "2016-08-05",
                                    "Vendegek": "2",
                                    "Elozok": "NULL"
                                },
                                {
                                    "UGYFEL_FK": "ROBERTP",
                                    "METTOL": "2016-09-08",
                                    "MEDDIG": "2016-09-11",
                                    "Vendegek": "4",
                                    "Elozok": "2"
                                },
                                {
                                    "UGYFEL_FK": "roland",
                                    "METTOL": "2016-09-04",
                                    "MEDDIG": "2016-09-05",
                                    "Vendegek": "2",
                                    "Elozok": "NULL"
                                },
                                {
                                    "UGYFEL_FK": "roland",
                                    "METTOL": "2016-06-09",
                                    "MEDDIG": "2016-06-13",
                                    "Vendegek": "3",
                                    "Elozok": "2"
                                },
                                {
                                    "UGYFEL_FK": "roland",
                                    "METTOL": "2016-06-22",
                                    "MEDDIG": "2016-06-23",
                                    "Vendegek": "3",
                                    "Elozok": "5"
                                },
                                {
                                    "UGYFEL_FK": "roland",
                                    "METTOL": "2016-11-19",
                                    "MEDDIG": "2016-11-24",
                                    "Vendegek": "2",
                                    "Elozok": "8"
                                },
                                {
                                    "UGYFEL_FK": "roland1",
                                    "METTOL": "2016-11-05",
                                    "MEDDIG": "2016-11-07",
                                    "Vendegek": "3",
                                    "Elozok": "NULL"
                                },
                                {
                                    "UGYFEL_FK": "roland1",
                                    "METTOL": "2016-12-22",
                                    "MEDDIG": "2016-12-29",
                                    "Vendegek": "1",
                                    "Elozok": "3"
                                },
                                {
                                    "UGYFEL_FK": "roland1",
                                    "METTOL": "2017-01-04",
                                    "MEDDIG": "2017-01-08",
                                    "Vendegek": "3",
                                    "Elozok": "4"
                                },
                                {
                                    "UGYFEL_FK": "roland1",
                                    "METTOL": "2017-01-16",
                                    "MEDDIG": "2017-01-22",
                                    "Vendegek": "2",
                                    "Elozok": "7"
                                },
                                {
                                    "UGYFEL_FK": "roza2",
                                    "METTOL": "2016-09-10",
                                    "MEDDIG": "2016-09-13",
                                    "Vendegek": "2",
                                    "Elozok": "NULL"
                                },
                                {
                                    "UGYFEL_FK": "roza2",
                                    "METTOL": "2017-01-11",
                                    "MEDDIG": "2017-01-17",
                                    "Vendegek": "3",
                                    "Elozok": "2"
                                },
                                {
                                    "UGYFEL_FK": "roza2",
                                    "METTOL": "2017-02-18",
                                    "MEDDIG": "2017-02-21",
                                    "Vendegek": "3",
                                    "Elozok": "5"
                                },
                                {
                                    "UGYFEL_FK": "sandor",
                                    "METTOL": "2016-07-18",
                                    "MEDDIG": "2016-07-24",
                                    "Vendegek": "2",
                                    "Elozok": "NULL"
                                },
                                {
                                    "UGYFEL_FK": "sandor",
                                    "METTOL": "2016-08-20",
                                    "MEDDIG": "2016-08-25",
                                    "Vendegek": "2",
                                    "Elozok": "2"
                                },
                                {
                                    "UGYFEL_FK": "sandor",
                                    "METTOL": "2016-07-04",
                                    "MEDDIG": "2016-07-06",
                                    "Vendegek": "2",
                                    "Elozok": "4"
                                },
                                {
                                    "UGYFEL_FK": "sandor",
                                    "METTOL": "2016-09-19",
                                    "MEDDIG": "2016-09-26",
                                    "Vendegek": "4",
                                    "Elozok": "6"
                                },
                                {
                                    "UGYFEL_FK": "sandor3",
                                    "METTOL": "2016-05-12",
                                    "MEDDIG": "2016-05-15",
                                    "Vendegek": "2",
                                    "Elozok": "NULL"
                                },
                                {
                                    "UGYFEL_FK": "sandor3",
                                    "METTOL": "2016-05-25",
                                    "MEDDIG": "2016-05-30",
                                    "Vendegek": "1",
                                    "Elozok": "2"
                                },
                                {
                                    "UGYFEL_FK": "sandor3",
                                    "METTOL": "2016-10-09",
                                    "MEDDIG": "2016-10-14",
                                    "Vendegek": "2",
                                    "Elozok": "3"
                                },
                                {
                                    "UGYFEL_FK": "sandor3",
                                    "METTOL": "2016-10-23",
                                    "MEDDIG": "2016-10-29",
                                    "Vendegek": "3",
                                    "Elozok": "5"
                                },
                                {
                                    "UGYFEL_FK": "sandor3",
                                    "METTOL": "2016-11-10",
                                    "MEDDIG": "2016-11-11",
                                    "Vendegek": "2",
                                    "Elozok": "6"
                                },
                                {
                                    "UGYFEL_FK": "sandor4",
                                    "METTOL": "2016-10-15",
                                    "MEDDIG": "2016-10-18",
                                    "Vendegek": "1",
                                    "Elozok": "NULL"
                                },
                                {
                                    "UGYFEL_FK": "sandor4",
                                    "METTOL": "2016-11-29",
                                    "MEDDIG": "2016-12-03",
                                    "Vendegek": "2",
                                    "Elozok": "1"
                                },
                                {
                                    "UGYFEL_FK": "sandor4",
                                    "METTOL": "2016-12-03",
                                    "MEDDIG": "2016-12-09",
                                    "Vendegek": "1",
                                    "Elozok": "3"
                                },
                                {
                                    "UGYFEL_FK": "sandor4",
                                    "METTOL": "2017-01-22",
                                    "MEDDIG": "2017-01-26",
                                    "Vendegek": "2",
                                    "Elozok": "4"
                                },
                                {
                                    "UGYFEL_FK": "sara",
                                    "METTOL": "2016-07-15",
                                    "MEDDIG": "2016-07-17",
                                    "Vendegek": "3",
                                    "Elozok": "NULL"
                                },
                                {
                                    "UGYFEL_FK": "sara",
                                    "METTOL": "2016-07-24",
                                    "MEDDIG": "2016-07-27",
                                    "Vendegek": "3",
                                    "Elozok": "3"
                                },
                                {
                                    "UGYFEL_FK": "sara",
                                    "METTOL": "2016-05-28",
                                    "MEDDIG": "2016-05-30",
                                    "Vendegek": "2",
                                    "Elozok": "6"
                                },
                                {
                                    "UGYFEL_FK": "sara",
                                    "METTOL": "2016-05-30",
                                    "MEDDIG": "2016-05-31",
                                    "Vendegek": "2",
                                    "Elozok": "8"
                                },
                                {
                                    "UGYFEL_FK": "sara",
                                    "METTOL": "2016-06-06",
                                    "MEDDIG": "2016-06-08",
                                    "Vendegek": "2",
                                    "Elozok": "7"
                                },
                                {
                                    "UGYFEL_FK": "sara",
                                    "METTOL": "2016-10-06",
                                    "MEDDIG": "2016-10-12",
                                    "Vendegek": "3",
                                    "Elozok": "6"
                                },
                                {
                                    "UGYFEL_FK": "sara",
                                    "METTOL": "2016-10-11",
                                    "MEDDIG": "2016-10-14",
                                    "Vendegek": "3",
                                    "Elozok": "7"
                                },
                                {
                                    "UGYFEL_FK": "sara",
                                    "METTOL": "2016-10-28",
                                    "MEDDIG": "2016-11-03",
                                    "Vendegek": "2",
                                    "Elozok": "8"
                                },
                                {
                                    "UGYFEL_FK": "sara",
                                    "METTOL": "2016-11-18",
                                    "MEDDIG": "2016-11-21",
                                    "Vendegek": "3",
                                    "Elozok": "8"
                                },
                                {
                                    "UGYFEL_FK": "sara",
                                    "METTOL": "2016-11-23",
                                    "MEDDIG": "2016-11-30",
                                    "Vendegek": "4",
                                    "Elozok": "8"
                                },
                                {
                                    "UGYFEL_FK": "sara",
                                    "METTOL": "2016-12-06",
                                    "MEDDIG": "2016-12-10",
                                    "Vendegek": "1",
                                    "Elozok": "9"
                                },
                                {
                                    "UGYFEL_FK": "sara",
                                    "METTOL": "2016-12-25",
                                    "MEDDIG": "2016-12-30",
                                    "Vendegek": "2",
                                    "Elozok": "8"
                                },
                                {
                                    "UGYFEL_FK": "SEBASTIANF",
                                    "METTOL": "2016-04-06",
                                    "MEDDIG": "2016-04-12",
                                    "Vendegek": "2",
                                    "Elozok": "NULL"
                                },
                                {
                                    "UGYFEL_FK": "SEBASTIANF",
                                    "METTOL": "2016-07-17",
                                    "MEDDIG": "2016-07-21",
                                    "Vendegek": "2",
                                    "Elozok": "2"
                                },
                                {
                                    "UGYFEL_FK": "SEBASTIANF",
                                    "METTOL": "2016-07-30",
                                    "MEDDIG": "2016-08-06",
                                    "Vendegek": "4",
                                    "Elozok": "4"
                                },
                                {
                                    "UGYFEL_FK": "SEBASTIANF",
                                    "METTOL": "2016-09-14",
                                    "MEDDIG": "2016-09-15",
                                    "Vendegek": "3",
                                    "Elozok": "8"
                                },
                                {
                                    "UGYFEL_FK": "SEBASTIANF",
                                    "METTOL": "2016-09-17",
                                    "MEDDIG": "2016-09-20",
                                    "Vendegek": "3",
                                    "Elozok": "9"
                                },
                                {
                                    "UGYFEL_FK": "sebestyen",
                                    "METTOL": "2016-04-07",
                                    "MEDDIG": "2016-04-12",
                                    "Vendegek": "4",
                                    "Elozok": "NULL"
                                },
                                {
                                    "UGYFEL_FK": "sebestyen",
                                    "METTOL": "2016-04-26",
                                    "MEDDIG": "2016-05-02",
                                    "Vendegek": "4",
                                    "Elozok": "4"
                                },
                                {
                                    "UGYFEL_FK": "sebestyen",
                                    "METTOL": "2016-06-09",
                                    "MEDDIG": "2016-06-14",
                                    "Vendegek": "4",
                                    "Elozok": "8"
                                },
                                {
                                    "UGYFEL_FK": "sebestyen",
                                    "METTOL": "2016-10-26",
                                    "MEDDIG": "2016-11-01",
                                    "Vendegek": "5",
                                    "Elozok": "12"
                                },
                                {
                                    "UGYFEL_FK": "szabolcs",
                                    "METTOL": "2016-12-05",
                                    "MEDDIG": "2016-12-07",
                                    "Vendegek": "2",
                                    "Elozok": "NULL"
                                },
                                {
                                    "UGYFEL_FK": "SZABOLCSM",
                                    "METTOL": "2016-07-28",
                                    "MEDDIG": "2016-08-03",
                                    "Vendegek": "2",
                                    "Elozok": "NULL"
                                },
                                {
                                    "UGYFEL_FK": "SZABOLCSM",
                                    "METTOL": "2016-06-18",
                                    "MEDDIG": "2016-06-21",
                                    "Vendegek": "3",
                                    "Elozok": "2"
                                },
                                {
                                    "UGYFEL_FK": "SZABOLCSM",
                                    "METTOL": "2016-10-17",
                                    "MEDDIG": "2016-10-19",
                                    "Vendegek": "2",
                                    "Elozok": "5"
                                },
                                {
                                    "UGYFEL_FK": "SZABOLCSM",
                                    "METTOL": "2016-10-28",
                                    "MEDDIG": "2016-11-03",
                                    "Vendegek": "3",
                                    "Elozok": "7"
                                },
                                {
                                    "UGYFEL_FK": "SZABOLCSM",
                                    "METTOL": "2016-11-12",
                                    "MEDDIG": "2016-11-13",
                                    "Vendegek": "2",
                                    "Elozok": "8"
                                },
                                {
                                    "UGYFEL_FK": "SZABOLCSM",
                                    "METTOL": "2017-01-07",
                                    "MEDDIG": "2017-01-08",
                                    "Vendegek": "2",
                                    "Elozok": "7"
                                },
                                {
                                    "UGYFEL_FK": "SZABOLCSM",
                                    "METTOL": "2017-02-04",
                                    "MEDDIG": "2017-02-05",
                                    "Vendegek": "3",
                                    "Elozok": "7"
                                },
                                {
                                    "UGYFEL_FK": "SZILARDS",
                                    "METTOL": "2016-04-23",
                                    "MEDDIG": "2016-04-30",
                                    "Vendegek": "3",
                                    "Elozok": "NULL"
                                },
                                {
                                    "UGYFEL_FK": "SZILARDS",
                                    "METTOL": "2016-07-27",
                                    "MEDDIG": "2016-08-03",
                                    "Vendegek": "5",
                                    "Elozok": "3"
                                },
                                {
                                    "UGYFEL_FK": "SZILARDS",
                                    "METTOL": "2016-08-28",
                                    "MEDDIG": "2016-08-29",
                                    "Vendegek": "4",
                                    "Elozok": "8"
                                },
                                {
                                    "UGYFEL_FK": "SZILARDS",
                                    "METTOL": "2016-09-20",
                                    "MEDDIG": "2016-09-24",
                                    "Vendegek": "3",
                                    "Elozok": "12"
                                },
                                {
                                    "UGYFEL_FK": "SZILARDS",
                                    "METTOL": "2016-10-01",
                                    "MEDDIG": "2016-10-08",
                                    "Vendegek": "3",
                                    "Elozok": "12"
                                },
                                {
                                    "UGYFEL_FK": "SZILARDS",
                                    "METTOL": "2017-01-16",
                                    "MEDDIG": "2017-01-19",
                                    "Vendegek": "3",
                                    "Elozok": "10"
                                },
                                {
                                    "UGYFEL_FK": "SZILARDS",
                                    "METTOL": "2017-02-08",
                                    "MEDDIG": "2017-02-15",
                                    "Vendegek": "1",
                                    "Elozok": "9"
                                },
                                {
                                    "UGYFEL_FK": "szilvia1",
                                    "METTOL": "2016-05-14",
                                    "MEDDIG": "2016-05-21",
                                    "Vendegek": "2",
                                    "Elozok": "NULL"
                                },
                                {
                                    "UGYFEL_FK": "szilvia1",
                                    "METTOL": "2016-07-25",
                                    "MEDDIG": "2016-07-28",
                                    "Vendegek": "2",
                                    "Elozok": "2"
                                },
                                {
                                    "UGYFEL_FK": "szilvia1",
                                    "METTOL": "2016-05-28",
                                    "MEDDIG": "2016-06-03",
                                    "Vendegek": "2",
                                    "Elozok": "4"
                                },
                                {
                                    "UGYFEL_FK": "szilvia1",
                                    "METTOL": "2016-10-09",
                                    "MEDDIG": "2016-10-10",
                                    "Vendegek": "3",
                                    "Elozok": "6"
                                },
                                {
                                    "UGYFEL_FK": "szilvia1",
                                    "METTOL": "2016-10-25",
                                    "MEDDIG": "2016-10-31",
                                    "Vendegek": "3",
                                    "Elozok": "7"
                                },
                                {
                                    "UGYFEL_FK": "szilvia1",
                                    "METTOL": "2016-10-27",
                                    "MEDDIG": "2016-10-28",
                                    "Vendegek": "2",
                                    "Elozok": "8"
                                },
                                {
                                    "UGYFEL_FK": "szilvia1",
                                    "METTOL": "2016-12-25",
                                    "MEDDIG": "2016-12-29",
                                    "Vendegek": "5",
                                    "Elozok": "8"
                                },
                                {
                                    "UGYFEL_FK": "szilvia1",
                                    "METTOL": "2016-12-27",
                                    "MEDDIG": "2017-01-02",
                                    "Vendegek": "2",
                                    "Elozok": "10"
                                },
                                {
                                    "UGYFEL_FK": "szilvia1",
                                    "METTOL": "2017-01-28",
                                    "MEDDIG": "2017-02-03",
                                    "Vendegek": "2",
                                    "Elozok": "9"
                                },
                                {
                                    "UGYFEL_FK": "tamara2",
                                    "METTOL": "2016-08-12",
                                    "MEDDIG": "2016-08-15",
                                    "Vendegek": "3",
                                    "Elozok": "NULL"
                                },
                                {
                                    "UGYFEL_FK": "tamara2",
                                    "METTOL": "2016-11-15",
                                    "MEDDIG": "2016-11-18",
                                    "Vendegek": "2",
                                    "Elozok": "3"
                                },
                                {
                                    "UGYFEL_FK": "tamas",
                                    "METTOL": "2016-05-17",
                                    "MEDDIG": "2016-05-22",
                                    "Vendegek": "2",
                                    "Elozok": "NULL"
                                },
                                {
                                    "UGYFEL_FK": "tamas",
                                    "METTOL": "2016-08-24",
                                    "MEDDIG": "2016-08-27",
                                    "Vendegek": "3",
                                    "Elozok": "2"
                                },
                                {
                                    "UGYFEL_FK": "tamas",
                                    "METTOL": "2016-06-14",
                                    "MEDDIG": "2016-06-21",
                                    "Vendegek": "2",
                                    "Elozok": "5"
                                },
                                {
                                    "UGYFEL_FK": "tamas",
                                    "METTOL": "2017-02-14",
                                    "MEDDIG": "2017-02-19",
                                    "Vendegek": "3",
                                    "Elozok": "7"
                                },
                                {
                                    "UGYFEL_FK": "TAMASF",
                                    "METTOL": "2016-05-03",
                                    "MEDDIG": "2016-05-04",
                                    "Vendegek": "2",
                                    "Elozok": "NULL"
                                },
                                {
                                    "UGYFEL_FK": "TAMASF",
                                    "METTOL": "2016-06-10",
                                    "MEDDIG": "2016-06-13",
                                    "Vendegek": "3",
                                    "Elozok": "2"
                                },
                                {
                                    "UGYFEL_FK": "TAMASF",
                                    "METTOL": "2016-06-28",
                                    "MEDDIG": "2016-07-05",
                                    "Vendegek": "3",
                                    "Elozok": "5"
                                },
                                {
                                    "UGYFEL_FK": "TAMASF",
                                    "METTOL": "2016-07-04",
                                    "MEDDIG": "2016-07-10",
                                    "Vendegek": "2",
                                    "Elozok": "8"
                                },
                                {
                                    "UGYFEL_FK": "TAMASF",
                                    "METTOL": "2016-09-12",
                                    "MEDDIG": "2016-09-18",
                                    "Vendegek": "3",
                                    "Elozok": "8"
                                },
                                {
                                    "UGYFEL_FK": "TAMASF",
                                    "METTOL": "2016-12-02",
                                    "MEDDIG": "2016-12-04",
                                    "Vendegek": "1",
                                    "Elozok": "8"
                                },
                                {
                                    "UGYFEL_FK": "TAMASF",
                                    "METTOL": "2016-12-10",
                                    "MEDDIG": "2016-12-14",
                                    "Vendegek": "3",
                                    "Elozok": "6"
                                },
                                {
                                    "UGYFEL_FK": "TAMASF",
                                    "METTOL": "2017-02-12",
                                    "MEDDIG": "2017-02-17",
                                    "Vendegek": "2",
                                    "Elozok": "7"
                                },
                                {
                                    "UGYFEL_FK": "TAMASF",
                                    "METTOL": "2017-02-16",
                                    "MEDDIG": "2017-02-19",
                                    "Vendegek": "4",
                                    "Elozok": "6"
                                },
                                {
                                    "UGYFEL_FK": "tibor",
                                    "METTOL": "2016-10-09",
                                    "MEDDIG": "2016-10-13",
                                    "Vendegek": "2",
                                    "Elozok": "NULL"
                                },
                                {
                                    "UGYFEL_FK": "tibor",
                                    "METTOL": "2016-11-05",
                                    "MEDDIG": "2016-11-09",
                                    "Vendegek": "1",
                                    "Elozok": "2"
                                },
                                {
                                    "UGYFEL_FK": "tibor2",
                                    "METTOL": "2016-10-20",
                                    "MEDDIG": "2016-10-25",
                                    "Vendegek": "2",
                                    "Elozok": "NULL"
                                },
                                {
                                    "UGYFEL_FK": "tihamer",
                                    "METTOL": "2016-07-20",
                                    "MEDDIG": "2016-07-24",
                                    "Vendegek": "3",
                                    "Elozok": "NULL"
                                },
                                {
                                    "UGYFEL_FK": "tihamer",
                                    "METTOL": "2016-08-18",
                                    "MEDDIG": "2016-08-22",
                                    "Vendegek": "3",
                                    "Elozok": "3"
                                },
                                {
                                    "UGYFEL_FK": "tihamer",
                                    "METTOL": "2016-05-30",
                                    "MEDDIG": "2016-06-05",
                                    "Vendegek": "1",
                                    "Elozok": "6"
                                },
                                {
                                    "UGYFEL_FK": "tihamer",
                                    "METTOL": "2016-06-03",
                                    "MEDDIG": "2016-06-08",
                                    "Vendegek": "5",
                                    "Elozok": "7"
                                },
                                {
                                    "UGYFEL_FK": "tihamer",
                                    "METTOL": "2016-10-19",
                                    "MEDDIG": "2016-10-23",
                                    "Vendegek": "2",
                                    "Elozok": "9"
                                },
                                {
                                    "UGYFEL_FK": "tihamer",
                                    "METTOL": "2016-12-25",
                                    "MEDDIG": "2016-12-26",
                                    "Vendegek": "2",
                                    "Elozok": "8"
                                },
                                {
                                    "UGYFEL_FK": "timea",
                                    "METTOL": "2016-12-26",
                                    "MEDDIG": "2016-12-27",
                                    "Vendegek": "2",
                                    "Elozok": "NULL"
                                },
                                {
                                    "UGYFEL_FK": "timea2",
                                    "METTOL": "2016-08-07",
                                    "MEDDIG": "2016-08-10",
                                    "Vendegek": "3",
                                    "Elozok": "NULL"
                                },
                                {
                                    "UGYFEL_FK": "timea2",
                                    "METTOL": "2016-06-06",
                                    "MEDDIG": "2016-06-07",
                                    "Vendegek": "2",
                                    "Elozok": "3"
                                },
                                {
                                    "UGYFEL_FK": "timea2",
                                    "METTOL": "2016-10-26",
                                    "MEDDIG": "2016-10-29",
                                    "Vendegek": "3",
                                    "Elozok": "5"
                                },
                                {
                                    "UGYFEL_FK": "timea2",
                                    "METTOL": "2016-11-27",
                                    "MEDDIG": "2016-12-01",
                                    "Vendegek": "4",
                                    "Elozok": "8"
                                },
                                {
                                    "UGYFEL_FK": "timea2",
                                    "METTOL": "2016-12-14",
                                    "MEDDIG": "2016-12-16",
                                    "Vendegek": "4",
                                    "Elozok": "9"
                                },
                                {
                                    "UGYFEL_FK": "tunde",
                                    "METTOL": "2016-07-14",
                                    "MEDDIG": "2016-07-21",
                                    "Vendegek": "1",
                                    "Elozok": "NULL"
                                },
                                {
                                    "UGYFEL_FK": "tunde",
                                    "METTOL": "2016-09-05",
                                    "MEDDIG": "2016-09-12",
                                    "Vendegek": "2",
                                    "Elozok": "1"
                                },
                                {
                                    "UGYFEL_FK": "tunde",
                                    "METTOL": "2016-06-03",
                                    "MEDDIG": "2016-06-07",
                                    "Vendegek": "3",
                                    "Elozok": "3"
                                },
                                {
                                    "UGYFEL_FK": "tunde",
                                    "METTOL": "2016-06-06",
                                    "MEDDIG": "2016-06-12",
                                    "Vendegek": "3",
                                    "Elozok": "6"
                                },
                                {
                                    "UGYFEL_FK": "tunde",
                                    "METTOL": "2016-10-24",
                                    "MEDDIG": "2016-10-30",
                                    "Vendegek": "3",
                                    "Elozok": "8"
                                },
                                {
                                    "UGYFEL_FK": "tunde",
                                    "METTOL": "2016-11-19",
                                    "MEDDIG": "2016-11-20",
                                    "Vendegek": "3",
                                    "Elozok": "9"
                                },
                                {
                                    "UGYFEL_FK": "tunde",
                                    "METTOL": "2016-12-15",
                                    "MEDDIG": "2016-12-20",
                                    "Vendegek": "3",
                                    "Elozok": "9"
                                },
                                {
                                    "UGYFEL_FK": "tunde",
                                    "METTOL": "2017-01-03",
                                    "MEDDIG": "2017-01-06",
                                    "Vendegek": "5",
                                    "Elozok": "9"
                                },
                                {
                                    "UGYFEL_FK": "valentin",
                                    "METTOL": "2016-07-24",
                                    "MEDDIG": "2016-07-29",
                                    "Vendegek": "1",
                                    "Elozok": "NULL"
                                },
                                {
                                    "UGYFEL_FK": "valentin",
                                    "METTOL": "2016-05-24",
                                    "MEDDIG": "2016-05-30",
                                    "Vendegek": "4",
                                    "Elozok": "1"
                                },
                                {
                                    "UGYFEL_FK": "valentin",
                                    "METTOL": "2016-10-26",
                                    "MEDDIG": "2016-10-30",
                                    "Vendegek": "3",
                                    "Elozok": "5"
                                },
                                {
                                    "UGYFEL_FK": "valentin",
                                    "METTOL": "2016-11-11",
                                    "MEDDIG": "2016-11-17",
                                    "Vendegek": "3",
                                    "Elozok": "8"
                                },
                                {
                                    "UGYFEL_FK": "valentin",
                                    "METTOL": "2016-12-01",
                                    "MEDDIG": "2016-12-05",
                                    "Vendegek": "3",
                                    "Elozok": "10"
                                },
                                {
                                    "UGYFEL_FK": "veronika4",
                                    "METTOL": "2016-07-20",
                                    "MEDDIG": "2016-07-26",
                                    "Vendegek": "3",
                                    "Elozok": "NULL"
                                },
                                {
                                    "UGYFEL_FK": "veronika4",
                                    "METTOL": "2016-08-16",
                                    "MEDDIG": "2016-08-21",
                                    "Vendegek": "1",
                                    "Elozok": "3"
                                },
                                {
                                    "UGYFEL_FK": "veronika4",
                                    "METTOL": "2016-05-30",
                                    "MEDDIG": "2016-06-04",
                                    "Vendegek": "2",
                                    "Elozok": "4"
                                },
                                {
                                    "UGYFEL_FK": "veronika4",
                                    "METTOL": "2016-09-26",
                                    "MEDDIG": "2016-10-03",
                                    "Vendegek": "2",
                                    "Elozok": "6"
                                },
                                {
                                    "UGYFEL_FK": "veronika4",
                                    "METTOL": "2017-01-19",
                                    "MEDDIG": "2017-01-24",
                                    "Vendegek": "3",
                                    "Elozok": "5"
                                },
                                {
                                    "UGYFEL_FK": "veronika4",
                                    "METTOL": "2017-02-03",
                                    "MEDDIG": "2017-02-05",
                                    "Vendegek": "2",
                                    "Elozok": "7"
                                },
                                {
                                    "UGYFEL_FK": "VIKTORIAU",
                                    "METTOL": "2016-04-30",
                                    "MEDDIG": "2016-05-03",
                                    "Vendegek": "1",
                                    "Elozok": "NULL"
                                },
                                {
                                    "UGYFEL_FK": "VIKTORIAU",
                                    "METTOL": "2016-08-03",
                                    "MEDDIG": "2016-08-04",
                                    "Vendegek": "2",
                                    "Elozok": "1"
                                },
                                {
                                    "UGYFEL_FK": "VIKTORIAU",
                                    "METTOL": "2016-10-14",
                                    "MEDDIG": "2016-10-15",
                                    "Vendegek": "3",
                                    "Elozok": "3"
                                },
                                {
                                    "UGYFEL_FK": "VIKTORIAU",
                                    "METTOL": "2016-10-26",
                                    "MEDDIG": "2016-11-02",
                                    "Vendegek": "4",
                                    "Elozok": "6"
                                },
                                {
                                    "UGYFEL_FK": "VIKTORK",
                                    "METTOL": "2016-05-30",
                                    "MEDDIG": "2016-06-01",
                                    "Vendegek": "2",
                                    "Elozok": "NULL"
                                },
                                {
                                    "UGYFEL_FK": "VIKTORK",
                                    "METTOL": "2016-06-06",
                                    "MEDDIG": "2016-06-07",
                                    "Vendegek": "4",
                                    "Elozok": "2"
                                },
                                {
                                    "UGYFEL_FK": "vivien3",
                                    "METTOL": "2016-05-02",
                                    "MEDDIG": "2016-05-05",
                                    "Vendegek": "3",
                                    "Elozok": "NULL"
                                },
                                {
                                    "UGYFEL_FK": "vivien3",
                                    "METTOL": "2016-08-13",
                                    "MEDDIG": "2016-08-18",
                                    "Vendegek": "2",
                                    "Elozok": "3"
                                },
                                {
                                    "UGYFEL_FK": "vivien3",
                                    "METTOL": "2016-09-01",
                                    "MEDDIG": "2016-09-05",
                                    "Vendegek": "2",
                                    "Elozok": "5"
                                },
                                {
                                    "UGYFEL_FK": "vivien3",
                                    "METTOL": "2016-10-01",
                                    "MEDDIG": "2016-10-04",
                                    "Vendegek": "1",
                                    "Elozok": "7"
                                },
                                {
                                    "UGYFEL_FK": "vivien3",
                                    "METTOL": "2016-11-17",
                                    "MEDDIG": "2016-11-20",
                                    "Vendegek": "2",
                                    "Elozok": "5"
                                },
                                {
                                    "UGYFEL_FK": "vivien3",
                                    "METTOL": "2016-12-17",
                                    "MEDDIG": "2016-12-21",
                                    "Vendegek": "2",
                                    "Elozok": "5"
                                },
                                {
                                    "UGYFEL_FK": "vivien3",
                                    "METTOL": "2016-12-24",
                                    "MEDDIG": "2016-12-26",
                                    "Vendegek": "3",
                                    "Elozok": "5"
                                },
                                {
                                    "UGYFEL_FK": "zoltan",
                                    "METTOL": "2016-08-24",
                                    "MEDDIG": "2016-08-31",
                                    "Vendegek": "2",
                                    "Elozok": "NULL"
                                },
                                {
                                    "UGYFEL_FK": "zoltan",
                                    "METTOL": "2016-09-05",
                                    "MEDDIG": "2016-09-09",
                                    "Vendegek": "3",
                                    "Elozok": "2"
                                },
                                {
                                    "UGYFEL_FK": "zoltan4",
                                    "METTOL": "2016-05-12",
                                    "MEDDIG": "2016-05-16",
                                    "Vendegek": "3",
                                    "Elozok": "NULL"
                                },
                                {
                                    "UGYFEL_FK": "zoltan4",
                                    "METTOL": "2016-05-13",
                                    "MEDDIG": "2016-05-16",
                                    "Vendegek": "3",
                                    "Elozok": "3"
                                },
                                {
                                    "UGYFEL_FK": "zoltan4",
                                    "METTOL": "2016-08-15",
                                    "MEDDIG": "2016-08-21",
                                    "Vendegek": "1",
                                    "Elozok": "6"
                                },
                                {
                                    "UGYFEL_FK": "zoltan4",
                                    "METTOL": "2016-08-16",
                                    "MEDDIG": "2016-08-23",
                                    "Vendegek": "2",
                                    "Elozok": "7"
                                },
                                {
                                    "UGYFEL_FK": "zoltan4",
                                    "METTOL": "2016-06-03",
                                    "MEDDIG": "2016-06-06",
                                    "Vendegek": "1",
                                    "Elozok": "6"
                                },
                                {
                                    "UGYFEL_FK": "zoltan4",
                                    "METTOL": "2016-09-30",
                                    "MEDDIG": "2016-10-07",
                                    "Vendegek": "3",
                                    "Elozok": "4"
                                },
                                {
                                    "UGYFEL_FK": "zoltan4",
                                    "METTOL": "2016-10-21",
                                    "MEDDIG": "2016-10-24",
                                    "Vendegek": "5",
                                    "Elozok": "6"
                                },
                                {
                                    "UGYFEL_FK": "zoltan4",
                                    "METTOL": "2016-10-26",
                                    "MEDDIG": "2016-10-30",
                                    "Vendegek": "2",
                                    "Elozok": "9"
                                },
                                {
                                    "UGYFEL_FK": "zoltan4",
                                    "METTOL": "2016-10-30",
                                    "MEDDIG": "2016-11-06",
                                    "Vendegek": "1",
                                    "Elozok": "10"
                                },
                                {
                                    "UGYFEL_FK": "zoltan4",
                                    "METTOL": "2016-11-19",
                                    "MEDDIG": "2016-11-21",
                                    "Vendegek": "2",
                                    "Elozok": "8"
                                },
                                {
                                    "UGYFEL_FK": "zoltan4",
                                    "METTOL": "2016-12-29",
                                    "MEDDIG": "2017-01-04",
                                    "Vendegek": "1",
                                    "Elozok": "5"
                                },
                                {
                                    "UGYFEL_FK": "zoltan4",
                                    "METTOL": "2017-01-01",
                                    "MEDDIG": "2017-01-02",
                                    "Vendegek": "3",
                                    "Elozok": "4"
                                },
                                {
                                    "UGYFEL_FK": "ZOLTANP",
                                    "METTOL": "2016-07-20",
                                    "MEDDIG": "2016-07-25",
                                    "Vendegek": "3",
                                    "Elozok": "NULL"
                                },
                                {
                                    "UGYFEL_FK": "ZOLTANP",
                                    "METTOL": "2016-06-05",
                                    "MEDDIG": "2016-06-08",
                                    "Vendegek": "2",
                                    "Elozok": "3"
                                },
                                {
                                    "UGYFEL_FK": "ZOLTANP",
                                    "METTOL": "2016-06-06",
                                    "MEDDIG": "2016-06-08",
                                    "Vendegek": "2",
                                    "Elozok": "5"
                                },
                                {
                                    "UGYFEL_FK": "ZOLTANP",
                                    "METTOL": "2016-10-19",
                                    "MEDDIG": "2016-10-25",
                                    "Vendegek": "2",
                                    "Elozok": "7"
                                },
                                {
                                    "UGYFEL_FK": "ZOLTANP",
                                    "METTOL": "2016-12-07",
                                    "MEDDIG": "2016-12-10",
                                    "Vendegek": "3",
                                    "Elozok": "6"
                                },
                                {
                                    "UGYFEL_FK": "ZOLTANP",
                                    "METTOL": "2016-12-25",
                                    "MEDDIG": "2016-12-29",
                                    "Vendegek": "2",
                                    "Elozok": "7"
                                },
                                {
                                    "UGYFEL_FK": "ZOLTANT",
                                    "METTOL": "2016-05-01",
                                    "MEDDIG": "2016-05-04",
                                    "Vendegek": "3",
                                    "Elozok": "NULL"
                                },
                                {
                                    "UGYFEL_FK": "ZOLTANT",
                                    "METTOL": "2016-07-14",
                                    "MEDDIG": "2016-07-15",
                                    "Vendegek": "3",
                                    "Elozok": "3"
                                },
                                {
                                    "UGYFEL_FK": "ZOLTANT",
                                    "METTOL": "2017-01-16",
                                    "MEDDIG": "2017-01-20",
                                    "Vendegek": "2",
                                    "Elozok": "6"
                                },
                                {
                                    "UGYFEL_FK": "zsofi1",
                                    "METTOL": "2016-06-16",
                                    "MEDDIG": "2016-06-17",
                                    "Vendegek": "2",
                                    "Elozok": "NULL"
                                },
                                {
                                    "UGYFEL_FK": "zsofi1",
                                    "METTOL": "2017-02-18",
                                    "MEDDIG": "2017-02-19",
                                    "Vendegek": "3",
                                    "Elozok": "2"
                                },
                                {
                                    "UGYFEL_FK": "zsolt1",
                                    "METTOL": "2016-04-14",
                                    "MEDDIG": "2016-04-17",
                                    "Vendegek": "2",
                                    "Elozok": "NULL"
                                },
                                {
                                    "UGYFEL_FK": "zsolt1",
                                    "METTOL": "2016-07-31",
                                    "MEDDIG": "2016-08-02",
                                    "Vendegek": "2",
                                    "Elozok": "2"
                                },
                                {
                                    "UGYFEL_FK": "zsolt1",
                                    "METTOL": "2016-06-06",
                                    "MEDDIG": "2016-06-08",
                                    "Vendegek": "2",
                                    "Elozok": "4"
                                },
                                {
                                    "UGYFEL_FK": "zsolt1",
                                    "METTOL": "2016-06-07",
                                    "MEDDIG": "2016-06-10",
                                    "Vendegek": "4",
                                    "Elozok": "6"
                                },
                                {
                                    "UGYFEL_FK": "ZSOLTJ",
                                    "METTOL": "2016-04-24",
                                    "MEDDIG": "2016-04-26",
                                    "Vendegek": "4",
                                    "Elozok": "NULL"
                                },
                                {
                                    "UGYFEL_FK": "ZSOLTJ",
                                    "METTOL": "2016-05-09",
                                    "MEDDIG": "2016-05-11",
                                    "Vendegek": "2",
                                    "Elozok": "4"
                                },
                                {
                                    "UGYFEL_FK": "ZSOLTJ",
                                    "METTOL": "2016-07-18",
                                    "MEDDIG": "2016-07-19",
                                    "Vendegek": "2",
                                    "Elozok": "6"
                                },
                                {
                                    "UGYFEL_FK": "ZSOLTJ",
                                    "METTOL": "2016-05-28",
                                    "MEDDIG": "2016-06-03",
                                    "Vendegek": "1",
                                    "Elozok": "8"
                                },
                                {
                                    "UGYFEL_FK": "ZSOLTJ",
                                    "METTOL": "2016-06-17",
                                    "MEDDIG": "2016-06-19",
                                    "Vendegek": "2",
                                    "Elozok": "5"
                                },
                                {
                                    "UGYFEL_FK": "ZSOLTJ",
                                    "METTOL": "2016-10-01",
                                    "MEDDIG": "2016-10-06",
                                    "Vendegek": "2",
                                    "Elozok": "5"
                                },
                                {
                                    "UGYFEL_FK": "zsuzsa",
                                    "METTOL": "2016-07-24",
                                    "MEDDIG": "2016-07-25",
                                    "Vendegek": "3",
                                    "Elozok": "NULL"
                                },
                                {
                                    "UGYFEL_FK": "zsuzsa",
                                    "METTOL": "2016-08-28",
                                    "MEDDIG": "2016-08-30",
                                    "Vendegek": "2",
                                    "Elozok": "3"
                                },
                                {
                                    "UGYFEL_FK": "zsuzsa",
                                    "METTOL": "2016-11-28",
                                    "MEDDIG": "2016-12-04",
                                    "Vendegek": "3",
                                    "Elozok": "5"
                                },
                                {
                                    "UGYFEL_FK": "zsuzsa3",
                                    "METTOL": "2016-07-30",
                                    "MEDDIG": "2016-08-02",
                                    "Vendegek": "2",
                                    "Elozok": "NULL"
                                },
                                {
                                    "UGYFEL_FK": "zsuzsa3",
                                    "METTOL": "2016-09-09",
                                    "MEDDIG": "2016-09-10",
                                    "Vendegek": "2",
                                    "Elozok": "2"
                                },
                                {
                                    "UGYFEL_FK": "zsuzsa3",
                                    "METTOL": "2016-09-28",
                                    "MEDDIG": "2016-10-03",
                                    "Vendegek": "2",
                                    "Elozok": "4"
                                },
                                {
                                    "UGYFEL_FK": "zsuzsa3",
                                    "METTOL": "2016-10-27",
                                    "MEDDIG": "2016-11-03",
                                    "Vendegek": "4",
                                    "Elozok": "6"
                                },
                                {
                                    "UGYFEL_FK": "zsuzsanna",
                                    "METTOL": "2016-05-17",
                                    "MEDDIG": "2016-05-23",
                                    "Vendegek": "2",
                                    "Elozok": "NULL"
                                },
                                {
                                    "UGYFEL_FK": "zsuzsanna",
                                    "METTOL": "2016-07-12",
                                    "MEDDIG": "2016-07-15",
                                    "Vendegek": "2",
                                    "Elozok": "2"
                                },
                                {
                                    "UGYFEL_FK": "zsuzsanna",
                                    "METTOL": "2017-01-09",
                                    "MEDDIG": "2017-01-16",
                                    "Vendegek": "1",
                                    "Elozok": "4"
                                },
                                {
                                    "UGYFEL_FK": "zsuzsanna",
                                    "METTOL": "2017-01-16",
                                    "MEDDIG": "2017-01-22",
                                    "Vendegek": "2",
                                    "Elozok": "5"
                                },
                                {
                                    "UGYFEL_FK": "ZSUZSAV",
                                    "METTOL": "2016-04-14",
                                    "MEDDIG": "2016-04-16",
                                    "Vendegek": "2",
                                    "Elozok": "NULL"
                                },
                                {
                                    "UGYFEL_FK": "ZSUZSAV",
                                    "METTOL": "2016-05-28",
                                    "MEDDIG": "2016-06-01",
                                    "Vendegek": "4",
                                    "Elozok": "2"
                                },
                                {
                                    "UGYFEL_FK": "ZSUZSAV",
                                    "METTOL": "2016-06-15",
                                    "MEDDIG": "2016-06-21",
                                    "Vendegek": "3",
                                    "Elozok": "6"
                                },
                                {
                                    "UGYFEL_FK": "ZSUZSAV",
                                    "METTOL": "2016-09-18",
                                    "MEDDIG": "2016-09-20",
                                    "Vendegek": "2",
                                    "Elozok": "9"
                                },
                                {
                                    "UGYFEL_FK": "ZSUZSAV",
                                    "METTOL": "2016-10-26",
                                    "MEDDIG": "2016-10-28",
                                    "Vendegek": "1",
                                    "Elozok": "9"
                                },
                                {
                                    "UGYFEL_FK": "ZSUZSAV",
                                    "METTOL": "2016-11-21",
                                    "MEDDIG": "2016-11-24",
                                    "Vendegek": "3",
                                    "Elozok": "6"
                                }
                            ]
                        },
                        "text/html": [
                            "<table>",
                            "<tr><th>UGYFEL_FK</th><th>METTOL</th><th>MEDDIG</th><th>Vendegek</th><th>Elozok</th></tr>",
                            "<tr><td>adam1</td><td>2016-08-20</td><td>2016-08-24</td><td>1</td><td>NULL</td></tr>",
                            "<tr><td>adam1</td><td>2016-05-28</td><td>2016-06-03</td><td>3</td><td>1</td></tr>",
                            "<tr><td>adam1</td><td>2016-10-19</td><td>2016-10-24</td><td>2</td><td>4</td></tr>",
                            "<tr><td>adam3</td><td>2016-09-12</td><td>2016-09-16</td><td>2</td><td>NULL</td></tr>",
                            "<tr><td>adam3</td><td>2017-02-06</td><td>2017-02-10</td><td>1</td><td>2</td></tr>",
                            "<tr><td>adam4</td><td>2016-08-28</td><td>2016-08-30</td><td>3</td><td>NULL</td></tr>",
                            "<tr><td>adam4</td><td>2016-10-27</td><td>2016-11-02</td><td>3</td><td>3</td></tr>",
                            "<tr><td>adam4</td><td>2016-11-15</td><td>2016-11-18</td><td>2</td><td>6</td></tr>",
                            "<tr><td>adam4</td><td>2016-12-06</td><td>2016-12-09</td><td>3</td><td>8</td></tr>",
                            "<tr><td>adam4</td><td>2017-01-12</td><td>2017-01-19</td><td>2</td><td>8</td></tr>",
                            "<tr><td>adam4</td><td>2017-02-23</td><td>2017-02-27</td><td>3</td><td>7</td></tr>",
                            "<tr><td>agnes</td><td>2016-05-09</td><td>2016-05-11</td><td>3</td><td>NULL</td></tr>",
                            "<tr><td>agnes</td><td>2016-07-13</td><td>2016-07-19</td><td>3</td><td>3</td></tr>",
                            "<tr><td>agnes</td><td>2016-07-30</td><td>2016-08-06</td><td>3</td><td>6</td></tr>",
                            "<tr><td>agnes</td><td>2016-05-25</td><td>2016-05-30</td><td>1</td><td>9</td></tr>",
                            "<tr><td>agnes</td><td>2016-11-07</td><td>2016-11-13</td><td>2</td><td>7</td></tr>",
                            "<tr><td>agnes3</td><td>2016-08-04</td><td>2016-08-10</td><td>1</td><td>NULL</td></tr>",
                            "<tr><td>agnes3</td><td>2016-10-22</td><td>2016-10-23</td><td>3</td><td>1</td></tr>",
                            "<tr><td>agnes3</td><td>2017-02-16</td><td>2017-02-21</td><td>3</td><td>4</td></tr>",
                            "<tr><td>AGNESH</td><td>2016-04-10</td><td>2016-04-12</td><td>2</td><td>NULL</td></tr>",
                            "<tr><td>AGNESH</td><td>2016-04-27</td><td>2016-04-28</td><td>4</td><td>2</td></tr>",
                            "<tr><td>AGNESH</td><td>2016-06-23</td><td>2016-06-26</td><td>1</td><td>6</td></tr>",
                            "<tr><td>AGNESH</td><td>2016-10-30</td><td>2016-11-04</td><td>1</td><td>7</td></tr>",
                            "<tr><td>AGNESH</td><td>2017-01-03</td><td>2017-01-10</td><td>2</td><td>6</td></tr>",
                            "<tr><td>AGNESH</td><td>2017-01-16</td><td>2017-01-23</td><td>3</td><td>4</td></tr>",
                            "<tr><td>AGNESK</td><td>2016-07-29</td><td>2016-08-01</td><td>3</td><td>NULL</td></tr>",
                            "<tr><td>AGNESK</td><td>2016-10-17</td><td>2016-10-19</td><td>2</td><td>3</td></tr>",
                            "<tr><td>AGNESK</td><td>2016-12-17</td><td>2016-12-18</td><td>2</td><td>5</td></tr>",
                            "<tr><td>akos</td><td>2016-05-18</td><td>2016-05-19</td><td>2</td><td>NULL</td></tr>",
                            "<tr><td>akos</td><td>2016-07-14</td><td>2016-07-19</td><td>2</td><td>2</td></tr>",
                            "<tr><td>akos</td><td>2016-07-16</td><td>2016-07-18</td><td>2</td><td>4</td></tr>",
                            "<tr><td>akos</td><td>2016-07-22</td><td>2016-07-26</td><td>1</td><td>6</td></tr>",
                            "<tr><td>akos</td><td>2016-09-06</td><td>2016-09-12</td><td>1</td><td>5</td></tr>",
                            "<tr><td>akos</td><td>2016-10-05</td><td>2016-10-09</td><td>2</td><td>4</td></tr>",
                            "<tr><td>akos</td><td>2016-10-18</td><td>2016-10-23</td><td>2</td><td>4</td></tr>",
                            "<tr><td>akos</td><td>2016-11-21</td><td>2016-11-27</td><td>2</td><td>5</td></tr>",
                            "<tr><td>akos</td><td>2016-12-15</td><td>2016-12-21</td><td>2</td><td>6</td></tr>",
                            "<tr><td>akos</td><td>2016-12-29</td><td>2016-12-30</td><td>3</td><td>6</td></tr>",
                            "<tr><td>aladar</td><td>2016-05-17</td><td>2016-05-24</td><td>1</td><td>NULL</td></tr>",
                            "<tr><td>aladar</td><td>2016-09-24</td><td>2016-09-28</td><td>1</td><td>1</td></tr>",
                            "<tr><td>aladar</td><td>2016-11-22</td><td>2016-11-23</td><td>2</td><td>2</td></tr>",
                            "<tr><td>alexandra</td><td>2016-05-21</td><td>2016-05-27</td><td>3</td><td>NULL</td></tr>",
                            "<tr><td>alexandra</td><td>2016-07-27</td><td>2016-07-30</td><td>2</td><td>3</td></tr>",
                            "<tr><td>alexandra</td><td>2016-06-08</td><td>2016-06-11</td><td>3</td><td>5</td></tr>",
                            "<tr><td>alexandra</td><td>2016-10-21</td><td>2016-10-25</td><td>2</td><td>8</td></tr>",
                            "<tr><td>alexandra</td><td>2016-11-29</td><td>2016-12-05</td><td>2</td><td>7</td></tr>",
                            "<tr><td>alexandra</td><td>2017-01-13</td><td>2017-01-14</td><td>1</td><td>7</td></tr>",
                            "<tr><td>alexandra</td><td>2017-01-19</td><td>2017-01-26</td><td>2</td><td>5</td></tr>",
                            "<tr><td>andi</td><td>2016-05-08</td><td>2016-05-14</td><td>4</td><td>NULL</td></tr>",
                            "<tr><td>andi</td><td>2016-06-13</td><td>2016-06-14</td><td>1</td><td>4</td></tr>",
                            "<tr><td>andi</td><td>2016-09-13</td><td>2016-09-16</td><td>2</td><td>5</td></tr>",
                            "<tr><td>andi</td><td>2016-11-16</td><td>2016-11-17</td><td>3</td><td>7</td></tr>",
                            "<tr><td>andi</td><td>2017-01-13</td><td>2017-01-17</td><td>3</td><td>6</td></tr>",
                            "<tr><td>andras2</td><td>2016-07-20</td><td>2016-07-22</td><td>2</td><td>NULL</td></tr>",
                            "<tr><td>andras2</td><td>2016-05-30</td><td>2016-06-04</td><td>1</td><td>2</td></tr>",
                            "<tr><td>andras2</td><td>2016-09-30</td><td>2016-10-03</td><td>2</td><td>3</td></tr>",
                            "<tr><td>andras2</td><td>2016-10-07</td><td>2016-10-10</td><td>3</td><td>5</td></tr>",
                            "<tr><td>andras2</td><td>2017-02-08</td><td>2017-02-10</td><td>4</td><td>6</td></tr>",
                            "<tr><td>andras21</td><td>2016-07-20</td><td>2016-07-22</td><td>1</td><td>NULL</td></tr>",
                            "<tr><td>andras21</td><td>2016-06-21</td><td>2016-06-26</td><td>2</td><td>1</td></tr>",
                            "<tr><td>andras21</td><td>2016-07-04</td><td>2016-07-05</td><td>3</td><td>3</td></tr>",
                            "<tr><td>andras21</td><td>2016-10-01</td><td>2016-10-06</td><td>3</td><td>6</td></tr>",
                            "<tr><td>andras21</td><td>2016-10-04</td><td>2016-10-11</td><td>3</td><td>8</td></tr>",
                            "<tr><td>andras21</td><td>2016-11-23</td><td>2016-11-24</td><td>4</td><td>9</td></tr>",
                            "<tr><td>andras21</td><td>2017-01-28</td><td>2017-02-01</td><td>2</td><td>10</td></tr>",
                            "<tr><td>andras3</td><td>2016-05-01</td><td>2016-05-06</td><td>2</td><td>NULL</td></tr>",
                            "<tr><td>andras3</td><td>2016-07-15</td><td>2016-07-19</td><td>3</td><td>2</td></tr>",
                            "<tr><td>andras3</td><td>2016-07-21</td><td>2016-07-23</td><td>2</td><td>5</td></tr>",
                            "<tr><td>andras3</td><td>2016-08-29</td><td>2016-09-02</td><td>3</td><td>7</td></tr>",
                            "<tr><td>andras3</td><td>2016-05-30</td><td>2016-06-03</td><td>1</td><td>8</td></tr>",
                            "<tr><td>andras3</td><td>2016-06-10</td><td>2016-06-11</td><td>1</td><td>6</td></tr>",
                            "<tr><td>andras3</td><td>2016-11-28</td><td>2016-12-02</td><td>2</td><td>5</td></tr>",
                            "<tr><td>andras3</td><td>2017-02-02</td><td>2017-02-08</td><td>2</td><td>4</td></tr>",
                            "<tr><td>andras4</td><td>2016-09-17</td><td>2016-09-20</td><td>2</td><td>NULL</td></tr>",
                            "<tr><td>andras4</td><td>2016-11-25</td><td>2016-11-28</td><td>2</td><td>2</td></tr>",
                            "<tr><td>andras4</td><td>2017-01-09</td><td>2017-01-10</td><td>2</td><td>4</td></tr>",
                            "<tr><td>andras41</td><td>2016-05-14</td><td>2016-05-16</td><td>2</td><td>NULL</td></tr>",
                            "<tr><td>andras41</td><td>2016-05-21</td><td>2016-05-23</td><td>4</td><td>2</td></tr>",
                            "<tr><td>andras41</td><td>2016-07-28</td><td>2016-08-03</td><td>3</td><td>6</td></tr>",
                            "<tr><td>andras41</td><td>2016-08-17</td><td>2016-08-21</td><td>3</td><td>9</td></tr>",
                            "<tr><td>andras41</td><td>2016-08-19</td><td>2016-08-23</td><td>1</td><td>10</td></tr>",
                            "<tr><td>andras41</td><td>2016-06-07</td><td>2016-06-11</td><td>3</td><td>7</td></tr>",
                            "<tr><td>andras41</td><td>2016-06-23</td><td>2016-06-29</td><td>2</td><td>7</td></tr>",
                            "<tr><td>andras41</td><td>2016-09-22</td><td>2016-09-29</td><td>1</td><td>6</td></tr>",
                            "<tr><td>andras41</td><td>2016-09-30</td><td>2016-10-05</td><td>2</td><td>6</td></tr>",
                            "<tr><td>andras41</td><td>2016-10-09</td><td>2016-10-13</td><td>2</td><td>5</td></tr>",
                            "<tr><td>andras41</td><td>2016-10-15</td><td>2016-10-18</td><td>3</td><td>5</td></tr>",
                            "<tr><td>andras41</td><td>2016-11-20</td><td>2016-11-24</td><td>3</td><td>7</td></tr>",
                            "<tr><td>andras41</td><td>2016-11-23</td><td>2016-11-24</td><td>1</td><td>8</td></tr>",
                            "<tr><td>ANDRASE</td><td>2016-04-24</td><td>2016-05-01</td><td>1</td><td>NULL</td></tr>",
                            "<tr><td>ANDRASE</td><td>2016-08-16</td><td>2016-08-20</td><td>2</td><td>1</td></tr>",
                            "<tr><td>ANDRASE</td><td>2016-07-06</td><td>2016-07-07</td><td>2</td><td>3</td></tr>",
                            "<tr><td>ANDRASE</td><td>2016-11-19</td><td>2016-11-20</td><td>4</td><td>5</td></tr>",
                            "<tr><td>ANDRASE</td><td>2016-11-29</td><td>2016-12-06</td><td>3</td><td>8</td></tr>",
                            "<tr><td>ANDRASN</td><td>2016-11-25</td><td>2016-12-01</td><td>2</td><td>NULL</td></tr>",
                            "<tr><td>andrea</td><td>2016-07-27</td><td>2016-07-28</td><td>2</td><td>NULL</td></tr>",
                            "<tr><td>andrea</td><td>2016-08-01</td><td>2016-08-02</td><td>2</td><td>2</td></tr>",
                            "<tr><td>andrea</td><td>2016-08-23</td><td>2016-08-26</td><td>3</td><td>4</td></tr>",
                            "<tr><td>andrea</td><td>2016-08-26</td><td>2016-08-30</td><td>2</td><td>7</td></tr>",
                            "<tr><td>andrea</td><td>2016-10-21</td><td>2016-10-27</td><td>4</td><td>7</td></tr>",
                            "<tr><td>andrea</td><td>2017-02-09</td><td>2017-02-14</td><td>2</td><td>9</td></tr>",
                            "<tr><td>andrea3</td><td>2016-11-19</td><td>2016-11-21</td><td>3</td><td>NULL</td></tr>",
                            "<tr><td>andrea4</td><td>2016-05-27</td><td>2016-05-29</td><td>1</td><td>NULL</td></tr>",
                            "<tr><td>andrea4</td><td>2016-09-13</td><td>2016-09-17</td><td>2</td><td>1</td></tr>",
                            "<tr><td>andrea4</td><td>2016-10-30</td><td>2016-11-06</td><td>3</td><td>3</td></tr>",
                            "<tr><td>andrea4</td><td>2017-01-22</td><td>2017-01-29</td><td>2</td><td>6</td></tr>",
                            "<tr><td>ANDREAT</td><td>2016-07-27</td><td>2016-08-01</td><td>2</td><td>NULL</td></tr>",
                            "<tr><td>ANDREAT</td><td>2016-09-15</td><td>2016-09-16</td><td>2</td><td>2</td></tr>",
                            "<tr><td>ANDREAT</td><td>2016-10-08</td><td>2016-10-12</td><td>3</td><td>4</td></tr>",
                            "<tr><td>anett3</td><td>2016-04-10</td><td>2016-04-17</td><td>1</td><td>NULL</td></tr>",
                            "<tr><td>anett3</td><td>2016-04-13</td><td>2016-04-19</td><td>3</td><td>1</td></tr>",
                            "<tr><td>anett3</td><td>2016-04-15</td><td>2016-04-19</td><td>3</td><td>4</td></tr>",
                            "<tr><td>anett3</td><td>2016-04-28</td><td>2016-05-02</td><td>3</td><td>7</td></tr>",
                            "<tr><td>anett3</td><td>2016-08-15</td><td>2016-08-16</td><td>2</td><td>9</td></tr>",
                            "<tr><td>anett3</td><td>2016-08-17</td><td>2016-08-23</td><td>3</td><td>8</td></tr>",
                            "<tr><td>anett3</td><td>2016-10-12</td><td>2016-10-19</td><td>3</td><td>8</td></tr>",
                            "<tr><td>anett3</td><td>2016-10-16</td><td>2016-10-21</td><td>1</td><td>8</td></tr>",
                            "<tr><td>aniko</td><td>2016-06-25</td><td>2016-06-30</td><td>3</td><td>NULL</td></tr>",
                            "<tr><td>aniko</td><td>2017-02-12</td><td>2017-02-14</td><td>3</td><td>3</td></tr>",
                            "<tr><td>aniko</td><td>2017-02-23</td><td>2017-02-24</td><td>2</td><td>6</td></tr>",
                            "<tr><td>aniko4</td><td>2016-07-22</td><td>2016-07-25</td><td>3</td><td>NULL</td></tr>",
                            "<tr><td>aniko4</td><td>2016-07-02</td><td>2016-07-09</td><td>1</td><td>3</td></tr>",
                            "<tr><td>aniko4</td><td>2016-09-05</td><td>2016-09-07</td><td>4</td><td>4</td></tr>",
                            "<tr><td>aniko4</td><td>2016-10-16</td><td>2016-10-18</td><td>3</td><td>8</td></tr>",
                            "<tr><td>ANIKOS</td><td>2016-04-19</td><td>2016-04-24</td><td>2</td><td>NULL</td></tr>",
                            "<tr><td>ANIKOS</td><td>2016-07-17</td><td>2016-07-22</td><td>3</td><td>2</td></tr>",
                            "<tr><td>ANIKOS</td><td>2016-08-26</td><td>2016-09-02</td><td>2</td><td>5</td></tr>",
                            "<tr><td>ANIKOS</td><td>2016-05-24</td><td>2016-05-25</td><td>3</td><td>7</td></tr>",
                            "<tr><td>ANIKOS</td><td>2016-06-16</td><td>2016-06-23</td><td>1</td><td>8</td></tr>",
                            "<tr><td>ANIKOS</td><td>2016-06-27</td><td>2016-06-30</td><td>2</td><td>6</td></tr>",
                            "<tr><td>ANIKOS</td><td>2016-10-08</td><td>2016-10-14</td><td>2</td><td>6</td></tr>",
                            "<tr><td>ANIKOS</td><td>2016-10-29</td><td>2016-11-05</td><td>3</td><td>5</td></tr>",
                            "<tr><td>ANIKOS</td><td>2016-11-10</td><td>2016-11-15</td><td>2</td><td>7</td></tr>",
                            "<tr><td>anita</td><td>2016-09-28</td><td>2016-10-02</td><td>4</td><td>NULL</td></tr>",
                            "<tr><td>anita</td><td>2016-10-01</td><td>2016-10-04</td><td>2</td><td>4</td></tr>",
                            "<tr><td>anita</td><td>2017-02-19</td><td>2017-02-22</td><td>2</td><td>6</td></tr>",
                            "<tr><td>anita</td><td>2017-02-20</td><td>2017-02-25</td><td>2</td><td>8</td></tr>",
                            "<tr><td>annamaria1</td><td>2016-06-06</td><td>2016-06-07</td><td>3</td><td>NULL</td></tr>",
                            "<tr><td>annamaria1</td><td>2017-01-30</td><td>2017-01-31</td><td>4</td><td>3</td></tr>",
                            "<tr><td>ANNAMARIAR</td><td>2016-07-18</td><td>2016-07-21</td><td>1</td><td>NULL</td></tr>",
                            "<tr><td>ANNAMARIAR</td><td>2016-06-08</td><td>2016-06-11</td><td>2</td><td>1</td></tr>",
                            "<tr><td>ANNAMARIAR</td><td>2016-09-23</td><td>2016-09-27</td><td>2</td><td>3</td></tr>",
                            "<tr><td>ANNAMARIAR</td><td>2016-11-11</td><td>2016-11-12</td><td>3</td><td>5</td></tr>",
                            "<tr><td>ANNAMARIAR</td><td>2017-01-10</td><td>2017-01-13</td><td>2</td><td>7</td></tr>",
                            "<tr><td>ANNAMARIAR</td><td>2017-02-16</td><td>2017-02-18</td><td>2</td><td>7</td></tr>",
                            "<tr><td>aron2</td><td>2016-04-11</td><td>2016-04-12</td><td>3</td><td>NULL</td></tr>",
                            "<tr><td>aron2</td><td>2016-07-04</td><td>2016-07-06</td><td>3</td><td>3</td></tr>",
                            "<tr><td>aron2</td><td>2016-10-23</td><td>2016-10-27</td><td>2</td><td>6</td></tr>",
                            "<tr><td>aron2</td><td>2016-11-05</td><td>2016-11-09</td><td>2</td><td>8</td></tr>",
                            "<tr><td>aron2</td><td>2017-01-17</td><td>2017-01-18</td><td>3</td><td>7</td></tr>",
                            "<tr><td>aron2</td><td>2017-02-26</td><td>2017-02-27</td><td>3</td><td>7</td></tr>",
                            "<tr><td>ARONK</td><td>2016-04-06</td><td>2016-04-08</td><td>2</td><td>NULL</td></tr>",
                            "<tr><td>ARONK</td><td>2016-05-14</td><td>2016-05-20</td><td>4</td><td>2</td></tr>",
                            "<tr><td>ARONK</td><td>2016-08-05</td><td>2016-08-08</td><td>4</td><td>6</td></tr>",
                            "<tr><td>ARONK</td><td>2016-06-04</td><td>2016-06-09</td><td>2</td><td>10</td></tr>",
                            "<tr><td>ARONK</td><td>2016-06-07</td><td>2016-06-13</td><td>3</td><td>10</td></tr>",
                            "<tr><td>ARONK</td><td>2016-07-03</td><td>2016-07-07</td><td>2</td><td>9</td></tr>",
                            "<tr><td>ARONK</td><td>2016-09-08</td><td>2016-09-15</td><td>2</td><td>7</td></tr>",
                            "<tr><td>ARONK</td><td>2016-11-03</td><td>2016-11-10</td><td>2</td><td>7</td></tr>",
                            "<tr><td>ARONK</td><td>2016-11-05</td><td>2016-11-07</td><td>2</td><td>6</td></tr>",
                            "<tr><td>ARONK</td><td>2016-12-07</td><td>2016-12-12</td><td>3</td><td>6</td></tr>",
                            "<tr><td>ARONK</td><td>2017-01-01</td><td>2017-01-03</td><td>2</td><td>7</td></tr>",
                            "<tr><td>ARONK</td><td>2017-01-30</td><td>2017-02-03</td><td>2</td><td>7</td></tr>",
                            "<tr><td>ARONK</td><td>2017-02-21</td><td>2017-02-23</td><td>2</td><td>7</td></tr>",
                            "<tr><td>arpad2</td><td>2016-08-23</td><td>2016-08-25</td><td>2</td><td>NULL</td></tr>",
                            "<tr><td>arpad2</td><td>2016-06-05</td><td>2016-06-07</td><td>2</td><td>2</td></tr>",
                            "<tr><td>arpad2</td><td>2016-09-28</td><td>2016-09-30</td><td>2</td><td>4</td></tr>",
                            "<tr><td>arpad2</td><td>2016-10-13</td><td>2016-10-19</td><td>3</td><td>6</td></tr>",
                            "<tr><td>arpad2</td><td>2016-11-06</td><td>2016-11-10</td><td>2</td><td>7</td></tr>",
                            "<tr><td>arpad2</td><td>2016-12-24</td><td>2016-12-27</td><td>3</td><td>7</td></tr>",
                            "<tr><td>arpad2</td><td>2017-02-18</td><td>2017-02-19</td><td>4</td><td>8</td></tr>",
                            "<tr><td>ARPADH</td><td>2016-07-14</td><td>2016-07-18</td><td>2</td><td>NULL</td></tr>",
                            "<tr><td>ARPADH</td><td>2016-06-06</td><td>2016-06-07</td><td>3</td><td>2</td></tr>",
                            "<tr><td>ARPADH</td><td>2016-09-16</td><td>2016-09-23</td><td>1</td><td>5</td></tr>",
                            "<tr><td>ARPADH</td><td>2016-09-18</td><td>2016-09-25</td><td>1</td><td>6</td></tr>",
                            "<tr><td>ARPADH</td><td>2016-12-04</td><td>2016-12-10</td><td>1</td><td>5</td></tr>",
                            "<tr><td>ARPADH</td><td>2016-12-18</td><td>2016-12-19</td><td>3</td><td>3</td></tr>",
                            "<tr><td>ARPADH</td><td>2017-02-16</td><td>2017-02-18</td><td>2</td><td>5</td></tr>",
                            "<tr><td>ARPADM</td><td>2016-08-12</td><td>2016-08-16</td><td>2</td><td>NULL</td></tr>",
                            "<tr><td>ARPADM</td><td>2016-05-29</td><td>2016-06-01</td><td>2</td><td>2</td></tr>",
                            "<tr><td>ARPADM</td><td>2016-11-09</td><td>2016-11-11</td><td>2</td><td>4</td></tr>",
                            "<tr><td>ARPADM</td><td>2016-12-14</td><td>2016-12-17</td><td>3</td><td>6</td></tr>",
                            "<tr><td>ARPADM</td><td>2017-01-05</td><td>2017-01-10</td><td>1</td><td>7</td></tr>",
                            "<tr><td>ARPADM</td><td>2017-02-12</td><td>2017-02-14</td><td>3</td><td>6</td></tr>",
                            "<tr><td>attila</td><td>2016-09-30</td><td>2016-10-07</td><td>3</td><td>NULL</td></tr>",
                            "<tr><td>attila</td><td>2016-10-15</td><td>2016-10-19</td><td>1</td><td>3</td></tr>",
                            "<tr><td>attila</td><td>2016-12-22</td><td>2016-12-26</td><td>2</td><td>4</td></tr>",
                            "<tr><td>attila1</td><td>2016-05-20</td><td>2016-05-26</td><td>1</td><td>NULL</td></tr>",
                            "<tr><td>attila1</td><td>2016-10-09</td><td>2016-10-12</td><td>2</td><td>1</td></tr>",
                            "<tr><td>attila1</td><td>2016-10-15</td><td>2016-10-16</td><td>3</td><td>3</td></tr>",
                            "<tr><td>attila1</td><td>2016-10-30</td><td>2016-11-05</td><td>2</td><td>6</td></tr>",
                            "<tr><td>attila1</td><td>2016-11-10</td><td>2016-11-14</td><td>2</td><td>7</td></tr>",
                            "<tr><td>attila1</td><td>2017-01-23</td><td>2017-01-30</td><td>4</td><td>7</td></tr>",
                            "<tr><td>attila4</td><td>2016-08-18</td><td>2016-08-23</td><td>4</td><td>NULL</td></tr>",
                            "<tr><td>attila4</td><td>2016-12-31</td><td>2017-01-01</td><td>2</td><td>4</td></tr>",
                            "<tr><td>attila4</td><td>2017-02-15</td><td>2017-02-22</td><td>2</td><td>6</td></tr>",
                            "<tr><td>ATTILAO</td><td>2016-05-21</td><td>2016-05-26</td><td>3</td><td>NULL</td></tr>",
                            "<tr><td>ATTILAO</td><td>2016-06-04</td><td>2016-06-11</td><td>3</td><td>3</td></tr>",
                            "<tr><td>ATTILAO</td><td>2016-10-30</td><td>2016-11-03</td><td>2</td><td>6</td></tr>",
                            "<tr><td>ATTILAO</td><td>2017-02-22</td><td>2017-02-25</td><td>3</td><td>8</td></tr>",
                            "<tr><td>balazs1</td><td>2016-05-07</td><td>2016-05-14</td><td>2</td><td>NULL</td></tr>",
                            "<tr><td>balazs1</td><td>2016-07-22</td><td>2016-07-26</td><td>4</td><td>2</td></tr>",
                            "<tr><td>balazs1</td><td>2016-12-26</td><td>2016-12-28</td><td>3</td><td>6</td></tr>",
                            "<tr><td>balazs1</td><td>2017-01-01</td><td>2017-01-05</td><td>2</td><td>9</td></tr>",
                            "<tr><td>balazs1</td><td>2017-02-10</td><td>2017-02-14</td><td>3</td><td>9</td></tr>",
                            "<tr><td>balazs1</td><td>2017-02-12</td><td>2017-02-14</td><td>2</td><td>8</td></tr>",
                            "<tr><td>balazs2</td><td>2016-04-16</td><td>2016-04-19</td><td>2</td><td>NULL</td></tr>",
                            "<tr><td>balazs2</td><td>2016-07-20</td><td>2016-07-25</td><td>2</td><td>2</td></tr>",
                            "<tr><td>balazs2</td><td>2016-08-21</td><td>2016-08-22</td><td>3</td><td>4</td></tr>",
                            "<tr><td>balazs2</td><td>2016-05-22</td><td>2016-05-29</td><td>3</td><td>7</td></tr>",
                            "<tr><td>balazs2</td><td>2016-05-28</td><td>2016-06-01</td><td>3</td><td>8</td></tr>",
                            "<tr><td>balazs2</td><td>2016-07-08</td><td>2016-07-12</td><td>3</td><td>9</td></tr>",
                            "<tr><td>balazs2</td><td>2016-07-10</td><td>2016-07-17</td><td>3</td><td>9</td></tr>",
                            "<tr><td>balazs2</td><td>2016-09-12</td><td>2016-09-14</td><td>3</td><td>9</td></tr>",
                            "<tr><td>balazs2</td><td>2016-11-03</td><td>2016-11-05</td><td>3</td><td>9</td></tr>",
                            "<tr><td>balazs2</td><td>2017-02-27</td><td>2017-03-06</td><td>1</td><td>9</td></tr>",
                            "<tr><td>balazs3</td><td>2016-07-17</td><td>2016-07-21</td><td>2</td><td>NULL</td></tr>",
                            "<tr><td>balazs3</td><td>2016-07-27</td><td>2016-07-31</td><td>4</td><td>2</td></tr>",
                            "<tr><td>balazs3</td><td>2016-08-24</td><td>2016-08-28</td><td>3</td><td>6</td></tr>",
                            "<tr><td>balazs3</td><td>2016-09-15</td><td>2016-09-16</td><td>3</td><td>9</td></tr>",
                            "<tr><td>balazs3</td><td>2016-12-05</td><td>2016-12-11</td><td>3</td><td>10</td></tr>",
                            "<tr><td>balazs3</td><td>2017-01-20</td><td>2017-01-22</td><td>2</td><td>9</td></tr>",
                            "<tr><td>balint</td><td>2016-04-22</td><td>2016-04-29</td><td>2</td><td>NULL</td></tr>",
                            "<tr><td>balint</td><td>2016-10-09</td><td>2016-10-11</td><td>2</td><td>2</td></tr>",
                            "<tr><td>balint</td><td>2016-11-24</td><td>2016-11-29</td><td>3</td><td>4</td></tr>",
                            "<tr><td>balint1</td><td>2016-07-26</td><td>2016-07-28</td><td>2</td><td>NULL</td></tr>",
                            "<tr><td>balint1</td><td>2016-08-03</td><td>2016-08-08</td><td>2</td><td>2</td></tr>",
                            "<tr><td>balint1</td><td>2016-06-07</td><td>2016-06-12</td><td>3</td><td>4</td></tr>",
                            "<tr><td>balint1</td><td>2016-06-07</td><td>2016-06-11</td><td>3</td><td>7</td></tr>",
                            "<tr><td>balint1</td><td>2016-06-10</td><td>2016-06-12</td><td>1</td><td>8</td></tr>",
                            "<tr><td>balint1</td><td>2016-09-16</td><td>2016-09-21</td><td>1</td><td>7</td></tr>",
                            "<tr><td>balint1</td><td>2016-11-07</td><td>2016-11-10</td><td>2</td><td>5</td></tr>",
                            "<tr><td>balint1</td><td>2016-12-17</td><td>2016-12-22</td><td>3</td><td>4</td></tr>",
                            "<tr><td>balint1</td><td>2016-12-29</td><td>2016-12-31</td><td>3</td><td>6</td></tr>",
                            "<tr><td>balint1</td><td>2017-01-03</td><td>2017-01-08</td><td>2</td><td>8</td></tr>",
                            "<tr><td>balint2</td><td>2016-07-21</td><td>2016-07-26</td><td>1</td><td>NULL</td></tr>",
                            "<tr><td>balint2</td><td>2016-12-04</td><td>2016-12-06</td><td>3</td><td>1</td></tr>",
                            "<tr><td>balu</td><td>2016-08-06</td><td>2016-08-10</td><td>2</td><td>NULL</td></tr>",
                            "<tr><td>balu</td><td>2016-12-22</td><td>2016-12-23</td><td>2</td><td>2</td></tr>",
                            "<tr><td>beata4</td><td>2016-04-20</td><td>2016-04-21</td><td>2</td><td>NULL</td></tr>",
                            "<tr><td>beata4</td><td>2016-08-25</td><td>2016-08-27</td><td>3</td><td>2</td></tr>",
                            "<tr><td>beata4</td><td>2016-06-03</td><td>2016-06-04</td><td>2</td><td>5</td></tr>",
                            "<tr><td>beata4</td><td>2016-07-03</td><td>2016-07-06</td><td>1</td><td>7</td></tr>",
                            "<tr><td>beata4</td><td>2016-10-01</td><td>2016-10-05</td><td>1</td><td>6</td></tr>",
                            "<tr><td>beata4</td><td>2016-10-03</td><td>2016-10-06</td><td>3</td><td>4</td></tr>",
                            "<tr><td>BEATRIXK</td><td>2016-08-12</td><td>2016-08-18</td><td>4</td><td>NULL</td></tr>",
                            "<tr><td>BEATRIXK</td><td>2016-06-10</td><td>2016-06-11</td><td>2</td><td>4</td></tr>",
                            "<tr><td>BEATRIXK</td><td>2016-06-10</td><td>2016-06-14</td><td>2</td><td>6</td></tr>",
                            "<tr><td>BEATRIXK</td><td>2016-06-19</td><td>2016-06-21</td><td>3</td><td>8</td></tr>",
                            "<tr><td>BEATRIXK</td><td>2016-10-23</td><td>2016-10-28</td><td>2</td><td>7</td></tr>",
                            "<tr><td>BEATRIXK</td><td>2016-11-14</td><td>2016-11-19</td><td>2</td><td>7</td></tr>",
                            "<tr><td>BEATRIXK</td><td>2016-12-12</td><td>2016-12-14</td><td>3</td><td>7</td></tr>",
                            "<tr><td>BEATRIXK</td><td>2016-12-17</td><td>2016-12-22</td><td>4</td><td>7</td></tr>",
                            "<tr><td>BEATRIXK</td><td>2017-02-08</td><td>2017-02-09</td><td>3</td><td>9</td></tr>",
                            "<tr><td>BEATRIXS</td><td>2016-04-18</td><td>2016-04-24</td><td>1</td><td>NULL</td></tr>",
                            "<tr><td>BEATRIXS</td><td>2016-06-11</td><td>2016-06-14</td><td>3</td><td>1</td></tr>",
                            "<tr><td>BEATRIXS</td><td>2016-10-01</td><td>2016-10-03</td><td>3</td><td>4</td></tr>",
                            "<tr><td>BEATRIXS</td><td>2016-10-01</td><td>2016-10-05</td><td>3</td><td>7</td></tr>",
                            "<tr><td>BEATRIXS</td><td>2016-12-21</td><td>2016-12-27</td><td>2</td><td>9</td></tr>",
                            "<tr><td>BEATRIXS</td><td>2017-02-03</td><td>2017-02-04</td><td>2</td><td>8</td></tr>",
                            "<tr><td>BELAF</td><td>2016-07-27</td><td>2016-07-30</td><td>3</td><td>NULL</td></tr>",
                            "<tr><td>BELAF</td><td>2016-07-29</td><td>2016-07-31</td><td>2</td><td>3</td></tr>",
                            "<tr><td>BELAF</td><td>2016-08-29</td><td>2016-08-31</td><td>2</td><td>5</td></tr>",
                            "<tr><td>BELAF</td><td>2016-11-03</td><td>2016-11-09</td><td>4</td><td>7</td></tr>",
                            "<tr><td>BELAF</td><td>2016-12-02</td><td>2016-12-04</td><td>3</td><td>8</td></tr>",
                            "<tr><td>BELAF</td><td>2016-12-06</td><td>2016-12-09</td><td>1</td><td>9</td></tr>",
                            "<tr><td>bence</td><td>2016-05-08</td><td>2016-05-11</td><td>2</td><td>NULL</td></tr>",
                            "<tr><td>bence</td><td>2016-07-24</td><td>2016-07-30</td><td>2</td><td>2</td></tr>",
                            "<tr><td>bence</td><td>2016-07-25</td><td>2016-08-01</td><td>3</td><td>4</td></tr>",
                            "<tr><td>bence</td><td>2016-09-03</td><td>2016-09-06</td><td>3</td><td>7</td></tr>",
                            "<tr><td>bence</td><td>2016-05-29</td><td>2016-06-03</td><td>1</td><td>8</td></tr>",
                            "<tr><td>bence</td><td>2016-10-30</td><td>2016-11-02</td><td>4</td><td>7</td></tr>",
                            "<tr><td>bence</td><td>2016-12-17</td><td>2016-12-18</td><td>2</td><td>8</td></tr>",
                            "<tr><td>bence</td><td>2016-12-26</td><td>2016-12-27</td><td>2</td><td>7</td></tr>",
                            "<tr><td>bence</td><td>2017-02-05</td><td>2017-02-09</td><td>3</td><td>8</td></tr>",
                            "<tr><td>BENCEB</td><td>2016-05-14</td><td>2016-05-17</td><td>3</td><td>NULL</td></tr>",
                            "<tr><td>BENCEB</td><td>2016-08-01</td><td>2016-08-02</td><td>2</td><td>3</td></tr>",
                            "<tr><td>BENCEB</td><td>2016-06-03</td><td>2016-06-09</td><td>2</td><td>5</td></tr>",
                            "<tr><td>BENCEB</td><td>2016-10-22</td><td>2016-10-29</td><td>3</td><td>7</td></tr>",
                            "<tr><td>BENCEB</td><td>2016-11-28</td><td>2016-12-02</td><td>2</td><td>7</td></tr>",
                            "<tr><td>BENCEB</td><td>2017-02-12</td><td>2017-02-19</td><td>3</td><td>7</td></tr>",
                            "<tr><td>bernadett1</td><td>2016-06-12</td><td>2016-06-17</td><td>3</td><td>NULL</td></tr>",
                            "<tr><td>bernadett1</td><td>2016-10-08</td><td>2016-10-09</td><td>4</td><td>3</td></tr>",
                            "<tr><td>bernadett1</td><td>2016-10-15</td><td>2016-10-22</td><td>3</td><td>7</td></tr>",
                            "<tr><td>bernadett1</td><td>2016-10-26</td><td>2016-11-02</td><td>3</td><td>10</td></tr>",
                            "<tr><td>bernadett1</td><td>2016-10-28</td><td>2016-11-01</td><td>3</td><td>10</td></tr>",
                            "<tr><td>bernadett1</td><td>2017-02-14</td><td>2017-02-15</td><td>3</td><td>9</td></tr>",
                            "<tr><td>bernadett1</td><td>2017-02-24</td><td>2017-03-03</td><td>1</td><td>9</td></tr>",
                            "<tr><td>bernadett2</td><td>2016-05-01</td><td>2016-05-03</td><td>2</td><td>NULL</td></tr>",
                            "<tr><td>bernadett2</td><td>2016-08-23</td><td>2016-08-29</td><td>2</td><td>2</td></tr>",
                            "<tr><td>bernadett2</td><td>2016-08-25</td><td>2016-08-27</td><td>3</td><td>4</td></tr>",
                            "<tr><td>bernadett2</td><td>2016-06-17</td><td>2016-06-23</td><td>3</td><td>7</td></tr>",
                            "<tr><td>bernadett2</td><td>2016-09-07</td><td>2016-09-13</td><td>3</td><td>8</td></tr>",
                            "<tr><td>bernadett2</td><td>2016-10-30</td><td>2016-11-06</td><td>3</td><td>9</td></tr>",
                            "<tr><td>bernadett2</td><td>2016-12-17</td><td>2016-12-20</td><td>1</td><td>9</td></tr>",
                            "<tr><td>bernadett2</td><td>2017-01-24</td><td>2017-01-30</td><td>3</td><td>7</td></tr>",
                            "<tr><td>BERNADETTO</td><td>2016-04-10</td><td>2016-04-17</td><td>2</td><td>NULL</td></tr>",
                            "<tr><td>BERNADETTO</td><td>2016-04-17</td><td>2016-04-19</td><td>2</td><td>2</td></tr>",
                            "<tr><td>BERNADETTO</td><td>2016-06-07</td><td>2016-06-13</td><td>3</td><td>4</td></tr>",
                            "<tr><td>BERNADETTO</td><td>2016-06-10</td><td>2016-06-16</td><td>4</td><td>7</td></tr>",
                            "<tr><td>BERNADETTO</td><td>2016-10-04</td><td>2016-10-05</td><td>2</td><td>9</td></tr>",
                            "<tr><td>BERNADETTO</td><td>2017-01-01</td><td>2017-01-02</td><td>3</td><td>9</td></tr>",
                            "<tr><td>BERNADETTO</td><td>2017-01-28</td><td>2017-02-03</td><td>2</td><td>9</td></tr>",
                            "<tr><td>bertalan</td><td>2016-05-18</td><td>2016-05-23</td><td>2</td><td>NULL</td></tr>",
                            "<tr><td>bertalan</td><td>2016-06-20</td><td>2016-06-21</td><td>1</td><td>2</td></tr>",
                            "<tr><td>bertalan</td><td>2016-11-03</td><td>2016-11-10</td><td>2</td><td>3</td></tr>",
                            "<tr><td>bertalan</td><td>2016-11-26</td><td>2016-11-29</td><td>3</td><td>5</td></tr>",
                            "<tr><td>bertalan</td><td>2017-02-16</td><td>2017-02-22</td><td>2</td><td>6</td></tr>",
                            "<tr><td>bertalan</td><td>2017-02-20</td><td>2017-02-24</td><td>4</td><td>7</td></tr>",
                            "<tr><td>brigitta</td><td>2016-08-28</td><td>2016-09-01</td><td>3</td><td>NULL</td></tr>",
                            "<tr><td>brigitta</td><td>2016-05-30</td><td>2016-06-06</td><td>3</td><td>3</td></tr>",
                            "<tr><td>brigitta</td><td>2016-10-21</td><td>2016-10-28</td><td>3</td><td>6</td></tr>",
                            "<tr><td>brigitta</td><td>2016-12-17</td><td>2016-12-22</td><td>2</td><td>9</td></tr>",
                            "<tr><td>brigitta</td><td>2017-01-23</td><td>2017-01-25</td><td>1</td><td>8</td></tr>",
                            "<tr><td>brigitta3</td><td>2016-06-01</td><td>2016-06-05</td><td>2</td><td>NULL</td></tr>",
                            "<tr><td>brigitta3</td><td>2016-06-13</td><td>2016-06-17</td><td>3</td><td>2</td></tr>",
                            "<tr><td>brigitta3</td><td>2016-10-10</td><td>2016-10-14</td><td>2</td><td>5</td></tr>",
                            "<tr><td>brigitta3</td><td>2016-11-03</td><td>2016-11-09</td><td>3</td><td>7</td></tr>",
                            "<tr><td>brigitta3</td><td>2017-02-09</td><td>2017-02-16</td><td>2</td><td>8</td></tr>",
                            "<tr><td>csongor3</td><td>2016-05-01</td><td>2016-05-04</td><td>2</td><td>NULL</td></tr>",
                            "<tr><td>csongor3</td><td>2016-05-08</td><td>2016-05-15</td><td>3</td><td>2</td></tr>",
                            "<tr><td>csongor3</td><td>2016-06-04</td><td>2016-06-05</td><td>2</td><td>5</td></tr>",
                            "<tr><td>csongor3</td><td>2016-06-10</td><td>2016-06-17</td><td>3</td><td>7</td></tr>",
                            "<tr><td>csongor3</td><td>2016-06-11</td><td>2016-06-14</td><td>2</td><td>8</td></tr>",
                            "<tr><td>csongor3</td><td>2016-07-09</td><td>2016-07-10</td><td>4</td><td>7</td></tr>",
                            "<tr><td>csongor3</td><td>2016-11-12</td><td>2016-11-17</td><td>3</td><td>9</td></tr>",
                            "<tr><td>csongor3</td><td>2017-02-13</td><td>2017-02-19</td><td>3</td><td>9</td></tr>",
                            "<tr><td>dani</td><td>2016-08-06</td><td>2016-08-09</td><td>2</td><td>NULL</td></tr>",
                            "<tr><td>dani</td><td>2016-06-06</td><td>2016-06-10</td><td>3</td><td>2</td></tr>",
                            "<tr><td>dani</td><td>2016-07-11</td><td>2016-07-12</td><td>3</td><td>5</td></tr>",
                            "<tr><td>dani</td><td>2016-09-19</td><td>2016-09-25</td><td>4</td><td>8</td></tr>",
                            "<tr><td>dani</td><td>2016-10-01</td><td>2016-10-02</td><td>1</td><td>10</td></tr>",
                            "<tr><td>dani</td><td>2016-11-22</td><td>2016-11-24</td><td>2</td><td>8</td></tr>",
                            "<tr><td>dani</td><td>2017-01-17</td><td>2017-01-23</td><td>2</td><td>7</td></tr>",
                            "<tr><td>dani</td><td>2017-01-22</td><td>2017-01-29</td><td>1</td><td>5</td></tr>",
                            "<tr><td>dani</td><td>2017-02-25</td><td>2017-03-01</td><td>3</td><td>5</td></tr>",
                            "<tr><td>daniel</td><td>2016-04-10</td><td>2016-04-11</td><td>4</td><td>NULL</td></tr>",
                            "<tr><td>daniel</td><td>2016-04-22</td><td>2016-04-25</td><td>2</td><td>4</td></tr>",
                            "<tr><td>daniel</td><td>2016-05-09</td><td>2016-05-13</td><td>3</td><td>6</td></tr>",
                            "<tr><td>daniel</td><td>2016-09-08</td><td>2016-09-10</td><td>4</td><td>9</td></tr>",
                            "<tr><td>daniel</td><td>2016-11-13</td><td>2016-11-19</td><td>3</td><td>9</td></tr>",
                            "<tr><td>daniel</td><td>2016-12-25</td><td>2016-12-26</td><td>3</td><td>10</td></tr>",
                            "<tr><td>daniel</td><td>2017-01-09</td><td>2017-01-11</td><td>1</td><td>10</td></tr>",
                            "<tr><td>daniel</td><td>2017-02-12</td><td>2017-02-13</td><td>3</td><td>7</td></tr>",
                            "<tr><td>daniel</td><td>2017-02-20</td><td>2017-02-23</td><td>3</td><td>7</td></tr>",
                            "<tr><td>daniel1</td><td>2016-04-10</td><td>2016-04-15</td><td>2</td><td>NULL</td></tr>",
                            "<tr><td>daniel1</td><td>2016-05-10</td><td>2016-05-13</td><td>4</td><td>2</td></tr>",
                            "<tr><td>daniel1</td><td>2016-05-26</td><td>2016-05-27</td><td>3</td><td>6</td></tr>",
                            "<tr><td>daniel1</td><td>2016-11-09</td><td>2016-11-11</td><td>2</td><td>9</td></tr>",
                            "<tr><td>daniel1</td><td>2016-11-23</td><td>2016-11-25</td><td>2</td><td>9</td></tr>",
                            "<tr><td>daniel1</td><td>2017-01-05</td><td>2017-01-08</td><td>3</td><td>7</td></tr>",
                            "<tr><td>daniel1</td><td>2017-03-01</td><td>2017-03-06</td><td>4</td><td>7</td></tr>",
                            "<tr><td>david</td><td>2016-05-18</td><td>2016-05-25</td><td>2</td><td>NULL</td></tr>",
                            "<tr><td>david</td><td>2016-07-18</td><td>2016-07-21</td><td>2</td><td>2</td></tr>",
                            "<tr><td>david</td><td>2016-08-05</td><td>2016-08-12</td><td>1</td><td>4</td></tr>",
                            "<tr><td>david</td><td>2016-08-20</td><td>2016-08-25</td><td>3</td><td>5</td></tr>",
                            "<tr><td>david</td><td>2016-08-22</td><td>2016-08-24</td><td>3</td><td>6</td></tr>",
                            "<tr><td>david</td><td>2016-06-09</td><td>2016-06-10</td><td>2</td><td>7</td></tr>",
                            "<tr><td>david</td><td>2016-06-30</td><td>2016-07-07</td><td>2</td><td>8</td></tr>",
                            "<tr><td>david</td><td>2016-10-30</td><td>2016-11-04</td><td>2</td><td>7</td></tr>",
                            "<tr><td>david</td><td>2017-01-18</td><td>2017-01-19</td><td>2</td><td>6</td></tr>",
                            "<tr><td>david1</td><td>2016-09-20</td><td>2016-09-21</td><td>2</td><td>NULL</td></tr>",
                            "<tr><td>david1</td><td>2016-10-01</td><td>2016-10-02</td><td>2</td><td>2</td></tr>",
                            "<tr><td>david1</td><td>2016-11-19</td><td>2016-11-22</td><td>2</td><td>4</td></tr>",
                            "<tr><td>david1</td><td>2016-12-30</td><td>2017-01-06</td><td>2</td><td>6</td></tr>",
                            "<tr><td>david1</td><td>2017-02-17</td><td>2017-02-20</td><td>3</td><td>6</td></tr>",
                            "<tr><td>david1</td><td>2017-02-25</td><td>2017-02-27</td><td>4</td><td>7</td></tr>",
                            "<tr><td>david4</td><td>2017-02-16</td><td>2017-02-19</td><td>3</td><td>NULL</td></tr>",
                            "<tr><td>debora</td><td>2016-06-22</td><td>2016-06-24</td><td>5</td><td>NULL</td></tr>",
                            "<tr><td>debora</td><td>2016-10-29</td><td>2016-11-03</td><td>2</td><td>5</td></tr>",
                            "<tr><td>debora</td><td>2017-01-23</td><td>2017-01-28</td><td>3</td><td>7</td></tr>",
                            "<tr><td>debora</td><td>2017-02-04</td><td>2017-02-06</td><td>3</td><td>10</td></tr>",
                            "<tr><td>denes</td><td>2016-07-19</td><td>2016-07-23</td><td>2</td><td>NULL</td></tr>",
                            "<tr><td>denes</td><td>2016-08-01</td><td>2016-08-08</td><td>3</td><td>2</td></tr>",
                            "<tr><td>denes</td><td>2016-08-16</td><td>2016-08-23</td><td>2</td><td>5</td></tr>",
                            "<tr><td>denes</td><td>2016-08-20</td><td>2016-08-27</td><td>3</td><td>7</td></tr>",
                            "<tr><td>denes</td><td>2016-05-27</td><td>2016-05-31</td><td>3</td><td>8</td></tr>",
                            "<tr><td>denes</td><td>2016-11-06</td><td>2016-11-10</td><td>2</td><td>8</td></tr>",
                            "<tr><td>dora3</td><td>2016-08-16</td><td>2016-08-19</td><td>4</td><td>NULL</td></tr>",
                            "<tr><td>dora3</td><td>2016-08-25</td><td>2016-08-29</td><td>3</td><td>4</td></tr>",
                            "<tr><td>dora3</td><td>2016-10-09</td><td>2016-10-12</td><td>3</td><td>7</td></tr>",
                            "<tr><td>dora3</td><td>2016-10-29</td><td>2016-11-02</td><td>3</td><td>10</td></tr>",
                            "<tr><td>dora3</td><td>2016-11-22</td><td>2016-11-29</td><td>3</td><td>9</td></tr>",
                            "<tr><td>edit</td><td>2016-07-14</td><td>2016-07-17</td><td>3</td><td>NULL</td></tr>",
                            "<tr><td>edit</td><td>2016-08-03</td><td>2016-08-09</td><td>4</td><td>3</td></tr>",
                            "<tr><td>edit</td><td>2016-08-12</td><td>2016-08-14</td><td>2</td><td>7</td></tr>",
                            "<tr><td>edit</td><td>2016-09-17</td><td>2016-09-24</td><td>2</td><td>9</td></tr>",
                            "<tr><td>edit</td><td>2016-09-18</td><td>2016-09-21</td><td>3</td><td>8</td></tr>",
                            "<tr><td>edit</td><td>2017-01-15</td><td>2017-01-18</td><td>4</td><td>7</td></tr>",
                            "<tr><td>edit</td><td>2017-02-08</td><td>2017-02-14</td><td>3</td><td>9</td></tr>",
                            "<tr><td>emese</td><td>2016-07-22</td><td>2016-07-24</td><td>2</td><td>NULL</td></tr>",
                            "<tr><td>emese</td><td>2016-08-09</td><td>2016-08-12</td><td>2</td><td>2</td></tr>",
                            "<tr><td>emese</td><td>2016-09-27</td><td>2016-09-28</td><td>3</td><td>4</td></tr>",
                            "<tr><td>emese</td><td>2016-11-05</td><td>2016-11-09</td><td>1</td><td>7</td></tr>",
                            "<tr><td>emese</td><td>2016-11-23</td><td>2016-11-27</td><td>4</td><td>6</td></tr>",
                            "<tr><td>emese</td><td>2016-12-07</td><td>2016-12-08</td><td>3</td><td>8</td></tr>",
                            "<tr><td>emese</td><td>2017-01-30</td><td>2017-01-31</td><td>2</td><td>8</td></tr>",
                            "<tr><td>eszter</td><td>2016-08-12</td><td>2016-08-18</td><td>3</td><td>NULL</td></tr>",
                            "<tr><td>eszter</td><td>2016-10-04</td><td>2016-10-10</td><td>3</td><td>3</td></tr>",
                            "<tr><td>eszter</td><td>2016-10-26</td><td>2016-11-01</td><td>3</td><td>6</td></tr>",
                            "<tr><td>eszter</td><td>2016-12-23</td><td>2016-12-28</td><td>2</td><td>9</td></tr>",
                            "<tr><td>eszter2</td><td>2016-06-30</td><td>2016-07-07</td><td>3</td><td>NULL</td></tr>",
                            "<tr><td>eszter2</td><td>2016-07-08</td><td>2016-07-09</td><td>1</td><td>3</td></tr>",
                            "<tr><td>eszter2</td><td>2016-10-01</td><td>2016-10-05</td><td>3</td><td>4</td></tr>",
                            "<tr><td>eszter2</td><td>2016-10-01</td><td>2016-10-06</td><td>1</td><td>7</td></tr>",
                            "<tr><td>eszter2</td><td>2016-10-20</td><td>2016-10-25</td><td>1</td><td>5</td></tr>",
                            "<tr><td>eszter2</td><td>2016-10-23</td><td>2016-10-30</td><td>1</td><td>5</td></tr>",
                            "<tr><td>eszter2</td><td>2016-11-05</td><td>2016-11-12</td><td>4</td><td>3</td></tr>",
                            "<tr><td>eszter2</td><td>2016-12-02</td><td>2016-12-07</td><td>1</td><td>6</td></tr>",
                            "<tr><td>eszter2</td><td>2016-12-05</td><td>2016-12-08</td><td>2</td><td>6</td></tr>",
                            "<tr><td>eszter2</td><td>2016-12-29</td><td>2017-02-04</td><td>1</td><td>7</td></tr>",
                            "<tr><td>eszter4</td><td>2017-01-05</td><td>2017-01-10</td><td>2</td><td>NULL</td></tr>",
                            "<tr><td>eszter4</td><td>2017-01-26</td><td>2017-02-02</td><td>2</td><td>2</td></tr>",
                            "<tr><td>eszter4</td><td>2017-02-26</td><td>2017-02-27</td><td>3</td><td>4</td></tr>",
                            "<tr><td>ESZTERE</td><td>2016-07-19</td><td>2016-07-21</td><td>2</td><td>NULL</td></tr>",
                            "<tr><td>ESZTERE</td><td>2016-05-30</td><td>2016-06-05</td><td>2</td><td>2</td></tr>",
                            "<tr><td>ESZTERE</td><td>2016-11-01</td><td>2016-11-08</td><td>2</td><td>4</td></tr>",
                            "<tr><td>ESZTERE</td><td>2017-02-10</td><td>2017-02-14</td><td>2</td><td>6</td></tr>",
                            "<tr><td>eva</td><td>2016-10-06</td><td>2016-10-09</td><td>3</td><td>NULL</td></tr>",
                            "<tr><td>eva</td><td>2017-01-14</td><td>2017-01-16</td><td>2</td><td>3</td></tr>",
                            "<tr><td>eva2</td><td>2016-09-02</td><td>2016-09-03</td><td>1</td><td>NULL</td></tr>",
                            "<tr><td>eva2</td><td>2016-11-06</td><td>2016-11-13</td><td>2</td><td>1</td></tr>",
                            "<tr><td>eva2</td><td>2016-12-06</td><td>2016-12-11</td><td>2</td><td>3</td></tr>",
                            "<tr><td>eva2</td><td>2017-01-06</td><td>2017-01-09</td><td>4</td><td>5</td></tr>",
                            "<tr><td>EVAV</td><td>2016-05-01</td><td>2016-05-05</td><td>3</td><td>NULL</td></tr>",
                            "<tr><td>EVAV</td><td>2016-08-31</td><td>2016-09-04</td><td>2</td><td>3</td></tr>",
                            "<tr><td>EVAV</td><td>2016-10-15</td><td>2016-10-21</td><td>3</td><td>5</td></tr>",
                            "<tr><td>EVAV</td><td>2016-10-16</td><td>2016-10-23</td><td>2</td><td>8</td></tr>",
                            "<tr><td>EVAV</td><td>2017-02-04</td><td>2017-02-11</td><td>5</td><td>7</td></tr>",
                            "<tr><td>ferenc1</td><td>2016-05-08</td><td>2016-05-11</td><td>2</td><td>NULL</td></tr>",
                            "<tr><td>ferenc1</td><td>2016-06-16</td><td>2016-06-22</td><td>2</td><td>2</td></tr>",
                            "<tr><td>ferenc1</td><td>2016-10-08</td><td>2016-10-09</td><td>2</td><td>4</td></tr>",
                            "<tr><td>ferenc1</td><td>2016-11-07</td><td>2016-11-08</td><td>3</td><td>6</td></tr>",
                            "<tr><td>fruzsina4</td><td>2016-07-13</td><td>2016-07-19</td><td>3</td><td>NULL</td></tr>",
                            "<tr><td>fruzsina4</td><td>2016-08-27</td><td>2016-08-30</td><td>4</td><td>3</td></tr>",
                            "<tr><td>fruzsina4</td><td>2016-06-02</td><td>2016-06-04</td><td>2</td><td>7</td></tr>",
                            "<tr><td>fruzsina4</td><td>2016-07-01</td><td>2016-07-04</td><td>3</td><td>9</td></tr>",
                            "<tr><td>fruzsina4</td><td>2016-09-29</td><td>2016-10-01</td><td>3</td><td>9</td></tr>",
                            "<tr><td>fruzsina4</td><td>2016-11-22</td><td>2016-11-24</td><td>2</td><td>8</td></tr>",
                            "<tr><td>fruzsina4</td><td>2016-12-16</td><td>2016-12-21</td><td>1</td><td>8</td></tr>",
                            "<tr><td>fruzsina4</td><td>2017-01-22</td><td>2017-01-25</td><td>4</td><td>6</td></tr>",
                            "<tr><td>gabor1</td><td>2016-07-28</td><td>2016-07-30</td><td>2</td><td>NULL</td></tr>",
                            "<tr><td>gabor1</td><td>2016-09-02</td><td>2016-09-03</td><td>3</td><td>2</td></tr>",
                            "<tr><td>gabor1</td><td>2016-06-20</td><td>2016-06-21</td><td>4</td><td>5</td></tr>",
                            "<tr><td>gabor1</td><td>2016-07-12</td><td>2016-07-15</td><td>1</td><td>9</td></tr>",
                            "<tr><td>gabor1</td><td>2016-10-20</td><td>2016-10-24</td><td>1</td><td>8</td></tr>",
                            "<tr><td>gabor1</td><td>2016-11-19</td><td>2016-11-22</td><td>2</td><td>6</td></tr>",
                            "<tr><td>gabor4</td><td>2016-04-26</td><td>2016-04-29</td><td>3</td><td>NULL</td></tr>",
                            "<tr><td>gabor4</td><td>2016-08-31</td><td>2016-09-06</td><td>4</td><td>3</td></tr>",
                            "<tr><td>gabor4</td><td>2016-05-30</td><td>2016-06-05</td><td>1</td><td>7</td></tr>",
                            "<tr><td>gabor4</td><td>2016-11-07</td><td>2016-11-13</td><td>4</td><td>8</td></tr>",
                            "<tr><td>gabriella1</td><td>2016-04-21</td><td>2016-04-24</td><td>3</td><td>NULL</td></tr>",
                            "<tr><td>gabriella1</td><td>2016-07-24</td><td>2016-07-31</td><td>2</td><td>3</td></tr>",
                            "<tr><td>gabriella1</td><td>2016-07-10</td><td>2016-07-11</td><td>3</td><td>5</td></tr>",
                            "<tr><td>gabriella1</td><td>2017-02-04</td><td>2017-02-11</td><td>3</td><td>8</td></tr>",
                            "<tr><td>gabriella1</td><td>2017-02-12</td><td>2017-02-13</td><td>2</td><td>8</td></tr>",
                            "<tr><td>gabriella1</td><td>2017-02-21</td><td>2017-02-27</td><td>3</td><td>8</td></tr>",
                            "<tr><td>gabriella10</td><td>2016-10-01</td><td>2016-10-06</td><td>3</td><td>NULL</td></tr>",
                            "<tr><td>georgij</td><td>2016-08-16</td><td>2016-08-22</td><td>4</td><td>NULL</td></tr>",
                            "<tr><td>georgij</td><td>2016-08-28</td><td>2016-09-04</td><td>2</td><td>4</td></tr>",
                            "<tr><td>georgij</td><td>2016-06-16</td><td>2016-06-20</td><td>3</td><td>6</td></tr>",
                            "<tr><td>georgij</td><td>2016-09-18</td><td>2016-09-24</td><td>3</td><td>9</td></tr>",
                            "<tr><td>gusztav</td><td>2016-05-06</td><td>2016-05-13</td><td>2</td><td>NULL</td></tr>",
                            "<tr><td>gusztav</td><td>2016-08-05</td><td>2016-08-11</td><td>3</td><td>2</td></tr>",
                            "<tr><td>gusztav</td><td>2016-10-01</td><td>2016-10-03</td><td>3</td><td>5</td></tr>",
                            "<tr><td>gusztav</td><td>2017-02-03</td><td>2017-02-09</td><td>2</td><td>8</td></tr>",
                            "<tr><td>gusztav</td><td>2017-02-23</td><td>2017-03-01</td><td>4</td><td>8</td></tr>",
                            "<tr><td>GYONGYIK</td><td>2016-08-17</td><td>2016-08-21</td><td>3</td><td>NULL</td></tr>",
                            "<tr><td>GYONGYIK</td><td>2016-06-02</td><td>2016-06-05</td><td>3</td><td>3</td></tr>",
                            "<tr><td>GYONGYIK</td><td>2016-06-10</td><td>2016-06-17</td><td>1</td><td>6</td></tr>",
                            "<tr><td>GYONGYIK</td><td>2016-07-01</td><td>2016-07-05</td><td>2</td><td>7</td></tr>",
                            "<tr><td>GYONGYIK</td><td>2016-11-08</td><td>2016-11-13</td><td>2</td><td>6</td></tr>",
                            "<tr><td>GYONGYIK</td><td>2016-12-01</td><td>2016-12-08</td><td>2</td><td>5</td></tr>",
                            "<tr><td>GYONGYIK</td><td>2017-01-22</td><td>2017-01-29</td><td>3</td><td>6</td></tr>",
                            "<tr><td>GYORGYO</td><td>2016-07-18</td><td>2016-07-25</td><td>2</td><td>NULL</td></tr>",
                            "<tr><td>GYORGYO</td><td>2016-07-28</td><td>2016-08-03</td><td>3</td><td>2</td></tr>",
                            "<tr><td>GYORGYO</td><td>2016-05-27</td><td>2016-05-28</td><td>3</td><td>5</td></tr>",
                            "<tr><td>GYORGYO</td><td>2016-06-01</td><td>2016-06-07</td><td>2</td><td>8</td></tr>",
                            "<tr><td>GYORGYO</td><td>2016-06-10</td><td>2016-06-15</td><td>2</td><td>8</td></tr>",
                            "<tr><td>GYORGYO</td><td>2016-10-28</td><td>2016-10-31</td><td>1</td><td>7</td></tr>",
                            "<tr><td>GYORGYO</td><td>2017-02-13</td><td>2017-02-15</td><td>2</td><td>5</td></tr>",
                            "<tr><td>GYORGYO</td><td>2017-02-24</td><td>2017-02-25</td><td>3</td><td>5</td></tr>",
                            "<tr><td>henrik3</td><td>2016-08-24</td><td>2016-08-28</td><td>1</td><td>NULL</td></tr>",
                            "<tr><td>henrik3</td><td>2016-12-29</td><td>2017-01-03</td><td>3</td><td>1</td></tr>",
                            "<tr><td>henrik3</td><td>2017-01-27</td><td>2017-01-28</td><td>3</td><td>4</td></tr>",
                            "<tr><td>IBOLYAA</td><td>2016-08-29</td><td>2016-08-31</td><td>5</td><td>NULL</td></tr>",
                            "<tr><td>IBOLYAA</td><td>2016-10-23</td><td>2016-10-28</td><td>2</td><td>5</td></tr>",
                            "<tr><td>IBOLYAA</td><td>2017-01-17</td><td>2017-01-23</td><td>3</td><td>7</td></tr>",
                            "<tr><td>ilona3</td><td>2016-07-31</td><td>2016-08-06</td><td>2</td><td>NULL</td></tr>",
                            "<tr><td>ilona3</td><td>2016-08-04</td><td>2016-08-08</td><td>3</td><td>2</td></tr>",
                            "<tr><td>ilona3</td><td>2016-11-04</td><td>2016-11-06</td><td>4</td><td>5</td></tr>",
                            "<tr><td>ilona3</td><td>2016-12-25</td><td>2016-12-31</td><td>3</td><td>9</td></tr>",
                            "<tr><td>imre</td><td>2016-09-17</td><td>2016-09-19</td><td>3</td><td>NULL</td></tr>",
                            "<tr><td>imre</td><td>2016-10-28</td><td>2016-10-29</td><td>4</td><td>3</td></tr>",
                            "<tr><td>imre1</td><td>2016-08-21</td><td>2016-08-27</td><td>2</td><td>NULL</td></tr>",
                            "<tr><td>imre1</td><td>2016-08-23</td><td>2016-08-25</td><td>3</td><td>2</td></tr>",
                            "<tr><td>imre1</td><td>2016-08-29</td><td>2016-08-31</td><td>2</td><td>5</td></tr>",
                            "<tr><td>imre1</td><td>2016-06-23</td><td>2016-06-26</td><td>4</td><td>7</td></tr>",
                            "<tr><td>imre1</td><td>2016-06-27</td><td>2016-06-28</td><td>2</td><td>9</td></tr>",
                            "<tr><td>imre1</td><td>2017-02-01</td><td>2017-02-04</td><td>2</td><td>8</td></tr>",
                            "<tr><td>imre1</td><td>2017-02-05</td><td>2017-02-07</td><td>4</td><td>8</td></tr>",
                            "<tr><td>istvan</td><td>2016-10-07</td><td>2016-10-10</td><td>2</td><td>NULL</td></tr>",
                            "<tr><td>istvan</td><td>2016-11-22</td><td>2016-11-24</td><td>3</td><td>2</td></tr>",
                            "<tr><td>istvan</td><td>2017-01-02</td><td>2017-01-05</td><td>2</td><td>5</td></tr>",
                            "<tr><td>istvan1</td><td>2016-04-16</td><td>2016-04-22</td><td>3</td><td>NULL</td></tr>",
                            "<tr><td>istvan1</td><td>2016-04-24</td><td>2016-04-28</td><td>3</td><td>3</td></tr>",
                            "<tr><td>istvan1</td><td>2016-07-19</td><td>2016-07-24</td><td>1</td><td>6</td></tr>",
                            "<tr><td>istvan1</td><td>2017-02-07</td><td>2017-02-10</td><td>3</td><td>7</td></tr>",
                            "<tr><td>ISTVANV</td><td>2016-07-01</td><td>2016-07-04</td><td>4</td><td>NULL</td></tr>",
                            "<tr><td>ISTVANV</td><td>2016-09-29</td><td>2016-10-01</td><td>3</td><td>4</td></tr>",
                            "<tr><td>janos3</td><td>2016-08-24</td><td>2016-08-25</td><td>3</td><td>NULL</td></tr>",
                            "<tr><td>janos3</td><td>2016-06-04</td><td>2016-06-06</td><td>1</td><td>3</td></tr>",
                            "<tr><td>janos3</td><td>2016-10-03</td><td>2016-10-08</td><td>3</td><td>4</td></tr>",
                            "<tr><td>janos3</td><td>2016-10-22</td><td>2016-10-23</td><td>1</td><td>7</td></tr>",
                            "<tr><td>janos3</td><td>2017-02-12</td><td>2017-02-14</td><td>3</td><td>5</td></tr>",
                            "<tr><td>JANOSG</td><td>2016-05-09</td><td>2016-05-15</td><td>1</td><td>NULL</td></tr>",
                            "<tr><td>JANOSG</td><td>2016-08-16</td><td>2016-08-23</td><td>3</td><td>1</td></tr>",
                            "<tr><td>JANOSG</td><td>2016-08-30</td><td>2016-09-03</td><td>3</td><td>4</td></tr>",
                            "<tr><td>JANOSG</td><td>2016-11-07</td><td>2016-11-14</td><td>3</td><td>7</td></tr>",
                            "<tr><td>JANOSG</td><td>2016-12-28</td><td>2016-12-30</td><td>2</td><td>9</td></tr>",
                            "<tr><td>JANOSG</td><td>2017-01-10</td><td>2017-01-15</td><td>2</td><td>8</td></tr>",
                            "<tr><td>JANOSG</td><td>2017-01-31</td><td>2017-02-05</td><td>2</td><td>7</td></tr>",
                            "<tr><td>JANOSP</td><td>2016-07-04</td><td>2016-07-11</td><td>3</td><td>NULL</td></tr>",
                            "<tr><td>JANOSP</td><td>2016-11-23</td><td>2016-11-28</td><td>2</td><td>3</td></tr>",
                            "<tr><td>JANOSP</td><td>2016-11-25</td><td>2016-11-27</td><td>2</td><td>5</td></tr>",
                            "<tr><td>JANOSP</td><td>2016-12-18</td><td>2016-12-21</td><td>2</td><td>7</td></tr>",
                            "<tr><td>jozsef</td><td>2016-09-13</td><td>2016-09-19</td><td>2</td><td>NULL</td></tr>",
                            "<tr><td>jozsef</td><td>2016-10-08</td><td>2016-10-10</td><td>2</td><td>2</td></tr>",
                            "<tr><td>jozsef</td><td>2016-12-06</td><td>2016-12-07</td><td>2</td><td>4</td></tr>",
                            "<tr><td>jozsef2</td><td>2016-07-16</td><td>2016-07-20</td><td>3</td><td>NULL</td></tr>",
                            "<tr><td>jozsef2</td><td>2016-07-06</td><td>2016-07-11</td><td>2</td><td>3</td></tr>",
                            "<tr><td>jozsef2</td><td>2016-09-09</td><td>2016-09-15</td><td>2</td><td>5</td></tr>",
                            "<tr><td>jozsef2</td><td>2016-11-23</td><td>2016-11-29</td><td>3</td><td>7</td></tr>",
                            "<tr><td>jozsef2</td><td>2016-11-25</td><td>2016-11-29</td><td>3</td><td>7</td></tr>",
                            "<tr><td>JOZSEFG</td><td>2016-05-02</td><td>2016-05-06</td><td>2</td><td>NULL</td></tr>",
                            "<tr><td>JOZSEFG</td><td>2016-08-24</td><td>2016-08-27</td><td>3</td><td>2</td></tr>",
                            "<tr><td>JOZSEFG</td><td>2016-05-23</td><td>2016-05-25</td><td>1</td><td>5</td></tr>",
                            "<tr><td>JOZSEFG</td><td>2016-06-04</td><td>2016-06-09</td><td>4</td><td>6</td></tr>",
                            "<tr><td>JOZSEFG</td><td>2017-01-09</td><td>2017-01-13</td><td>2</td><td>8</td></tr>",
                            "<tr><td>JOZSEFG</td><td>2017-01-22</td><td>2017-01-26</td><td>1</td><td>7</td></tr>",
                            "<tr><td>JOZSEFG</td><td>2017-02-24</td><td>2017-03-03</td><td>3</td><td>7</td></tr>",
                            "<tr><td>JUDITH</td><td>2016-07-28</td><td>2016-07-30</td><td>2</td><td>NULL</td></tr>",
                            "<tr><td>JUDITH</td><td>2016-06-06</td><td>2016-06-10</td><td>2</td><td>2</td></tr>",
                            "<tr><td>JUDITH</td><td>2016-12-19</td><td>2016-12-26</td><td>1</td><td>4</td></tr>",
                            "<tr><td>julia</td><td>2016-04-21</td><td>2016-04-26</td><td>2</td><td>NULL</td></tr>",
                            "<tr><td>julia</td><td>2016-05-12</td><td>2016-05-17</td><td>1</td><td>2</td></tr>",
                            "<tr><td>julia</td><td>2016-07-20</td><td>2016-07-22</td><td>2</td><td>3</td></tr>",
                            "<tr><td>julia</td><td>2016-06-07</td><td>2016-06-08</td><td>5</td><td>5</td></tr>",
                            "<tr><td>julia</td><td>2017-02-27</td><td>2017-03-06</td><td>3</td><td>8</td></tr>",
                            "<tr><td>julia4</td><td>2016-11-07</td><td>2016-11-12</td><td>1</td><td>NULL</td></tr>",
                            "<tr><td>julia4</td><td>2017-02-04</td><td>2017-02-11</td><td>4</td><td>1</td></tr>",
                            "<tr><td>julianna4</td><td>2016-07-20</td><td>2016-07-26</td><td>2</td><td>NULL</td></tr>",
                            "<tr><td>julianna4</td><td>2016-10-29</td><td>2016-10-31</td><td>3</td><td>2</td></tr>",
                            "<tr><td>julianna4</td><td>2016-11-03</td><td>2016-11-04</td><td>2</td><td>5</td></tr>",
                            "<tr><td>julianna4</td><td>2016-11-27</td><td>2016-12-04</td><td>3</td><td>7</td></tr>",
                            "<tr><td>kata</td><td>2016-04-10</td><td>2016-04-11</td><td>2</td><td>NULL</td></tr>",
                            "<tr><td>kata</td><td>2016-04-25</td><td>2016-05-01</td><td>1</td><td>2</td></tr>",
                            "<tr><td>kata</td><td>2016-08-24</td><td>2016-08-27</td><td>3</td><td>3</td></tr>",
                            "<tr><td>kata</td><td>2016-05-31</td><td>2016-06-01</td><td>3</td><td>6</td></tr>",
                            "<tr><td>kata</td><td>2016-06-07</td><td>2016-06-12</td><td>2</td><td>7</td></tr>",
                            "<tr><td>kata</td><td>2016-07-01</td><td>2016-07-07</td><td>2</td><td>8</td></tr>",
                            "<tr><td>kata</td><td>2016-07-03</td><td>2016-07-06</td><td>1</td><td>7</td></tr>",
                            "<tr><td>kata</td><td>2016-07-07</td><td>2016-07-09</td><td>3</td><td>5</td></tr>",
                            "<tr><td>kata</td><td>2016-09-19</td><td>2016-09-20</td><td>3</td><td>6</td></tr>",
                            "<tr><td>kata</td><td>2017-01-15</td><td>2017-01-21</td><td>3</td><td>7</td></tr>",
                            "<tr><td>katalin</td><td>2016-04-10</td><td>2016-04-17</td><td>2</td><td>NULL</td></tr>",
                            "<tr><td>katalin</td><td>2016-05-21</td><td>2016-05-26</td><td>1</td><td>2</td></tr>",
                            "<tr><td>katalin</td><td>2016-07-28</td><td>2016-07-29</td><td>1</td><td>3</td></tr>",
                            "<tr><td>katalin</td><td>2016-07-06</td><td>2016-07-11</td><td>1</td><td>4</td></tr>",
                            "<tr><td>katalin</td><td>2016-10-26</td><td>2016-10-30</td><td>2</td><td>3</td></tr>",
                            "<tr><td>katalin</td><td>2016-12-13</td><td>2016-12-19</td><td>2</td><td>4</td></tr>",
                            "<tr><td>katalin</td><td>2016-12-17</td><td>2016-12-24</td><td>1</td><td>5</td></tr>",
                            "<tr><td>katalin</td><td>2016-12-24</td><td>2016-12-27</td><td>2</td><td>5</td></tr>",
                            "<tr><td>katalin</td><td>2017-02-24</td><td>2017-02-27</td><td>3</td><td>5</td></tr>",
                            "<tr><td>katalin4</td><td>2016-07-01</td><td>2016-07-07</td><td>1</td><td>NULL</td></tr>",
                            "<tr><td>katalin4</td><td>2016-07-03</td><td>2016-07-04</td><td>4</td><td>1</td></tr>",
                            "<tr><td>katalin4</td><td>2016-11-27</td><td>2016-12-04</td><td>3</td><td>5</td></tr>",
                            "<tr><td>katalin4</td><td>2016-12-04</td><td>2016-12-09</td><td>3</td><td>8</td></tr>",
                            "<tr><td>katalin4</td><td>2017-01-18</td><td>2017-01-20</td><td>2</td><td>10</td></tr>",
                            "<tr><td>katalin4</td><td>2017-01-24</td><td>2017-01-31</td><td>2</td><td>8</td></tr>",
                            "<tr><td>kati</td><td>2016-07-13</td><td>2016-07-20</td><td>2</td><td>NULL</td></tr>",
                            "<tr><td>kati</td><td>2016-07-27</td><td>2016-08-03</td><td>2</td><td>2</td></tr>",
                            "<tr><td>kati</td><td>2016-08-03</td><td>2016-08-07</td><td>2</td><td>4</td></tr>",
                            "<tr><td>kati</td><td>2016-06-06</td><td>2016-06-10</td><td>2</td><td>6</td></tr>",
                            "<tr><td>kati</td><td>2016-06-06</td><td>2016-06-11</td><td>3</td><td>6</td></tr>",
                            "<tr><td>kati</td><td>2016-10-26</td><td>2016-10-28</td><td>2</td><td>7</td></tr>",
                            "<tr><td>kati</td><td>2016-10-30</td><td>2016-11-01</td><td>3</td><td>7</td></tr>",
                            "<tr><td>katka</td><td>2016-04-10</td><td>2016-04-12</td><td>2</td><td>NULL</td></tr>",
                            "<tr><td>katka</td><td>2016-05-09</td><td>2016-05-15</td><td>3</td><td>2</td></tr>",
                            "<tr><td>katka</td><td>2016-08-24</td><td>2016-08-26</td><td>2</td><td>5</td></tr>",
                            "<tr><td>katka</td><td>2016-06-13</td><td>2016-06-18</td><td>1</td><td>7</td></tr>",
                            "<tr><td>katka</td><td>2016-06-13</td><td>2016-06-19</td><td>4</td><td>6</td></tr>",
                            "<tr><td>katka</td><td>2016-09-05</td><td>2016-09-10</td><td>4</td><td>7</td></tr>",
                            "<tr><td>katka</td><td>2016-11-05</td><td>2016-11-08</td><td>3</td><td>9</td></tr>",
                            "<tr><td>katka</td><td>2017-01-02</td><td>2017-01-05</td><td>3</td><td>11</td></tr>",
                            "<tr><td>katka</td><td>2017-01-19</td><td>2017-01-20</td><td>3</td><td>10</td></tr>",
                            "<tr><td>klaudia2</td><td>2016-06-06</td><td>2016-06-08</td><td>4</td><td>NULL</td></tr>",
                            "<tr><td>klaudia2</td><td>2016-10-01</td><td>2016-10-02</td><td>2</td><td>4</td></tr>",
                            "<tr><td>klaudia2</td><td>2016-10-02</td><td>2016-10-05</td><td>2</td><td>6</td></tr>",
                            "<tr><td>kornel4</td><td>2016-05-08</td><td>2016-05-14</td><td>3</td><td>NULL</td></tr>",
                            "<tr><td>kornel4</td><td>2016-06-02</td><td>2016-06-09</td><td>3</td><td>3</td></tr>",
                            "<tr><td>kornel4</td><td>2016-09-23</td><td>2016-09-24</td><td>3</td><td>6</td></tr>",
                            "<tr><td>kristof4</td><td>2016-04-08</td><td>2016-04-14</td><td>2</td><td>NULL</td></tr>",
                            "<tr><td>kristof4</td><td>2016-09-30</td><td>2016-10-04</td><td>2</td><td>2</td></tr>",
                            "<tr><td>kriszti</td><td>2016-05-19</td><td>2016-05-26</td><td>2</td><td>NULL</td></tr>",
                            "<tr><td>kriszti</td><td>2016-08-24</td><td>2016-08-25</td><td>3</td><td>2</td></tr>",
                            "<tr><td>kriszti</td><td>2016-09-30</td><td>2016-10-05</td><td>3</td><td>5</td></tr>",
                            "<tr><td>kriszti</td><td>2016-10-01</td><td>2016-10-02</td><td>3</td><td>8</td></tr>",
                            "<tr><td>kriszti</td><td>2017-02-04</td><td>2017-02-11</td><td>3</td><td>9</td></tr>",
                            "<tr><td>kriszti</td><td>2017-03-03</td><td>2017-03-04</td><td>3</td><td>9</td></tr>",
                            "<tr><td>krisztian4</td><td>2016-07-28</td><td>2016-08-01</td><td>2</td><td>NULL</td></tr>",
                            "<tr><td>krisztian4</td><td>2016-08-01</td><td>2016-08-04</td><td>3</td><td>2</td></tr>",
                            "<tr><td>krisztian4</td><td>2016-08-16</td><td>2016-08-19</td><td>1</td><td>5</td></tr>",
                            "<tr><td>krisztian4</td><td>2016-08-29</td><td>2016-09-03</td><td>1</td><td>6</td></tr>",
                            "<tr><td>krisztian4</td><td>2016-06-03</td><td>2016-06-04</td><td>2</td><td>5</td></tr>",
                            "<tr><td>krisztian4</td><td>2016-06-07</td><td>2016-06-09</td><td>2</td><td>4</td></tr>",
                            "<tr><td>krisztian4</td><td>2016-10-17</td><td>2016-10-22</td><td>3</td><td>5</td></tr>",
                            "<tr><td>krisztian4</td><td>2016-11-02</td><td>2016-11-03</td><td>2</td><td>7</td></tr>",
                            "<tr><td>krisztian4</td><td>2016-12-11</td><td>2016-12-18</td><td>2</td><td>7</td></tr>",
                            "<tr><td>krisztian4</td><td>2017-01-06</td><td>2017-01-09</td><td>1</td><td>7</td></tr>",
                            "<tr><td>krisztian4</td><td>2017-01-16</td><td>2017-01-23</td><td>3</td><td>5</td></tr>",
                            "<tr><td>krisztian4</td><td>2017-02-23</td><td>2017-03-02</td><td>2</td><td>6</td></tr>",
                            "<tr><td>KRISZTIANM</td><td>2016-04-09</td><td>2016-04-15</td><td>2</td><td>NULL</td></tr>",
                            "<tr><td>KRISZTIANM</td><td>2016-08-02</td><td>2016-08-08</td><td>4</td><td>2</td></tr>",
                            "<tr><td>KRISZTIANM</td><td>2016-06-04</td><td>2016-06-08</td><td>2</td><td>6</td></tr>",
                            "<tr><td>KRISZTIANM</td><td>2016-07-09</td><td>2016-07-14</td><td>3</td><td>8</td></tr>",
                            "<tr><td>KRISZTIANM</td><td>2016-12-25</td><td>2016-12-31</td><td>2</td><td>9</td></tr>",
                            "<tr><td>KRISZTIANM</td><td>2017-01-16</td><td>2017-01-23</td><td>1</td><td>7</td></tr>",
                            "<tr><td>krisztina</td><td>2016-05-21</td><td>2016-05-27</td><td>2</td><td>NULL</td></tr>",
                            "<tr><td>krisztina</td><td>2016-07-05</td><td>2016-07-12</td><td>3</td><td>2</td></tr>",
                            "<tr><td>krisztina</td><td>2016-09-13</td><td>2016-09-16</td><td>1</td><td>5</td></tr>",
                            "<tr><td>krisztina</td><td>2016-09-19</td><td>2016-09-26</td><td>2</td><td>6</td></tr>",
                            "<tr><td>krisztina</td><td>2016-11-08</td><td>2016-11-12</td><td>2</td><td>6</td></tr>",
                            "<tr><td>krisztina</td><td>2016-11-22</td><td>2016-11-25</td><td>1</td><td>5</td></tr>",
                            "<tr><td>krisztina</td><td>2017-02-05</td><td>2017-02-07</td><td>2</td><td>5</td></tr>",
                            "<tr><td>krisztina</td><td>2017-02-16</td><td>2017-02-20</td><td>4</td><td>5</td></tr>",
                            "<tr><td>krisztina1</td><td>2016-04-28</td><td>2016-04-30</td><td>2</td><td>NULL</td></tr>",
                            "<tr><td>krisztina1</td><td>2016-05-16</td><td>2016-05-20</td><td>1</td><td>2</td></tr>",
                            "<tr><td>krisztina1</td><td>2016-06-16</td><td>2016-06-22</td><td>2</td><td>3</td></tr>",
                            "<tr><td>krisztina1</td><td>2016-09-15</td><td>2016-09-20</td><td>3</td><td>5</td></tr>",
                            "<tr><td>krisztina1</td><td>2016-10-29</td><td>2016-10-30</td><td>4</td><td>6</td></tr>",
                            "<tr><td>krisztina1</td><td>2017-01-21</td><td>2017-01-24</td><td>2</td><td>9</td></tr>",
                            "<tr><td>KRISZTINAG</td><td>2016-04-23</td><td>2016-04-24</td><td>2</td><td>NULL</td></tr>",
                            "<tr><td>KRISZTINAG</td><td>2016-08-08</td><td>2016-08-12</td><td>3</td><td>2</td></tr>",
                            "<tr><td>KRISZTINAG</td><td>2016-05-24</td><td>2016-05-31</td><td>1</td><td>5</td></tr>",
                            "<tr><td>KRISZTINAG</td><td>2016-06-08</td><td>2016-06-12</td><td>1</td><td>6</td></tr>",
                            "<tr><td>KRISZTINAG</td><td>2017-01-25</td><td>2017-01-30</td><td>2</td><td>5</td></tr>",
                            "<tr><td>lajos</td><td>2016-07-18</td><td>2016-07-21</td><td>2</td><td>NULL</td></tr>",
                            "<tr><td>lajos</td><td>2016-12-25</td><td>2016-12-28</td><td>4</td><td>2</td></tr>",
                            "<tr><td>lajos</td><td>2017-02-12</td><td>2017-02-13</td><td>1</td><td>6</td></tr>",
                            "<tr><td>lala</td><td>2016-07-20</td><td>2016-07-21</td><td>3</td><td>NULL</td></tr>",
                            "<tr><td>lala</td><td>2016-07-26</td><td>2016-07-27</td><td>3</td><td>3</td></tr>",
                            "<tr><td>lala</td><td>2016-06-16</td><td>2016-06-22</td><td>2</td><td>6</td></tr>",
                            "<tr><td>lala</td><td>2016-10-30</td><td>2016-10-31</td><td>3</td><td>8</td></tr>",
                            "<tr><td>lala</td><td>2017-01-08</td><td>2017-01-10</td><td>3</td><td>8</td></tr>",
                            "<tr><td>lala</td><td>2017-01-17</td><td>2017-01-19</td><td>2</td><td>8</td></tr>",
                            "<tr><td>laszlo1</td><td>2016-09-23</td><td>2016-09-30</td><td>3</td><td>NULL</td></tr>",
                            "<tr><td>laszlo2</td><td>2016-04-06</td><td>2016-04-10</td><td>2</td><td>NULL</td></tr>",
                            "<tr><td>laszlo2</td><td>2016-04-27</td><td>2016-04-29</td><td>2</td><td>2</td></tr>",
                            "<tr><td>laszlo2</td><td>2016-08-14</td><td>2016-08-15</td><td>3</td><td>4</td></tr>",
                            "<tr><td>laszlo2</td><td>2016-09-05</td><td>2016-09-10</td><td>3</td><td>7</td></tr>",
                            "<tr><td>laszlo2</td><td>2016-11-25</td><td>2016-11-26</td><td>3</td><td>8</td></tr>",
                            "<tr><td>LASZLOA</td><td>2016-06-03</td><td>2016-06-09</td><td>2</td><td>NULL</td></tr>",
                            "<tr><td>LASZLOA</td><td>2016-06-07</td><td>2016-06-11</td><td>1</td><td>2</td></tr>",
                            "<tr><td>LASZLOA</td><td>2016-06-10</td><td>2016-06-13</td><td>3</td><td>3</td></tr>",
                            "<tr><td>LASZLOA</td><td>2017-02-08</td><td>2017-02-14</td><td>2</td><td>6</td></tr>",
                            "<tr><td>LASZLON</td><td>2016-06-03</td><td>2016-06-06</td><td>1</td><td>NULL</td></tr>",
                            "<tr><td>LASZLON</td><td>2016-06-08</td><td>2016-06-09</td><td>2</td><td>1</td></tr>",
                            "<tr><td>LASZLON</td><td>2016-10-01</td><td>2016-10-04</td><td>3</td><td>3</td></tr>",
                            "<tr><td>LASZLON</td><td>2016-10-09</td><td>2016-10-14</td><td>1</td><td>6</td></tr>",
                            "<tr><td>LASZLON</td><td>2016-11-29</td><td>2016-12-04</td><td>1</td><td>6</td></tr>",
                            "<tr><td>LASZLON</td><td>2017-02-18</td><td>2017-02-25</td><td>3</td><td>5</td></tr>",
                            "<tr><td>maria1</td><td>2016-05-13</td><td>2016-05-18</td><td>2</td><td>NULL</td></tr>",
                            "<tr><td>maria1</td><td>2016-05-18</td><td>2016-05-19</td><td>1</td><td>2</td></tr>",
                            "<tr><td>maria1</td><td>2016-08-11</td><td>2016-08-14</td><td>3</td><td>3</td></tr>",
                            "<tr><td>maria1</td><td>2016-09-02</td><td>2016-09-05</td><td>1</td><td>6</td></tr>",
                            "<tr><td>maria1</td><td>2016-05-28</td><td>2016-06-03</td><td>2</td><td>5</td></tr>",
                            "<tr><td>maria1</td><td>2016-06-23</td><td>2016-06-27</td><td>1</td><td>6</td></tr>",
                            "<tr><td>maria1</td><td>2016-11-08</td><td>2016-11-12</td><td>3</td><td>4</td></tr>",
                            "<tr><td>maria1</td><td>2017-02-24</td><td>2017-03-02</td><td>2</td><td>6</td></tr>",
                            "<tr><td>mark</td><td>2016-04-19</td><td>2016-04-26</td><td>4</td><td>NULL</td></tr>",
                            "<tr><td>mark</td><td>2016-08-09</td><td>2016-08-16</td><td>3</td><td>4</td></tr>",
                            "<tr><td>mark</td><td>2016-06-13</td><td>2016-06-18</td><td>3</td><td>7</td></tr>",
                            "<tr><td>mark</td><td>2016-10-20</td><td>2016-10-27</td><td>1</td><td>10</td></tr>",
                            "<tr><td>mark</td><td>2016-11-19</td><td>2016-11-22</td><td>2</td><td>7</td></tr>",
                            "<tr><td>MARKH</td><td>2016-09-14</td><td>2016-09-17</td><td>3</td><td>NULL</td></tr>",
                            "<tr><td>MARKH</td><td>2016-09-23</td><td>2016-09-30</td><td>2</td><td>3</td></tr>",
                            "<tr><td>MARKH</td><td>2016-09-26</td><td>2016-10-01</td><td>4</td><td>5</td></tr>",
                            "<tr><td>MARKH</td><td>2017-01-22</td><td>2017-01-29</td><td>4</td><td>9</td></tr>",
                            "<tr><td>marton</td><td>2016-04-27</td><td>2016-05-04</td><td>3</td><td>NULL</td></tr>",
                            "<tr><td>marton</td><td>2016-05-05</td><td>2016-05-10</td><td>1</td><td>3</td></tr>",
                            "<tr><td>marton</td><td>2016-08-12</td><td>2016-08-17</td><td>2</td><td>4</td></tr>",
                            "<tr><td>marton</td><td>2016-06-06</td><td>2016-06-08</td><td>3</td><td>6</td></tr>",
                            "<tr><td>marton</td><td>2016-06-22</td><td>2016-06-29</td><td>2</td><td>6</td></tr>",
                            "<tr><td>marton</td><td>2016-09-10</td><td>2016-09-12</td><td>2</td><td>7</td></tr>",
                            "<tr><td>marton</td><td>2017-03-02</td><td>2017-03-03</td><td>2</td><td>7</td></tr>",
                            "<tr><td>MATEK</td><td>2016-08-17</td><td>2016-08-21</td><td>4</td><td>NULL</td></tr>",
                            "<tr><td>MATEK</td><td>2016-10-01</td><td>2016-10-04</td><td>2</td><td>4</td></tr>",
                            "<tr><td>MATEK</td><td>2017-01-16</td><td>2017-01-22</td><td>2</td><td>6</td></tr>",
                            "<tr><td>matyas2</td><td>2016-07-13</td><td>2016-07-16</td><td>2</td><td>NULL</td></tr>",
                            "<tr><td>matyas2</td><td>2016-12-09</td><td>2016-12-13</td><td>3</td><td>2</td></tr>",
                            "<tr><td>MATYASS</td><td>2016-05-10</td><td>2016-05-16</td><td>2</td><td>NULL</td></tr>",
                            "<tr><td>MATYASS</td><td>2016-07-23</td><td>2016-07-25</td><td>3</td><td>2</td></tr>",
                            "<tr><td>MATYASS</td><td>2016-06-02</td><td>2016-06-08</td><td>1</td><td>5</td></tr>",
                            "<tr><td>MATYASS</td><td>2016-10-09</td><td>2016-10-15</td><td>3</td><td>6</td></tr>",
                            "<tr><td>MATYASS</td><td>2016-10-24</td><td>2016-10-31</td><td>1</td><td>7</td></tr>",
                            "<tr><td>MATYASS</td><td>2016-10-30</td><td>2016-11-04</td><td>3</td><td>5</td></tr>",
                            "<tr><td>MATYASS</td><td>2016-12-20</td><td>2016-12-25</td><td>2</td><td>7</td></tr>",
                            "<tr><td>MATYASS</td><td>2017-01-09</td><td>2017-01-13</td><td>2</td><td>6</td></tr>",
                            "<tr><td>MIHALYJ</td><td>2016-08-29</td><td>2016-09-03</td><td>1</td><td>NULL</td></tr>",
                            "<tr><td>MIHALYJ</td><td>2016-05-30</td><td>2016-06-01</td><td>2</td><td>1</td></tr>",
                            "<tr><td>MIHALYJ</td><td>2016-06-27</td><td>2016-07-01</td><td>1</td><td>3</td></tr>",
                            "<tr><td>MIHALYJ</td><td>2016-11-01</td><td>2016-11-04</td><td>3</td><td>4</td></tr>",
                            "<tr><td>MIHALYJ</td><td>2017-02-06</td><td>2017-02-12</td><td>4</td><td>6</td></tr>",
                            "<tr><td>miklos2</td><td>2016-04-19</td><td>2016-04-21</td><td>3</td><td>NULL</td></tr>",
                            "<tr><td>miklos2</td><td>2016-10-08</td><td>2016-10-09</td><td>1</td><td>3</td></tr>",
                            "<tr><td>miklos2</td><td>2016-11-16</td><td>2016-11-18</td><td>3</td><td>4</td></tr>",
                            "<tr><td>MIKLOSB</td><td>2016-07-18</td><td>2016-07-21</td><td>2</td><td>NULL</td></tr>",
                            "<tr><td>MIKLOSB</td><td>2016-06-26</td><td>2016-06-30</td><td>2</td><td>2</td></tr>",
                            "<tr><td>MIKLOSB</td><td>2016-12-05</td><td>2016-12-10</td><td>2</td><td>4</td></tr>",
                            "<tr><td>MONIKAM</td><td>2016-04-29</td><td>2016-05-01</td><td>2</td><td>NULL</td></tr>",
                            "<tr><td>MONIKAM</td><td>2016-07-23</td><td>2016-07-30</td><td>1</td><td>2</td></tr>",
                            "<tr><td>MONIKAM</td><td>2016-11-09</td><td>2016-11-16</td><td>2</td><td>3</td></tr>",
                            "<tr><td>MONIKAM</td><td>2017-01-17</td><td>2017-01-24</td><td>1</td><td>5</td></tr>",
                            "<tr><td>MONIKAM</td><td>2017-02-06</td><td>2017-02-09</td><td>2</td><td>4</td></tr>",
                            "<tr><td>MONIKAM</td><td>2017-02-23</td><td>2017-02-26</td><td>2</td><td>5</td></tr>",
                            "<tr><td>NANDORF</td><td>2016-04-06</td><td>2016-04-10</td><td>3</td><td>NULL</td></tr>",
                            "<tr><td>NANDORF</td><td>2016-11-03</td><td>2016-11-04</td><td>3</td><td>3</td></tr>",
                            "<tr><td>NANDORF</td><td>2017-02-05</td><td>2017-02-08</td><td>3</td><td>6</td></tr>",
                            "<tr><td>nikolett3</td><td>2016-05-24</td><td>2016-05-29</td><td>2</td><td>NULL</td></tr>",
                            "<tr><td>nikolett3</td><td>2016-06-03</td><td>2016-06-09</td><td>1</td><td>2</td></tr>",
                            "<tr><td>nikolett3</td><td>2016-06-22</td><td>2016-06-24</td><td>1</td><td>3</td></tr>",
                            "<tr><td>nikolett3</td><td>2016-10-22</td><td>2016-10-29</td><td>3</td><td>4</td></tr>",
                            "<tr><td>nikoletta4</td><td>2016-04-08</td><td>2016-04-10</td><td>2</td><td>NULL</td></tr>",
                            "<tr><td>nikoletta4</td><td>2016-05-09</td><td>2016-05-15</td><td>2</td><td>2</td></tr>",
                            "<tr><td>nikoletta4</td><td>2016-08-13</td><td>2016-08-17</td><td>3</td><td>4</td></tr>",
                            "<tr><td>nikoletta4</td><td>2016-05-30</td><td>2016-06-03</td><td>3</td><td>7</td></tr>",
                            "<tr><td>nikoletta4</td><td>2016-06-29</td><td>2016-07-06</td><td>2</td><td>8</td></tr>",
                            "<tr><td>nikoletta4</td><td>2016-12-08</td><td>2016-12-10</td><td>5</td><td>8</td></tr>",
                            "<tr><td>nikoletta4</td><td>2017-02-01</td><td>2017-02-04</td><td>2</td><td>10</td></tr>",
                            "<tr><td>NIKOLETTAT</td><td>2016-05-22</td><td>2016-05-23</td><td>4</td><td>NULL</td></tr>",
                            "<tr><td>NIKOLETTAT</td><td>2016-07-27</td><td>2016-07-29</td><td>4</td><td>4</td></tr>",
                            "<tr><td>NIKOLETTAT</td><td>2016-06-07</td><td>2016-06-09</td><td>2</td><td>8</td></tr>",
                            "<tr><td>NIKOLETTAT</td><td>2016-09-21</td><td>2016-09-26</td><td>2</td><td>10</td></tr>",
                            "<tr><td>norbert</td><td>2016-07-08</td><td>2016-07-13</td><td>1</td><td>NULL</td></tr>",
                            "<tr><td>norbert</td><td>2016-11-16</td><td>2016-11-23</td><td>3</td><td>1</td></tr>",
                            "<tr><td>norbert</td><td>2016-12-15</td><td>2016-12-18</td><td>2</td><td>4</td></tr>",
                            "<tr><td>norbert</td><td>2017-02-13</td><td>2017-02-15</td><td>3</td><td>6</td></tr>",
                            "<tr><td>norbert</td><td>2017-02-26</td><td>2017-03-01</td><td>1</td><td>8</td></tr>",
                            "<tr><td>norbert2</td><td>2016-04-19</td><td>2016-04-26</td><td>1</td><td>NULL</td></tr>",
                            "<tr><td>norbert2</td><td>2016-05-09</td><td>2016-05-10</td><td>2</td><td>1</td></tr>",
                            "<tr><td>norbert2</td><td>2016-07-27</td><td>2016-08-02</td><td>2</td><td>3</td></tr>",
                            "<tr><td>norbert2</td><td>2016-08-16</td><td>2016-08-19</td><td>1</td><td>5</td></tr>",
                            "<tr><td>norbert2</td><td>2016-07-13</td><td>2016-07-15</td><td>3</td><td>5</td></tr>",
                            "<tr><td>norbert2</td><td>2016-10-31</td><td>2016-11-07</td><td>2</td><td>6</td></tr>",
                            "<tr><td>norbert2</td><td>2017-01-29</td><td>2017-02-05</td><td>3</td><td>6</td></tr>",
                            "<tr><td>norbert4</td><td>2016-04-10</td><td>2016-04-13</td><td>2</td><td>NULL</td></tr>",
                            "<tr><td>norbert4</td><td>2016-05-29</td><td>2016-06-03</td><td>3</td><td>2</td></tr>",
                            "<tr><td>norbert4</td><td>2016-06-16</td><td>2016-06-17</td><td>4</td><td>5</td></tr>",
                            "<tr><td>norbert4</td><td>2016-06-16</td><td>2016-06-21</td><td>3</td><td>9</td></tr>",
                            "<tr><td>norbert4</td><td>2016-10-05</td><td>2016-10-10</td><td>3</td><td>10</td></tr>",
                            "<tr><td>norbert4</td><td>2016-10-28</td><td>2016-10-31</td><td>3</td><td>10</td></tr>",
                            "<tr><td>norbert4</td><td>2016-11-30</td><td>2016-12-06</td><td>3</td><td>9</td></tr>",
                            "<tr><td>norbert4</td><td>2017-02-16</td><td>2017-02-17</td><td>1</td><td>9</td></tr>",
                            "<tr><td>norbert4</td><td>2017-03-03</td><td>2017-03-07</td><td>2</td><td>7</td></tr>",
                            "<tr><td>norbert5</td><td>2016-08-10</td><td>2016-08-11</td><td>2</td><td>NULL</td></tr>",
                            "<tr><td>norbert5</td><td>2016-06-24</td><td>2016-06-28</td><td>2</td><td>2</td></tr>",
                            "<tr><td>norbert5</td><td>2016-11-05</td><td>2016-11-07</td><td>1</td><td>4</td></tr>",
                            "<tr><td>pal</td><td>2016-08-14</td><td>2016-08-18</td><td>3</td><td>NULL</td></tr>",
                            "<tr><td>pal</td><td>2016-09-16</td><td>2016-09-19</td><td>2</td><td>3</td></tr>",
                            "<tr><td>pal</td><td>2016-12-17</td><td>2016-12-23</td><td>3</td><td>5</td></tr>",
                            "<tr><td>pal</td><td>2017-02-13</td><td>2017-02-19</td><td>3</td><td>8</td></tr>",
                            "<tr><td>pal</td><td>2017-02-20</td><td>2017-02-22</td><td>3</td><td>8</td></tr>",
                            "<tr><td>peter1</td><td>2016-07-14</td><td>2016-07-18</td><td>3</td><td>NULL</td></tr>",
                            "<tr><td>peter1</td><td>2016-10-26</td><td>2016-11-01</td><td>3</td><td>3</td></tr>",
                            "<tr><td>peter1</td><td>2017-02-23</td><td>2017-02-26</td><td>3</td><td>6</td></tr>",
                            "<tr><td>peter1</td><td>2017-02-28</td><td>2017-03-05</td><td>3</td><td>9</td></tr>",
                            "<tr><td>peter2</td><td>2016-07-03</td><td>2016-07-08</td><td>2</td><td>NULL</td></tr>",
                            "<tr><td>peter2</td><td>2016-10-10</td><td>2016-10-16</td><td>2</td><td>2</td></tr>",
                            "<tr><td>peter2</td><td>2016-11-01</td><td>2016-11-02</td><td>2</td><td>4</td></tr>",
                            "<tr><td>peter2</td><td>2016-11-15</td><td>2016-11-21</td><td>3</td><td>6</td></tr>",
                            "<tr><td>peter3</td><td>2016-07-27</td><td>2016-07-31</td><td>4</td><td>NULL</td></tr>",
                            "<tr><td>peter3</td><td>2016-06-30</td><td>2016-07-05</td><td>3</td><td>4</td></tr>",
                            "<tr><td>peter3</td><td>2016-10-30</td><td>2016-11-06</td><td>2</td><td>7</td></tr>",
                            "<tr><td>peter3</td><td>2016-12-25</td><td>2016-12-28</td><td>1</td><td>9</td></tr>",
                            "<tr><td>peter3</td><td>2017-01-12</td><td>2017-01-17</td><td>1</td><td>6</td></tr>",
                            "<tr><td>peter3</td><td>2017-02-21</td><td>2017-02-24</td><td>2</td><td>4</td></tr>",
                            "<tr><td>peter4</td><td>2016-04-12</td><td>2016-04-15</td><td>3</td><td>NULL</td></tr>",
                            "<tr><td>peter4</td><td>2016-08-06</td><td>2016-08-13</td><td>2</td><td>3</td></tr>",
                            "<tr><td>peter4</td><td>2016-08-24</td><td>2016-08-25</td><td>3</td><td>5</td></tr>",
                            "<tr><td>peter4</td><td>2016-09-11</td><td>2016-09-17</td><td>4</td><td>8</td></tr>",
                            "<tr><td>peter4</td><td>2016-09-25</td><td>2016-09-26</td><td>3</td><td>9</td></tr>",
                            "<tr><td>peter4</td><td>2016-09-30</td><td>2016-10-06</td><td>3</td><td>10</td></tr>",
                            "<tr><td>peter4</td><td>2016-10-09</td><td>2016-10-16</td><td>3</td><td>10</td></tr>",
                            "<tr><td>peter4</td><td>2016-10-24</td><td>2016-10-25</td><td>2</td><td>9</td></tr>",
                            "<tr><td>peter4</td><td>2016-10-30</td><td>2016-11-01</td><td>3</td><td>8</td></tr>",
                            "<tr><td>peter4</td><td>2016-11-10</td><td>2016-11-17</td><td>3</td><td>8</td></tr>",
                            "<tr><td>peter4</td><td>2016-11-25</td><td>2016-11-30</td><td>3</td><td>8</td></tr>",
                            "<tr><td>peter4</td><td>2017-02-05</td><td>2017-02-09</td><td>3</td><td>9</td></tr>",
                            "<tr><td>PETERB</td><td>2016-04-06</td><td>2016-04-10</td><td>1</td><td>NULL</td></tr>",
                            "<tr><td>PETERB</td><td>2016-07-20</td><td>2016-07-24</td><td>2</td><td>1</td></tr>",
                            "<tr><td>PETERB</td><td>2016-08-16</td><td>2016-08-23</td><td>1</td><td>3</td></tr>",
                            "<tr><td>PETERB</td><td>2016-10-19</td><td>2016-10-20</td><td>4</td><td>4</td></tr>",
                            "<tr><td>PETERB</td><td>2016-11-17</td><td>2016-11-20</td><td>2</td><td>7</td></tr>",
                            "<tr><td>polla</td><td>2016-04-17</td><td>2016-04-22</td><td>3</td><td>NULL</td></tr>",
                            "<tr><td>polla</td><td>2016-08-14</td><td>2016-08-17</td><td>2</td><td>3</td></tr>",
                            "<tr><td>polla</td><td>2016-08-16</td><td>2016-08-19</td><td>4</td><td>5</td></tr>",
                            "<tr><td>polla</td><td>2016-05-28</td><td>2016-06-04</td><td>2</td><td>9</td></tr>",
                            "<tr><td>polla</td><td>2017-01-29</td><td>2017-02-01</td><td>2</td><td>8</td></tr>",
                            "<tr><td>polla</td><td>2017-02-11</td><td>2017-02-16</td><td>2</td><td>8</td></tr>",
                            "<tr><td>rajmond4</td><td>2016-09-05</td><td>2016-09-07</td><td>3</td><td>NULL</td></tr>",
                            "<tr><td>rajmond4</td><td>2016-10-03</td><td>2016-10-04</td><td>3</td><td>3</td></tr>",
                            "<tr><td>rajmond4</td><td>2016-11-08</td><td>2016-11-09</td><td>4</td><td>6</td></tr>",
                            "<tr><td>rajmond4</td><td>2016-11-16</td><td>2016-11-20</td><td>2</td><td>10</td></tr>",
                            "<tr><td>reka4</td><td>2016-07-27</td><td>2016-07-31</td><td>2</td><td>NULL</td></tr>",
                            "<tr><td>reka4</td><td>2016-08-02</td><td>2016-08-04</td><td>4</td><td>2</td></tr>",
                            "<tr><td>reka4</td><td>2016-09-05</td><td>2016-09-07</td><td>3</td><td>6</td></tr>",
                            "<tr><td>reka4</td><td>2016-09-30</td><td>2016-10-06</td><td>2</td><td>9</td></tr>",
                            "<tr><td>reka4</td><td>2017-02-26</td><td>2017-03-04</td><td>2</td><td>9</td></tr>",
                            "<tr><td>RENATAK</td><td>2016-10-27</td><td>2016-10-29</td><td>4</td><td>NULL</td></tr>",
                            "<tr><td>RENATAK</td><td>2016-10-30</td><td>2016-10-31</td><td>1</td><td>4</td></tr>",
                            "<tr><td>RENATAK</td><td>2016-11-23</td><td>2016-11-26</td><td>1</td><td>5</td></tr>",
                            "<tr><td>RENATAK</td><td>2017-01-23</td><td>2017-01-24</td><td>3</td><td>6</td></tr>",
                            "<tr><td>RENATAK</td><td>2017-02-16</td><td>2017-02-23</td><td>1</td><td>5</td></tr>",
                            "<tr><td>RENATAK</td><td>2017-03-01</td><td>2017-03-06</td><td>1</td><td>5</td></tr>",
                            "<tr><td>RENATAS</td><td>2016-05-04</td><td>2016-05-11</td><td>2</td><td>NULL</td></tr>",
                            "<tr><td>RENATAS</td><td>2016-05-11</td><td>2016-05-16</td><td>2</td><td>2</td></tr>",
                            "<tr><td>RENATAS</td><td>2016-06-24</td><td>2016-06-30</td><td>5</td><td>4</td></tr>",
                            "<tr><td>RENATAS</td><td>2017-02-13</td><td>2017-02-17</td><td>1</td><td>9</td></tr>",
                            "<tr><td>RENATAS</td><td>2017-02-14</td><td>2017-02-17</td><td>2</td><td>8</td></tr>",
                            "<tr><td>robert2</td><td>2016-05-15</td><td>2016-05-18</td><td>2</td><td>NULL</td></tr>",
                            "<tr><td>robert2</td><td>2016-08-20</td><td>2016-08-27</td><td>2</td><td>2</td></tr>",
                            "<tr><td>robert2</td><td>2016-10-23</td><td>2016-10-28</td><td>3</td><td>4</td></tr>",
                            "<tr><td>robert2</td><td>2016-12-17</td><td>2016-12-22</td><td>1</td><td>7</td></tr>",
                            "<tr><td>ROBERTI</td><td>2016-08-16</td><td>2016-08-21</td><td>2</td><td>NULL</td></tr>",
                            "<tr><td>ROBERTI</td><td>2016-08-23</td><td>2016-08-25</td><td>2</td><td>2</td></tr>",
                            "<tr><td>ROBERTI</td><td>2016-07-12</td><td>2016-07-19</td><td>4</td><td>4</td></tr>",
                            "<tr><td>ROBERTI</td><td>2016-10-08</td><td>2016-10-12</td><td>3</td><td>8</td></tr>",
                            "<tr><td>ROBERTI</td><td>2016-10-09</td><td>2016-10-10</td><td>2</td><td>9</td></tr>",
                            "<tr><td>ROBERTI</td><td>2016-10-23</td><td>2016-10-29</td><td>1</td><td>9</td></tr>",
                            "<tr><td>ROBERTI</td><td>2016-10-26</td><td>2016-11-01</td><td>2</td><td>6</td></tr>",
                            "<tr><td>ROBERTI</td><td>2017-02-17</td><td>2017-02-20</td><td>2</td><td>5</td></tr>",
                            "<tr><td>ROBERTP</td><td>2016-07-30</td><td>2016-08-05</td><td>2</td><td>NULL</td></tr>",
                            "<tr><td>ROBERTP</td><td>2016-09-08</td><td>2016-09-11</td><td>4</td><td>2</td></tr>",
                            "<tr><td>roland</td><td>2016-09-04</td><td>2016-09-05</td><td>2</td><td>NULL</td></tr>",
                            "<tr><td>roland</td><td>2016-06-09</td><td>2016-06-13</td><td>3</td><td>2</td></tr>",
                            "<tr><td>roland</td><td>2016-06-22</td><td>2016-06-23</td><td>3</td><td>5</td></tr>",
                            "<tr><td>roland</td><td>2016-11-19</td><td>2016-11-24</td><td>2</td><td>8</td></tr>",
                            "<tr><td>roland1</td><td>2016-11-05</td><td>2016-11-07</td><td>3</td><td>NULL</td></tr>",
                            "<tr><td>roland1</td><td>2016-12-22</td><td>2016-12-29</td><td>1</td><td>3</td></tr>",
                            "<tr><td>roland1</td><td>2017-01-04</td><td>2017-01-08</td><td>3</td><td>4</td></tr>",
                            "<tr><td>roland1</td><td>2017-01-16</td><td>2017-01-22</td><td>2</td><td>7</td></tr>",
                            "<tr><td>roza2</td><td>2016-09-10</td><td>2016-09-13</td><td>2</td><td>NULL</td></tr>",
                            "<tr><td>roza2</td><td>2017-01-11</td><td>2017-01-17</td><td>3</td><td>2</td></tr>",
                            "<tr><td>roza2</td><td>2017-02-18</td><td>2017-02-21</td><td>3</td><td>5</td></tr>",
                            "<tr><td>sandor</td><td>2016-07-18</td><td>2016-07-24</td><td>2</td><td>NULL</td></tr>",
                            "<tr><td>sandor</td><td>2016-08-20</td><td>2016-08-25</td><td>2</td><td>2</td></tr>",
                            "<tr><td>sandor</td><td>2016-07-04</td><td>2016-07-06</td><td>2</td><td>4</td></tr>",
                            "<tr><td>sandor</td><td>2016-09-19</td><td>2016-09-26</td><td>4</td><td>6</td></tr>",
                            "<tr><td>sandor3</td><td>2016-05-12</td><td>2016-05-15</td><td>2</td><td>NULL</td></tr>",
                            "<tr><td>sandor3</td><td>2016-05-25</td><td>2016-05-30</td><td>1</td><td>2</td></tr>",
                            "<tr><td>sandor3</td><td>2016-10-09</td><td>2016-10-14</td><td>2</td><td>3</td></tr>",
                            "<tr><td>sandor3</td><td>2016-10-23</td><td>2016-10-29</td><td>3</td><td>5</td></tr>",
                            "<tr><td>sandor3</td><td>2016-11-10</td><td>2016-11-11</td><td>2</td><td>6</td></tr>",
                            "<tr><td>sandor4</td><td>2016-10-15</td><td>2016-10-18</td><td>1</td><td>NULL</td></tr>",
                            "<tr><td>sandor4</td><td>2016-11-29</td><td>2016-12-03</td><td>2</td><td>1</td></tr>",
                            "<tr><td>sandor4</td><td>2016-12-03</td><td>2016-12-09</td><td>1</td><td>3</td></tr>",
                            "<tr><td>sandor4</td><td>2017-01-22</td><td>2017-01-26</td><td>2</td><td>4</td></tr>",
                            "<tr><td>sara</td><td>2016-07-15</td><td>2016-07-17</td><td>3</td><td>NULL</td></tr>",
                            "<tr><td>sara</td><td>2016-07-24</td><td>2016-07-27</td><td>3</td><td>3</td></tr>",
                            "<tr><td>sara</td><td>2016-05-28</td><td>2016-05-30</td><td>2</td><td>6</td></tr>",
                            "<tr><td>sara</td><td>2016-05-30</td><td>2016-05-31</td><td>2</td><td>8</td></tr>",
                            "<tr><td>sara</td><td>2016-06-06</td><td>2016-06-08</td><td>2</td><td>7</td></tr>",
                            "<tr><td>sara</td><td>2016-10-06</td><td>2016-10-12</td><td>3</td><td>6</td></tr>",
                            "<tr><td>sara</td><td>2016-10-11</td><td>2016-10-14</td><td>3</td><td>7</td></tr>",
                            "<tr><td>sara</td><td>2016-10-28</td><td>2016-11-03</td><td>2</td><td>8</td></tr>",
                            "<tr><td>sara</td><td>2016-11-18</td><td>2016-11-21</td><td>3</td><td>8</td></tr>",
                            "<tr><td>sara</td><td>2016-11-23</td><td>2016-11-30</td><td>4</td><td>8</td></tr>",
                            "<tr><td>sara</td><td>2016-12-06</td><td>2016-12-10</td><td>1</td><td>9</td></tr>",
                            "<tr><td>sara</td><td>2016-12-25</td><td>2016-12-30</td><td>2</td><td>8</td></tr>",
                            "<tr><td>SEBASTIANF</td><td>2016-04-06</td><td>2016-04-12</td><td>2</td><td>NULL</td></tr>",
                            "<tr><td>SEBASTIANF</td><td>2016-07-17</td><td>2016-07-21</td><td>2</td><td>2</td></tr>",
                            "<tr><td>SEBASTIANF</td><td>2016-07-30</td><td>2016-08-06</td><td>4</td><td>4</td></tr>",
                            "<tr><td>SEBASTIANF</td><td>2016-09-14</td><td>2016-09-15</td><td>3</td><td>8</td></tr>",
                            "<tr><td>SEBASTIANF</td><td>2016-09-17</td><td>2016-09-20</td><td>3</td><td>9</td></tr>",
                            "<tr><td>sebestyen</td><td>2016-04-07</td><td>2016-04-12</td><td>4</td><td>NULL</td></tr>",
                            "<tr><td>sebestyen</td><td>2016-04-26</td><td>2016-05-02</td><td>4</td><td>4</td></tr>",
                            "<tr><td>sebestyen</td><td>2016-06-09</td><td>2016-06-14</td><td>4</td><td>8</td></tr>",
                            "<tr><td>sebestyen</td><td>2016-10-26</td><td>2016-11-01</td><td>5</td><td>12</td></tr>",
                            "<tr><td>szabolcs</td><td>2016-12-05</td><td>2016-12-07</td><td>2</td><td>NULL</td></tr>",
                            "<tr><td>SZABOLCSM</td><td>2016-07-28</td><td>2016-08-03</td><td>2</td><td>NULL</td></tr>",
                            "<tr><td>SZABOLCSM</td><td>2016-06-18</td><td>2016-06-21</td><td>3</td><td>2</td></tr>",
                            "<tr><td>SZABOLCSM</td><td>2016-10-17</td><td>2016-10-19</td><td>2</td><td>5</td></tr>",
                            "<tr><td>SZABOLCSM</td><td>2016-10-28</td><td>2016-11-03</td><td>3</td><td>7</td></tr>",
                            "<tr><td>SZABOLCSM</td><td>2016-11-12</td><td>2016-11-13</td><td>2</td><td>8</td></tr>",
                            "<tr><td>SZABOLCSM</td><td>2017-01-07</td><td>2017-01-08</td><td>2</td><td>7</td></tr>",
                            "<tr><td>SZABOLCSM</td><td>2017-02-04</td><td>2017-02-05</td><td>3</td><td>7</td></tr>",
                            "<tr><td>SZILARDS</td><td>2016-04-23</td><td>2016-04-30</td><td>3</td><td>NULL</td></tr>",
                            "<tr><td>SZILARDS</td><td>2016-07-27</td><td>2016-08-03</td><td>5</td><td>3</td></tr>",
                            "<tr><td>SZILARDS</td><td>2016-08-28</td><td>2016-08-29</td><td>4</td><td>8</td></tr>",
                            "<tr><td>SZILARDS</td><td>2016-09-20</td><td>2016-09-24</td><td>3</td><td>12</td></tr>",
                            "<tr><td>SZILARDS</td><td>2016-10-01</td><td>2016-10-08</td><td>3</td><td>12</td></tr>",
                            "<tr><td>SZILARDS</td><td>2017-01-16</td><td>2017-01-19</td><td>3</td><td>10</td></tr>",
                            "<tr><td>SZILARDS</td><td>2017-02-08</td><td>2017-02-15</td><td>1</td><td>9</td></tr>",
                            "<tr><td>szilvia1</td><td>2016-05-14</td><td>2016-05-21</td><td>2</td><td>NULL</td></tr>",
                            "<tr><td>szilvia1</td><td>2016-07-25</td><td>2016-07-28</td><td>2</td><td>2</td></tr>",
                            "<tr><td>szilvia1</td><td>2016-05-28</td><td>2016-06-03</td><td>2</td><td>4</td></tr>",
                            "<tr><td>szilvia1</td><td>2016-10-09</td><td>2016-10-10</td><td>3</td><td>6</td></tr>",
                            "<tr><td>szilvia1</td><td>2016-10-25</td><td>2016-10-31</td><td>3</td><td>7</td></tr>",
                            "<tr><td>szilvia1</td><td>2016-10-27</td><td>2016-10-28</td><td>2</td><td>8</td></tr>",
                            "<tr><td>szilvia1</td><td>2016-12-25</td><td>2016-12-29</td><td>5</td><td>8</td></tr>",
                            "<tr><td>szilvia1</td><td>2016-12-27</td><td>2017-01-02</td><td>2</td><td>10</td></tr>",
                            "<tr><td>szilvia1</td><td>2017-01-28</td><td>2017-02-03</td><td>2</td><td>9</td></tr>",
                            "<tr><td>tamara2</td><td>2016-08-12</td><td>2016-08-15</td><td>3</td><td>NULL</td></tr>",
                            "<tr><td>tamara2</td><td>2016-11-15</td><td>2016-11-18</td><td>2</td><td>3</td></tr>",
                            "<tr><td>tamas</td><td>2016-05-17</td><td>2016-05-22</td><td>2</td><td>NULL</td></tr>",
                            "<tr><td>tamas</td><td>2016-08-24</td><td>2016-08-27</td><td>3</td><td>2</td></tr>",
                            "<tr><td>tamas</td><td>2016-06-14</td><td>2016-06-21</td><td>2</td><td>5</td></tr>",
                            "<tr><td>tamas</td><td>2017-02-14</td><td>2017-02-19</td><td>3</td><td>7</td></tr>",
                            "<tr><td>TAMASF</td><td>2016-05-03</td><td>2016-05-04</td><td>2</td><td>NULL</td></tr>",
                            "<tr><td>TAMASF</td><td>2016-06-10</td><td>2016-06-13</td><td>3</td><td>2</td></tr>",
                            "<tr><td>TAMASF</td><td>2016-06-28</td><td>2016-07-05</td><td>3</td><td>5</td></tr>",
                            "<tr><td>TAMASF</td><td>2016-07-04</td><td>2016-07-10</td><td>2</td><td>8</td></tr>",
                            "<tr><td>TAMASF</td><td>2016-09-12</td><td>2016-09-18</td><td>3</td><td>8</td></tr>",
                            "<tr><td>TAMASF</td><td>2016-12-02</td><td>2016-12-04</td><td>1</td><td>8</td></tr>",
                            "<tr><td>TAMASF</td><td>2016-12-10</td><td>2016-12-14</td><td>3</td><td>6</td></tr>",
                            "<tr><td>TAMASF</td><td>2017-02-12</td><td>2017-02-17</td><td>2</td><td>7</td></tr>",
                            "<tr><td>TAMASF</td><td>2017-02-16</td><td>2017-02-19</td><td>4</td><td>6</td></tr>",
                            "<tr><td>tibor</td><td>2016-10-09</td><td>2016-10-13</td><td>2</td><td>NULL</td></tr>",
                            "<tr><td>tibor</td><td>2016-11-05</td><td>2016-11-09</td><td>1</td><td>2</td></tr>",
                            "<tr><td>tibor2</td><td>2016-10-20</td><td>2016-10-25</td><td>2</td><td>NULL</td></tr>",
                            "<tr><td>tihamer</td><td>2016-07-20</td><td>2016-07-24</td><td>3</td><td>NULL</td></tr>",
                            "<tr><td>tihamer</td><td>2016-08-18</td><td>2016-08-22</td><td>3</td><td>3</td></tr>",
                            "<tr><td>tihamer</td><td>2016-05-30</td><td>2016-06-05</td><td>1</td><td>6</td></tr>",
                            "<tr><td>tihamer</td><td>2016-06-03</td><td>2016-06-08</td><td>5</td><td>7</td></tr>",
                            "<tr><td>tihamer</td><td>2016-10-19</td><td>2016-10-23</td><td>2</td><td>9</td></tr>",
                            "<tr><td>tihamer</td><td>2016-12-25</td><td>2016-12-26</td><td>2</td><td>8</td></tr>",
                            "<tr><td>timea</td><td>2016-12-26</td><td>2016-12-27</td><td>2</td><td>NULL</td></tr>",
                            "<tr><td>timea2</td><td>2016-08-07</td><td>2016-08-10</td><td>3</td><td>NULL</td></tr>",
                            "<tr><td>timea2</td><td>2016-06-06</td><td>2016-06-07</td><td>2</td><td>3</td></tr>",
                            "<tr><td>timea2</td><td>2016-10-26</td><td>2016-10-29</td><td>3</td><td>5</td></tr>",
                            "<tr><td>timea2</td><td>2016-11-27</td><td>2016-12-01</td><td>4</td><td>8</td></tr>",
                            "<tr><td>timea2</td><td>2016-12-14</td><td>2016-12-16</td><td>4</td><td>9</td></tr>",
                            "<tr><td>tunde</td><td>2016-07-14</td><td>2016-07-21</td><td>1</td><td>NULL</td></tr>",
                            "<tr><td>tunde</td><td>2016-09-05</td><td>2016-09-12</td><td>2</td><td>1</td></tr>",
                            "<tr><td>tunde</td><td>2016-06-03</td><td>2016-06-07</td><td>3</td><td>3</td></tr>",
                            "<tr><td>tunde</td><td>2016-06-06</td><td>2016-06-12</td><td>3</td><td>6</td></tr>",
                            "<tr><td>tunde</td><td>2016-10-24</td><td>2016-10-30</td><td>3</td><td>8</td></tr>",
                            "<tr><td>tunde</td><td>2016-11-19</td><td>2016-11-20</td><td>3</td><td>9</td></tr>",
                            "<tr><td>tunde</td><td>2016-12-15</td><td>2016-12-20</td><td>3</td><td>9</td></tr>",
                            "<tr><td>tunde</td><td>2017-01-03</td><td>2017-01-06</td><td>5</td><td>9</td></tr>",
                            "<tr><td>valentin</td><td>2016-07-24</td><td>2016-07-29</td><td>1</td><td>NULL</td></tr>",
                            "<tr><td>valentin</td><td>2016-05-24</td><td>2016-05-30</td><td>4</td><td>1</td></tr>",
                            "<tr><td>valentin</td><td>2016-10-26</td><td>2016-10-30</td><td>3</td><td>5</td></tr>",
                            "<tr><td>valentin</td><td>2016-11-11</td><td>2016-11-17</td><td>3</td><td>8</td></tr>",
                            "<tr><td>valentin</td><td>2016-12-01</td><td>2016-12-05</td><td>3</td><td>10</td></tr>",
                            "<tr><td>veronika4</td><td>2016-07-20</td><td>2016-07-26</td><td>3</td><td>NULL</td></tr>",
                            "<tr><td>veronika4</td><td>2016-08-16</td><td>2016-08-21</td><td>1</td><td>3</td></tr>",
                            "<tr><td>veronika4</td><td>2016-05-30</td><td>2016-06-04</td><td>2</td><td>4</td></tr>",
                            "<tr><td>veronika4</td><td>2016-09-26</td><td>2016-10-03</td><td>2</td><td>6</td></tr>",
                            "<tr><td>veronika4</td><td>2017-01-19</td><td>2017-01-24</td><td>3</td><td>5</td></tr>",
                            "<tr><td>veronika4</td><td>2017-02-03</td><td>2017-02-05</td><td>2</td><td>7</td></tr>",
                            "<tr><td>VIKTORIAU</td><td>2016-04-30</td><td>2016-05-03</td><td>1</td><td>NULL</td></tr>",
                            "<tr><td>VIKTORIAU</td><td>2016-08-03</td><td>2016-08-04</td><td>2</td><td>1</td></tr>",
                            "<tr><td>VIKTORIAU</td><td>2016-10-14</td><td>2016-10-15</td><td>3</td><td>3</td></tr>",
                            "<tr><td>VIKTORIAU</td><td>2016-10-26</td><td>2016-11-02</td><td>4</td><td>6</td></tr>",
                            "<tr><td>VIKTORK</td><td>2016-05-30</td><td>2016-06-01</td><td>2</td><td>NULL</td></tr>",
                            "<tr><td>VIKTORK</td><td>2016-06-06</td><td>2016-06-07</td><td>4</td><td>2</td></tr>",
                            "<tr><td>vivien3</td><td>2016-05-02</td><td>2016-05-05</td><td>3</td><td>NULL</td></tr>",
                            "<tr><td>vivien3</td><td>2016-08-13</td><td>2016-08-18</td><td>2</td><td>3</td></tr>",
                            "<tr><td>vivien3</td><td>2016-09-01</td><td>2016-09-05</td><td>2</td><td>5</td></tr>",
                            "<tr><td>vivien3</td><td>2016-10-01</td><td>2016-10-04</td><td>1</td><td>7</td></tr>",
                            "<tr><td>vivien3</td><td>2016-11-17</td><td>2016-11-20</td><td>2</td><td>5</td></tr>",
                            "<tr><td>vivien3</td><td>2016-12-17</td><td>2016-12-21</td><td>2</td><td>5</td></tr>",
                            "<tr><td>vivien3</td><td>2016-12-24</td><td>2016-12-26</td><td>3</td><td>5</td></tr>",
                            "<tr><td>zoltan</td><td>2016-08-24</td><td>2016-08-31</td><td>2</td><td>NULL</td></tr>",
                            "<tr><td>zoltan</td><td>2016-09-05</td><td>2016-09-09</td><td>3</td><td>2</td></tr>",
                            "<tr><td>zoltan4</td><td>2016-05-12</td><td>2016-05-16</td><td>3</td><td>NULL</td></tr>",
                            "<tr><td>zoltan4</td><td>2016-05-13</td><td>2016-05-16</td><td>3</td><td>3</td></tr>",
                            "<tr><td>zoltan4</td><td>2016-08-15</td><td>2016-08-21</td><td>1</td><td>6</td></tr>",
                            "<tr><td>zoltan4</td><td>2016-08-16</td><td>2016-08-23</td><td>2</td><td>7</td></tr>",
                            "<tr><td>zoltan4</td><td>2016-06-03</td><td>2016-06-06</td><td>1</td><td>6</td></tr>",
                            "<tr><td>zoltan4</td><td>2016-09-30</td><td>2016-10-07</td><td>3</td><td>4</td></tr>",
                            "<tr><td>zoltan4</td><td>2016-10-21</td><td>2016-10-24</td><td>5</td><td>6</td></tr>",
                            "<tr><td>zoltan4</td><td>2016-10-26</td><td>2016-10-30</td><td>2</td><td>9</td></tr>",
                            "<tr><td>zoltan4</td><td>2016-10-30</td><td>2016-11-06</td><td>1</td><td>10</td></tr>",
                            "<tr><td>zoltan4</td><td>2016-11-19</td><td>2016-11-21</td><td>2</td><td>8</td></tr>",
                            "<tr><td>zoltan4</td><td>2016-12-29</td><td>2017-01-04</td><td>1</td><td>5</td></tr>",
                            "<tr><td>zoltan4</td><td>2017-01-01</td><td>2017-01-02</td><td>3</td><td>4</td></tr>",
                            "<tr><td>ZOLTANP</td><td>2016-07-20</td><td>2016-07-25</td><td>3</td><td>NULL</td></tr>",
                            "<tr><td>ZOLTANP</td><td>2016-06-05</td><td>2016-06-08</td><td>2</td><td>3</td></tr>",
                            "<tr><td>ZOLTANP</td><td>2016-06-06</td><td>2016-06-08</td><td>2</td><td>5</td></tr>",
                            "<tr><td>ZOLTANP</td><td>2016-10-19</td><td>2016-10-25</td><td>2</td><td>7</td></tr>",
                            "<tr><td>ZOLTANP</td><td>2016-12-07</td><td>2016-12-10</td><td>3</td><td>6</td></tr>",
                            "<tr><td>ZOLTANP</td><td>2016-12-25</td><td>2016-12-29</td><td>2</td><td>7</td></tr>",
                            "<tr><td>ZOLTANT</td><td>2016-05-01</td><td>2016-05-04</td><td>3</td><td>NULL</td></tr>",
                            "<tr><td>ZOLTANT</td><td>2016-07-14</td><td>2016-07-15</td><td>3</td><td>3</td></tr>",
                            "<tr><td>ZOLTANT</td><td>2017-01-16</td><td>2017-01-20</td><td>2</td><td>6</td></tr>",
                            "<tr><td>zsofi1</td><td>2016-06-16</td><td>2016-06-17</td><td>2</td><td>NULL</td></tr>",
                            "<tr><td>zsofi1</td><td>2017-02-18</td><td>2017-02-19</td><td>3</td><td>2</td></tr>",
                            "<tr><td>zsolt1</td><td>2016-04-14</td><td>2016-04-17</td><td>2</td><td>NULL</td></tr>",
                            "<tr><td>zsolt1</td><td>2016-07-31</td><td>2016-08-02</td><td>2</td><td>2</td></tr>",
                            "<tr><td>zsolt1</td><td>2016-06-06</td><td>2016-06-08</td><td>2</td><td>4</td></tr>",
                            "<tr><td>zsolt1</td><td>2016-06-07</td><td>2016-06-10</td><td>4</td><td>6</td></tr>",
                            "<tr><td>ZSOLTJ</td><td>2016-04-24</td><td>2016-04-26</td><td>4</td><td>NULL</td></tr>",
                            "<tr><td>ZSOLTJ</td><td>2016-05-09</td><td>2016-05-11</td><td>2</td><td>4</td></tr>",
                            "<tr><td>ZSOLTJ</td><td>2016-07-18</td><td>2016-07-19</td><td>2</td><td>6</td></tr>",
                            "<tr><td>ZSOLTJ</td><td>2016-05-28</td><td>2016-06-03</td><td>1</td><td>8</td></tr>",
                            "<tr><td>ZSOLTJ</td><td>2016-06-17</td><td>2016-06-19</td><td>2</td><td>5</td></tr>",
                            "<tr><td>ZSOLTJ</td><td>2016-10-01</td><td>2016-10-06</td><td>2</td><td>5</td></tr>",
                            "<tr><td>zsuzsa</td><td>2016-07-24</td><td>2016-07-25</td><td>3</td><td>NULL</td></tr>",
                            "<tr><td>zsuzsa</td><td>2016-08-28</td><td>2016-08-30</td><td>2</td><td>3</td></tr>",
                            "<tr><td>zsuzsa</td><td>2016-11-28</td><td>2016-12-04</td><td>3</td><td>5</td></tr>",
                            "<tr><td>zsuzsa3</td><td>2016-07-30</td><td>2016-08-02</td><td>2</td><td>NULL</td></tr>",
                            "<tr><td>zsuzsa3</td><td>2016-09-09</td><td>2016-09-10</td><td>2</td><td>2</td></tr>",
                            "<tr><td>zsuzsa3</td><td>2016-09-28</td><td>2016-10-03</td><td>2</td><td>4</td></tr>",
                            "<tr><td>zsuzsa3</td><td>2016-10-27</td><td>2016-11-03</td><td>4</td><td>6</td></tr>",
                            "<tr><td>zsuzsanna</td><td>2016-05-17</td><td>2016-05-23</td><td>2</td><td>NULL</td></tr>",
                            "<tr><td>zsuzsanna</td><td>2016-07-12</td><td>2016-07-15</td><td>2</td><td>2</td></tr>",
                            "<tr><td>zsuzsanna</td><td>2017-01-09</td><td>2017-01-16</td><td>1</td><td>4</td></tr>",
                            "<tr><td>zsuzsanna</td><td>2017-01-16</td><td>2017-01-22</td><td>2</td><td>5</td></tr>",
                            "<tr><td>ZSUZSAV</td><td>2016-04-14</td><td>2016-04-16</td><td>2</td><td>NULL</td></tr>",
                            "<tr><td>ZSUZSAV</td><td>2016-05-28</td><td>2016-06-01</td><td>4</td><td>2</td></tr>",
                            "<tr><td>ZSUZSAV</td><td>2016-06-15</td><td>2016-06-21</td><td>3</td><td>6</td></tr>",
                            "<tr><td>ZSUZSAV</td><td>2016-09-18</td><td>2016-09-20</td><td>2</td><td>9</td></tr>",
                            "<tr><td>ZSUZSAV</td><td>2016-10-26</td><td>2016-10-28</td><td>1</td><td>9</td></tr>",
                            "<tr><td>ZSUZSAV</td><td>2016-11-21</td><td>2016-11-24</td><td>3</td><td>6</td></tr>",
                            "</table>"
                        ]
                    }
                }
            ],
            "execution_count": 17
        },
        {
            "cell_type": "markdown",
            "source": [
                "4. <span style=\"background-color: rgb(255, 255, 255); color: rgb(0, 0, 0); font-family: &quot;Open Sans&quot;, sans-serif; font-size: 14.44px;\">Készítsünk listát arról, hogy az egyes szálláshelyeken évente hány foglalás történt!&nbsp;</span> \n",
                "\n",
                "a. A lista jelenítse meg a szálláshely azonosítóját, nevét, az évet, és a foglalások számát!\n",
                "\n",
                "b. Egy új oszlopban jelenítsük meg a szálláshely eddigi éves foglalásainak számát is (az aktuálisat is beleértve). \n",
                "\n",
                "c. Az évnél a METTOL dátumot vegyük figyelembe! \n",
                "\n",
                "d. A lista ne tartalmazzon duplikált sorokat!"
            ],
            "metadata": {
                "azdata_cell_guid": "8e7fef82-8022-49a0-8255-fc2846c2134b"
            },
            "attachments": {}
        },
        {
            "cell_type": "code",
            "source": [
                ""
            ],
            "metadata": {
                "azdata_cell_guid": "36f7b396-4a1f-45e5-8720-2302537c91bc",
                "language": "sql"
            },
            "outputs": [],
            "execution_count": null
        },
        {
            "cell_type": "markdown",
            "source": [
                "5. <span style=\"background-color: rgb(255, 255, 255); color: rgb(0, 0, 0); font-family: &quot;Open Sans&quot;, sans-serif; font-size: 14.44px;\">Készítsük listát a szálláshelyekről! A lista tartalmazza a szálláshely azonosítóját, nevét, és a csillagok számát csillagszám szerint csökkenő, azon belül szállásnév szerint növekvő sorrendben!&nbsp;</span> \n",
                "\n",
                "a. Vegyünk fel két új oszlopot, amely a sorrend szerint előző szálláshely nevét, illetve azonosítóját is megjeleníti!"
            ],
            "metadata": {
                "azdata_cell_guid": "84239ca2-6b5e-49f5-9860-d44c11d6de32"
            },
            "attachments": {}
        },
        {
            "cell_type": "code",
            "source": [
                "SELECT SZALLAS_ID,\r\n",
                "       SZALLAS_NEV,\r\n",
                "       CSILLAGOK_SZAMA,\r\n",
                "       LAG(SZALLAS_ID) OVER (ORDER BY CSILLAGOK_SZAMA DESC, SZALLAS_NEV)  as 'Elozo azon',\r\n",
                "       LAG(SZALLAS_NEV) OVER (ORDER BY CSILLAGOK_SZAMA DESC, SZALLAS_NEV)  as 'Elozo neve'\r\n",
                "       ---LAG(SZALLAS_NEV) as 'Elozo neve'\r\n",
                "FROM Szallashely\r\n",
                ""
            ],
            "metadata": {
                "azdata_cell_guid": "06d9a62b-9430-424b-a135-d80e675f0eb3",
                "language": "sql"
            },
            "outputs": [
                {
                    "output_type": "display_data",
                    "data": {
                        "text/html": "(21 rows affected)"
                    },
                    "metadata": {}
                },
                {
                    "output_type": "display_data",
                    "data": {
                        "text/html": "Total execution time: 00:00:00.014"
                    },
                    "metadata": {}
                },
                {
                    "output_type": "execute_result",
                    "metadata": {},
                    "execution_count": 27,
                    "data": {
                        "application/vnd.dataresource+json": {
                            "schema": {
                                "fields": [
                                    {
                                        "name": "SZALLAS_ID"
                                    },
                                    {
                                        "name": "SZALLAS_NEV"
                                    },
                                    {
                                        "name": "CSILLAGOK_SZAMA"
                                    },
                                    {
                                        "name": "Elozo azon"
                                    },
                                    {
                                        "name": "Elozo neve"
                                    }
                                ]
                            },
                            "data": [
                                {
                                    "SZALLAS_ID": "8",
                                    "SZALLAS_NEV": "Hotel Három Hattyú",
                                    "CSILLAGOK_SZAMA": "4",
                                    "Elozo azon": "NULL",
                                    "Elozo neve": "NULL"
                                },
                                {
                                    "SZALLAS_ID": "10",
                                    "SZALLAS_NEV": "Lagúna Hotel",
                                    "CSILLAGOK_SZAMA": "4",
                                    "Elozo azon": "8",
                                    "Elozo neve": "Hotel Három Hattyú"
                                },
                                {
                                    "SZALLAS_ID": "17",
                                    "SZALLAS_NEV": "Szarvas Hotel",
                                    "CSILLAGOK_SZAMA": "4",
                                    "Elozo azon": "10",
                                    "Elozo neve": "Lagúna Hotel"
                                },
                                {
                                    "SZALLAS_ID": "16",
                                    "SZALLAS_NEV": "Bagoly Hotel",
                                    "CSILLAGOK_SZAMA": "3",
                                    "Elozo azon": "17",
                                    "Elozo neve": "Szarvas Hotel"
                                },
                                {
                                    "SZALLAS_ID": "4",
                                    "SZALLAS_NEV": "Fortuna panzió",
                                    "CSILLAGOK_SZAMA": "3",
                                    "Elozo azon": "16",
                                    "Elozo neve": "Bagoly Hotel"
                                },
                                {
                                    "SZALLAS_ID": "5",
                                    "SZALLAS_NEV": "Fortuna Panzió",
                                    "CSILLAGOK_SZAMA": "3",
                                    "Elozo azon": "4",
                                    "Elozo neve": "Fortuna panzió"
                                },
                                {
                                    "SZALLAS_ID": "12",
                                    "SZALLAS_NEV": "Gold Hotel",
                                    "CSILLAGOK_SZAMA": "3",
                                    "Elozo azon": "5",
                                    "Elozo neve": "Fortuna Panzió"
                                },
                                {
                                    "SZALLAS_ID": "9",
                                    "SZALLAS_NEV": "Jáde panzió",
                                    "CSILLAGOK_SZAMA": "3",
                                    "Elozo azon": "12",
                                    "Elozo neve": "Gold Hotel"
                                },
                                {
                                    "SZALLAS_ID": "6",
                                    "SZALLAS_NEV": "Kentaur Hotel",
                                    "CSILLAGOK_SZAMA": "3",
                                    "Elozo azon": "9",
                                    "Elozo neve": "Jáde panzió"
                                },
                                {
                                    "SZALLAS_ID": "13",
                                    "SZALLAS_NEV": "Riviéra Panzió",
                                    "CSILLAGOK_SZAMA": "3",
                                    "Elozo azon": "6",
                                    "Elozo neve": "Kentaur Hotel"
                                },
                                {
                                    "SZALLAS_ID": "15",
                                    "SZALLAS_NEV": "Tímárház Panzió",
                                    "CSILLAGOK_SZAMA": "3",
                                    "Elozo azon": "13",
                                    "Elozo neve": "Riviéra Panzió"
                                },
                                {
                                    "SZALLAS_ID": "2",
                                    "SZALLAS_NEV": "Családi Ház",
                                    "CSILLAGOK_SZAMA": "0",
                                    "Elozo azon": "15",
                                    "Elozo neve": "Tímárház Panzió"
                                },
                                {
                                    "SZALLAS_ID": "3",
                                    "SZALLAS_NEV": "Fortuna Apartman",
                                    "CSILLAGOK_SZAMA": "0",
                                    "Elozo azon": "2",
                                    "Elozo neve": "Családi Ház"
                                },
                                {
                                    "SZALLAS_ID": "18",
                                    "SZALLAS_NEV": "Fortuna Apartman",
                                    "CSILLAGOK_SZAMA": "0",
                                    "Elozo azon": "3",
                                    "Elozo neve": "Fortuna Apartman"
                                },
                                {
                                    "SZALLAS_ID": "20",
                                    "SZALLAS_NEV": "Kollégium",
                                    "CSILLAGOK_SZAMA": "0",
                                    "Elozo azon": "18",
                                    "Elozo neve": "Fortuna Apartman"
                                },
                                {
                                    "SZALLAS_ID": "21",
                                    "SZALLAS_NEV": "Müller Vendégház",
                                    "CSILLAGOK_SZAMA": "0",
                                    "Elozo azon": "20",
                                    "Elozo neve": "Kollégium"
                                },
                                {
                                    "SZALLAS_ID": "19",
                                    "SZALLAS_NEV": "Nyárfás Vendégház",
                                    "CSILLAGOK_SZAMA": "0",
                                    "Elozo azon": "21",
                                    "Elozo neve": "Müller Vendégház"
                                },
                                {
                                    "SZALLAS_ID": "14",
                                    "SZALLAS_NEV": "Nyárfás Vendégház",
                                    "CSILLAGOK_SZAMA": "0",
                                    "Elozo azon": "19",
                                    "Elozo neve": "Nyárfás Vendégház"
                                },
                                {
                                    "SZALLAS_ID": "11",
                                    "SZALLAS_NEV": "Partiszél Vendégház",
                                    "CSILLAGOK_SZAMA": "0",
                                    "Elozo azon": "14",
                                    "Elozo neve": "Nyárfás Vendégház"
                                },
                                {
                                    "SZALLAS_ID": "1",
                                    "SZALLAS_NEV": "Sába-Ház",
                                    "CSILLAGOK_SZAMA": "0",
                                    "Elozo azon": "11",
                                    "Elozo neve": "Partiszél Vendégház"
                                },
                                {
                                    "SZALLAS_ID": "7",
                                    "SZALLAS_NEV": "Szieszta Apartmanház",
                                    "CSILLAGOK_SZAMA": "0",
                                    "Elozo azon": "1",
                                    "Elozo neve": "Sába-Ház"
                                }
                            ]
                        },
                        "text/html": [
                            "<table>",
                            "<tr><th>SZALLAS_ID</th><th>SZALLAS_NEV</th><th>CSILLAGOK_SZAMA</th><th>Elozo azon</th><th>Elozo neve</th></tr>",
                            "<tr><td>8</td><td>Hotel Három Hattyú</td><td>4</td><td>NULL</td><td>NULL</td></tr>",
                            "<tr><td>10</td><td>Lagúna Hotel</td><td>4</td><td>8</td><td>Hotel Három Hattyú</td></tr>",
                            "<tr><td>17</td><td>Szarvas Hotel</td><td>4</td><td>10</td><td>Lagúna Hotel</td></tr>",
                            "<tr><td>16</td><td>Bagoly Hotel</td><td>3</td><td>17</td><td>Szarvas Hotel</td></tr>",
                            "<tr><td>4</td><td>Fortuna panzió</td><td>3</td><td>16</td><td>Bagoly Hotel</td></tr>",
                            "<tr><td>5</td><td>Fortuna Panzió</td><td>3</td><td>4</td><td>Fortuna panzió</td></tr>",
                            "<tr><td>12</td><td>Gold Hotel</td><td>3</td><td>5</td><td>Fortuna Panzió</td></tr>",
                            "<tr><td>9</td><td>Jáde panzió</td><td>3</td><td>12</td><td>Gold Hotel</td></tr>",
                            "<tr><td>6</td><td>Kentaur Hotel</td><td>3</td><td>9</td><td>Jáde panzió</td></tr>",
                            "<tr><td>13</td><td>Riviéra Panzió</td><td>3</td><td>6</td><td>Kentaur Hotel</td></tr>",
                            "<tr><td>15</td><td>Tímárház Panzió</td><td>3</td><td>13</td><td>Riviéra Panzió</td></tr>",
                            "<tr><td>2</td><td>Családi Ház</td><td>0</td><td>15</td><td>Tímárház Panzió</td></tr>",
                            "<tr><td>3</td><td>Fortuna Apartman</td><td>0</td><td>2</td><td>Családi Ház</td></tr>",
                            "<tr><td>18</td><td>Fortuna Apartman</td><td>0</td><td>3</td><td>Fortuna Apartman</td></tr>",
                            "<tr><td>20</td><td>Kollégium</td><td>0</td><td>18</td><td>Fortuna Apartman</td></tr>",
                            "<tr><td>21</td><td>Müller Vendégház</td><td>0</td><td>20</td><td>Kollégium</td></tr>",
                            "<tr><td>19</td><td>Nyárfás Vendégház</td><td>0</td><td>21</td><td>Müller Vendégház</td></tr>",
                            "<tr><td>14</td><td>Nyárfás Vendégház</td><td>0</td><td>19</td><td>Nyárfás Vendégház</td></tr>",
                            "<tr><td>11</td><td>Partiszél Vendégház</td><td>0</td><td>14</td><td>Nyárfás Vendégház</td></tr>",
                            "<tr><td>1</td><td>Sába-Ház</td><td>0</td><td>11</td><td>Partiszél Vendégház</td></tr>",
                            "<tr><td>7</td><td>Szieszta Apartmanház</td><td>0</td><td>1</td><td>Sába-Ház</td></tr>",
                            "</table>"
                        ]
                    }
                }
            ],
            "execution_count": 27
        },
        {
            "cell_type": "markdown",
            "source": [
                "6. <span style=\"background-color: rgb(255, 255, 255); color: rgb(0, 0, 0); font-family: &quot;Open Sans&quot;, sans-serif; font-size: 14.44px;\">Listázzuk azon termékeket, amelyekből az átlagosnál kevesebb van raktáron!&nbsp;</span> \n",
                "\n",
                "a. Csak a termék kódja és megnevezése jelenjen meg!"
            ],
            "metadata": {
                "azdata_cell_guid": "b0d15045-3c43-4f3a-b8d4-76b4f24e5546"
            },
            "attachments": {}
        },
        {
            "cell_type": "code",
            "source": [
                "SELECT TERMEKKOD\r\n",
                "FROM Termek\r\n",
                "WHERE KESZLET < (\r\n",
                "    SELECT AVG(KESZLET)\r\n",
                "    FROM TERMEK\r\n",
                ")"
            ],
            "metadata": {
                "azdata_cell_guid": "f2b7400d-1255-40ac-9250-4d57f9da5357",
                "language": "sql"
            },
            "outputs": [
                {
                    "output_type": "display_data",
                    "data": {
                        "text/html": "(437 rows affected)"
                    },
                    "metadata": {}
                },
                {
                    "output_type": "display_data",
                    "data": {
                        "text/html": "Total execution time: 00:00:00.033"
                    },
                    "metadata": {}
                },
                {
                    "output_type": "execute_result",
                    "metadata": {},
                    "execution_count": 30,
                    "data": {
                        "application/vnd.dataresource+json": {
                            "schema": {
                                "fields": [
                                    {
                                        "name": "TERMEKKOD"
                                    }
                                ]
                            },
                            "data": [
                                {
                                    "TERMEKKOD": "01010110T"
                                },
                                {
                                    "TERMEKKOD": "01010304T"
                                },
                                {
                                    "TERMEKKOD": "01020300T"
                                },
                                {
                                    "TERMEKKOD": "01030091T"
                                },
                                {
                                    "TERMEKKOD": "01030092T"
                                },
                                {
                                    "TERMEKKOD": "01040307T"
                                },
                                {
                                    "TERMEKKOD": "01040502T"
                                },
                                {
                                    "TERMEKKOD": "01080093T"
                                },
                                {
                                    "TERMEKKOD": "01080512T"
                                },
                                {
                                    "TERMEKKOD": "01080513T"
                                },
                                {
                                    "TERMEKKOD": "01090499T"
                                },
                                {
                                    "TERMEKKOD": "01090500T"
                                },
                                {
                                    "TERMEKKOD": "01090501T"
                                },
                                {
                                    "TERMEKKOD": "01090515T"
                                },
                                {
                                    "TERMEKKOD": "01090516T"
                                },
                                {
                                    "TERMEKKOD": "01090517T"
                                },
                                {
                                    "TERMEKKOD": "01100070T"
                                },
                                {
                                    "TERMEKKOD": "01100072T"
                                },
                                {
                                    "TERMEKKOD": "01100094T"
                                },
                                {
                                    "TERMEKKOD": "01100095T"
                                },
                                {
                                    "TERMEKKOD": "01100096T"
                                },
                                {
                                    "TERMEKKOD": "01100496T"
                                },
                                {
                                    "TERMEKKOD": "01100497T"
                                },
                                {
                                    "TERMEKKOD": "01100503T"
                                },
                                {
                                    "TERMEKKOD": "01100504T"
                                },
                                {
                                    "TERMEKKOD": "01100505T"
                                },
                                {
                                    "TERMEKKOD": "01100509T"
                                },
                                {
                                    "TERMEKKOD": "01100510T"
                                },
                                {
                                    "TERMEKKOD": "02010028T"
                                },
                                {
                                    "TERMEKKOD": "02020029T"
                                },
                                {
                                    "TERMEKKOD": "02020032T"
                                },
                                {
                                    "TERMEKKOD": "02020033T"
                                },
                                {
                                    "TERMEKKOD": "02020037T"
                                },
                                {
                                    "TERMEKKOD": "02020245T"
                                },
                                {
                                    "TERMEKKOD": "02030040T"
                                },
                                {
                                    "TERMEKKOD": "02040025T"
                                },
                                {
                                    "TERMEKKOD": "02040145T"
                                },
                                {
                                    "TERMEKKOD": "02040147T"
                                },
                                {
                                    "TERMEKKOD": "02040148T"
                                },
                                {
                                    "TERMEKKOD": "02040176T"
                                },
                                {
                                    "TERMEKKOD": "02040177T"
                                },
                                {
                                    "TERMEKKOD": "02040178T"
                                },
                                {
                                    "TERMEKKOD": "02040194T"
                                },
                                {
                                    "TERMEKKOD": "02040195T"
                                },
                                {
                                    "TERMEKKOD": "02040196T"
                                },
                                {
                                    "TERMEKKOD": "02040197T"
                                },
                                {
                                    "TERMEKKOD": "02040198T"
                                },
                                {
                                    "TERMEKKOD": "02040199T"
                                },
                                {
                                    "TERMEKKOD": "02040200T"
                                },
                                {
                                    "TERMEKKOD": "02040206T"
                                },
                                {
                                    "TERMEKKOD": "02040207T"
                                },
                                {
                                    "TERMEKKOD": "02040208T"
                                },
                                {
                                    "TERMEKKOD": "02040209T"
                                },
                                {
                                    "TERMEKKOD": "02040211T"
                                },
                                {
                                    "TERMEKKOD": "02040214T"
                                },
                                {
                                    "TERMEKKOD": "02040290T"
                                },
                                {
                                    "TERMEKKOD": "02040291T"
                                },
                                {
                                    "TERMEKKOD": "02040294T"
                                },
                                {
                                    "TERMEKKOD": "02040298T"
                                },
                                {
                                    "TERMEKKOD": "02040308T"
                                },
                                {
                                    "TERMEKKOD": "02040309T"
                                },
                                {
                                    "TERMEKKOD": "02040401T"
                                },
                                {
                                    "TERMEKKOD": "02040402T"
                                },
                                {
                                    "TERMEKKOD": "02040403T"
                                },
                                {
                                    "TERMEKKOD": "02040404T"
                                },
                                {
                                    "TERMEKKOD": "02040405T"
                                },
                                {
                                    "TERMEKKOD": "02040506T"
                                },
                                {
                                    "TERMEKKOD": "02040507T"
                                },
                                {
                                    "TERMEKKOD": "02040508T"
                                },
                                {
                                    "TERMEKKOD": "02050460T"
                                },
                                {
                                    "TERMEKKOD": "02050461T"
                                },
                                {
                                    "TERMEKKOD": "02060034T"
                                },
                                {
                                    "TERMEKKOD": "02060038T"
                                },
                                {
                                    "TERMEKKOD": "02060039T"
                                },
                                {
                                    "TERMEKKOD": "02060447T"
                                },
                                {
                                    "TERMEKKOD": "02060448T"
                                },
                                {
                                    "TERMEKKOD": "02080069T"
                                },
                                {
                                    "TERMEKKOD": "02080081T"
                                },
                                {
                                    "TERMEKKOD": "02080109T"
                                },
                                {
                                    "TERMEKKOD": "02080226T"
                                },
                                {
                                    "TERMEKKOD": "02080431T"
                                },
                                {
                                    "TERMEKKOD": "02080432T"
                                },
                                {
                                    "TERMEKKOD": "02080433T"
                                },
                                {
                                    "TERMEKKOD": "02080434T"
                                },
                                {
                                    "TERMEKKOD": "02080436T"
                                },
                                {
                                    "TERMEKKOD": "02080449T"
                                },
                                {
                                    "TERMEKKOD": "02080450T"
                                },
                                {
                                    "TERMEKKOD": "02080451T"
                                },
                                {
                                    "TERMEKKOD": "02080452T"
                                },
                                {
                                    "TERMEKKOD": "02080453T"
                                },
                                {
                                    "TERMEKKOD": "02080454T"
                                },
                                {
                                    "TERMEKKOD": "02080455T"
                                },
                                {
                                    "TERMEKKOD": "02080456T"
                                },
                                {
                                    "TERMEKKOD": "02080511T"
                                },
                                {
                                    "TERMEKKOD": "02080514T"
                                },
                                {
                                    "TERMEKKOD": "03010342T"
                                },
                                {
                                    "TERMEKKOD": "03010344T"
                                },
                                {
                                    "TERMEKKOD": "03010345T"
                                },
                                {
                                    "TERMEKKOD": "03050076T"
                                },
                                {
                                    "TERMEKKOD": "03050077T"
                                },
                                {
                                    "TERMEKKOD": "03050078T"
                                },
                                {
                                    "TERMEKKOD": "03080003T"
                                },
                                {
                                    "TERMEKKOD": "03080004T"
                                },
                                {
                                    "TERMEKKOD": "03080006T"
                                },
                                {
                                    "TERMEKKOD": "03080009T"
                                },
                                {
                                    "TERMEKKOD": "03080012T"
                                },
                                {
                                    "TERMEKKOD": "03080013T"
                                },
                                {
                                    "TERMEKKOD": "03080014T"
                                },
                                {
                                    "TERMEKKOD": "03080015T"
                                },
                                {
                                    "TERMEKKOD": "03080016T"
                                },
                                {
                                    "TERMEKKOD": "03080017T"
                                },
                                {
                                    "TERMEKKOD": "03080019T"
                                },
                                {
                                    "TERMEKKOD": "03080020T"
                                },
                                {
                                    "TERMEKKOD": "03080021T"
                                },
                                {
                                    "TERMEKKOD": "03080030T"
                                },
                                {
                                    "TERMEKKOD": "03080439T"
                                },
                                {
                                    "TERMEKKOD": "04020445T"
                                },
                                {
                                    "TERMEKKOD": "04030235T"
                                },
                                {
                                    "TERMEKKOD": "04030237T"
                                },
                                {
                                    "TERMEKKOD": "04030238T"
                                },
                                {
                                    "TERMEKKOD": "04030239T"
                                },
                                {
                                    "TERMEKKOD": "04030243T"
                                },
                                {
                                    "TERMEKKOD": "04030261T"
                                },
                                {
                                    "TERMEKKOD": "04030262T"
                                },
                                {
                                    "TERMEKKOD": "04030263T"
                                },
                                {
                                    "TERMEKKOD": "04030264T"
                                },
                                {
                                    "TERMEKKOD": "04030265T"
                                },
                                {
                                    "TERMEKKOD": "04030266T"
                                },
                                {
                                    "TERMEKKOD": "04030285T"
                                },
                                {
                                    "TERMEKKOD": "04030286T"
                                },
                                {
                                    "TERMEKKOD": "04030288T"
                                },
                                {
                                    "TERMEKKOD": "04040387T"
                                },
                                {
                                    "TERMEKKOD": "04050022T"
                                },
                                {
                                    "TERMEKKOD": "04050023T"
                                },
                                {
                                    "TERMEKKOD": "04050024T"
                                },
                                {
                                    "TERMEKKOD": "04050035T"
                                },
                                {
                                    "TERMEKKOD": "04050073T"
                                },
                                {
                                    "TERMEKKOD": "04050074T"
                                },
                                {
                                    "TERMEKKOD": "04050075T"
                                },
                                {
                                    "TERMEKKOD": "04050171T"
                                },
                                {
                                    "TERMEKKOD": "04050187T"
                                },
                                {
                                    "TERMEKKOD": "04050203T"
                                },
                                {
                                    "TERMEKKOD": "04050204T"
                                },
                                {
                                    "TERMEKKOD": "04050220T"
                                },
                                {
                                    "TERMEKKOD": "04050221T"
                                },
                                {
                                    "TERMEKKOD": "04050222T"
                                },
                                {
                                    "TERMEKKOD": "04050223T"
                                },
                                {
                                    "TERMEKKOD": "04050224T"
                                },
                                {
                                    "TERMEKKOD": "04050252T"
                                },
                                {
                                    "TERMEKKOD": "04050253T"
                                },
                                {
                                    "TERMEKKOD": "04050254T"
                                },
                                {
                                    "TERMEKKOD": "04050269T"
                                },
                                {
                                    "TERMEKKOD": "04050320T"
                                },
                                {
                                    "TERMEKKOD": "04050322T"
                                },
                                {
                                    "TERMEKKOD": "04050358T"
                                },
                                {
                                    "TERMEKKOD": "04080270T"
                                },
                                {
                                    "TERMEKKOD": "04080271T"
                                },
                                {
                                    "TERMEKKOD": "04080272T"
                                },
                                {
                                    "TERMEKKOD": "04080443T"
                                },
                                {
                                    "TERMEKKOD": "04110066T"
                                },
                                {
                                    "TERMEKKOD": "04110067T"
                                },
                                {
                                    "TERMEKKOD": "04110068T"
                                },
                                {
                                    "TERMEKKOD": "04110227T"
                                },
                                {
                                    "TERMEKKOD": "04110228T"
                                },
                                {
                                    "TERMEKKOD": "04110229T"
                                },
                                {
                                    "TERMEKKOD": "04110230T"
                                },
                                {
                                    "TERMEKKOD": "04110231T"
                                },
                                {
                                    "TERMEKKOD": "04110232T"
                                },
                                {
                                    "TERMEKKOD": "04110233T"
                                },
                                {
                                    "TERMEKKOD": "04110258T"
                                },
                                {
                                    "TERMEKKOD": "04110274T"
                                },
                                {
                                    "TERMEKKOD": "04110275T"
                                },
                                {
                                    "TERMEKKOD": "04110276T"
                                },
                                {
                                    "TERMEKKOD": "04110277T"
                                },
                                {
                                    "TERMEKKOD": "04110278T"
                                },
                                {
                                    "TERMEKKOD": "04110279T"
                                },
                                {
                                    "TERMEKKOD": "04110280T"
                                },
                                {
                                    "TERMEKKOD": "04110281T"
                                },
                                {
                                    "TERMEKKOD": "04110282T"
                                },
                                {
                                    "TERMEKKOD": "04110283T"
                                },
                                {
                                    "TERMEKKOD": "04110284T"
                                },
                                {
                                    "TERMEKKOD": "04110362T"
                                },
                                {
                                    "TERMEKKOD": "05010026T"
                                },
                                {
                                    "TERMEKKOD": "05010369T"
                                },
                                {
                                    "TERMEKKOD": "05010370T"
                                },
                                {
                                    "TERMEKKOD": "05040310T"
                                },
                                {
                                    "TERMEKKOD": "05040348T"
                                },
                                {
                                    "TERMEKKOD": "05040349T"
                                },
                                {
                                    "TERMEKKOD": "05050045T"
                                },
                                {
                                    "TERMEKKOD": "05050046T"
                                },
                                {
                                    "TERMEKKOD": "05050170T"
                                },
                                {
                                    "TERMEKKOD": "05050346T"
                                },
                                {
                                    "TERMEKKOD": "05080340T"
                                },
                                {
                                    "TERMEKKOD": "05080341T"
                                },
                                {
                                    "TERMEKKOD": "05110359T"
                                },
                                {
                                    "TERMEKKOD": "05110360T"
                                },
                                {
                                    "TERMEKKOD": "05110361T"
                                },
                                {
                                    "TERMEKKOD": "05110363T"
                                },
                                {
                                    "TERMEKKOD": "05110364T"
                                },
                                {
                                    "TERMEKKOD": "06010036T"
                                },
                                {
                                    "TERMEKKOD": "06010082T"
                                },
                                {
                                    "TERMEKKOD": "06010083T"
                                },
                                {
                                    "TERMEKKOD": "06010084T"
                                },
                                {
                                    "TERMEKKOD": "06010085T"
                                },
                                {
                                    "TERMEKKOD": "06010111T"
                                },
                                {
                                    "TERMEKKOD": "06010112T"
                                },
                                {
                                    "TERMEKKOD": "06010114T"
                                },
                                {
                                    "TERMEKKOD": "06010115T"
                                },
                                {
                                    "TERMEKKOD": "06010201T"
                                },
                                {
                                    "TERMEKKOD": "06010202T"
                                },
                                {
                                    "TERMEKKOD": "06010305T"
                                },
                                {
                                    "TERMEKKOD": "06010365T"
                                },
                                {
                                    "TERMEKKOD": "06010366T"
                                },
                                {
                                    "TERMEKKOD": "06010367T"
                                },
                                {
                                    "TERMEKKOD": "06010368T"
                                },
                                {
                                    "TERMEKKOD": "06010375T"
                                },
                                {
                                    "TERMEKKOD": "06010376T"
                                },
                                {
                                    "TERMEKKOD": "06010377T"
                                },
                                {
                                    "TERMEKKOD": "06040089T"
                                },
                                {
                                    "TERMEKKOD": "06040175T"
                                },
                                {
                                    "TERMEKKOD": "06040179T"
                                },
                                {
                                    "TERMEKKOD": "06040180T"
                                },
                                {
                                    "TERMEKKOD": "06040183T"
                                },
                                {
                                    "TERMEKKOD": "06040184T"
                                },
                                {
                                    "TERMEKKOD": "06040186T"
                                },
                                {
                                    "TERMEKKOD": "06040205T"
                                },
                                {
                                    "TERMEKKOD": "06040206T"
                                },
                                {
                                    "TERMEKKOD": "06040212T"
                                },
                                {
                                    "TERMEKKOD": "06040213T"
                                },
                                {
                                    "TERMEKKOD": "06040246T"
                                },
                                {
                                    "TERMEKKOD": "06040248T"
                                },
                                {
                                    "TERMEKKOD": "06040323T"
                                },
                                {
                                    "TERMEKKOD": "06040324T"
                                },
                                {
                                    "TERMEKKOD": "06040326T"
                                },
                                {
                                    "TERMEKKOD": "06040330T"
                                },
                                {
                                    "TERMEKKOD": "06040331T"
                                },
                                {
                                    "TERMEKKOD": "06040347T"
                                },
                                {
                                    "TERMEKKOD": "06040350T"
                                },
                                {
                                    "TERMEKKOD": "06040351T"
                                },
                                {
                                    "TERMEKKOD": "06040352T"
                                },
                                {
                                    "TERMEKKOD": "06040353T"
                                },
                                {
                                    "TERMEKKOD": "06040354T"
                                },
                                {
                                    "TERMEKKOD": "06040355T"
                                },
                                {
                                    "TERMEKKOD": "06040356T"
                                },
                                {
                                    "TERMEKKOD": "06040378T"
                                },
                                {
                                    "TERMEKKOD": "06040379T"
                                },
                                {
                                    "TERMEKKOD": "06040380T"
                                },
                                {
                                    "TERMEKKOD": "06040381T"
                                },
                                {
                                    "TERMEKKOD": "06040382T"
                                },
                                {
                                    "TERMEKKOD": "06040383T"
                                },
                                {
                                    "TERMEKKOD": "06040384T"
                                },
                                {
                                    "TERMEKKOD": "06040385T"
                                },
                                {
                                    "TERMEKKOD": "06040386T"
                                },
                                {
                                    "TERMEKKOD": "06040392T"
                                },
                                {
                                    "TERMEKKOD": "06040393T"
                                },
                                {
                                    "TERMEKKOD": "06040394T"
                                },
                                {
                                    "TERMEKKOD": "06040395T"
                                },
                                {
                                    "TERMEKKOD": "06040397T"
                                },
                                {
                                    "TERMEKKOD": "06040398T"
                                },
                                {
                                    "TERMEKKOD": "06040399T"
                                },
                                {
                                    "TERMEKKOD": "06040400T"
                                },
                                {
                                    "TERMEKKOD": "06040446T"
                                },
                                {
                                    "TERMEKKOD": "06050249T"
                                },
                                {
                                    "TERMEKKOD": "06050301T"
                                },
                                {
                                    "TERMEKKOD": "06050302T"
                                },
                                {
                                    "TERMEKKOD": "06050303T"
                                },
                                {
                                    "TERMEKKOD": "06080116T"
                                },
                                {
                                    "TERMEKKOD": "06080117T"
                                },
                                {
                                    "TERMEKKOD": "06080118T"
                                },
                                {
                                    "TERMEKKOD": "06080119T"
                                },
                                {
                                    "TERMEKKOD": "06080120T"
                                },
                                {
                                    "TERMEKKOD": "06080121T"
                                },
                                {
                                    "TERMEKKOD": "06080122T"
                                },
                                {
                                    "TERMEKKOD": "06080124T"
                                },
                                {
                                    "TERMEKKOD": "06080125T"
                                },
                                {
                                    "TERMEKKOD": "06080126T"
                                },
                                {
                                    "TERMEKKOD": "06080188T"
                                },
                                {
                                    "TERMEKKOD": "06080189T"
                                },
                                {
                                    "TERMEKKOD": "06080190T"
                                },
                                {
                                    "TERMEKKOD": "06080191T"
                                },
                                {
                                    "TERMEKKOD": "06080192T"
                                },
                                {
                                    "TERMEKKOD": "06080193T"
                                },
                                {
                                    "TERMEKKOD": "06080259T"
                                },
                                {
                                    "TERMEKKOD": "06080332T"
                                },
                                {
                                    "TERMEKKOD": "06080333T"
                                },
                                {
                                    "TERMEKKOD": "06080335T"
                                },
                                {
                                    "TERMEKKOD": "06080337T"
                                },
                                {
                                    "TERMEKKOD": "06080339T"
                                },
                                {
                                    "TERMEKKOD": "06080407T"
                                },
                                {
                                    "TERMEKKOD": "06080408T"
                                },
                                {
                                    "TERMEKKOD": "06080409T"
                                },
                                {
                                    "TERMEKKOD": "06080410T"
                                },
                                {
                                    "TERMEKKOD": "06080411T"
                                },
                                {
                                    "TERMEKKOD": "06080412T"
                                },
                                {
                                    "TERMEKKOD": "06080413T"
                                },
                                {
                                    "TERMEKKOD": "06080415T"
                                },
                                {
                                    "TERMEKKOD": "06080416T"
                                },
                                {
                                    "TERMEKKOD": "06080417T"
                                },
                                {
                                    "TERMEKKOD": "06080422T"
                                },
                                {
                                    "TERMEKKOD": "06080423T"
                                },
                                {
                                    "TERMEKKOD": "06080424T"
                                },
                                {
                                    "TERMEKKOD": "06080425T"
                                },
                                {
                                    "TERMEKKOD": "06080426T"
                                },
                                {
                                    "TERMEKKOD": "06080427T"
                                },
                                {
                                    "TERMEKKOD": "06080428T"
                                },
                                {
                                    "TERMEKKOD": "06080429T"
                                },
                                {
                                    "TERMEKKOD": "06080430T"
                                },
                                {
                                    "TERMEKKOD": "06080441T"
                                },
                                {
                                    "TERMEKKOD": "07010137T"
                                },
                                {
                                    "TERMEKKOD": "07010139T"
                                },
                                {
                                    "TERMEKKOD": "07010140T"
                                },
                                {
                                    "TERMEKKOD": "07010141T"
                                },
                                {
                                    "TERMEKKOD": "07010142T"
                                },
                                {
                                    "TERMEKKOD": "07010143T"
                                },
                                {
                                    "TERMEKKOD": "07010144T"
                                },
                                {
                                    "TERMEKKOD": "07010244T"
                                },
                                {
                                    "TERMEKKOD": "07030103T"
                                },
                                {
                                    "TERMEKKOD": "07030104T"
                                },
                                {
                                    "TERMEKKOD": "07030105T"
                                },
                                {
                                    "TERMEKKOD": "07030106T"
                                },
                                {
                                    "TERMEKKOD": "07030107T"
                                },
                                {
                                    "TERMEKKOD": "07030108T"
                                },
                                {
                                    "TERMEKKOD": "07040047T"
                                },
                                {
                                    "TERMEKKOD": "07040049T"
                                },
                                {
                                    "TERMEKKOD": "07040050T"
                                },
                                {
                                    "TERMEKKOD": "07040051T"
                                },
                                {
                                    "TERMEKKOD": "07040052T"
                                },
                                {
                                    "TERMEKKOD": "07040053T"
                                },
                                {
                                    "TERMEKKOD": "07040054T"
                                },
                                {
                                    "TERMEKKOD": "07040055T"
                                },
                                {
                                    "TERMEKKOD": "07040056T"
                                },
                                {
                                    "TERMEKKOD": "07040057T"
                                },
                                {
                                    "TERMEKKOD": "07040058T"
                                },
                                {
                                    "TERMEKKOD": "07040059T"
                                },
                                {
                                    "TERMEKKOD": "07040060T"
                                },
                                {
                                    "TERMEKKOD": "07040061T"
                                },
                                {
                                    "TERMEKKOD": "07040097T"
                                },
                                {
                                    "TERMEKKOD": "07040098T"
                                },
                                {
                                    "TERMEKKOD": "07040099T"
                                },
                                {
                                    "TERMEKKOD": "07040100T"
                                },
                                {
                                    "TERMEKKOD": "07040101T"
                                },
                                {
                                    "TERMEKKOD": "07040102T"
                                },
                                {
                                    "TERMEKKOD": "07040127T"
                                },
                                {
                                    "TERMEKKOD": "07040128T"
                                },
                                {
                                    "TERMEKKOD": "07040129T"
                                },
                                {
                                    "TERMEKKOD": "07040130T"
                                },
                                {
                                    "TERMEKKOD": "07040132T"
                                },
                                {
                                    "TERMEKKOD": "07040133T"
                                },
                                {
                                    "TERMEKKOD": "07040165T"
                                },
                                {
                                    "TERMEKKOD": "07040166T"
                                },
                                {
                                    "TERMEKKOD": "07040167T"
                                },
                                {
                                    "TERMEKKOD": "07040168T"
                                },
                                {
                                    "TERMEKKOD": "07040169T"
                                },
                                {
                                    "TERMEKKOD": "07040215T"
                                },
                                {
                                    "TERMEKKOD": "07040216T"
                                },
                                {
                                    "TERMEKKOD": "07040217T"
                                },
                                {
                                    "TERMEKKOD": "07040218T"
                                },
                                {
                                    "TERMEKKOD": "07040219T"
                                },
                                {
                                    "TERMEKKOD": "07040257T"
                                },
                                {
                                    "TERMEKKOD": "07040388T"
                                },
                                {
                                    "TERMEKKOD": "07040389T"
                                },
                                {
                                    "TERMEKKOD": "07040390T"
                                },
                                {
                                    "TERMEKKOD": "07040391T"
                                },
                                {
                                    "TERMEKKOD": "07050462T"
                                },
                                {
                                    "TERMEKKOD": "07050463T"
                                },
                                {
                                    "TERMEKKOD": "07050464T"
                                },
                                {
                                    "TERMEKKOD": "07080062T"
                                },
                                {
                                    "TERMEKKOD": "07080063T"
                                },
                                {
                                    "TERMEKKOD": "07080064T"
                                },
                                {
                                    "TERMEKKOD": "07080065T"
                                },
                                {
                                    "TERMEKKOD": "07080150T"
                                },
                                {
                                    "TERMEKKOD": "07080151T"
                                },
                                {
                                    "TERMEKKOD": "07080152T"
                                },
                                {
                                    "TERMEKKOD": "07080153T"
                                },
                                {
                                    "TERMEKKOD": "07080154T"
                                },
                                {
                                    "TERMEKKOD": "07080155T"
                                },
                                {
                                    "TERMEKKOD": "07080156T"
                                },
                                {
                                    "TERMEKKOD": "07080157T"
                                },
                                {
                                    "TERMEKKOD": "07080159T"
                                },
                                {
                                    "TERMEKKOD": "07080160T"
                                },
                                {
                                    "TERMEKKOD": "07080161T"
                                },
                                {
                                    "TERMEKKOD": "07080162T"
                                },
                                {
                                    "TERMEKKOD": "07080316T"
                                },
                                {
                                    "TERMEKKOD": "07080421T"
                                },
                                {
                                    "TERMEKKOD": "07080466T"
                                },
                                {
                                    "TERMEKKOD": "08070472T"
                                },
                                {
                                    "TERMEKKOD": "08070473T"
                                },
                                {
                                    "TERMEKKOD": "08070474T"
                                },
                                {
                                    "TERMEKKOD": "08070477T"
                                },
                                {
                                    "TERMEKKOD": "08070478T"
                                },
                                {
                                    "TERMEKKOD": "08070479T"
                                },
                                {
                                    "TERMEKKOD": "08070481T"
                                },
                                {
                                    "TERMEKKOD": "08070482T"
                                },
                                {
                                    "TERMEKKOD": "08070483T"
                                },
                                {
                                    "TERMEKKOD": "08070484T"
                                },
                                {
                                    "TERMEKKOD": "08070485T"
                                },
                                {
                                    "TERMEKKOD": "08070486T"
                                },
                                {
                                    "TERMEKKOD": "08070487T"
                                },
                                {
                                    "TERMEKKOD": "08070490T"
                                },
                                {
                                    "TERMEKKOD": "08070491T"
                                },
                                {
                                    "TERMEKKOD": "08070492T"
                                },
                                {
                                    "TERMEKKOD": "08070493T"
                                },
                                {
                                    "TERMEKKOD": "08070494T"
                                },
                                {
                                    "TERMEKKOD": "08070495T"
                                },
                                {
                                    "TERMEKKOD": "F001-KB101"
                                },
                                {
                                    "TERMEKKOD": "F007-NA201"
                                },
                                {
                                    "TERMEKKOD": "F013-NA207"
                                },
                                {
                                    "TERMEKKOD": "F021-IN215"
                                },
                                {
                                    "TERMEKKOD": "G001-KB101"
                                },
                                {
                                    "TERMEKKOD": "G013-NA201"
                                },
                                {
                                    "TERMEKKOD": "G019-NA207"
                                },
                                {
                                    "TERMEKKOD": "G023-FE301"
                                },
                                {
                                    "TERMEKKOD": "G029-FE307"
                                },
                                {
                                    "TERMEKKOD": "G038-FE316"
                                },
                                {
                                    "TERMEKKOD": "G041-AL211"
                                },
                                {
                                    "TERMEKKOD": "G048-PO218"
                                },
                                {
                                    "TERMEKKOD": "G064-CI401"
                                },
                                {
                                    "TERMEKKOD": "G073-CI410"
                                },
                                {
                                    "TERMEKKOD": "G082-CI419"
                                },
                                {
                                    "TERMEKKOD": "L001-KB101"
                                },
                                {
                                    "TERMEKKOD": "L013-NA201"
                                },
                                {
                                    "TERMEKKOD": "L019-NA207"
                                },
                                {
                                    "TERMEKKOD": "L023-FE301"
                                },
                                {
                                    "TERMEKKOD": "L029-FE307"
                                },
                                {
                                    "TERMEKKOD": "L033-FE311"
                                },
                                {
                                    "TERMEKKOD": "L041-AL211"
                                },
                                {
                                    "TERMEKKOD": "L048-PO218"
                                },
                                {
                                    "TERMEKKOD": "L064-CI401"
                                },
                                {
                                    "TERMEKKOD": "L073-CI410"
                                },
                                {
                                    "TERMEKKOD": "L082-CI419"
                                },
                                {
                                    "TERMEKKOD": "N001-KB101"
                                },
                                {
                                    "TERMEKKOD": "N008-NA201"
                                },
                                {
                                    "TERMEKKOD": "N019-FE301"
                                },
                                {
                                    "TERMEKKOD": "N029-AL212"
                                },
                                {
                                    "TERMEKKOD": "N035-AL218"
                                },
                                {
                                    "TERMEKKOD": "N039-AL222"
                                },
                                {
                                    "TERMEKKOD": "U001-KI501"
                                }
                            ]
                        },
                        "text/html": [
                            "<table>",
                            "<tr><th>TERMEKKOD</th></tr>",
                            "<tr><td>01010110T</td></tr>",
                            "<tr><td>01010304T</td></tr>",
                            "<tr><td>01020300T</td></tr>",
                            "<tr><td>01030091T</td></tr>",
                            "<tr><td>01030092T</td></tr>",
                            "<tr><td>01040307T</td></tr>",
                            "<tr><td>01040502T</td></tr>",
                            "<tr><td>01080093T</td></tr>",
                            "<tr><td>01080512T</td></tr>",
                            "<tr><td>01080513T</td></tr>",
                            "<tr><td>01090499T</td></tr>",
                            "<tr><td>01090500T</td></tr>",
                            "<tr><td>01090501T</td></tr>",
                            "<tr><td>01090515T</td></tr>",
                            "<tr><td>01090516T</td></tr>",
                            "<tr><td>01090517T</td></tr>",
                            "<tr><td>01100070T</td></tr>",
                            "<tr><td>01100072T</td></tr>",
                            "<tr><td>01100094T</td></tr>",
                            "<tr><td>01100095T</td></tr>",
                            "<tr><td>01100096T</td></tr>",
                            "<tr><td>01100496T</td></tr>",
                            "<tr><td>01100497T</td></tr>",
                            "<tr><td>01100503T</td></tr>",
                            "<tr><td>01100504T</td></tr>",
                            "<tr><td>01100505T</td></tr>",
                            "<tr><td>01100509T</td></tr>",
                            "<tr><td>01100510T</td></tr>",
                            "<tr><td>02010028T</td></tr>",
                            "<tr><td>02020029T</td></tr>",
                            "<tr><td>02020032T</td></tr>",
                            "<tr><td>02020033T</td></tr>",
                            "<tr><td>02020037T</td></tr>",
                            "<tr><td>02020245T</td></tr>",
                            "<tr><td>02030040T</td></tr>",
                            "<tr><td>02040025T</td></tr>",
                            "<tr><td>02040145T</td></tr>",
                            "<tr><td>02040147T</td></tr>",
                            "<tr><td>02040148T</td></tr>",
                            "<tr><td>02040176T</td></tr>",
                            "<tr><td>02040177T</td></tr>",
                            "<tr><td>02040178T</td></tr>",
                            "<tr><td>02040194T</td></tr>",
                            "<tr><td>02040195T</td></tr>",
                            "<tr><td>02040196T</td></tr>",
                            "<tr><td>02040197T</td></tr>",
                            "<tr><td>02040198T</td></tr>",
                            "<tr><td>02040199T</td></tr>",
                            "<tr><td>02040200T</td></tr>",
                            "<tr><td>02040206T</td></tr>",
                            "<tr><td>02040207T</td></tr>",
                            "<tr><td>02040208T</td></tr>",
                            "<tr><td>02040209T</td></tr>",
                            "<tr><td>02040211T</td></tr>",
                            "<tr><td>02040214T</td></tr>",
                            "<tr><td>02040290T</td></tr>",
                            "<tr><td>02040291T</td></tr>",
                            "<tr><td>02040294T</td></tr>",
                            "<tr><td>02040298T</td></tr>",
                            "<tr><td>02040308T</td></tr>",
                            "<tr><td>02040309T</td></tr>",
                            "<tr><td>02040401T</td></tr>",
                            "<tr><td>02040402T</td></tr>",
                            "<tr><td>02040403T</td></tr>",
                            "<tr><td>02040404T</td></tr>",
                            "<tr><td>02040405T</td></tr>",
                            "<tr><td>02040506T</td></tr>",
                            "<tr><td>02040507T</td></tr>",
                            "<tr><td>02040508T</td></tr>",
                            "<tr><td>02050460T</td></tr>",
                            "<tr><td>02050461T</td></tr>",
                            "<tr><td>02060034T</td></tr>",
                            "<tr><td>02060038T</td></tr>",
                            "<tr><td>02060039T</td></tr>",
                            "<tr><td>02060447T</td></tr>",
                            "<tr><td>02060448T</td></tr>",
                            "<tr><td>02080069T</td></tr>",
                            "<tr><td>02080081T</td></tr>",
                            "<tr><td>02080109T</td></tr>",
                            "<tr><td>02080226T</td></tr>",
                            "<tr><td>02080431T</td></tr>",
                            "<tr><td>02080432T</td></tr>",
                            "<tr><td>02080433T</td></tr>",
                            "<tr><td>02080434T</td></tr>",
                            "<tr><td>02080436T</td></tr>",
                            "<tr><td>02080449T</td></tr>",
                            "<tr><td>02080450T</td></tr>",
                            "<tr><td>02080451T</td></tr>",
                            "<tr><td>02080452T</td></tr>",
                            "<tr><td>02080453T</td></tr>",
                            "<tr><td>02080454T</td></tr>",
                            "<tr><td>02080455T</td></tr>",
                            "<tr><td>02080456T</td></tr>",
                            "<tr><td>02080511T</td></tr>",
                            "<tr><td>02080514T</td></tr>",
                            "<tr><td>03010342T</td></tr>",
                            "<tr><td>03010344T</td></tr>",
                            "<tr><td>03010345T</td></tr>",
                            "<tr><td>03050076T</td></tr>",
                            "<tr><td>03050077T</td></tr>",
                            "<tr><td>03050078T</td></tr>",
                            "<tr><td>03080003T</td></tr>",
                            "<tr><td>03080004T</td></tr>",
                            "<tr><td>03080006T</td></tr>",
                            "<tr><td>03080009T</td></tr>",
                            "<tr><td>03080012T</td></tr>",
                            "<tr><td>03080013T</td></tr>",
                            "<tr><td>03080014T</td></tr>",
                            "<tr><td>03080015T</td></tr>",
                            "<tr><td>03080016T</td></tr>",
                            "<tr><td>03080017T</td></tr>",
                            "<tr><td>03080019T</td></tr>",
                            "<tr><td>03080020T</td></tr>",
                            "<tr><td>03080021T</td></tr>",
                            "<tr><td>03080030T</td></tr>",
                            "<tr><td>03080439T</td></tr>",
                            "<tr><td>04020445T</td></tr>",
                            "<tr><td>04030235T</td></tr>",
                            "<tr><td>04030237T</td></tr>",
                            "<tr><td>04030238T</td></tr>",
                            "<tr><td>04030239T</td></tr>",
                            "<tr><td>04030243T</td></tr>",
                            "<tr><td>04030261T</td></tr>",
                            "<tr><td>04030262T</td></tr>",
                            "<tr><td>04030263T</td></tr>",
                            "<tr><td>04030264T</td></tr>",
                            "<tr><td>04030265T</td></tr>",
                            "<tr><td>04030266T</td></tr>",
                            "<tr><td>04030285T</td></tr>",
                            "<tr><td>04030286T</td></tr>",
                            "<tr><td>04030288T</td></tr>",
                            "<tr><td>04040387T</td></tr>",
                            "<tr><td>04050022T</td></tr>",
                            "<tr><td>04050023T</td></tr>",
                            "<tr><td>04050024T</td></tr>",
                            "<tr><td>04050035T</td></tr>",
                            "<tr><td>04050073T</td></tr>",
                            "<tr><td>04050074T</td></tr>",
                            "<tr><td>04050075T</td></tr>",
                            "<tr><td>04050171T</td></tr>",
                            "<tr><td>04050187T</td></tr>",
                            "<tr><td>04050203T</td></tr>",
                            "<tr><td>04050204T</td></tr>",
                            "<tr><td>04050220T</td></tr>",
                            "<tr><td>04050221T</td></tr>",
                            "<tr><td>04050222T</td></tr>",
                            "<tr><td>04050223T</td></tr>",
                            "<tr><td>04050224T</td></tr>",
                            "<tr><td>04050252T</td></tr>",
                            "<tr><td>04050253T</td></tr>",
                            "<tr><td>04050254T</td></tr>",
                            "<tr><td>04050269T</td></tr>",
                            "<tr><td>04050320T</td></tr>",
                            "<tr><td>04050322T</td></tr>",
                            "<tr><td>04050358T</td></tr>",
                            "<tr><td>04080270T</td></tr>",
                            "<tr><td>04080271T</td></tr>",
                            "<tr><td>04080272T</td></tr>",
                            "<tr><td>04080443T</td></tr>",
                            "<tr><td>04110066T</td></tr>",
                            "<tr><td>04110067T</td></tr>",
                            "<tr><td>04110068T</td></tr>",
                            "<tr><td>04110227T</td></tr>",
                            "<tr><td>04110228T</td></tr>",
                            "<tr><td>04110229T</td></tr>",
                            "<tr><td>04110230T</td></tr>",
                            "<tr><td>04110231T</td></tr>",
                            "<tr><td>04110232T</td></tr>",
                            "<tr><td>04110233T</td></tr>",
                            "<tr><td>04110258T</td></tr>",
                            "<tr><td>04110274T</td></tr>",
                            "<tr><td>04110275T</td></tr>",
                            "<tr><td>04110276T</td></tr>",
                            "<tr><td>04110277T</td></tr>",
                            "<tr><td>04110278T</td></tr>",
                            "<tr><td>04110279T</td></tr>",
                            "<tr><td>04110280T</td></tr>",
                            "<tr><td>04110281T</td></tr>",
                            "<tr><td>04110282T</td></tr>",
                            "<tr><td>04110283T</td></tr>",
                            "<tr><td>04110284T</td></tr>",
                            "<tr><td>04110362T</td></tr>",
                            "<tr><td>05010026T</td></tr>",
                            "<tr><td>05010369T</td></tr>",
                            "<tr><td>05010370T</td></tr>",
                            "<tr><td>05040310T</td></tr>",
                            "<tr><td>05040348T</td></tr>",
                            "<tr><td>05040349T</td></tr>",
                            "<tr><td>05050045T</td></tr>",
                            "<tr><td>05050046T</td></tr>",
                            "<tr><td>05050170T</td></tr>",
                            "<tr><td>05050346T</td></tr>",
                            "<tr><td>05080340T</td></tr>",
                            "<tr><td>05080341T</td></tr>",
                            "<tr><td>05110359T</td></tr>",
                            "<tr><td>05110360T</td></tr>",
                            "<tr><td>05110361T</td></tr>",
                            "<tr><td>05110363T</td></tr>",
                            "<tr><td>05110364T</td></tr>",
                            "<tr><td>06010036T</td></tr>",
                            "<tr><td>06010082T</td></tr>",
                            "<tr><td>06010083T</td></tr>",
                            "<tr><td>06010084T</td></tr>",
                            "<tr><td>06010085T</td></tr>",
                            "<tr><td>06010111T</td></tr>",
                            "<tr><td>06010112T</td></tr>",
                            "<tr><td>06010114T</td></tr>",
                            "<tr><td>06010115T</td></tr>",
                            "<tr><td>06010201T</td></tr>",
                            "<tr><td>06010202T</td></tr>",
                            "<tr><td>06010305T</td></tr>",
                            "<tr><td>06010365T</td></tr>",
                            "<tr><td>06010366T</td></tr>",
                            "<tr><td>06010367T</td></tr>",
                            "<tr><td>06010368T</td></tr>",
                            "<tr><td>06010375T</td></tr>",
                            "<tr><td>06010376T</td></tr>",
                            "<tr><td>06010377T</td></tr>",
                            "<tr><td>06040089T</td></tr>",
                            "<tr><td>06040175T</td></tr>",
                            "<tr><td>06040179T</td></tr>",
                            "<tr><td>06040180T</td></tr>",
                            "<tr><td>06040183T</td></tr>",
                            "<tr><td>06040184T</td></tr>",
                            "<tr><td>06040186T</td></tr>",
                            "<tr><td>06040205T</td></tr>",
                            "<tr><td>06040206T</td></tr>",
                            "<tr><td>06040212T</td></tr>",
                            "<tr><td>06040213T</td></tr>",
                            "<tr><td>06040246T</td></tr>",
                            "<tr><td>06040248T</td></tr>",
                            "<tr><td>06040323T</td></tr>",
                            "<tr><td>06040324T</td></tr>",
                            "<tr><td>06040326T</td></tr>",
                            "<tr><td>06040330T</td></tr>",
                            "<tr><td>06040331T</td></tr>",
                            "<tr><td>06040347T</td></tr>",
                            "<tr><td>06040350T</td></tr>",
                            "<tr><td>06040351T</td></tr>",
                            "<tr><td>06040352T</td></tr>",
                            "<tr><td>06040353T</td></tr>",
                            "<tr><td>06040354T</td></tr>",
                            "<tr><td>06040355T</td></tr>",
                            "<tr><td>06040356T</td></tr>",
                            "<tr><td>06040378T</td></tr>",
                            "<tr><td>06040379T</td></tr>",
                            "<tr><td>06040380T</td></tr>",
                            "<tr><td>06040381T</td></tr>",
                            "<tr><td>06040382T</td></tr>",
                            "<tr><td>06040383T</td></tr>",
                            "<tr><td>06040384T</td></tr>",
                            "<tr><td>06040385T</td></tr>",
                            "<tr><td>06040386T</td></tr>",
                            "<tr><td>06040392T</td></tr>",
                            "<tr><td>06040393T</td></tr>",
                            "<tr><td>06040394T</td></tr>",
                            "<tr><td>06040395T</td></tr>",
                            "<tr><td>06040397T</td></tr>",
                            "<tr><td>06040398T</td></tr>",
                            "<tr><td>06040399T</td></tr>",
                            "<tr><td>06040400T</td></tr>",
                            "<tr><td>06040446T</td></tr>",
                            "<tr><td>06050249T</td></tr>",
                            "<tr><td>06050301T</td></tr>",
                            "<tr><td>06050302T</td></tr>",
                            "<tr><td>06050303T</td></tr>",
                            "<tr><td>06080116T</td></tr>",
                            "<tr><td>06080117T</td></tr>",
                            "<tr><td>06080118T</td></tr>",
                            "<tr><td>06080119T</td></tr>",
                            "<tr><td>06080120T</td></tr>",
                            "<tr><td>06080121T</td></tr>",
                            "<tr><td>06080122T</td></tr>",
                            "<tr><td>06080124T</td></tr>",
                            "<tr><td>06080125T</td></tr>",
                            "<tr><td>06080126T</td></tr>",
                            "<tr><td>06080188T</td></tr>",
                            "<tr><td>06080189T</td></tr>",
                            "<tr><td>06080190T</td></tr>",
                            "<tr><td>06080191T</td></tr>",
                            "<tr><td>06080192T</td></tr>",
                            "<tr><td>06080193T</td></tr>",
                            "<tr><td>06080259T</td></tr>",
                            "<tr><td>06080332T</td></tr>",
                            "<tr><td>06080333T</td></tr>",
                            "<tr><td>06080335T</td></tr>",
                            "<tr><td>06080337T</td></tr>",
                            "<tr><td>06080339T</td></tr>",
                            "<tr><td>06080407T</td></tr>",
                            "<tr><td>06080408T</td></tr>",
                            "<tr><td>06080409T</td></tr>",
                            "<tr><td>06080410T</td></tr>",
                            "<tr><td>06080411T</td></tr>",
                            "<tr><td>06080412T</td></tr>",
                            "<tr><td>06080413T</td></tr>",
                            "<tr><td>06080415T</td></tr>",
                            "<tr><td>06080416T</td></tr>",
                            "<tr><td>06080417T</td></tr>",
                            "<tr><td>06080422T</td></tr>",
                            "<tr><td>06080423T</td></tr>",
                            "<tr><td>06080424T</td></tr>",
                            "<tr><td>06080425T</td></tr>",
                            "<tr><td>06080426T</td></tr>",
                            "<tr><td>06080427T</td></tr>",
                            "<tr><td>06080428T</td></tr>",
                            "<tr><td>06080429T</td></tr>",
                            "<tr><td>06080430T</td></tr>",
                            "<tr><td>06080441T</td></tr>",
                            "<tr><td>07010137T</td></tr>",
                            "<tr><td>07010139T</td></tr>",
                            "<tr><td>07010140T</td></tr>",
                            "<tr><td>07010141T</td></tr>",
                            "<tr><td>07010142T</td></tr>",
                            "<tr><td>07010143T</td></tr>",
                            "<tr><td>07010144T</td></tr>",
                            "<tr><td>07010244T</td></tr>",
                            "<tr><td>07030103T</td></tr>",
                            "<tr><td>07030104T</td></tr>",
                            "<tr><td>07030105T</td></tr>",
                            "<tr><td>07030106T</td></tr>",
                            "<tr><td>07030107T</td></tr>",
                            "<tr><td>07030108T</td></tr>",
                            "<tr><td>07040047T</td></tr>",
                            "<tr><td>07040049T</td></tr>",
                            "<tr><td>07040050T</td></tr>",
                            "<tr><td>07040051T</td></tr>",
                            "<tr><td>07040052T</td></tr>",
                            "<tr><td>07040053T</td></tr>",
                            "<tr><td>07040054T</td></tr>",
                            "<tr><td>07040055T</td></tr>",
                            "<tr><td>07040056T</td></tr>",
                            "<tr><td>07040057T</td></tr>",
                            "<tr><td>07040058T</td></tr>",
                            "<tr><td>07040059T</td></tr>",
                            "<tr><td>07040060T</td></tr>",
                            "<tr><td>07040061T</td></tr>",
                            "<tr><td>07040097T</td></tr>",
                            "<tr><td>07040098T</td></tr>",
                            "<tr><td>07040099T</td></tr>",
                            "<tr><td>07040100T</td></tr>",
                            "<tr><td>07040101T</td></tr>",
                            "<tr><td>07040102T</td></tr>",
                            "<tr><td>07040127T</td></tr>",
                            "<tr><td>07040128T</td></tr>",
                            "<tr><td>07040129T</td></tr>",
                            "<tr><td>07040130T</td></tr>",
                            "<tr><td>07040132T</td></tr>",
                            "<tr><td>07040133T</td></tr>",
                            "<tr><td>07040165T</td></tr>",
                            "<tr><td>07040166T</td></tr>",
                            "<tr><td>07040167T</td></tr>",
                            "<tr><td>07040168T</td></tr>",
                            "<tr><td>07040169T</td></tr>",
                            "<tr><td>07040215T</td></tr>",
                            "<tr><td>07040216T</td></tr>",
                            "<tr><td>07040217T</td></tr>",
                            "<tr><td>07040218T</td></tr>",
                            "<tr><td>07040219T</td></tr>",
                            "<tr><td>07040257T</td></tr>",
                            "<tr><td>07040388T</td></tr>",
                            "<tr><td>07040389T</td></tr>",
                            "<tr><td>07040390T</td></tr>",
                            "<tr><td>07040391T</td></tr>",
                            "<tr><td>07050462T</td></tr>",
                            "<tr><td>07050463T</td></tr>",
                            "<tr><td>07050464T</td></tr>",
                            "<tr><td>07080062T</td></tr>",
                            "<tr><td>07080063T</td></tr>",
                            "<tr><td>07080064T</td></tr>",
                            "<tr><td>07080065T</td></tr>",
                            "<tr><td>07080150T</td></tr>",
                            "<tr><td>07080151T</td></tr>",
                            "<tr><td>07080152T</td></tr>",
                            "<tr><td>07080153T</td></tr>",
                            "<tr><td>07080154T</td></tr>",
                            "<tr><td>07080155T</td></tr>",
                            "<tr><td>07080156T</td></tr>",
                            "<tr><td>07080157T</td></tr>",
                            "<tr><td>07080159T</td></tr>",
                            "<tr><td>07080160T</td></tr>",
                            "<tr><td>07080161T</td></tr>",
                            "<tr><td>07080162T</td></tr>",
                            "<tr><td>07080316T</td></tr>",
                            "<tr><td>07080421T</td></tr>",
                            "<tr><td>07080466T</td></tr>",
                            "<tr><td>08070472T</td></tr>",
                            "<tr><td>08070473T</td></tr>",
                            "<tr><td>08070474T</td></tr>",
                            "<tr><td>08070477T</td></tr>",
                            "<tr><td>08070478T</td></tr>",
                            "<tr><td>08070479T</td></tr>",
                            "<tr><td>08070481T</td></tr>",
                            "<tr><td>08070482T</td></tr>",
                            "<tr><td>08070483T</td></tr>",
                            "<tr><td>08070484T</td></tr>",
                            "<tr><td>08070485T</td></tr>",
                            "<tr><td>08070486T</td></tr>",
                            "<tr><td>08070487T</td></tr>",
                            "<tr><td>08070490T</td></tr>",
                            "<tr><td>08070491T</td></tr>",
                            "<tr><td>08070492T</td></tr>",
                            "<tr><td>08070493T</td></tr>",
                            "<tr><td>08070494T</td></tr>",
                            "<tr><td>08070495T</td></tr>",
                            "<tr><td>F001-KB101</td></tr>",
                            "<tr><td>F007-NA201</td></tr>",
                            "<tr><td>F013-NA207</td></tr>",
                            "<tr><td>F021-IN215</td></tr>",
                            "<tr><td>G001-KB101</td></tr>",
                            "<tr><td>G013-NA201</td></tr>",
                            "<tr><td>G019-NA207</td></tr>",
                            "<tr><td>G023-FE301</td></tr>",
                            "<tr><td>G029-FE307</td></tr>",
                            "<tr><td>G038-FE316</td></tr>",
                            "<tr><td>G041-AL211</td></tr>",
                            "<tr><td>G048-PO218</td></tr>",
                            "<tr><td>G064-CI401</td></tr>",
                            "<tr><td>G073-CI410</td></tr>",
                            "<tr><td>G082-CI419</td></tr>",
                            "<tr><td>L001-KB101</td></tr>",
                            "<tr><td>L013-NA201</td></tr>",
                            "<tr><td>L019-NA207</td></tr>",
                            "<tr><td>L023-FE301</td></tr>",
                            "<tr><td>L029-FE307</td></tr>",
                            "<tr><td>L033-FE311</td></tr>",
                            "<tr><td>L041-AL211</td></tr>",
                            "<tr><td>L048-PO218</td></tr>",
                            "<tr><td>L064-CI401</td></tr>",
                            "<tr><td>L073-CI410</td></tr>",
                            "<tr><td>L082-CI419</td></tr>",
                            "<tr><td>N001-KB101</td></tr>",
                            "<tr><td>N008-NA201</td></tr>",
                            "<tr><td>N019-FE301</td></tr>",
                            "<tr><td>N029-AL212</td></tr>",
                            "<tr><td>N035-AL218</td></tr>",
                            "<tr><td>N039-AL222</td></tr>",
                            "<tr><td>U001-KI501</td></tr>",
                            "</table>"
                        ]
                    }
                }
            ],
            "execution_count": 30
        },
        {
            "cell_type": "markdown",
            "source": [
                "7. <span style=\"background-color: rgb(255, 255, 255); color: rgb(0, 0, 0); font-family: &quot;Open Sans&quot;, sans-serif; font-size: 14.44px;\">Listázzuk azon ügyfeleket, akik még nem fizettek bankkártyával!&nbsp;</span> \n",
                "\n",
                "a. Csak az ügyfelek neve jelenjen meg!"
            ],
            "metadata": {
                "azdata_cell_guid": "7ebf7ddd-1bd2-4246-815a-be8ae37e3b5b"
            },
            "attachments": {}
        },
        {
            "cell_type": "code",
            "source": [
                "---left join\r\n",
                "---except is jo lenne\r\n",
                "SELECT [LOGIN]\r\n",
                "FROM Ugyfel\r\n",
                "WHERE [LOGIN] NOT IN (\r\n",
                "                        SELECT u.[LOGIN]\r\n",
                "                        FROM Rendeles r JOIN Ugyfel u ON  u.[LOGIN] = r.[LOGIN]\r\n",
                "                        WHERE FIZ_MOD = 'Bankkártya' \r\n",
                ")"
            ],
            "metadata": {
                "azdata_cell_guid": "84b7e896-f36e-4985-88f5-e0f706494fef",
                "language": "sql"
            },
            "outputs": [
                {
                    "output_type": "display_data",
                    "data": {
                        "text/html": "(9 rows affected)"
                    },
                    "metadata": {}
                },
                {
                    "output_type": "display_data",
                    "data": {
                        "text/html": "Total execution time: 00:00:00.060"
                    },
                    "metadata": {}
                },
                {
                    "output_type": "execute_result",
                    "metadata": {},
                    "execution_count": 31,
                    "data": {
                        "application/vnd.dataresource+json": {
                            "schema": {
                                "fields": [
                                    {
                                        "name": "LOGIN"
                                    }
                                ]
                            },
                            "data": [
                                {
                                    "LOGIN": "alexis"
                                },
                                {
                                    "LOGIN": "attila"
                                },
                                {
                                    "LOGIN": "beata4"
                                },
                                {
                                    "LOGIN": "desdemona"
                                },
                                {
                                    "LOGIN": "eszter"
                                },
                                {
                                    "LOGIN": "kanita12"
                                },
                                {
                                    "LOGIN": "mark"
                                },
                                {
                                    "LOGIN": "melissza"
                                },
                                {
                                    "LOGIN": "norbert"
                                }
                            ]
                        },
                        "text/html": [
                            "<table>",
                            "<tr><th>LOGIN</th></tr>",
                            "<tr><td>alexis</td></tr>",
                            "<tr><td>attila</td></tr>",
                            "<tr><td>beata4</td></tr>",
                            "<tr><td>desdemona</td></tr>",
                            "<tr><td>eszter</td></tr>",
                            "<tr><td>kanita12</td></tr>",
                            "<tr><td>mark</td></tr>",
                            "<tr><td>melissza</td></tr>",
                            "<tr><td>norbert</td></tr>",
                            "</table>"
                        ]
                    }
                }
            ],
            "execution_count": 31
        },
        {
            "cell_type": "markdown",
            "source": [
                "8. <span style=\"background-color: rgb(255, 255, 255); color: rgb(0, 0, 0); font-family: &quot;Open Sans&quot;, sans-serif; font-size: 14.44px;\">Mennyibe kerül a második legnagyobb listaárú termék?</span>"
            ],
            "metadata": {
                "azdata_cell_guid": "27a3d3dc-eafb-4a5e-b103-9f465b9eda8f"
            },
            "attachments": {}
        },
        {
            "cell_type": "code",
            "source": [
                ""
            ],
            "metadata": {
                "azdata_cell_guid": "f09edb3f-649b-4a96-958e-9e12774ae8b7",
                "language": "sql"
            },
            "outputs": [],
            "execution_count": null
        },
        {
            "cell_type": "markdown",
            "source": [
                "9. <span style=\"background-color: rgb(255, 255, 255); color: rgb(0, 0, 0); font-family: &quot;Open Sans&quot;, sans-serif; font-size: 14.44px;\">Melyik raktár(ak)ban van az a termék, amelyből a legnagyobb készlet van?&nbsp;</span> \n",
                "\n",
                "a. Csak a raktár(ak) neve jelenjen meg!"
            ],
            "metadata": {
                "azdata_cell_guid": "f12a331a-0e26-4d3d-9c68-812316286577"
            },
            "attachments": {}
        },
        {
            "cell_type": "code",
            "source": [
                ""
            ],
            "metadata": {
                "azdata_cell_guid": "10a77fc9-e61a-46fc-a401-59720d82bc50",
                "language": "sql"
            },
            "outputs": [],
            "execution_count": null
        },
        {
            "cell_type": "markdown",
            "source": [
                "10. <span style=\"background-color: rgb(255, 255, 255); color: rgb(0, 0, 0); font-family: &quot;Open Sans&quot;, sans-serif; font-size: 14.44px;\">Melyek azok a termékek, amelyek listaára nagyobb, mint bármelyik olyan terméké, amelynek nevében az Ajándék szó szerepel?&nbsp;</span> \n",
                "\n",
                "a. A termékek kódját és nevét is jelenítsük meg!"
            ],
            "metadata": {
                "azdata_cell_guid": "9229e2b6-e200-4499-b95b-2d0222149831"
            },
            "attachments": {}
        },
        {
            "cell_type": "code",
            "source": [
                ""
            ],
            "metadata": {
                "azdata_cell_guid": "8b49ed67-28c6-4880-82a8-cd369e5bba99",
                "language": "sql"
            },
            "outputs": [],
            "execution_count": null
        },
        {
            "cell_type": "markdown",
            "source": [
                "11. <span style=\"background-color: rgb(255, 255, 255); color: rgb(0, 0, 0); font-family: &quot;Open Sans&quot;, sans-serif; font-size: 14.44px;\">Melyik hónapokban adtak le az ügyfelek több rendelést, mint januárban?&nbsp;</span> \n",
                "\n",
                "a. Elég a hónapok sorszámait megjeleníteni. \n",
                "\n",
                "b. A listát rendezzük a hónapok száma szerint növekvő sorrendbe!"
            ],
            "metadata": {
                "azdata_cell_guid": "7f5fc7a7-3b6a-4d89-b292-490830afb0c6"
            },
            "attachments": {}
        },
        {
            "cell_type": "code",
            "source": [
                ""
            ],
            "metadata": {
                "azdata_cell_guid": "4a9ece40-f782-4c0d-92cd-9c21969067ed",
                "language": "sql"
            },
            "outputs": [],
            "execution_count": null
        },
        {
            "cell_type": "markdown",
            "source": [
                "12. <span style=\"background-color: rgb(255, 255, 255); color: rgb(0, 0, 0); font-family: &quot;Open Sans&quot;, sans-serif; font-size: 14.44px;\">Melyek azok a termékek, amelyek listaára az átlagostól max. 20%-kal tér el?&nbsp;</span> \n",
                "\n",
                "a. A termék kódját és nevét is jelenítsük meg!"
            ],
            "metadata": {
                "azdata_cell_guid": "5a483c52-bb98-44bb-bd03-1146d4b0abfa"
            },
            "attachments": {}
        },
        {
            "cell_type": "code",
            "source": [
                ""
            ],
            "metadata": {
                "azdata_cell_guid": "dd6e89bd-08f9-4b18-8460-03c45b503df0",
                "language": "sql"
            },
            "outputs": [],
            "execution_count": null
        },
        {
            "cell_type": "markdown",
            "source": [
                "13. <span style=\"background-color: rgb(255, 255, 255); color: rgb(0, 0, 0); font-family: &quot;Open Sans&quot;, sans-serif; font-size: 14.44px;\">Készítsünk listát (sorszámonként) az egyes rendelések teljes összegéről!&nbsp;</span> \n",
                "\n",
                "a. Szűrjünk azon tételekre, ahol ez az érték nagyobb, mint Viktor Éva rendeléseinek teljes összege! \n",
                "\n",
                "b. A teljes összeg oszlopot nevezzük el értelemszerűen!"
            ],
            "metadata": {
                "azdata_cell_guid": "85d5cb66-96c6-42de-99cf-85ab22d08548"
            },
            "attachments": {}
        },
        {
            "cell_type": "code",
            "source": [
                ""
            ],
            "metadata": {
                "azdata_cell_guid": "cb07d64b-0eaa-498b-b4d2-0b46971e95ce",
                "language": "sql"
            },
            "outputs": [],
            "execution_count": null
        },
        {
            "cell_type": "markdown",
            "source": [
                "14. <span style=\"background-color: rgb(255, 255, 255); color: rgb(0, 0, 0); font-family: &quot;Open Sans&quot;, sans-serif; font-size: 14.44px;\">Listázzuk azokat a termékkategóriákat, amelyből 2017 januárban nem történt rendelés!&nbsp;</span> \n",
                "\n",
                "a. Elég a kategóriák nevét megjeleníteni!"
            ],
            "metadata": {
                "azdata_cell_guid": "f95ad665-a807-4099-bf06-64ed974f866f"
            },
            "attachments": {}
        },
        {
            "cell_type": "code",
            "source": [
                "SELECT tk.KAT_NEV\r\n",
                "FROM Termekkategoria tk\r\n",
                "WHERE NOT EXISTS (\r\n",
                "            SELECT KAT_ID\r\n",
                "            FROM Rendeles r  JOIN Rendeles_tetel rt ON rt.SORSZAM = r.SORSZAM \r\n",
                "                             JOIN termek t ON rt.TERMEKKOD = t.TERMEKKOD\r\n",
                "            WHERE YEAR(r.REND_DATUM) = 2017 AND MONTH(REND_DATUM) = 01 AND\r\n",
                "            tk.KAT_ID = t.KAT_ID ---korrelalt lekerdezes\r\n",
                "            \r\n",
                ") "
            ],
            "metadata": {
                "azdata_cell_guid": "74c7ec8a-ae4a-4d03-b1c4-e8f6bb1be12c",
                "language": "sql"
            },
            "outputs": [
                {
                    "output_type": "display_data",
                    "data": {
                        "text/html": "(13 rows affected)"
                    },
                    "metadata": {}
                },
                {
                    "output_type": "display_data",
                    "data": {
                        "text/html": "Total execution time: 00:00:00.054"
                    },
                    "metadata": {}
                },
                {
                    "output_type": "execute_result",
                    "metadata": {},
                    "execution_count": 33,
                    "data": {
                        "application/vnd.dataresource+json": {
                            "schema": {
                                "fields": [
                                    {
                                        "name": "KAT_NEV"
                                    }
                                ]
                            },
                            "data": [
                                {
                                    "KAT_NEV": "papír írószer"
                                },
                                {
                                    "KAT_NEV": "ruha"
                                },
                                {
                                    "KAT_NEV": "cipő"
                                },
                                {
                                    "KAT_NEV": "csomagoló anyag"
                                },
                                {
                                    "KAT_NEV": "háztartási papír"
                                },
                                {
                                    "KAT_NEV": "indigó"
                                },
                                {
                                    "KAT_NEV": "ing"
                                },
                                {
                                    "KAT_NEV": "írószer"
                                },
                                {
                                    "KAT_NEV": "kabát"
                                },
                                {
                                    "KAT_NEV": "kiegészítő"
                                },
                                {
                                    "KAT_NEV": "nadrág"
                                },
                                {
                                    "KAT_NEV": "papír"
                                },
                                {
                                    "KAT_NEV": "póló"
                                }
                            ]
                        },
                        "text/html": [
                            "<table>",
                            "<tr><th>KAT_NEV</th></tr>",
                            "<tr><td>papír írószer</td></tr>",
                            "<tr><td>ruha</td></tr>",
                            "<tr><td>cipő</td></tr>",
                            "<tr><td>csomagoló anyag</td></tr>",
                            "<tr><td>háztartási papír</td></tr>",
                            "<tr><td>indigó</td></tr>",
                            "<tr><td>ing</td></tr>",
                            "<tr><td>írószer</td></tr>",
                            "<tr><td>kabát</td></tr>",
                            "<tr><td>kiegészítő</td></tr>",
                            "<tr><td>nadrág</td></tr>",
                            "<tr><td>papír</td></tr>",
                            "<tr><td>póló</td></tr>",
                            "</table>"
                        ]
                    }
                }
            ],
            "execution_count": 33
        },
        {
            "cell_type": "markdown",
            "source": [
                "ZH minta 2"
            ],
            "metadata": {
                "language": "sql",
                "azdata_cell_guid": "7921c161-5a09-4c96-ba6a-aed903193352"
            },
            "attachments": {}
        },
        {
            "cell_type": "code",
            "source": [
                "SELECT (YEAR(CURRENT_TIMESTAMP) - YEAR(v.SZUL_DAT)) as 'Eletkor',\r\n",
                "        (LAG(YEAR(CURRENT_TIMESTAMP) - YEAR(v.SZUL_DAT),2) OVER(ORDER BY v.SZUL_DAT) \r\n",
                "        + LAG(YEAR(CURRENT_TIMESTAMP) - YEAR(v.SZUL_DAT),1) OVER(ORDER BY v.SZUL_DAT) \r\n",
                "        + LEAD(YEAR(CURRENT_TIMESTAMP) - YEAR(v.SZUL_DAT),2) OVER(ORDER BY v.SZUL_DAT)\r\n",
                "        + LEAD(YEAR(CURRENT_TIMESTAMP) - YEAR(v.SZUL_DAT),1) OVER(ORDER BY v.SZUL_DAT)) / 5 as 'atlag'\r\n",
                "FROM Vendeg v"
            ],
            "metadata": {
                "language": "sql",
                "azdata_cell_guid": "43a01443-f01a-4810-ac11-25b213aaffdb"
            },
            "outputs": [
                {
                    "output_type": "display_data",
                    "data": {
                        "text/html": "(196 rows affected)"
                    },
                    "metadata": {}
                },
                {
                    "output_type": "display_data",
                    "data": {
                        "text/html": "Total execution time: 00:00:00.014"
                    },
                    "metadata": {}
                },
                {
                    "output_type": "execute_result",
                    "metadata": {},
                    "execution_count": 40,
                    "data": {
                        "application/vnd.dataresource+json": {
                            "schema": {
                                "fields": [
                                    {
                                        "name": "Eletkor"
                                    },
                                    {
                                        "name": "atlag"
                                    }
                                ]
                            },
                            "data": [
                                {
                                    "Eletkor": "58",
                                    "atlag": "NULL"
                                },
                                {
                                    "Eletkor": "58",
                                    "atlag": "NULL"
                                },
                                {
                                    "Eletkor": "58",
                                    "atlag": "46"
                                },
                                {
                                    "Eletkor": "58",
                                    "atlag": "46"
                                },
                                {
                                    "Eletkor": "58",
                                    "atlag": "46"
                                },
                                {
                                    "Eletkor": "58",
                                    "atlag": "46"
                                },
                                {
                                    "Eletkor": "58",
                                    "atlag": "46"
                                },
                                {
                                    "Eletkor": "58",
                                    "atlag": "46"
                                },
                                {
                                    "Eletkor": "57",
                                    "atlag": "46"
                                },
                                {
                                    "Eletkor": "57",
                                    "atlag": "45"
                                },
                                {
                                    "Eletkor": "57",
                                    "atlag": "45"
                                },
                                {
                                    "Eletkor": "57",
                                    "atlag": "45"
                                },
                                {
                                    "Eletkor": "57",
                                    "atlag": "45"
                                },
                                {
                                    "Eletkor": "57",
                                    "atlag": "45"
                                },
                                {
                                    "Eletkor": "57",
                                    "atlag": "45"
                                },
                                {
                                    "Eletkor": "56",
                                    "atlag": "45"
                                },
                                {
                                    "Eletkor": "56",
                                    "atlag": "45"
                                },
                                {
                                    "Eletkor": "56",
                                    "atlag": "44"
                                },
                                {
                                    "Eletkor": "56",
                                    "atlag": "44"
                                },
                                {
                                    "Eletkor": "56",
                                    "atlag": "44"
                                },
                                {
                                    "Eletkor": "56",
                                    "atlag": "44"
                                },
                                {
                                    "Eletkor": "56",
                                    "atlag": "44"
                                },
                                {
                                    "Eletkor": "56",
                                    "atlag": "44"
                                },
                                {
                                    "Eletkor": "55",
                                    "atlag": "44"
                                },
                                {
                                    "Eletkor": "55",
                                    "atlag": "44"
                                },
                                {
                                    "Eletkor": "55",
                                    "atlag": "43"
                                },
                                {
                                    "Eletkor": "55",
                                    "atlag": "43"
                                },
                                {
                                    "Eletkor": "54",
                                    "atlag": "43"
                                },
                                {
                                    "Eletkor": "54",
                                    "atlag": "43"
                                },
                                {
                                    "Eletkor": "54",
                                    "atlag": "43"
                                },
                                {
                                    "Eletkor": "54",
                                    "atlag": "43"
                                },
                                {
                                    "Eletkor": "54",
                                    "atlag": "42"
                                },
                                {
                                    "Eletkor": "53",
                                    "atlag": "42"
                                },
                                {
                                    "Eletkor": "53",
                                    "atlag": "42"
                                },
                                {
                                    "Eletkor": "53",
                                    "atlag": "42"
                                },
                                {
                                    "Eletkor": "53",
                                    "atlag": "42"
                                },
                                {
                                    "Eletkor": "52",
                                    "atlag": "42"
                                },
                                {
                                    "Eletkor": "52",
                                    "atlag": "41"
                                },
                                {
                                    "Eletkor": "52",
                                    "atlag": "41"
                                },
                                {
                                    "Eletkor": "52",
                                    "atlag": "41"
                                },
                                {
                                    "Eletkor": "51",
                                    "atlag": "41"
                                },
                                {
                                    "Eletkor": "51",
                                    "atlag": "41"
                                },
                                {
                                    "Eletkor": "51",
                                    "atlag": "40"
                                },
                                {
                                    "Eletkor": "51",
                                    "atlag": "40"
                                },
                                {
                                    "Eletkor": "50",
                                    "atlag": "40"
                                },
                                {
                                    "Eletkor": "50",
                                    "atlag": "40"
                                },
                                {
                                    "Eletkor": "50",
                                    "atlag": "40"
                                },
                                {
                                    "Eletkor": "50",
                                    "atlag": "40"
                                },
                                {
                                    "Eletkor": "50",
                                    "atlag": "40"
                                },
                                {
                                    "Eletkor": "50",
                                    "atlag": "40"
                                },
                                {
                                    "Eletkor": "50",
                                    "atlag": "40"
                                },
                                {
                                    "Eletkor": "50",
                                    "atlag": "40"
                                },
                                {
                                    "Eletkor": "50",
                                    "atlag": "39"
                                },
                                {
                                    "Eletkor": "50",
                                    "atlag": "39"
                                },
                                {
                                    "Eletkor": "49",
                                    "atlag": "39"
                                },
                                {
                                    "Eletkor": "49",
                                    "atlag": "39"
                                },
                                {
                                    "Eletkor": "49",
                                    "atlag": "39"
                                },
                                {
                                    "Eletkor": "49",
                                    "atlag": "39"
                                },
                                {
                                    "Eletkor": "49",
                                    "atlag": "39"
                                },
                                {
                                    "Eletkor": "49",
                                    "atlag": "39"
                                },
                                {
                                    "Eletkor": "49",
                                    "atlag": "38"
                                },
                                {
                                    "Eletkor": "48",
                                    "atlag": "38"
                                },
                                {
                                    "Eletkor": "48",
                                    "atlag": "38"
                                },
                                {
                                    "Eletkor": "48",
                                    "atlag": "38"
                                },
                                {
                                    "Eletkor": "48",
                                    "atlag": "38"
                                },
                                {
                                    "Eletkor": "48",
                                    "atlag": "38"
                                },
                                {
                                    "Eletkor": "47",
                                    "atlag": "38"
                                },
                                {
                                    "Eletkor": "47",
                                    "atlag": "37"
                                },
                                {
                                    "Eletkor": "47",
                                    "atlag": "37"
                                },
                                {
                                    "Eletkor": "47",
                                    "atlag": "37"
                                },
                                {
                                    "Eletkor": "47",
                                    "atlag": "37"
                                },
                                {
                                    "Eletkor": "47",
                                    "atlag": "37"
                                },
                                {
                                    "Eletkor": "47",
                                    "atlag": "37"
                                },
                                {
                                    "Eletkor": "46",
                                    "atlag": "37"
                                },
                                {
                                    "Eletkor": "46",
                                    "atlag": "37"
                                },
                                {
                                    "Eletkor": "46",
                                    "atlag": "36"
                                },
                                {
                                    "Eletkor": "46",
                                    "atlag": "36"
                                },
                                {
                                    "Eletkor": "46",
                                    "atlag": "36"
                                },
                                {
                                    "Eletkor": "46",
                                    "atlag": "36"
                                },
                                {
                                    "Eletkor": "46",
                                    "atlag": "36"
                                },
                                {
                                    "Eletkor": "45",
                                    "atlag": "36"
                                },
                                {
                                    "Eletkor": "45",
                                    "atlag": "36"
                                },
                                {
                                    "Eletkor": "45",
                                    "atlag": "36"
                                },
                                {
                                    "Eletkor": "45",
                                    "atlag": "36"
                                },
                                {
                                    "Eletkor": "45",
                                    "atlag": "36"
                                },
                                {
                                    "Eletkor": "45",
                                    "atlag": "35"
                                },
                                {
                                    "Eletkor": "45",
                                    "atlag": "35"
                                },
                                {
                                    "Eletkor": "44",
                                    "atlag": "35"
                                },
                                {
                                    "Eletkor": "44",
                                    "atlag": "35"
                                },
                                {
                                    "Eletkor": "44",
                                    "atlag": "35"
                                },
                                {
                                    "Eletkor": "44",
                                    "atlag": "34"
                                },
                                {
                                    "Eletkor": "43",
                                    "atlag": "34"
                                },
                                {
                                    "Eletkor": "43",
                                    "atlag": "34"
                                },
                                {
                                    "Eletkor": "43",
                                    "atlag": "34"
                                },
                                {
                                    "Eletkor": "43",
                                    "atlag": "34"
                                },
                                {
                                    "Eletkor": "42",
                                    "atlag": "34"
                                },
                                {
                                    "Eletkor": "42",
                                    "atlag": "33"
                                },
                                {
                                    "Eletkor": "42",
                                    "atlag": "33"
                                },
                                {
                                    "Eletkor": "42",
                                    "atlag": "33"
                                },
                                {
                                    "Eletkor": "42",
                                    "atlag": "33"
                                },
                                {
                                    "Eletkor": "42",
                                    "atlag": "33"
                                },
                                {
                                    "Eletkor": "42",
                                    "atlag": "33"
                                },
                                {
                                    "Eletkor": "42",
                                    "atlag": "33"
                                },
                                {
                                    "Eletkor": "41",
                                    "atlag": "33"
                                },
                                {
                                    "Eletkor": "41",
                                    "atlag": "33"
                                },
                                {
                                    "Eletkor": "41",
                                    "atlag": "32"
                                },
                                {
                                    "Eletkor": "41",
                                    "atlag": "32"
                                },
                                {
                                    "Eletkor": "41",
                                    "atlag": "32"
                                },
                                {
                                    "Eletkor": "41",
                                    "atlag": "32"
                                },
                                {
                                    "Eletkor": "41",
                                    "atlag": "32"
                                },
                                {
                                    "Eletkor": "41",
                                    "atlag": "32"
                                },
                                {
                                    "Eletkor": "40",
                                    "atlag": "32"
                                },
                                {
                                    "Eletkor": "40",
                                    "atlag": "32"
                                },
                                {
                                    "Eletkor": "40",
                                    "atlag": "32"
                                },
                                {
                                    "Eletkor": "40",
                                    "atlag": "32"
                                },
                                {
                                    "Eletkor": "40",
                                    "atlag": "31"
                                },
                                {
                                    "Eletkor": "40",
                                    "atlag": "31"
                                },
                                {
                                    "Eletkor": "39",
                                    "atlag": "31"
                                },
                                {
                                    "Eletkor": "39",
                                    "atlag": "31"
                                },
                                {
                                    "Eletkor": "39",
                                    "atlag": "31"
                                },
                                {
                                    "Eletkor": "39",
                                    "atlag": "31"
                                },
                                {
                                    "Eletkor": "39",
                                    "atlag": "31"
                                },
                                {
                                    "Eletkor": "39",
                                    "atlag": "31"
                                },
                                {
                                    "Eletkor": "39",
                                    "atlag": "31"
                                },
                                {
                                    "Eletkor": "39",
                                    "atlag": "31"
                                },
                                {
                                    "Eletkor": "39",
                                    "atlag": "30"
                                },
                                {
                                    "Eletkor": "38",
                                    "atlag": "30"
                                },
                                {
                                    "Eletkor": "38",
                                    "atlag": "30"
                                },
                                {
                                    "Eletkor": "38",
                                    "atlag": "30"
                                },
                                {
                                    "Eletkor": "38",
                                    "atlag": "30"
                                },
                                {
                                    "Eletkor": "38",
                                    "atlag": "30"
                                },
                                {
                                    "Eletkor": "37",
                                    "atlag": "30"
                                },
                                {
                                    "Eletkor": "37",
                                    "atlag": "29"
                                },
                                {
                                    "Eletkor": "37",
                                    "atlag": "29"
                                },
                                {
                                    "Eletkor": "37",
                                    "atlag": "29"
                                },
                                {
                                    "Eletkor": "37",
                                    "atlag": "29"
                                },
                                {
                                    "Eletkor": "37",
                                    "atlag": "29"
                                },
                                {
                                    "Eletkor": "36",
                                    "atlag": "29"
                                },
                                {
                                    "Eletkor": "36",
                                    "atlag": "29"
                                },
                                {
                                    "Eletkor": "36",
                                    "atlag": "28"
                                },
                                {
                                    "Eletkor": "36",
                                    "atlag": "28"
                                },
                                {
                                    "Eletkor": "36",
                                    "atlag": "28"
                                },
                                {
                                    "Eletkor": "36",
                                    "atlag": "28"
                                },
                                {
                                    "Eletkor": "36",
                                    "atlag": "28"
                                },
                                {
                                    "Eletkor": "35",
                                    "atlag": "28"
                                },
                                {
                                    "Eletkor": "35",
                                    "atlag": "28"
                                },
                                {
                                    "Eletkor": "35",
                                    "atlag": "28"
                                },
                                {
                                    "Eletkor": "35",
                                    "atlag": "28"
                                },
                                {
                                    "Eletkor": "35",
                                    "atlag": "28"
                                },
                                {
                                    "Eletkor": "35",
                                    "atlag": "28"
                                },
                                {
                                    "Eletkor": "35",
                                    "atlag": "27"
                                },
                                {
                                    "Eletkor": "35",
                                    "atlag": "27"
                                },
                                {
                                    "Eletkor": "34",
                                    "atlag": "27"
                                },
                                {
                                    "Eletkor": "34",
                                    "atlag": "27"
                                },
                                {
                                    "Eletkor": "34",
                                    "atlag": "27"
                                },
                                {
                                    "Eletkor": "34",
                                    "atlag": "27"
                                },
                                {
                                    "Eletkor": "34",
                                    "atlag": "27"
                                },
                                {
                                    "Eletkor": "34",
                                    "atlag": "26"
                                },
                                {
                                    "Eletkor": "33",
                                    "atlag": "26"
                                },
                                {
                                    "Eletkor": "33",
                                    "atlag": "26"
                                },
                                {
                                    "Eletkor": "33",
                                    "atlag": "26"
                                },
                                {
                                    "Eletkor": "33",
                                    "atlag": "26"
                                },
                                {
                                    "Eletkor": "32",
                                    "atlag": "26"
                                },
                                {
                                    "Eletkor": "32",
                                    "atlag": "25"
                                },
                                {
                                    "Eletkor": "32",
                                    "atlag": "25"
                                },
                                {
                                    "Eletkor": "32",
                                    "atlag": "25"
                                },
                                {
                                    "Eletkor": "32",
                                    "atlag": "25"
                                },
                                {
                                    "Eletkor": "31",
                                    "atlag": "25"
                                },
                                {
                                    "Eletkor": "31",
                                    "atlag": "24"
                                },
                                {
                                    "Eletkor": "31",
                                    "atlag": "24"
                                },
                                {
                                    "Eletkor": "30",
                                    "atlag": "24"
                                },
                                {
                                    "Eletkor": "30",
                                    "atlag": "24"
                                },
                                {
                                    "Eletkor": "30",
                                    "atlag": "24"
                                },
                                {
                                    "Eletkor": "30",
                                    "atlag": "24"
                                },
                                {
                                    "Eletkor": "30",
                                    "atlag": "23"
                                },
                                {
                                    "Eletkor": "30",
                                    "atlag": "23"
                                },
                                {
                                    "Eletkor": "29",
                                    "atlag": "23"
                                },
                                {
                                    "Eletkor": "29",
                                    "atlag": "23"
                                },
                                {
                                    "Eletkor": "29",
                                    "atlag": "23"
                                },
                                {
                                    "Eletkor": "29",
                                    "atlag": "23"
                                },
                                {
                                    "Eletkor": "29",
                                    "atlag": "23"
                                },
                                {
                                    "Eletkor": "29",
                                    "atlag": "23"
                                },
                                {
                                    "Eletkor": "29",
                                    "atlag": "22"
                                },
                                {
                                    "Eletkor": "28",
                                    "atlag": "22"
                                },
                                {
                                    "Eletkor": "28",
                                    "atlag": "22"
                                },
                                {
                                    "Eletkor": "28",
                                    "atlag": "22"
                                },
                                {
                                    "Eletkor": "28",
                                    "atlag": "22"
                                },
                                {
                                    "Eletkor": "28",
                                    "atlag": "22"
                                },
                                {
                                    "Eletkor": "28",
                                    "atlag": "22"
                                },
                                {
                                    "Eletkor": "28",
                                    "atlag": "22"
                                },
                                {
                                    "Eletkor": "28",
                                    "atlag": "22"
                                },
                                {
                                    "Eletkor": "28",
                                    "atlag": "22"
                                },
                                {
                                    "Eletkor": "28",
                                    "atlag": "22"
                                },
                                {
                                    "Eletkor": "28",
                                    "atlag": "22"
                                },
                                {
                                    "Eletkor": "28",
                                    "atlag": "NULL"
                                },
                                {
                                    "Eletkor": "27",
                                    "atlag": "NULL"
                                }
                            ]
                        },
                        "text/html": [
                            "<table>",
                            "<tr><th>Eletkor</th><th>atlag</th></tr>",
                            "<tr><td>58</td><td>NULL</td></tr>",
                            "<tr><td>58</td><td>NULL</td></tr>",
                            "<tr><td>58</td><td>46</td></tr>",
                            "<tr><td>58</td><td>46</td></tr>",
                            "<tr><td>58</td><td>46</td></tr>",
                            "<tr><td>58</td><td>46</td></tr>",
                            "<tr><td>58</td><td>46</td></tr>",
                            "<tr><td>58</td><td>46</td></tr>",
                            "<tr><td>57</td><td>46</td></tr>",
                            "<tr><td>57</td><td>45</td></tr>",
                            "<tr><td>57</td><td>45</td></tr>",
                            "<tr><td>57</td><td>45</td></tr>",
                            "<tr><td>57</td><td>45</td></tr>",
                            "<tr><td>57</td><td>45</td></tr>",
                            "<tr><td>57</td><td>45</td></tr>",
                            "<tr><td>56</td><td>45</td></tr>",
                            "<tr><td>56</td><td>45</td></tr>",
                            "<tr><td>56</td><td>44</td></tr>",
                            "<tr><td>56</td><td>44</td></tr>",
                            "<tr><td>56</td><td>44</td></tr>",
                            "<tr><td>56</td><td>44</td></tr>",
                            "<tr><td>56</td><td>44</td></tr>",
                            "<tr><td>56</td><td>44</td></tr>",
                            "<tr><td>55</td><td>44</td></tr>",
                            "<tr><td>55</td><td>44</td></tr>",
                            "<tr><td>55</td><td>43</td></tr>",
                            "<tr><td>55</td><td>43</td></tr>",
                            "<tr><td>54</td><td>43</td></tr>",
                            "<tr><td>54</td><td>43</td></tr>",
                            "<tr><td>54</td><td>43</td></tr>",
                            "<tr><td>54</td><td>43</td></tr>",
                            "<tr><td>54</td><td>42</td></tr>",
                            "<tr><td>53</td><td>42</td></tr>",
                            "<tr><td>53</td><td>42</td></tr>",
                            "<tr><td>53</td><td>42</td></tr>",
                            "<tr><td>53</td><td>42</td></tr>",
                            "<tr><td>52</td><td>42</td></tr>",
                            "<tr><td>52</td><td>41</td></tr>",
                            "<tr><td>52</td><td>41</td></tr>",
                            "<tr><td>52</td><td>41</td></tr>",
                            "<tr><td>51</td><td>41</td></tr>",
                            "<tr><td>51</td><td>41</td></tr>",
                            "<tr><td>51</td><td>40</td></tr>",
                            "<tr><td>51</td><td>40</td></tr>",
                            "<tr><td>50</td><td>40</td></tr>",
                            "<tr><td>50</td><td>40</td></tr>",
                            "<tr><td>50</td><td>40</td></tr>",
                            "<tr><td>50</td><td>40</td></tr>",
                            "<tr><td>50</td><td>40</td></tr>",
                            "<tr><td>50</td><td>40</td></tr>",
                            "<tr><td>50</td><td>40</td></tr>",
                            "<tr><td>50</td><td>40</td></tr>",
                            "<tr><td>50</td><td>39</td></tr>",
                            "<tr><td>50</td><td>39</td></tr>",
                            "<tr><td>49</td><td>39</td></tr>",
                            "<tr><td>49</td><td>39</td></tr>",
                            "<tr><td>49</td><td>39</td></tr>",
                            "<tr><td>49</td><td>39</td></tr>",
                            "<tr><td>49</td><td>39</td></tr>",
                            "<tr><td>49</td><td>39</td></tr>",
                            "<tr><td>49</td><td>38</td></tr>",
                            "<tr><td>48</td><td>38</td></tr>",
                            "<tr><td>48</td><td>38</td></tr>",
                            "<tr><td>48</td><td>38</td></tr>",
                            "<tr><td>48</td><td>38</td></tr>",
                            "<tr><td>48</td><td>38</td></tr>",
                            "<tr><td>47</td><td>38</td></tr>",
                            "<tr><td>47</td><td>37</td></tr>",
                            "<tr><td>47</td><td>37</td></tr>",
                            "<tr><td>47</td><td>37</td></tr>",
                            "<tr><td>47</td><td>37</td></tr>",
                            "<tr><td>47</td><td>37</td></tr>",
                            "<tr><td>47</td><td>37</td></tr>",
                            "<tr><td>46</td><td>37</td></tr>",
                            "<tr><td>46</td><td>37</td></tr>",
                            "<tr><td>46</td><td>36</td></tr>",
                            "<tr><td>46</td><td>36</td></tr>",
                            "<tr><td>46</td><td>36</td></tr>",
                            "<tr><td>46</td><td>36</td></tr>",
                            "<tr><td>46</td><td>36</td></tr>",
                            "<tr><td>45</td><td>36</td></tr>",
                            "<tr><td>45</td><td>36</td></tr>",
                            "<tr><td>45</td><td>36</td></tr>",
                            "<tr><td>45</td><td>36</td></tr>",
                            "<tr><td>45</td><td>36</td></tr>",
                            "<tr><td>45</td><td>35</td></tr>",
                            "<tr><td>45</td><td>35</td></tr>",
                            "<tr><td>44</td><td>35</td></tr>",
                            "<tr><td>44</td><td>35</td></tr>",
                            "<tr><td>44</td><td>35</td></tr>",
                            "<tr><td>44</td><td>34</td></tr>",
                            "<tr><td>43</td><td>34</td></tr>",
                            "<tr><td>43</td><td>34</td></tr>",
                            "<tr><td>43</td><td>34</td></tr>",
                            "<tr><td>43</td><td>34</td></tr>",
                            "<tr><td>42</td><td>34</td></tr>",
                            "<tr><td>42</td><td>33</td></tr>",
                            "<tr><td>42</td><td>33</td></tr>",
                            "<tr><td>42</td><td>33</td></tr>",
                            "<tr><td>42</td><td>33</td></tr>",
                            "<tr><td>42</td><td>33</td></tr>",
                            "<tr><td>42</td><td>33</td></tr>",
                            "<tr><td>42</td><td>33</td></tr>",
                            "<tr><td>41</td><td>33</td></tr>",
                            "<tr><td>41</td><td>33</td></tr>",
                            "<tr><td>41</td><td>32</td></tr>",
                            "<tr><td>41</td><td>32</td></tr>",
                            "<tr><td>41</td><td>32</td></tr>",
                            "<tr><td>41</td><td>32</td></tr>",
                            "<tr><td>41</td><td>32</td></tr>",
                            "<tr><td>41</td><td>32</td></tr>",
                            "<tr><td>40</td><td>32</td></tr>",
                            "<tr><td>40</td><td>32</td></tr>",
                            "<tr><td>40</td><td>32</td></tr>",
                            "<tr><td>40</td><td>32</td></tr>",
                            "<tr><td>40</td><td>31</td></tr>",
                            "<tr><td>40</td><td>31</td></tr>",
                            "<tr><td>39</td><td>31</td></tr>",
                            "<tr><td>39</td><td>31</td></tr>",
                            "<tr><td>39</td><td>31</td></tr>",
                            "<tr><td>39</td><td>31</td></tr>",
                            "<tr><td>39</td><td>31</td></tr>",
                            "<tr><td>39</td><td>31</td></tr>",
                            "<tr><td>39</td><td>31</td></tr>",
                            "<tr><td>39</td><td>31</td></tr>",
                            "<tr><td>39</td><td>30</td></tr>",
                            "<tr><td>38</td><td>30</td></tr>",
                            "<tr><td>38</td><td>30</td></tr>",
                            "<tr><td>38</td><td>30</td></tr>",
                            "<tr><td>38</td><td>30</td></tr>",
                            "<tr><td>38</td><td>30</td></tr>",
                            "<tr><td>37</td><td>30</td></tr>",
                            "<tr><td>37</td><td>29</td></tr>",
                            "<tr><td>37</td><td>29</td></tr>",
                            "<tr><td>37</td><td>29</td></tr>",
                            "<tr><td>37</td><td>29</td></tr>",
                            "<tr><td>37</td><td>29</td></tr>",
                            "<tr><td>36</td><td>29</td></tr>",
                            "<tr><td>36</td><td>29</td></tr>",
                            "<tr><td>36</td><td>28</td></tr>",
                            "<tr><td>36</td><td>28</td></tr>",
                            "<tr><td>36</td><td>28</td></tr>",
                            "<tr><td>36</td><td>28</td></tr>",
                            "<tr><td>36</td><td>28</td></tr>",
                            "<tr><td>35</td><td>28</td></tr>",
                            "<tr><td>35</td><td>28</td></tr>",
                            "<tr><td>35</td><td>28</td></tr>",
                            "<tr><td>35</td><td>28</td></tr>",
                            "<tr><td>35</td><td>28</td></tr>",
                            "<tr><td>35</td><td>28</td></tr>",
                            "<tr><td>35</td><td>27</td></tr>",
                            "<tr><td>35</td><td>27</td></tr>",
                            "<tr><td>34</td><td>27</td></tr>",
                            "<tr><td>34</td><td>27</td></tr>",
                            "<tr><td>34</td><td>27</td></tr>",
                            "<tr><td>34</td><td>27</td></tr>",
                            "<tr><td>34</td><td>27</td></tr>",
                            "<tr><td>34</td><td>26</td></tr>",
                            "<tr><td>33</td><td>26</td></tr>",
                            "<tr><td>33</td><td>26</td></tr>",
                            "<tr><td>33</td><td>26</td></tr>",
                            "<tr><td>33</td><td>26</td></tr>",
                            "<tr><td>32</td><td>26</td></tr>",
                            "<tr><td>32</td><td>25</td></tr>",
                            "<tr><td>32</td><td>25</td></tr>",
                            "<tr><td>32</td><td>25</td></tr>",
                            "<tr><td>32</td><td>25</td></tr>",
                            "<tr><td>31</td><td>25</td></tr>",
                            "<tr><td>31</td><td>24</td></tr>",
                            "<tr><td>31</td><td>24</td></tr>",
                            "<tr><td>30</td><td>24</td></tr>",
                            "<tr><td>30</td><td>24</td></tr>",
                            "<tr><td>30</td><td>24</td></tr>",
                            "<tr><td>30</td><td>24</td></tr>",
                            "<tr><td>30</td><td>23</td></tr>",
                            "<tr><td>30</td><td>23</td></tr>",
                            "<tr><td>29</td><td>23</td></tr>",
                            "<tr><td>29</td><td>23</td></tr>",
                            "<tr><td>29</td><td>23</td></tr>",
                            "<tr><td>29</td><td>23</td></tr>",
                            "<tr><td>29</td><td>23</td></tr>",
                            "<tr><td>29</td><td>23</td></tr>",
                            "<tr><td>29</td><td>22</td></tr>",
                            "<tr><td>28</td><td>22</td></tr>",
                            "<tr><td>28</td><td>22</td></tr>",
                            "<tr><td>28</td><td>22</td></tr>",
                            "<tr><td>28</td><td>22</td></tr>",
                            "<tr><td>28</td><td>22</td></tr>",
                            "<tr><td>28</td><td>22</td></tr>",
                            "<tr><td>28</td><td>22</td></tr>",
                            "<tr><td>28</td><td>22</td></tr>",
                            "<tr><td>28</td><td>22</td></tr>",
                            "<tr><td>28</td><td>22</td></tr>",
                            "<tr><td>28</td><td>22</td></tr>",
                            "<tr><td>28</td><td>NULL</td></tr>",
                            "<tr><td>27</td><td>NULL</td></tr>",
                            "</table>"
                        ]
                    }
                }
            ],
            "execution_count": 40
        },
        {
            "cell_type": "markdown",
            "source": [
                "zh minta 2 jo mego"
            ],
            "metadata": {
                "language": "sql",
                "azdata_cell_guid": "c19b694a-e7ab-4046-80a0-a384d2b73bb2"
            },
            "attachments": {}
        },
        {
            "cell_type": "code",
            "source": [
                "SELECT *,\r\n",
                "       DATEDIFF(YEAR, SZUL_DAT, GETDATE()) -\r\n",
                "       IIF(DATEADD(YEAR,DATEDIFF(YEAR, SZUL_DAT, GETDATE()), SZUL_DAT) > GETDATE(), 1, 0), ---csak az eletkor,\r\n",
                "       AVG(DATEDIFF(YEAR, SZUL_DAT, GETDATE()) -\r\n",
                "       IIF(DATEADD(YEAR,DATEDIFF(YEAR, SZUL_DAT, GETDATE()), SZUL_DAT) >\r\n",
                "                                         GETDATE(), 1, 0)) OVER(ORDER BY SZUL_DAT\r\n",
                "                                            ROWS BETWEEN 2 PRECEDING AND 2 FOLLOWING)\r\n",
                "FROM Vendeg\r\n",
                "ORDER BY SZUL_DAT"
            ],
            "metadata": {
                "language": "sql",
                "azdata_cell_guid": "7fec3c98-c3b5-4cfd-ad9b-6eaa938ba8ab"
            },
            "outputs": [
                {
                    "output_type": "display_data",
                    "data": {
                        "text/html": "(196 rows affected)"
                    },
                    "metadata": {}
                },
                {
                    "output_type": "display_data",
                    "data": {
                        "text/html": "Total execution time: 00:00:00.014"
                    },
                    "metadata": {}
                },
                {
                    "output_type": "execute_result",
                    "metadata": {},
                    "execution_count": 41,
                    "data": {
                        "application/vnd.dataresource+json": {
                            "schema": {
                                "fields": [
                                    {
                                        "name": "USERNEV"
                                    },
                                    {
                                        "name": "NEV"
                                    },
                                    {
                                        "name": "EMAIL"
                                    },
                                    {
                                        "name": "SZAML_CIM"
                                    },
                                    {
                                        "name": "SZUL_DAT"
                                    },
                                    {
                                        "name": "(No column name)"
                                    },
                                    {
                                        "name": "(No column name)"
                                    }
                                ]
                            },
                            "data": [
                                {
                                    "USERNEV": "anett3",
                                    "NEV": "Pivarcsi Anett",
                                    "EMAIL": "anett.pivarcsi@mail.hu",
                                    "SZAML_CIM": "1149 Budapest Fő út 60.",
                                    "SZUL_DAT": "1967-01-03",
                                    "(No column name)": "57"
                                },
                                {
                                    "USERNEV": "gusztav",
                                    "NEV": "Bárci Gusztáv",
                                    "EMAIL": "gusztav@gmail.com",
                                    "SZAML_CIM": "3643 Dédestapolcsány Endrődi Sándor utca 47.",
                                    "SZUL_DAT": "1967-02-25",
                                    "(No column name)": "57"
                                },
                                {
                                    "USERNEV": "agnes3",
                                    "NEV": "Hartyánszky Ágnes",
                                    "EMAIL": "agnes3@gmail.com",
                                    "SZAML_CIM": "6430 Bácsalmás Posta köz 2.",
                                    "SZUL_DAT": "1967-04-11",
                                    "(No column name)": "57"
                                },
                                {
                                    "USERNEV": "eva",
                                    "NEV": "Enyedi Éva",
                                    "EMAIL": "eva@gmail.com",
                                    "SZAML_CIM": "4231 Bököny Petőfi utca 8.",
                                    "SZUL_DAT": "1967-06-30",
                                    "(No column name)": "57"
                                },
                                {
                                    "USERNEV": "ROBERTI",
                                    "NEV": "Iván Róbert",
                                    "EMAIL": "róbert.iván@mail.hu",
                                    "SZAML_CIM": "2377 Örkény Petőfi Sándor utca 3.",
                                    "SZUL_DAT": "1967-07-02",
                                    "(No column name)": "57"
                                },
                                {
                                    "USERNEV": "SZILARDS",
                                    "NEV": "Szalai Szilárd",
                                    "EMAIL": "szilárd.szalai@mail.hu",
                                    "SZAML_CIM": "1077 Budapest Fő út 18.",
                                    "SZUL_DAT": "1967-09-28",
                                    "(No column name)": "57"
                                },
                                {
                                    "USERNEV": "laszlo1",
                                    "NEV": "Farkas László",
                                    "EMAIL": "lászló.farkas@mail.hu",
                                    "SZAML_CIM": "5200 Törökszentmiklós Rendeki utca 21.",
                                    "SZUL_DAT": "1967-10-30",
                                    "(No column name)": "57"
                                },
                                {
                                    "USERNEV": "janos3",
                                    "NEV": "Harangozó János",
                                    "EMAIL": "janos3@gmail.com",
                                    "SZAML_CIM": "8700 Marcali Petőfi Sándor tér 1.",
                                    "SZUL_DAT": "1967-11-02",
                                    "(No column name)": "57"
                                },
                                {
                                    "USERNEV": "katalin",
                                    "NEV": "Horváth Katalin",
                                    "EMAIL": "katalin.horváth@mail.hu",
                                    "SZAML_CIM": "2424 Előszállás Rákóczi út 200.",
                                    "SZUL_DAT": "1968-01-01",
                                    "(No column name)": "57"
                                },
                                {
                                    "USERNEV": "pal",
                                    "NEV": "Barabás Pál",
                                    "EMAIL": "pál.barabás@mail.hu",
                                    "SZAML_CIM": "1183 Budapest Szolnoki út 8.",
                                    "SZUL_DAT": "1968-02-06",
                                    "(No column name)": "56"
                                },
                                {
                                    "USERNEV": "roland",
                                    "NEV": "Tóth Roland",
                                    "EMAIL": "roland@gmail.com",
                                    "SZAML_CIM": "2000 Szentendre Fő út 169.",
                                    "SZUL_DAT": "1968-03-21",
                                    "(No column name)": "56"
                                },
                                {
                                    "USERNEV": "andi",
                                    "NEV": "Maródi Andrea",
                                    "EMAIL": "andrea.maródi@mail.hu",
                                    "SZAML_CIM": "5465 Cserkeszőlő Árpád utca 4.",
                                    "SZUL_DAT": "1968-05-07",
                                    "(No column name)": "56"
                                },
                                {
                                    "USERNEV": "KRISZTIANM",
                                    "NEV": "Mogyródi Krisztián",
                                    "EMAIL": "KRISZTIANM@gmail.com",
                                    "SZAML_CIM": "9155 Lébény Jászai tér 21.",
                                    "SZUL_DAT": "1968-05-27",
                                    "(No column name)": "56"
                                },
                                {
                                    "USERNEV": "kata",
                                    "NEV": "Gondos Katalin",
                                    "EMAIL": "katalin.gondos@mail.hu",
                                    "SZAML_CIM": "8237 Tihany Kossuth Lajos utca 6.",
                                    "SZUL_DAT": "1968-06-22",
                                    "(No column name)": "56"
                                },
                                {
                                    "USERNEV": "NANDORF",
                                    "NEV": "Fő Nándor",
                                    "EMAIL": "nándor.fő@mail.hu",
                                    "SZAML_CIM": "5920 Csorvás Bécsi utca 82.",
                                    "SZUL_DAT": "1968-11-12",
                                    "(No column name)": "55"
                                },
                                {
                                    "USERNEV": "PETERB",
                                    "NEV": "Berendi Péter",
                                    "EMAIL": "péter.berendi@mail.hu",
                                    "SZAML_CIM": "3980 Sátoraljaújhely Vasút utca 4/10.",
                                    "SZUL_DAT": "1969-01-01",
                                    "(No column name)": "55"
                                },
                                {
                                    "USERNEV": "LASZLON",
                                    "NEV": "Nagy László",
                                    "EMAIL": "lászló.nagy@mail.hu",
                                    "SZAML_CIM": "1173 Budapest Jászai tér 21.",
                                    "SZUL_DAT": "1969-04-12",
                                    "(No column name)": "55"
                                },
                                {
                                    "USERNEV": "gabriella10",
                                    "NEV": "Vida Gabriella",
                                    "EMAIL": "gabriella10@gmail.com",
                                    "SZAML_CIM": "2484 Agárd Arany János utca 3.",
                                    "SZUL_DAT": "1969-06-18",
                                    "(No column name)": "55"
                                },
                                {
                                    "USERNEV": "LASZLOA",
                                    "NEV": "Antal László",
                                    "EMAIL": "lászló.antal@mail.hu",
                                    "SZAML_CIM": "2484 Agárd Bécsi utca 82.",
                                    "SZUL_DAT": "1969-06-29",
                                    "(No column name)": "55"
                                },
                                {
                                    "USERNEV": "daniel1",
                                    "NEV": "Keszler Dániel",
                                    "EMAIL": "dániel.keszler@mail.hu",
                                    "SZAML_CIM": "3580 Tiszaújváros Kossuth Lajos utca 6.",
                                    "SZUL_DAT": "1969-07-16",
                                    "(No column name)": "55"
                                },
                                {
                                    "USERNEV": "norbert",
                                    "NEV": "Szűcs Norbert",
                                    "EMAIL": "norbert@gmail.com",
                                    "SZAML_CIM": "5071 Besenyszög Győri utca 12.",
                                    "SZUL_DAT": "1969-07-17",
                                    "(No column name)": "55"
                                },
                                {
                                    "USERNEV": "krisztina1",
                                    "NEV": "Bori Krisztina",
                                    "EMAIL": "krisztina.bori@mail.hu",
                                    "SZAML_CIM": "2115 Vácszentlászló Fő utca 47.",
                                    "SZUL_DAT": "1969-10-13",
                                    "(No column name)": "55"
                                },
                                {
                                    "USERNEV": "reka4",
                                    "NEV": "Szikszai Réka",
                                    "EMAIL": "réka.szikszai@mail.hu",
                                    "SZAML_CIM": "8254 Kővágóörs Templom utca 73.",
                                    "SZUL_DAT": "1969-11-27",
                                    "(No column name)": "54"
                                },
                                {
                                    "USERNEV": "sandor",
                                    "NEV": "Karasz Sándor",
                                    "EMAIL": "sandor@gmail.com",
                                    "SZAML_CIM": "8283 Káptalantóti Kossuth Lajos utca 1/a.",
                                    "SZUL_DAT": "1970-01-27",
                                    "(No column name)": "54"
                                },
                                {
                                    "USERNEV": "adam3",
                                    "NEV": "Barkóci Ádám",
                                    "EMAIL": "adam3@gmail.com",
                                    "SZAML_CIM": "3910 Tokaj Dózsa György utca 37.",
                                    "SZUL_DAT": "1970-06-07",
                                    "(No column name)": "54"
                                },
                                {
                                    "USERNEV": "krisztian4",
                                    "NEV": "Czérna Krisztián",
                                    "EMAIL": "krisztián.czérna@mail.hu",
                                    "SZAML_CIM": "1107 Budapest Dózsa György utca 37.",
                                    "SZUL_DAT": "1970-08-01",
                                    "(No column name)": "54"
                                },
                                {
                                    "USERNEV": "david1",
                                    "NEV": "Sobják Dávid",
                                    "EMAIL": "david1@gmail.com",
                                    "SZAML_CIM": "5083 Kengyel Arany János utca 3.",
                                    "SZUL_DAT": "1970-08-16",
                                    "(No column name)": "54"
                                },
                                {
                                    "USERNEV": "szilvia1",
                                    "NEV": "Tari Szilvia",
                                    "EMAIL": "szilvia.tari@mail.hu",
                                    "SZAML_CIM": "6080 Szabadszállás Bécsi utca 82.",
                                    "SZUL_DAT": "1971-03-09",
                                    "(No column name)": "53"
                                },
                                {
                                    "USERNEV": "anita",
                                    "NEV": "Hamvay-Kovács Anita",
                                    "EMAIL": "anita.hamvay-kovács@mail.hu",
                                    "SZAML_CIM": "7220 Sarkad Táncsics utca 19.",
                                    "SZUL_DAT": "1971-03-20",
                                    "(No column name)": "53"
                                },
                                {
                                    "USERNEV": "andras3",
                                    "NEV": "Vígh András",
                                    "EMAIL": "andrás.vígh@mail.hu",
                                    "SZAML_CIM": "1118 Budapest Arany János utca 1.",
                                    "SZUL_DAT": "1971-04-02",
                                    "(No column name)": "53"
                                },
                                {
                                    "USERNEV": "aron2",
                                    "NEV": "Jakab Áron",
                                    "EMAIL": "aron2@gmail.com",
                                    "SZAML_CIM": "7133 Fadd Bajcsy-Zsilinszky utca 4.",
                                    "SZUL_DAT": "1971-04-26",
                                    "(No column name)": "53"
                                },
                                {
                                    "USERNEV": "eva2",
                                    "NEV": "Perlinger Éva",
                                    "EMAIL": "eva2@gmail.com",
                                    "SZAML_CIM": "9653 Répcelak Bécsi utca 82.",
                                    "SZUL_DAT": "1971-08-19",
                                    "(No column name)": "52"
                                },
                                {
                                    "USERNEV": "nikoletta4",
                                    "NEV": "Kő Nikoletta",
                                    "EMAIL": "nikoletta4@gmail.com",
                                    "SZAML_CIM": "5537 Zsadány Fő út 18.",
                                    "SZUL_DAT": "1972-01-10",
                                    "(No column name)": "52"
                                },
                                {
                                    "USERNEV": "BEATRIXK",
                                    "NEV": "Kerényi Beatrix",
                                    "EMAIL": "beatrix.kerényi@mail.hu",
                                    "SZAML_CIM": "7396 Magyarszék Kossuth Lajos utca 47/b.",
                                    "SZUL_DAT": "1972-04-06",
                                    "(No column name)": "52"
                                },
                                {
                                    "USERNEV": "ROBERTP",
                                    "NEV": "Pásztor Róbert",
                                    "EMAIL": "ROBERTP@gmail.com",
                                    "SZAML_CIM": "5137 Jászkisér Ady Endre út 27.",
                                    "SZUL_DAT": "1972-05-16",
                                    "(No column name)": "52"
                                },
                                {
                                    "USERNEV": "matyas2",
                                    "NEV": "Botka Mátyás",
                                    "EMAIL": "matyas2@gmail.com",
                                    "SZAML_CIM": "2700 Cegléd Kossuth Lajos utca 6.",
                                    "SZUL_DAT": "1972-07-07",
                                    "(No column name)": "51"
                                },
                                {
                                    "USERNEV": "sara",
                                    "NEV": "Farkas Sára",
                                    "EMAIL": "sára.farkas@mail.hu",
                                    "SZAML_CIM": "5940 Tótkomlós Felszabadulás utca 32.",
                                    "SZUL_DAT": "1973-04-05",
                                    "(No column name)": "51"
                                },
                                {
                                    "USERNEV": "aniko",
                                    "NEV": "Tóth Anikó",
                                    "EMAIL": "aniko@gmail.com",
                                    "SZAML_CIM": "2085 Pilisvörösvár Deák Ferenc út 5.",
                                    "SZUL_DAT": "1973-06-03",
                                    "(No column name)": "51"
                                },
                                {
                                    "USERNEV": "BENCEB",
                                    "NEV": "Bajusz Bence",
                                    "EMAIL": "bence.bajusz@mail.hu",
                                    "SZAML_CIM": "8391 Sármellék Fő utca 56.",
                                    "SZUL_DAT": "1973-06-21",
                                    "(No column name)": "51"
                                },
                                {
                                    "USERNEV": "gabor1",
                                    "NEV": "Köves Gábor",
                                    "EMAIL": "gabor1@gmail.com",
                                    "SZAML_CIM": "6762 Sándorfalva Árpád utca 23.",
                                    "SZUL_DAT": "1973-07-15",
                                    "(No column name)": "51"
                                },
                                {
                                    "USERNEV": "david",
                                    "NEV": "Ambrus Dávid",
                                    "EMAIL": "david@gmail.com",
                                    "SZAML_CIM": "1149 Budapest Fő út 18.",
                                    "SZUL_DAT": "1974-02-11",
                                    "(No column name)": "50"
                                },
                                {
                                    "USERNEV": "tunde",
                                    "NEV": "Turcsik Tünde",
                                    "EMAIL": "tunde@gmail.com",
                                    "SZAML_CIM": "7130 Tolna Fő út 122.",
                                    "SZUL_DAT": "1974-02-12",
                                    "(No column name)": "50"
                                },
                                {
                                    "USERNEV": "GYONGYIK",
                                    "NEV": "Kornseé Gyöngyi",
                                    "EMAIL": "gyöngyi.kornseé@mail.hu",
                                    "SZAML_CIM": "8800 Nagykanizsa Fő út 60.",
                                    "SZUL_DAT": "1974-06-07",
                                    "(No column name)": "50"
                                },
                                {
                                    "USERNEV": "MONIKAM",
                                    "NEV": "Mohos Mónika",
                                    "EMAIL": "mónika.mohos@mail.hu",
                                    "SZAML_CIM": "2241 Sülysáp Baracsi László utca 14.",
                                    "SZUL_DAT": "1974-10-01",
                                    "(No column name)": "50"
                                },
                                {
                                    "USERNEV": "JANOSG",
                                    "NEV": "Giliga János",
                                    "EMAIL": "JANOSG@gmail.com",
                                    "SZAML_CIM": "3300 Eger Deák Ferenc út 5.",
                                    "SZUL_DAT": "1975-01-03",
                                    "(No column name)": "50"
                                },
                                {
                                    "USERNEV": "laszlo2",
                                    "NEV": "Móra László",
                                    "EMAIL": "lászló.móra@mail.hu",
                                    "SZAML_CIM": "9970 Szentgotthárd Petőfi utca 1/2.",
                                    "SZUL_DAT": "1975-02-19",
                                    "(No column name)": "50"
                                },
                                {
                                    "USERNEV": "denes",
                                    "NEV": "Tömböly Dénes",
                                    "EMAIL": "denes@gmail.com",
                                    "SZAML_CIM": "2400 Dunaújváros Kossuth út 39.",
                                    "SZUL_DAT": "1975-03-14",
                                    "(No column name)": "49"
                                },
                                {
                                    "USERNEV": "MATYASS",
                                    "NEV": "Szilágyi Mátyás",
                                    "EMAIL": "mátyás.szilágyi@mail.hu",
                                    "SZAML_CIM": "9023 Győr Kossuth Lajos utca 6.",
                                    "SZUL_DAT": "1975-03-22",
                                    "(No column name)": "49"
                                },
                                {
                                    "USERNEV": "katka",
                                    "NEV": "Kovács Katalin",
                                    "EMAIL": "katalin.kovács@mail.hu",
                                    "SZAML_CIM": "8254 Kővágóörs Petőfi utca 22.",
                                    "SZUL_DAT": "1975-03-31",
                                    "(No column name)": "49"
                                },
                                {
                                    "USERNEV": "JOZSEFG",
                                    "NEV": "Gyuris József",
                                    "EMAIL": "józsef.gyuris@mail.hu",
                                    "SZAML_CIM": "2660 Balassagyarmat Petőfi utca 1/2.",
                                    "SZUL_DAT": "1975-05-26",
                                    "(No column name)": "49"
                                },
                                {
                                    "USERNEV": "norbert5",
                                    "NEV": "Béres Norbert",
                                    "EMAIL": "norbert5@gmail.com",
                                    "SZAML_CIM": "8640 Fonyód Bajcsy-Zsilinszky utca 4.",
                                    "SZUL_DAT": "1975-07-27",
                                    "(No column name)": "49"
                                },
                                {
                                    "USERNEV": "timea2",
                                    "NEV": "Dusha Tímea",
                                    "EMAIL": "tímea.dusha@mail.hu",
                                    "SZAML_CIM": "5920 Csorvás Kossuth utca 8.",
                                    "SZUL_DAT": "1975-08-22",
                                    "(No column name)": "49"
                                },
                                {
                                    "USERNEV": "kornel4",
                                    "NEV": "Lukács Kornél",
                                    "EMAIL": "kornél.lukács@mail.hu",
                                    "SZAML_CIM": "2053 Herceghalom Bécsi utca 82.",
                                    "SZUL_DAT": "1975-09-30",
                                    "(No column name)": "49"
                                },
                                {
                                    "USERNEV": "attila4",
                                    "NEV": "Baróti Attila",
                                    "EMAIL": "attila.baróti@mail.hu",
                                    "SZAML_CIM": "7149 Báta Arany János utca 3.",
                                    "SZUL_DAT": "1975-11-06",
                                    "(No column name)": "49"
                                },
                                {
                                    "USERNEV": "peter2",
                                    "NEV": "Bozsó Péter",
                                    "EMAIL": "peter2@gmail.com",
                                    "SZAML_CIM": "4800 Vásárosnamény Zombori út 2/A",
                                    "SZUL_DAT": "1976-01-26",
                                    "(No column name)": "48"
                                },
                                {
                                    "USERNEV": "peter1",
                                    "NEV": "Kozma Péter",
                                    "EMAIL": "peter1@gmail.com",
                                    "SZAML_CIM": "6913 Csanádpalota Központi telep 3.",
                                    "SZUL_DAT": "1976-03-18",
                                    "(No column name)": "48"
                                },
                                {
                                    "USERNEV": "imre1",
                                    "NEV": "Papp Imre",
                                    "EMAIL": "imre.papp@mail.hu",
                                    "SZAML_CIM": "1077 Budapest Szolnoki út 8.",
                                    "SZUL_DAT": "1976-06-25",
                                    "(No column name)": "48"
                                },
                                {
                                    "USERNEV": "adam4",
                                    "NEV": "Bieniek Ádám",
                                    "EMAIL": "ádám.bieniek@mail.hu",
                                    "SZAML_CIM": "8630 Balatonboglár Juhászföldi út 1.",
                                    "SZUL_DAT": "1976-08-01",
                                    "(No column name)": "48"
                                },
                                {
                                    "USERNEV": "balu",
                                    "NEV": "Endresz Bálint",
                                    "EMAIL": "bálint.endresz@mail.hu",
                                    "SZAML_CIM": "3973 Cigánd Fő út 169.",
                                    "SZUL_DAT": "1976-08-01",
                                    "(No column name)": "48"
                                },
                                {
                                    "USERNEV": "debora",
                                    "NEV": "Barna Debóra",
                                    "EMAIL": "debóra.barna@mail.hu",
                                    "SZAML_CIM": "1155 Budapest Fő út 169.",
                                    "SZUL_DAT": "1976-10-14",
                                    "(No column name)": "48"
                                },
                                {
                                    "USERNEV": "ZSUZSAV",
                                    "NEV": "Vajda Zsuzsa",
                                    "EMAIL": "zsuzsa.vajda@mail.hu",
                                    "SZAML_CIM": "6786 Ruzsa Kossuth utca 77.",
                                    "SZUL_DAT": "1976-12-11",
                                    "(No column name)": "47"
                                },
                                {
                                    "USERNEV": "robert2",
                                    "NEV": "Patay Róbert",
                                    "EMAIL": "robert2@gmail.com",
                                    "SZAML_CIM": "2370 Dabas Rákóczi utca 21.",
                                    "SZUL_DAT": "1977-01-08",
                                    "(No column name)": "47"
                                },
                                {
                                    "USERNEV": "ZOLTANP",
                                    "NEV": "Pintér Zoltán",
                                    "EMAIL": "zoltán.pintér@mail.hu",
                                    "SZAML_CIM": "6050 Lajosmizse Fő út 18.",
                                    "SZUL_DAT": "1977-06-07",
                                    "(No column name)": "47"
                                },
                                {
                                    "USERNEV": "ANNAMARIAR",
                                    "NEV": "Regős Annamária",
                                    "EMAIL": "ANNAMARIAR@gmail.com",
                                    "SZAML_CIM": "8283 Káptalantóti Petőfi Sándor tér 1.",
                                    "SZUL_DAT": "1977-09-26",
                                    "(No column name)": "47"
                                },
                                {
                                    "USERNEV": "bertalan",
                                    "NEV": "Csiger Bertalan",
                                    "EMAIL": "bertalan@gmail.com",
                                    "SZAML_CIM": "1192 Budapest Fő út 169.",
                                    "SZUL_DAT": "1977-10-15",
                                    "(No column name)": "47"
                                },
                                {
                                    "USERNEV": "andras21",
                                    "NEV": "Molnár András",
                                    "EMAIL": "andrás.molnár@mail.hu",
                                    "SZAML_CIM": "7900 Szigetvár Rákóczi utca 67.",
                                    "SZUL_DAT": "1977-11-16",
                                    "(No column name)": "46"
                                },
                                {
                                    "USERNEV": "aniko4",
                                    "NEV": "Böröcz Anikó",
                                    "EMAIL": "aniko4@gmail.com",
                                    "SZAML_CIM": "2484 Agárd Petőfi Sándor tér 1.",
                                    "SZUL_DAT": "1978-03-26",
                                    "(No column name)": "46"
                                },
                                {
                                    "USERNEV": "kriszti",
                                    "NEV": "Horváth Krisztina",
                                    "EMAIL": "kriszti@gmail.com",
                                    "SZAML_CIM": "6060 Tiszakécske Árpád utca 4.",
                                    "SZUL_DAT": "1978-06-12",
                                    "(No column name)": "46"
                                },
                                {
                                    "USERNEV": "ESZTERE",
                                    "NEV": "Érsek Eszter",
                                    "EMAIL": "eszter.érsek@mail.hu",
                                    "SZAML_CIM": "6785 Pusztamérges Kossuth Lajos utca 6.",
                                    "SZUL_DAT": "1978-08-28",
                                    "(No column name)": "46"
                                },
                                {
                                    "USERNEV": "jozsef2",
                                    "NEV": "Vajda József",
                                    "EMAIL": "józsef.vajda@mail.hu",
                                    "SZAML_CIM": "6700 Szeged Baracsi László utca 14.",
                                    "SZUL_DAT": "1978-09-04",
                                    "(No column name)": "46"
                                },
                                {
                                    "USERNEV": "brigitta",
                                    "NEV": "Székely Brigitta",
                                    "EMAIL": "brigitta.székely@mail.hu",
                                    "SZAML_CIM": "2462 Martonvásár Fő utca 47.",
                                    "SZUL_DAT": "1978-09-13",
                                    "(No column name)": "46"
                                },
                                {
                                    "USERNEV": "lajos",
                                    "NEV": "Kiss Lajos",
                                    "EMAIL": "lajos.kiss@mail.hu",
                                    "SZAML_CIM": "1077 Budapest Dob utca 1",
                                    "SZUL_DAT": "1978-10-31",
                                    "(No column name)": "46"
                                },
                                {
                                    "USERNEV": "daniel",
                                    "NEV": "Rácz Dániel",
                                    "EMAIL": "dániel.rácz@mail.hu",
                                    "SZAML_CIM": "9181 Kimle Szabadság tér 9.",
                                    "SZUL_DAT": "1978-11-28",
                                    "(No column name)": "46"
                                },
                                {
                                    "USERNEV": "MIKLOSB",
                                    "NEV": "Balla Miklós",
                                    "EMAIL": "miklós.balla@mail.hu",
                                    "SZAML_CIM": "4060 Balmazújváros Szent István utca 2.",
                                    "SZUL_DAT": "1979-02-16",
                                    "(No column name)": "45"
                                },
                                {
                                    "USERNEV": "zsuzsa3",
                                    "NEV": "Varsányi Zsuzsa",
                                    "EMAIL": "zsuzsa.varsányi@mail.hu",
                                    "SZAML_CIM": "8600 Siófok Árpád utca 4.",
                                    "SZUL_DAT": "1979-03-06",
                                    "(No column name)": "45"
                                },
                                {
                                    "USERNEV": "krisztina",
                                    "NEV": "Szedlár Krisztina",
                                    "EMAIL": "krisztina@gmail.com",
                                    "SZAML_CIM": "6646 Tömörkény Arany János utca 1.",
                                    "SZUL_DAT": "1979-05-10",
                                    "(No column name)": "45"
                                },
                                {
                                    "USERNEV": "MIHALYJ",
                                    "NEV": "Juhász Mihály",
                                    "EMAIL": "mihály.juhász@mail.hu",
                                    "SZAML_CIM": "6786 Ruzsa Rákóczi utca 1.",
                                    "SZUL_DAT": "1979-10-12",
                                    "(No column name)": "45"
                                },
                                {
                                    "USERNEV": "zoltan",
                                    "NEV": "Fodor Zoltán",
                                    "EMAIL": "zoltán.fodor@mail.hu",
                                    "SZAML_CIM": "3441 Mezőkeresztes Fő utca 23.",
                                    "SZUL_DAT": "1979-11-25",
                                    "(No column name)": "45"
                                },
                                {
                                    "USERNEV": "agnes",
                                    "NEV": "Lengyel Ágnes",
                                    "EMAIL": "agnes@gmail.com",
                                    "SZAML_CIM": "5200 Törökszentmiklós Deák Ferenc út 5.",
                                    "SZUL_DAT": "1979-12-10",
                                    "(No column name)": "45"
                                },
                                {
                                    "USERNEV": "attila",
                                    "NEV": "Csóti Attila",
                                    "EMAIL": "attila@gmail.com",
                                    "SZAML_CIM": "3000 Hatvan Bajcsy-Zsilinszky utca 4.",
                                    "SZUL_DAT": "1979-12-25",
                                    "(No column name)": "44"
                                },
                                {
                                    "USERNEV": "GYORGYO",
                                    "NEV": "Oroszi György",
                                    "EMAIL": "GYORGYO@gmail.com",
                                    "SZAML_CIM": "7220 Sarkad Dózsa György u. 1.",
                                    "SZUL_DAT": "1980-03-23",
                                    "(No column name)": "44"
                                },
                                {
                                    "USERNEV": "SZABOLCSM",
                                    "NEV": "Miklós Szabolcs",
                                    "EMAIL": "szabolcs.miklós@mail.hu",
                                    "SZAML_CIM": "1102 Budapest Fő út 169.",
                                    "SZUL_DAT": "1980-08-11",
                                    "(No column name)": "44"
                                },
                                {
                                    "USERNEV": "tamara2",
                                    "NEV": "Miklós Tamara",
                                    "EMAIL": "tamara.miklós@mail.hu",
                                    "SZAML_CIM": "3910 Tokaj Kossuth út 39.",
                                    "SZUL_DAT": "1980-08-11",
                                    "(No column name)": "44"
                                },
                                {
                                    "USERNEV": "ANDRASN",
                                    "NEV": "Nagy András",
                                    "EMAIL": "andrás.nagy@mail.hu",
                                    "SZAML_CIM": "6500 Baja Fő út 169.",
                                    "SZUL_DAT": "1980-09-05",
                                    "(No column name)": "44"
                                },
                                {
                                    "USERNEV": "zsuzsa",
                                    "NEV": "Pusztai Zsuzsanna",
                                    "EMAIL": "zsuzsanna@gmail.com",
                                    "SZAML_CIM": "6783 Ásotthalom Badacsonyi utca 12.",
                                    "SZUL_DAT": "1980-09-17",
                                    "(No column name)": "44"
                                },
                                {
                                    "USERNEV": "aladar",
                                    "NEV": "Dunai Aladár",
                                    "EMAIL": "aladár.dunai@mail.hu",
                                    "SZAML_CIM": "5931 Nagyszénás Árpád utca 23.",
                                    "SZUL_DAT": "1980-11-01",
                                    "(No column name)": "43"
                                },
                                {
                                    "USERNEV": "EVAV",
                                    "NEV": "Viktor Éva",
                                    "EMAIL": "EVAV@gmail.com",
                                    "SZAML_CIM": "6913 Csanádpalota Arany János utca 3.",
                                    "SZUL_DAT": "1980-12-26",
                                    "(No column name)": "43"
                                },
                                {
                                    "USERNEV": "BEATRIXS",
                                    "NEV": "Szekendi Beatrix",
                                    "EMAIL": "beatrix.szekendi@mail.hu",
                                    "SZAML_CIM": "4060 Balmazújváros Jászai tér 21.",
                                    "SZUL_DAT": "1981-04-06",
                                    "(No column name)": "43"
                                },
                                {
                                    "USERNEV": "andrea4",
                                    "NEV": "Neizer Andrea",
                                    "EMAIL": "andrea4@gmail.com",
                                    "SZAML_CIM": "1124 Budapest Kiss u. 8.",
                                    "SZUL_DAT": "1981-05-17",
                                    "(No column name)": "43"
                                },
                                {
                                    "USERNEV": "nikolett3",
                                    "NEV": "Horváth Nikolett",
                                    "EMAIL": "nikolett3@gmail.com",
                                    "SZAML_CIM": "1072 Budapest Arany János utca 1.",
                                    "SZUL_DAT": "1981-09-29",
                                    "(No column name)": "42"
                                },
                                {
                                    "USERNEV": "AGNESH",
                                    "NEV": "Horváth Ágnes",
                                    "EMAIL": "AGNESH@gmail.com",
                                    "SZAML_CIM": "8200 Veszprém Rákóczi utca 21.",
                                    "SZUL_DAT": "1981-12-24",
                                    "(No column name)": "42"
                                },
                                {
                                    "USERNEV": "klaudia2",
                                    "NEV": "Bakó Klaudia",
                                    "EMAIL": "klaudia.bakó@mail.hu",
                                    "SZAML_CIM": "8254 Kővágóörs Kossuth Lajos utca 6.",
                                    "SZUL_DAT": "1982-04-16",
                                    "(No column name)": "42"
                                },
                                {
                                    "USERNEV": "akos",
                                    "NEV": "Bíró Ákos",
                                    "EMAIL": "ákos.bíró@mail.hu",
                                    "SZAML_CIM": "9023 Győr Kossuth Lajos utca 47/b.",
                                    "SZUL_DAT": "1982-04-24",
                                    "(No column name)": "42"
                                },
                                {
                                    "USERNEV": "attila1",
                                    "NEV": "Gulyás Attila",
                                    "EMAIL": "attila.gulyás@mail.hu",
                                    "SZAML_CIM": "3881 Abaújszántó Szolnoki út 8.",
                                    "SZUL_DAT": "1982-08-16",
                                    "(No column name)": "42"
                                },
                                {
                                    "USERNEV": "gabriella1",
                                    "NEV": "Nagy Gabriella",
                                    "EMAIL": "gabriella1@gmail.com",
                                    "SZAML_CIM": "1077 Budapest Dob utca 1",
                                    "SZUL_DAT": "1982-11-01",
                                    "(No column name)": "41"
                                },
                                {
                                    "USERNEV": "georgij",
                                    "NEV": "Nyíri Georgij",
                                    "EMAIL": "georgij.nyíri@mail.hu",
                                    "SZAML_CIM": "8391 Sármellék Grassalkovich út 10.",
                                    "SZUL_DAT": "1983-02-23",
                                    "(No column name)": "41"
                                },
                                {
                                    "USERNEV": "norbert4",
                                    "NEV": "Mile Norbert",
                                    "EMAIL": "norbert4@gmail.com",
                                    "SZAML_CIM": "3973 Cigánd Bajcsy-Zsilinszky utca 4.",
                                    "SZUL_DAT": "1983-06-15",
                                    "(No column name)": "41"
                                },
                                {
                                    "USERNEV": "peter3",
                                    "NEV": "Szalai Péter",
                                    "EMAIL": "peter3@gmail.com",
                                    "SZAML_CIM": "1155 Budapest Arany János utca 3.",
                                    "SZUL_DAT": "1983-07-18",
                                    "(No column name)": "41"
                                },
                                {
                                    "USERNEV": "veronika4",
                                    "NEV": "Tankó Veronika",
                                    "EMAIL": "veronika4@gmail.com",
                                    "SZAML_CIM": "6412 Balotaszállás Rendeki utca 21.",
                                    "SZUL_DAT": "1983-08-28",
                                    "(No column name)": "41"
                                },
                                {
                                    "USERNEV": "ZSOLTJ",
                                    "NEV": "Józsa Zsolt",
                                    "EMAIL": "ZSOLTJ@gmail.com",
                                    "SZAML_CIM": "8315 Gyenesdiás Bajcsy-Zsilinszky utca 4.",
                                    "SZUL_DAT": "1983-09-29",
                                    "(No column name)": "41"
                                },
                                {
                                    "USERNEV": "ferenc1",
                                    "NEV": "Orosz Ferenc",
                                    "EMAIL": "ferenc.orosz@mail.hu",
                                    "SZAML_CIM": "5061 Tiszasüly Arany János utca 3.",
                                    "SZUL_DAT": "1983-10-08",
                                    "(No column name)": "41"
                                },
                                {
                                    "USERNEV": "zsofi1",
                                    "NEV": "Molnár Zsófi",
                                    "EMAIL": "zsofi1@gmail.com",
                                    "SZAML_CIM": "2730 Albertirsa Árpád utca 23.",
                                    "SZUL_DAT": "1983-11-17",
                                    "(No column name)": "41"
                                },
                                {
                                    "USERNEV": "IBOLYAA",
                                    "NEV": "Andor Ibolya",
                                    "EMAIL": "ibolya.andor@mail.hu",
                                    "SZAML_CIM": "9023 Győr Posta köz 2.",
                                    "SZUL_DAT": "1983-11-27",
                                    "(No column name)": "41"
                                },
                                {
                                    "USERNEV": "kristof4",
                                    "NEV": "Poprádi Kristóf",
                                    "EMAIL": "kristof4@gmail.com",
                                    "SZAML_CIM": "8220 Balatonalmádi Mészáros utca 7.",
                                    "SZUL_DAT": "1984-01-15",
                                    "(No column name)": "40"
                                },
                                {
                                    "USERNEV": "csongor3",
                                    "NEV": "Nagymihály Csongor",
                                    "EMAIL": "csongor.nagymihály@mail.hu",
                                    "SZAML_CIM": "9181 Kimle Deák Ferenc út 5.",
                                    "SZUL_DAT": "1984-03-05",
                                    "(No column name)": "40"
                                },
                                {
                                    "USERNEV": "andras4",
                                    "NEV": "Back András",
                                    "EMAIL": "andras4@gmail.com",
                                    "SZAML_CIM": "3783 Edelény Fő út 169.",
                                    "SZUL_DAT": "1984-04-07",
                                    "(No column name)": "40"
                                },
                                {
                                    "USERNEV": "edit",
                                    "NEV": "Bittmann Edit",
                                    "EMAIL": "edit.bittmann@mail.hu",
                                    "SZAML_CIM": "6077 Orgovány Fő utca 60.",
                                    "SZUL_DAT": "1984-04-20",
                                    "(No column name)": "40"
                                },
                                {
                                    "USERNEV": "tamas",
                                    "NEV": "Antal Tamás",
                                    "EMAIL": "tamás.antal@mail.hu",
                                    "SZAML_CIM": "4440 Tiszavasvári Posta köz 2.",
                                    "SZUL_DAT": "1984-09-05",
                                    "(No column name)": "40"
                                },
                                {
                                    "USERNEV": "JANOSP",
                                    "NEV": "Pálinkás János",
                                    "EMAIL": "JANOSP@gmail.com",
                                    "SZAML_CIM": "5920 Csorvás Padragi út 158.",
                                    "SZUL_DAT": "1984-10-12",
                                    "(No column name)": "40"
                                },
                                {
                                    "USERNEV": "bernadett1",
                                    "NEV": "Simon Bernadett",
                                    "EMAIL": "bernadett1@gmail.com",
                                    "SZAML_CIM": "2300 Ráckeve Fő utca 108.",
                                    "SZUL_DAT": "1984-10-13",
                                    "(No column name)": "40"
                                },
                                {
                                    "USERNEV": "balazs2",
                                    "NEV": "Szűcs Balázs",
                                    "EMAIL": "balázs.szűcs@mail.hu",
                                    "SZAML_CIM": "3170 Szécsény Szabadság utca 95.",
                                    "SZUL_DAT": "1984-10-31",
                                    "(No column name)": "39"
                                },
                                {
                                    "USERNEV": "tibor2",
                                    "NEV": "Dániel Tibor",
                                    "EMAIL": "tibor2@gmail.com",
                                    "SZAML_CIM": "6646 Tömörkény Árpád utca 23.",
                                    "SZUL_DAT": "1985-02-02",
                                    "(No column name)": "39"
                                },
                                {
                                    "USERNEV": "julia4",
                                    "NEV": "Nagy Júlia",
                                    "EMAIL": "julia4@gmail.com",
                                    "SZAML_CIM": "7000 Sárbogárd Jászai tér 21.",
                                    "SZUL_DAT": "1985-08-11",
                                    "(No column name)": "39"
                                },
                                {
                                    "USERNEV": "peter4",
                                    "NEV": "Bíró Péter",
                                    "EMAIL": "péter.bíró@mail.hu",
                                    "SZAML_CIM": "5137 Jászkisér Rákóczi utca 67.",
                                    "SZUL_DAT": "1985-09-01",
                                    "(No column name)": "39"
                                },
                                {
                                    "USERNEV": "jozsef",
                                    "NEV": "Gergely József",
                                    "EMAIL": "jozsef@gmail.com",
                                    "SZAML_CIM": "6050 Lajosmizse Fő út 18.",
                                    "SZUL_DAT": "1985-11-01",
                                    "(No column name)": "39"
                                },
                                {
                                    "USERNEV": "ZOLTANT",
                                    "NEV": "Tóth Zoltán",
                                    "EMAIL": "zoltán.tóth@mail.hu",
                                    "SZAML_CIM": "4244 Újfehértó Posta köz 2.",
                                    "SZUL_DAT": "1985-12-14",
                                    "(No column name)": "39"
                                },
                                {
                                    "USERNEV": "roland1",
                                    "NEV": "Ferencz Roland",
                                    "EMAIL": "roland.ferencz@mail.hu",
                                    "SZAML_CIM": "2424 Előszállás Fő út 169.",
                                    "SZUL_DAT": "1985-12-31",
                                    "(No column name)": "38"
                                },
                                {
                                    "USERNEV": "valentin",
                                    "NEV": "Feró Valentin",
                                    "EMAIL": "valentin.feró@mail.hu",
                                    "SZAML_CIM": "3895 Gönc Búvár utca 4.",
                                    "SZUL_DAT": "1986-01-09",
                                    "(No column name)": "38"
                                },
                                {
                                    "USERNEV": "katalin4",
                                    "NEV": "Kertész Katalin",
                                    "EMAIL": "katalin4@gmail.com",
                                    "SZAML_CIM": "2800 Tatabánya Búvár utca 4.",
                                    "SZUL_DAT": "1986-04-13",
                                    "(No column name)": "38"
                                },
                                {
                                    "USERNEV": "ARPADM",
                                    "NEV": "Móricz Árpád",
                                    "EMAIL": "árpád.móricz@mail.hu",
                                    "SZAML_CIM": "3910 Tokaj Rákóczi utca 67.",
                                    "SZUL_DAT": "1986-04-20",
                                    "(No column name)": "38"
                                },
                                {
                                    "USERNEV": "zoltan4",
                                    "NEV": "Barna Zoltán",
                                    "EMAIL": "zoltan4@gmail.com",
                                    "SZAML_CIM": "8313 Balatongyörök Jászai tér 21.",
                                    "SZUL_DAT": "1986-05-20",
                                    "(No column name)": "38"
                                },
                                {
                                    "USERNEV": "istvan",
                                    "NEV": "Soós István",
                                    "EMAIL": "istvan@gmail.com",
                                    "SZAML_CIM": "2370 Dabas Kossuth utca 27.",
                                    "SZUL_DAT": "1986-06-28",
                                    "(No column name)": "38"
                                },
                                {
                                    "USERNEV": "balazs3",
                                    "NEV": "Bakódy Balázs",
                                    "EMAIL": "balazs3@gmail.com",
                                    "SZAML_CIM": "2131 Göd Arany János utca 1.",
                                    "SZUL_DAT": "1986-09-09",
                                    "(No column name)": "38"
                                },
                                {
                                    "USERNEV": "dani",
                                    "NEV": "Vörös Dániel",
                                    "EMAIL": "daniel@gmail.com",
                                    "SZAML_CIM": "7150 Bonyhád Dózsa György u. 1.",
                                    "SZUL_DAT": "1986-10-14",
                                    "(No column name)": "38"
                                },
                                {
                                    "USERNEV": "ANDREAT",
                                    "NEV": "Tornyos Andrea",
                                    "EMAIL": "ANDREAT@gmail.com",
                                    "SZAML_CIM": "6131 Szank Bécsi utca 82.",
                                    "SZUL_DAT": "1986-11-14",
                                    "(No column name)": "38"
                                },
                                {
                                    "USERNEV": "henrik3",
                                    "NEV": "Nádudvari Henrik",
                                    "EMAIL": "henrik.nádudvari@mail.hu",
                                    "SZAML_CIM": "1077 Budapest Tanácsköztársaság tér 1.",
                                    "SZUL_DAT": "1986-12-05",
                                    "(No column name)": "37"
                                },
                                {
                                    "USERNEV": "gabor4",
                                    "NEV": "Telek Gábor",
                                    "EMAIL": "gábor.telek@mail.hu",
                                    "SZAML_CIM": "9071 Görbeháza Fő út 169.",
                                    "SZUL_DAT": "1987-03-15",
                                    "(No column name)": "37"
                                },
                                {
                                    "USERNEV": "eszter",
                                    "NEV": "Molnár Eszter",
                                    "EMAIL": "eszter.molnár@mail.hu",
                                    "SZAML_CIM": "6800 Hódmezővásárhely Fő út 77.",
                                    "SZUL_DAT": "1987-05-10",
                                    "(No column name)": "37"
                                },
                                {
                                    "USERNEV": "bence",
                                    "NEV": "Győrffy Bence",
                                    "EMAIL": "bence@gmail.com",
                                    "SZAML_CIM": "6900 Makó Árpád utca 23.",
                                    "SZUL_DAT": "1987-07-09",
                                    "(No column name)": "37"
                                },
                                {
                                    "USERNEV": "KRISZTINAG",
                                    "NEV": "Gyárfás Krisztina",
                                    "EMAIL": "KRISZTINAG@gmail.com",
                                    "SZAML_CIM": "6762 Sándorfalva Arany János utca 1.",
                                    "SZUL_DAT": "1987-09-19",
                                    "(No column name)": "36"
                                },
                                {
                                    "USERNEV": "BERNADETTO",
                                    "NEV": "Orbán Bernadett",
                                    "EMAIL": "bernadett.orbán@mail.hu",
                                    "SZAML_CIM": "5085 Rákóczifalva Arany János utca 1.",
                                    "SZUL_DAT": "1987-12-07",
                                    "(No column name)": "36"
                                },
                                {
                                    "USERNEV": "RENATAK",
                                    "NEV": "Kardos Renáta",
                                    "EMAIL": "renáta.kardos@mail.hu",
                                    "SZAML_CIM": "7086 Ozora Bécsi utca 82.",
                                    "SZUL_DAT": "1988-05-17",
                                    "(No column name)": "36"
                                },
                                {
                                    "USERNEV": "zsolt1",
                                    "NEV": "Pulai Zsolt",
                                    "EMAIL": "zsolt.pulai@mail.hu",
                                    "SZAML_CIM": "8391 Sármellék Fő utca 60.",
                                    "SZUL_DAT": "1988-05-27",
                                    "(No column name)": "36"
                                },
                                {
                                    "USERNEV": "imre",
                                    "NEV": "Búza Imre",
                                    "EMAIL": "imre.búza@mail.hu",
                                    "SZAML_CIM": "9181 Kimle Petőfi Sándor tér 1.",
                                    "SZUL_DAT": "1988-09-30",
                                    "(No column name)": "36"
                                },
                                {
                                    "USERNEV": "AGNESK",
                                    "NEV": "Kovács Ágnes",
                                    "EMAIL": "AGNESK@gmail.com",
                                    "SZAML_CIM": "1084 Budapest Endrődi Sándor utca 47.",
                                    "SZUL_DAT": "1988-10-02",
                                    "(No column name)": "36"
                                },
                                {
                                    "USERNEV": "ANIKOS",
                                    "NEV": "Simon Anikó",
                                    "EMAIL": "ANIKOS@gmail.com",
                                    "SZAML_CIM": "5137 Jászkisér Bécsi utca 82.",
                                    "SZUL_DAT": "1988-12-14",
                                    "(No column name)": "36"
                                },
                                {
                                    "USERNEV": "roza2",
                                    "NEV": "Bucskó Róza",
                                    "EMAIL": "roza2@gmail.com",
                                    "SZAML_CIM": "5661 Újkígyós Arany János utca 3.",
                                    "SZUL_DAT": "1988-12-26",
                                    "(No column name)": "35"
                                },
                                {
                                    "USERNEV": "sandor3",
                                    "NEV": "Farkas Sándor",
                                    "EMAIL": "sándor.farkas@mail.hu",
                                    "SZAML_CIM": "8640 Fonyód Tanácsköztársaság tér 1.",
                                    "SZUL_DAT": "1989-01-27",
                                    "(No column name)": "35"
                                },
                                {
                                    "USERNEV": "ISTVANV",
                                    "NEV": "Varga István",
                                    "EMAIL": "ISTVANV@gmail.com",
                                    "SZAML_CIM": "6320 Solt Hősök tere 11.",
                                    "SZUL_DAT": "1989-04-09",
                                    "(No column name)": "35"
                                },
                                {
                                    "USERNEV": "VIKTORK",
                                    "NEV": "Keresztúri Viktor",
                                    "EMAIL": "viktor.keresztúri@mail.hu",
                                    "SZAML_CIM": "2532 Tokodaltáró Nagy Lajos tér 4.",
                                    "SZUL_DAT": "1989-05-05",
                                    "(No column name)": "35"
                                },
                                {
                                    "USERNEV": "marton",
                                    "NEV": "Kalacsi Márton",
                                    "EMAIL": "marton@gmail.com",
                                    "SZAML_CIM": "5137 Jászkisér Fő út 169.",
                                    "SZUL_DAT": "1989-06-24",
                                    "(No column name)": "35"
                                },
                                {
                                    "USERNEV": "ARONK",
                                    "NEV": "Kelemen Áron",
                                    "EMAIL": "áron.kelemen@mail.hu",
                                    "SZAML_CIM": "8200 Veszprém Petőfi utca 8.",
                                    "SZUL_DAT": "1989-08-10",
                                    "(No column name)": "35"
                                },
                                {
                                    "USERNEV": "emese",
                                    "NEV": "Kuruc Emese",
                                    "EMAIL": "emese.kuruc@mail.hu",
                                    "SZAML_CIM": "6700 Szeged Rákóczi utca 67.",
                                    "SZUL_DAT": "1989-08-10",
                                    "(No column name)": "34"
                                },
                                {
                                    "USERNEV": "balint1",
                                    "NEV": "Molnár Bálint",
                                    "EMAIL": "balint1@gmail.com",
                                    "SZAML_CIM": "9181 Kimle Fő út 169.",
                                    "SZUL_DAT": "1989-08-24",
                                    "(No column name)": "34"
                                },
                                {
                                    "USERNEV": "annamaria1",
                                    "NEV": "Szűcs Annamária",
                                    "EMAIL": "annamária.szűcs@mail.hu",
                                    "SZAML_CIM": "1191 Budapest Rendeki utca 21.",
                                    "SZUL_DAT": "1990-04-27",
                                    "(No column name)": "34"
                                },
                                {
                                    "USERNEV": "ARPADH",
                                    "NEV": "Horváth Árpád",
                                    "EMAIL": "árpád.horváth@mail.hu",
                                    "SZAML_CIM": "7349 Szászvár Dózsa György u. 1.",
                                    "SZUL_DAT": "1990-05-18",
                                    "(No column name)": "34"
                                },
                                {
                                    "USERNEV": "GABORS",
                                    "NEV": "Szöllősi Gábor",
                                    "EMAIL": "GABORS@gmail.com",
                                    "SZAML_CIM": "3630 Putnok Kossuth utca 27.",
                                    "SZUL_DAT": "1990-05-31",
                                    "(No column name)": "34"
                                },
                                {
                                    "USERNEV": "arpad2",
                                    "NEV": "Ötvös Árpád",
                                    "EMAIL": "árpád.ötvös@mail.hu",
                                    "SZAML_CIM": "2600 Vác Padragi út 158.",
                                    "SZUL_DAT": "1990-06-08",
                                    "(No column name)": "34"
                                },
                                {
                                    "USERNEV": "szabolcs",
                                    "NEV": "Bodor Szabolcs",
                                    "EMAIL": "szabolcs.bodor@mail.hu",
                                    "SZAML_CIM": "6786 Ruzsa Ady Endre út 27.",
                                    "SZUL_DAT": "1990-07-16",
                                    "(No column name)": "34"
                                },
                                {
                                    "USERNEV": "ilona3",
                                    "NEV": "Bosnyák Ilona",
                                    "EMAIL": "ilona3@gmail.com",
                                    "SZAML_CIM": "2483 Gárdony Posta köz 2.",
                                    "SZUL_DAT": "1990-08-06",
                                    "(No column name)": "34"
                                },
                                {
                                    "USERNEV": "julianna4",
                                    "NEV": "Szabó Julianna",
                                    "EMAIL": "julianna4@gmail.com",
                                    "SZAML_CIM": "6700 Szeged Kossuth Lajos utca 6.",
                                    "SZUL_DAT": "1990-09-29",
                                    "(No column name)": "34"
                                },
                                {
                                    "USERNEV": "david4",
                                    "NEV": "Berta Dávid",
                                    "EMAIL": "david4@gmail.com",
                                    "SZAML_CIM": "3500 Miskolc Balatoni út 12.",
                                    "SZUL_DAT": "1990-10-08",
                                    "(No column name)": "33"
                                },
                                {
                                    "USERNEV": "RENATAS",
                                    "NEV": "Szirmai Renáta",
                                    "EMAIL": "RENATAS@gmail.com",
                                    "SZAML_CIM": "2053 Herceghalom Kossuth utca 27.",
                                    "SZUL_DAT": "1991-03-26",
                                    "(No column name)": "33"
                                },
                                {
                                    "USERNEV": "brigitta3",
                                    "NEV": "Pataki Brigitta",
                                    "EMAIL": "brigitta.pataki@mail.hu",
                                    "SZAML_CIM": "2730 Albertirsa Rendeki utca 21.",
                                    "SZUL_DAT": "1991-05-23",
                                    "(No column name)": "33"
                                },
                                {
                                    "USERNEV": "vivien3",
                                    "NEV": "Boros Vivien",
                                    "EMAIL": "vivien3@gmail.com",
                                    "SZAML_CIM": "2117 Isaszeg Fő út 122.",
                                    "SZUL_DAT": "1991-07-01",
                                    "(No column name)": "33"
                                },
                                {
                                    "USERNEV": "tihamer",
                                    "NEV": "Kazy Tihamér",
                                    "EMAIL": "tihamér.kazy@mail.hu",
                                    "SZAML_CIM": "2370 Dabas Fő utca 60.",
                                    "SZUL_DAT": "1991-07-05",
                                    "(No column name)": "33"
                                },
                                {
                                    "USERNEV": "norbert2",
                                    "NEV": "Hegedűs Norbert",
                                    "EMAIL": "norbert.hegedűs@mail.hu",
                                    "SZAML_CIM": "2081 Piliscsaba Rendeki utca 21.",
                                    "SZUL_DAT": "1991-07-17",
                                    "(No column name)": "33"
                                },
                                {
                                    "USERNEV": "adam1",
                                    "NEV": "Kiss Ádám",
                                    "EMAIL": "ádám.kiss@mail.hu",
                                    "SZAML_CIM": "5630 Békés Szolnoki út 8.",
                                    "SZUL_DAT": "1991-12-28",
                                    "(No column name)": "33"
                                },
                                {
                                    "USERNEV": "sebestyen",
                                    "NEV": "Rab Sebestyén",
                                    "EMAIL": "sebestyen@gmail.com",
                                    "SZAML_CIM": "7130 Tolna Központi telep 3.",
                                    "SZUL_DAT": "1992-03-03",
                                    "(No column name)": "32"
                                },
                                {
                                    "USERNEV": "alexandra",
                                    "NEV": "Bagóczki Alexandra",
                                    "EMAIL": "alexandra.bagóczki@mail.hu",
                                    "SZAML_CIM": "2381 Táborfalva Petőfi utca 1/2.",
                                    "SZUL_DAT": "1992-03-25",
                                    "(No column name)": "32"
                                },
                                {
                                    "USERNEV": "SEBASTIANF",
                                    "NEV": "Foltényi Sebastián",
                                    "EMAIL": "SEBASTIANF@gmail.com",
                                    "SZAML_CIM": "7960 Sellye Grassalkovich út 10.",
                                    "SZUL_DAT": "1992-09-09",
                                    "(No column name)": "32"
                                },
                                {
                                    "USERNEV": "balazs1",
                                    "NEV": "Bozsik Balázs",
                                    "EMAIL": "balázs.bozsik@mail.hu",
                                    "SZAML_CIM": "2300 Ráckeve Bécsi utca 82.",
                                    "SZUL_DAT": "1992-11-03",
                                    "(No column name)": "32"
                                },
                                {
                                    "USERNEV": "julia",
                                    "NEV": "Tóth Júlia",
                                    "EMAIL": "julia@gmail.com",
                                    "SZAML_CIM": "5310 Kisújszállás Árpád utca 4.",
                                    "SZUL_DAT": "1993-03-02",
                                    "(No column name)": "31"
                                },
                                {
                                    "USERNEV": "andrea",
                                    "NEV": "Kiss Andrea",
                                    "EMAIL": "andrea.kiss@mail.hu",
                                    "SZAML_CIM": "1113 Budapest Petőfi Sándor utca 87.",
                                    "SZUL_DAT": "1993-03-25",
                                    "(No column name)": "31"
                                },
                                {
                                    "USERNEV": "eszter4",
                                    "NEV": "Fülöp Eszter",
                                    "EMAIL": "eszter.fülöp@mail.hu",
                                    "SZAML_CIM": "3643 Dédestapolcsány Kossuth Lajos utca 47/b.",
                                    "SZUL_DAT": "1993-06-28",
                                    "(No column name)": "31"
                                },
                                {
                                    "USERNEV": "rajmond4",
                                    "NEV": "Rácz Rajmond",
                                    "EMAIL": "rajmond.rácz@mail.hu",
                                    "SZAML_CIM": "9155 Lébény Petőfi utca 1/2.",
                                    "SZUL_DAT": "1993-09-25",
                                    "(No column name)": "31"
                                },
                                {
                                    "USERNEV": "tibor",
                                    "NEV": "Gombos Tibor",
                                    "EMAIL": "tibor.gombos@mail.hu",
                                    "SZAML_CIM": "7100 Szekszárd Kossuth utca 77.",
                                    "SZUL_DAT": "1993-11-28",
                                    "(No column name)": "31"
                                },
                                {
                                    "USERNEV": "polla",
                                    "NEV": "Palágyi Polla",
                                    "EMAIL": "polla@gmail.com",
                                    "SZAML_CIM": "2484 Agárd Fő út 18.",
                                    "SZUL_DAT": "1994-02-04",
                                    "(No column name)": "30"
                                },
                                {
                                    "USERNEV": "beata4",
                                    "NEV": "Bagi Beáta",
                                    "EMAIL": "beáta.bagi@mail.hu",
                                    "SZAML_CIM": "8477 Tüskevár Felszabadulás utca 32.",
                                    "SZUL_DAT": "1994-03-19",
                                    "(No column name)": "30"
                                },
                                {
                                    "USERNEV": "zsuzsanna",
                                    "NEV": "Barta Zsuzsanna",
                                    "EMAIL": "zsuzsanna.barta@mail.hu",
                                    "SZAML_CIM": "4172 Biharnagybajom Dózsa György utca 37.",
                                    "SZUL_DAT": "1994-10-07",
                                    "(No column name)": "30"
                                },
                                {
                                    "USERNEV": "BELAF",
                                    "NEV": "Farkas Béla",
                                    "EMAIL": "BELAF@gmail.com",
                                    "SZAML_CIM": "5530 Vésztő Petőfi Sándor utca 3.",
                                    "SZUL_DAT": "1995-02-24",
                                    "(No column name)": "29"
                                },
                                {
                                    "USERNEV": "kati",
                                    "NEV": "Zatykó Katalin",
                                    "EMAIL": "katalin.zatykó@mail.hu",
                                    "SZAML_CIM": "7511 Ötvöskónyi Kossuth Lajos utca 6.",
                                    "SZUL_DAT": "1995-05-01",
                                    "(No column name)": "29"
                                },
                                {
                                    "USERNEV": "ATTILAO",
                                    "NEV": "Opra Attila",
                                    "EMAIL": "ATTILAO@gmail.com",
                                    "SZAML_CIM": "8283 Káptalantóti Rákóczi út 200.",
                                    "SZUL_DAT": "1995-05-08",
                                    "(No column name)": "29"
                                },
                                {
                                    "USERNEV": "dora3",
                                    "NEV": "Sarodi Dóra",
                                    "EMAIL": "dóra.sarodi@mail.hu",
                                    "SZAML_CIM": "2855 Bokod Fő út 18.",
                                    "SZUL_DAT": "1995-05-18",
                                    "(No column name)": "29"
                                },
                                {
                                    "USERNEV": "miklos2",
                                    "NEV": "Gondos Miklós",
                                    "EMAIL": "miklos2@gmail.com",
                                    "SZAML_CIM": "2100 Gödöllő Árpád utca 23.",
                                    "SZUL_DAT": "1995-10-07",
                                    "(No column name)": "29"
                                },
                                {
                                    "USERNEV": "maria1",
                                    "NEV": "Baráth Mária",
                                    "EMAIL": "mária.baráth@mail.hu",
                                    "SZAML_CIM": "1047 Budapest Posta köz 2.",
                                    "SZUL_DAT": "1995-11-19",
                                    "(No column name)": "29"
                                },
                                {
                                    "USERNEV": "timea",
                                    "NEV": "Papós Tímea",
                                    "EMAIL": "timea@gmail.com",
                                    "SZAML_CIM": "1035 Budapest  Kossuth út 77.",
                                    "SZUL_DAT": "1996-01-08",
                                    "(No column name)": "29"
                                },
                                {
                                    "USERNEV": "mark",
                                    "NEV": "Kispál Márk",
                                    "EMAIL": "márk.kispál@mail.hu",
                                    "SZAML_CIM": "1086 Budapest Juhászföldi út 1.",
                                    "SZUL_DAT": "1996-01-23",
                                    "(No column name)": "28"
                                },
                                {
                                    "USERNEV": "balint",
                                    "NEV": "Horváth Bálint",
                                    "EMAIL": "balint@gmail.com",
                                    "SZAML_CIM": "6646 Tömörkény Endrődi Sándor utca 47.",
                                    "SZUL_DAT": "1996-03-17",
                                    "(No column name)": "28"
                                },
                                {
                                    "USERNEV": "VIKTORIAU",
                                    "NEV": "Urbán Viktoria",
                                    "EMAIL": "viktoria.urbán@mail.hu",
                                    "SZAML_CIM": "3860 Encs Népboltsor  2.",
                                    "SZUL_DAT": "1996-05-03",
                                    "(No column name)": "28"
                                },
                                {
                                    "USERNEV": "andrea3",
                                    "NEV": "Szomor Andrea",
                                    "EMAIL": "andrea3@gmail.com",
                                    "SZAML_CIM": "7960 Sellye Bécsi utca 82.",
                                    "SZUL_DAT": "1996-05-10",
                                    "(No column name)": "28"
                                },
                                {
                                    "USERNEV": "fruzsina4",
                                    "NEV": "Frank Fruzsina",
                                    "EMAIL": "fruzsina4@gmail.com",
                                    "SZAML_CIM": "9700 Szombathely Szabadság utca 95.",
                                    "SZUL_DAT": "1996-08-16",
                                    "(No column name)": "28"
                                },
                                {
                                    "USERNEV": "bernadett2",
                                    "NEV": "Kovács Bernadett",
                                    "EMAIL": "bernadett.kovács@mail.hu",
                                    "SZAML_CIM": "4200 Hajdúszoboszló Fő út 122.",
                                    "SZUL_DAT": "1996-08-20",
                                    "(No column name)": "28"
                                },
                                {
                                    "USERNEV": "lala",
                                    "NEV": "Nagymihály Lajos",
                                    "EMAIL": "lajos.nagymihály@mail.hu",
                                    "SZAML_CIM": "8638 Balatonlelle Rákóczi út 200.",
                                    "SZUL_DAT": "1997-02-24",
                                    "(No column name)": "27"
                                },
                                {
                                    "USERNEV": "MATEK",
                                    "NEV": "Koza Máté",
                                    "EMAIL": "máté.koza@mail.hu",
                                    "SZAML_CIM": "1011 Budapest Központi telep 3.",
                                    "SZUL_DAT": "1997-02-28",
                                    "(No column name)": "27"
                                },
                                {
                                    "USERNEV": "ANDRASE",
                                    "NEV": "Erdei András",
                                    "EMAIL": "ANDRASE@gmail.com",
                                    "SZAML_CIM": "5071 Besenyszög Szolnoki út 8.",
                                    "SZUL_DAT": "1997-05-29",
                                    "(No column name)": "27"
                                },
                                {
                                    "USERNEV": "sandor4",
                                    "NEV": "Nagy Sándor",
                                    "EMAIL": "sandor4@gmail.com",
                                    "SZAML_CIM": "4600 Kisvárda Fő utca 47.",
                                    "SZUL_DAT": "1997-06-11",
                                    "(No column name)": "27"
                                },
                                {
                                    "USERNEV": "JUDITH",
                                    "NEV": "Hídasi Judit",
                                    "EMAIL": "JUDITH@gmail.com",
                                    "SZAML_CIM": "2100 Gödöllő Fő út 169.",
                                    "SZUL_DAT": "1997-07-12",
                                    "(No column name)": "27"
                                },
                                {
                                    "USERNEV": "balint2",
                                    "NEV": "Vukasinovity Bálint",
                                    "EMAIL": "balint2@gmail.com",
                                    "SZAML_CIM": "2330 Dunaharaszti Béke utca 7.",
                                    "SZUL_DAT": "1997-09-03",
                                    "(No column name)": "27"
                                },
                                {
                                    "USERNEV": "MARKH",
                                    "NEV": "Horváth Márk",
                                    "EMAIL": "márk.horváth@mail.hu",
                                    "SZAML_CIM": "4400 Nyíregyháza Badacsonyi utca 12.",
                                    "SZUL_DAT": "1997-09-23",
                                    "(No column name)": "27"
                                },
                                {
                                    "USERNEV": "NIKOLETTAT",
                                    "NEV": "Tatár Nikoletta",
                                    "EMAIL": "nikoletta.tatár@mail.hu",
                                    "SZAML_CIM": "1067 Budapest Győri utca 12.",
                                    "SZUL_DAT": "1997-10-19",
                                    "(No column name)": "27"
                                },
                                {
                                    "USERNEV": "andras41",
                                    "NEV": "Komjáti András",
                                    "EMAIL": "andras41@gmail.com",
                                    "SZAML_CIM": "5065 Nagykörű Kossuth út 24.",
                                    "SZUL_DAT": "1997-10-25",
                                    "(No column name)": "27"
                                },
                                {
                                    "USERNEV": "andras2",
                                    "NEV": "Tóth András",
                                    "EMAIL": "andrás.tóth@mail.hu",
                                    "SZAML_CIM": "4071 Egyek Petőfi utca 30.",
                                    "SZUL_DAT": "1997-10-31",
                                    "(No column name)": "27"
                                },
                                {
                                    "USERNEV": "TAMASF",
                                    "NEV": "Fényes Tamás",
                                    "EMAIL": "TAMASF@gmail.com",
                                    "SZAML_CIM": "9023 Győr Arany János utca 1.",
                                    "SZUL_DAT": "1997-11-06",
                                    "(No column name)": "27"
                                },
                                {
                                    "USERNEV": "istvan1",
                                    "NEV": "Vizi István",
                                    "EMAIL": "istván.vizi@mail.hu",
                                    "SZAML_CIM": "7086 Ozora Rákóczi utca 1.",
                                    "SZUL_DAT": "1997-12-01",
                                    "(No column name)": "27"
                                },
                                {
                                    "USERNEV": "eszter2",
                                    "NEV": "Balogh Eszter",
                                    "EMAIL": "eszter.balogh@mail.hu",
                                    "SZAML_CIM": "6760 Kistelek Kossuth utca 11.",
                                    "SZUL_DAT": "1998-01-31",
                                    "(No column name)": "27"
                                }
                            ]
                        },
                        "text/html": [
                            "<table>",
                            "<tr><th>USERNEV</th><th>NEV</th><th>EMAIL</th><th>SZAML_CIM</th><th>SZUL_DAT</th><th>(No column name)</th><th>(No column name)</th></tr>",
                            "<tr><td>anett3</td><td>Pivarcsi Anett</td><td>anett.pivarcsi@mail.hu</td><td>1149 Budapest Fő út 60.</td><td>1967-01-03</td><td>58</td><td>57</td></tr>",
                            "<tr><td>gusztav</td><td>Bárci Gusztáv</td><td>gusztav@gmail.com</td><td>3643 Dédestapolcsány Endrődi Sándor utca 47.</td><td>1967-02-25</td><td>58</td><td>57</td></tr>",
                            "<tr><td>agnes3</td><td>Hartyánszky Ágnes</td><td>agnes3@gmail.com</td><td>6430 Bácsalmás Posta köz 2.</td><td>1967-04-11</td><td>57</td><td>57</td></tr>",
                            "<tr><td>eva</td><td>Enyedi Éva</td><td>eva@gmail.com</td><td>4231 Bököny Petőfi utca 8.</td><td>1967-06-30</td><td>57</td><td>57</td></tr>",
                            "<tr><td>ROBERTI</td><td>Iván Róbert</td><td>róbert.iván@mail.hu</td><td>2377 Örkény Petőfi Sándor utca 3.</td><td>1967-07-02</td><td>57</td><td>57</td></tr>",
                            "<tr><td>SZILARDS</td><td>Szalai Szilárd</td><td>szilárd.szalai@mail.hu</td><td>1077 Budapest Fő út 18.</td><td>1967-09-28</td><td>57</td><td>57</td></tr>",
                            "<tr><td>laszlo1</td><td>Farkas László</td><td>lászló.farkas@mail.hu</td><td>5200 Törökszentmiklós Rendeki utca 21.</td><td>1967-10-30</td><td>57</td><td>57</td></tr>",
                            "<tr><td>janos3</td><td>Harangozó János</td><td>janos3@gmail.com</td><td>8700 Marcali Petőfi Sándor tér 1.</td><td>1967-11-02</td><td>57</td><td>57</td></tr>",
                            "<tr><td>katalin</td><td>Horváth Katalin</td><td>katalin.horváth@mail.hu</td><td>2424 Előszállás Rákóczi út 200.</td><td>1968-01-01</td><td>57</td><td>57</td></tr>",
                            "<tr><td>pal</td><td>Barabás Pál</td><td>pál.barabás@mail.hu</td><td>1183 Budapest Szolnoki út 8.</td><td>1968-02-06</td><td>57</td><td>56</td></tr>",
                            "<tr><td>roland</td><td>Tóth Roland</td><td>roland@gmail.com</td><td>2000 Szentendre Fő út 169.</td><td>1968-03-21</td><td>57</td><td>56</td></tr>",
                            "<tr><td>andi</td><td>Maródi Andrea</td><td>andrea.maródi@mail.hu</td><td>5465 Cserkeszőlő Árpád utca 4.</td><td>1968-05-07</td><td>56</td><td>56</td></tr>",
                            "<tr><td>KRISZTIANM</td><td>Mogyródi Krisztián</td><td>KRISZTIANM@gmail.com</td><td>9155 Lébény Jászai tér 21.</td><td>1968-05-27</td><td>56</td><td>56</td></tr>",
                            "<tr><td>kata</td><td>Gondos Katalin</td><td>katalin.gondos@mail.hu</td><td>8237 Tihany Kossuth Lajos utca 6.</td><td>1968-06-22</td><td>56</td><td>56</td></tr>",
                            "<tr><td>NANDORF</td><td>Fő Nándor</td><td>nándor.fő@mail.hu</td><td>5920 Csorvás Bécsi utca 82.</td><td>1968-11-12</td><td>56</td><td>55</td></tr>",
                            "<tr><td>PETERB</td><td>Berendi Péter</td><td>péter.berendi@mail.hu</td><td>3980 Sátoraljaújhely Vasút utca 4/10.</td><td>1969-01-01</td><td>56</td><td>55</td></tr>",
                            "<tr><td>LASZLON</td><td>Nagy László</td><td>lászló.nagy@mail.hu</td><td>1173 Budapest Jászai tér 21.</td><td>1969-04-12</td><td>55</td><td>55</td></tr>",
                            "<tr><td>gabriella10</td><td>Vida Gabriella</td><td>gabriella10@gmail.com</td><td>2484 Agárd Arany János utca 3.</td><td>1969-06-18</td><td>55</td><td>55</td></tr>",
                            "<tr><td>LASZLOA</td><td>Antal László</td><td>lászló.antal@mail.hu</td><td>2484 Agárd Bécsi utca 82.</td><td>1969-06-29</td><td>55</td><td>55</td></tr>",
                            "<tr><td>daniel1</td><td>Keszler Dániel</td><td>dániel.keszler@mail.hu</td><td>3580 Tiszaújváros Kossuth Lajos utca 6.</td><td>1969-07-16</td><td>55</td><td>55</td></tr>",
                            "<tr><td>norbert</td><td>Szűcs Norbert</td><td>norbert@gmail.com</td><td>5071 Besenyszög Győri utca 12.</td><td>1969-07-17</td><td>55</td><td>55</td></tr>",
                            "<tr><td>krisztina1</td><td>Bori Krisztina</td><td>krisztina.bori@mail.hu</td><td>2115 Vácszentlászló Fő utca 47.</td><td>1969-10-13</td><td>55</td><td>55</td></tr>",
                            "<tr><td>reka4</td><td>Szikszai Réka</td><td>réka.szikszai@mail.hu</td><td>8254 Kővágóörs Templom utca 73.</td><td>1969-11-27</td><td>55</td><td>54</td></tr>",
                            "<tr><td>sandor</td><td>Karasz Sándor</td><td>sandor@gmail.com</td><td>8283 Káptalantóti Kossuth Lajos utca 1/a.</td><td>1970-01-27</td><td>55</td><td>54</td></tr>",
                            "<tr><td>adam3</td><td>Barkóci Ádám</td><td>adam3@gmail.com</td><td>3910 Tokaj Dózsa György utca 37.</td><td>1970-06-07</td><td>54</td><td>54</td></tr>",
                            "<tr><td>krisztian4</td><td>Czérna Krisztián</td><td>krisztián.czérna@mail.hu</td><td>1107 Budapest Dózsa György utca 37.</td><td>1970-08-01</td><td>54</td><td>54</td></tr>",
                            "<tr><td>david1</td><td>Sobják Dávid</td><td>david1@gmail.com</td><td>5083 Kengyel Arany János utca 3.</td><td>1970-08-16</td><td>54</td><td>54</td></tr>",
                            "<tr><td>szilvia1</td><td>Tari Szilvia</td><td>szilvia.tari@mail.hu</td><td>6080 Szabadszállás Bécsi utca 82.</td><td>1971-03-09</td><td>54</td><td>53</td></tr>",
                            "<tr><td>anita</td><td>Hamvay-Kovács Anita</td><td>anita.hamvay-kovács@mail.hu</td><td>7220 Sarkad Táncsics utca 19.</td><td>1971-03-20</td><td>54</td><td>53</td></tr>",
                            "<tr><td>andras3</td><td>Vígh András</td><td>andrás.vígh@mail.hu</td><td>1118 Budapest Arany János utca 1.</td><td>1971-04-02</td><td>53</td><td>53</td></tr>",
                            "<tr><td>aron2</td><td>Jakab Áron</td><td>aron2@gmail.com</td><td>7133 Fadd Bajcsy-Zsilinszky utca 4.</td><td>1971-04-26</td><td>53</td><td>53</td></tr>",
                            "<tr><td>eva2</td><td>Perlinger Éva</td><td>eva2@gmail.com</td><td>9653 Répcelak Bécsi utca 82.</td><td>1971-08-19</td><td>53</td><td>52</td></tr>",
                            "<tr><td>nikoletta4</td><td>Kő Nikoletta</td><td>nikoletta4@gmail.com</td><td>5537 Zsadány Fő út 18.</td><td>1972-01-10</td><td>53</td><td>52</td></tr>",
                            "<tr><td>BEATRIXK</td><td>Kerényi Beatrix</td><td>beatrix.kerényi@mail.hu</td><td>7396 Magyarszék Kossuth Lajos utca 47/b.</td><td>1972-04-06</td><td>52</td><td>52</td></tr>",
                            "<tr><td>ROBERTP</td><td>Pásztor Róbert</td><td>ROBERTP@gmail.com</td><td>5137 Jászkisér Ady Endre út 27.</td><td>1972-05-16</td><td>52</td><td>52</td></tr>",
                            "<tr><td>matyas2</td><td>Botka Mátyás</td><td>matyas2@gmail.com</td><td>2700 Cegléd Kossuth Lajos utca 6.</td><td>1972-07-07</td><td>52</td><td>51</td></tr>",
                            "<tr><td>sara</td><td>Farkas Sára</td><td>sára.farkas@mail.hu</td><td>5940 Tótkomlós Felszabadulás utca 32.</td><td>1973-04-05</td><td>51</td><td>51</td></tr>",
                            "<tr><td>aniko</td><td>Tóth Anikó</td><td>aniko@gmail.com</td><td>2085 Pilisvörösvár Deák Ferenc út 5.</td><td>1973-06-03</td><td>51</td><td>51</td></tr>",
                            "<tr><td>BENCEB</td><td>Bajusz Bence</td><td>bence.bajusz@mail.hu</td><td>8391 Sármellék Fő utca 56.</td><td>1973-06-21</td><td>51</td><td>51</td></tr>",
                            "<tr><td>gabor1</td><td>Köves Gábor</td><td>gabor1@gmail.com</td><td>6762 Sándorfalva Árpád utca 23.</td><td>1973-07-15</td><td>51</td><td>51</td></tr>",
                            "<tr><td>david</td><td>Ambrus Dávid</td><td>david@gmail.com</td><td>1149 Budapest Fő út 18.</td><td>1974-02-11</td><td>51</td><td>50</td></tr>",
                            "<tr><td>tunde</td><td>Turcsik Tünde</td><td>tunde@gmail.com</td><td>7130 Tolna Fő út 122.</td><td>1974-02-12</td><td>51</td><td>50</td></tr>",
                            "<tr><td>GYONGYIK</td><td>Kornseé Gyöngyi</td><td>gyöngyi.kornseé@mail.hu</td><td>8800 Nagykanizsa Fő út 60.</td><td>1974-06-07</td><td>50</td><td>50</td></tr>",
                            "<tr><td>MONIKAM</td><td>Mohos Mónika</td><td>mónika.mohos@mail.hu</td><td>2241 Sülysáp Baracsi László utca 14.</td><td>1974-10-01</td><td>50</td><td>50</td></tr>",
                            "<tr><td>JANOSG</td><td>Giliga János</td><td>JANOSG@gmail.com</td><td>3300 Eger Deák Ferenc út 5.</td><td>1975-01-03</td><td>50</td><td>50</td></tr>",
                            "<tr><td>laszlo2</td><td>Móra László</td><td>lászló.móra@mail.hu</td><td>9970 Szentgotthárd Petőfi utca 1/2.</td><td>1975-02-19</td><td>50</td><td>50</td></tr>",
                            "<tr><td>denes</td><td>Tömböly Dénes</td><td>denes@gmail.com</td><td>2400 Dunaújváros Kossuth út 39.</td><td>1975-03-14</td><td>50</td><td>49</td></tr>",
                            "<tr><td>MATYASS</td><td>Szilágyi Mátyás</td><td>mátyás.szilágyi@mail.hu</td><td>9023 Győr Kossuth Lajos utca 6.</td><td>1975-03-22</td><td>50</td><td>49</td></tr>",
                            "<tr><td>katka</td><td>Kovács Katalin</td><td>katalin.kovács@mail.hu</td><td>8254 Kővágóörs Petőfi utca 22.</td><td>1975-03-31</td><td>49</td><td>49</td></tr>",
                            "<tr><td>JOZSEFG</td><td>Gyuris József</td><td>józsef.gyuris@mail.hu</td><td>2660 Balassagyarmat Petőfi utca 1/2.</td><td>1975-05-26</td><td>49</td><td>49</td></tr>",
                            "<tr><td>norbert5</td><td>Béres Norbert</td><td>norbert5@gmail.com</td><td>8640 Fonyód Bajcsy-Zsilinszky utca 4.</td><td>1975-07-27</td><td>49</td><td>49</td></tr>",
                            "<tr><td>timea2</td><td>Dusha Tímea</td><td>tímea.dusha@mail.hu</td><td>5920 Csorvás Kossuth utca 8.</td><td>1975-08-22</td><td>49</td><td>49</td></tr>",
                            "<tr><td>kornel4</td><td>Lukács Kornél</td><td>kornél.lukács@mail.hu</td><td>2053 Herceghalom Bécsi utca 82.</td><td>1975-09-30</td><td>49</td><td>49</td></tr>",
                            "<tr><td>attila4</td><td>Baróti Attila</td><td>attila.baróti@mail.hu</td><td>7149 Báta Arany János utca 3.</td><td>1975-11-06</td><td>49</td><td>49</td></tr>",
                            "<tr><td>peter2</td><td>Bozsó Péter</td><td>peter2@gmail.com</td><td>4800 Vásárosnamény Zombori út 2/A</td><td>1976-01-26</td><td>49</td><td>48</td></tr>",
                            "<tr><td>peter1</td><td>Kozma Péter</td><td>peter1@gmail.com</td><td>6913 Csanádpalota Központi telep 3.</td><td>1976-03-18</td><td>49</td><td>48</td></tr>",
                            "<tr><td>imre1</td><td>Papp Imre</td><td>imre.papp@mail.hu</td><td>1077 Budapest Szolnoki út 8.</td><td>1976-06-25</td><td>48</td><td>48</td></tr>",
                            "<tr><td>adam4</td><td>Bieniek Ádám</td><td>ádám.bieniek@mail.hu</td><td>8630 Balatonboglár Juhászföldi út 1.</td><td>1976-08-01</td><td>48</td><td>48</td></tr>",
                            "<tr><td>balu</td><td>Endresz Bálint</td><td>bálint.endresz@mail.hu</td><td>3973 Cigánd Fő út 169.</td><td>1976-08-01</td><td>48</td><td>48</td></tr>",
                            "<tr><td>debora</td><td>Barna Debóra</td><td>debóra.barna@mail.hu</td><td>1155 Budapest Fő út 169.</td><td>1976-10-14</td><td>48</td><td>48</td></tr>",
                            "<tr><td>ZSUZSAV</td><td>Vajda Zsuzsa</td><td>zsuzsa.vajda@mail.hu</td><td>6786 Ruzsa Kossuth utca 77.</td><td>1976-12-11</td><td>48</td><td>47</td></tr>",
                            "<tr><td>robert2</td><td>Patay Róbert</td><td>robert2@gmail.com</td><td>2370 Dabas Rákóczi utca 21.</td><td>1977-01-08</td><td>48</td><td>47</td></tr>",
                            "<tr><td>ZOLTANP</td><td>Pintér Zoltán</td><td>zoltán.pintér@mail.hu</td><td>6050 Lajosmizse Fő út 18.</td><td>1977-06-07</td><td>47</td><td>47</td></tr>",
                            "<tr><td>ANNAMARIAR</td><td>Regős Annamária</td><td>ANNAMARIAR@gmail.com</td><td>8283 Káptalantóti Petőfi Sándor tér 1.</td><td>1977-09-26</td><td>47</td><td>47</td></tr>",
                            "<tr><td>bertalan</td><td>Csiger Bertalan</td><td>bertalan@gmail.com</td><td>1192 Budapest Fő út 169.</td><td>1977-10-15</td><td>47</td><td>47</td></tr>",
                            "<tr><td>andras21</td><td>Molnár András</td><td>andrás.molnár@mail.hu</td><td>7900 Szigetvár Rákóczi utca 67.</td><td>1977-11-16</td><td>47</td><td>46</td></tr>",
                            "<tr><td>aniko4</td><td>Böröcz Anikó</td><td>aniko4@gmail.com</td><td>2484 Agárd Petőfi Sándor tér 1.</td><td>1978-03-26</td><td>47</td><td>46</td></tr>",
                            "<tr><td>kriszti</td><td>Horváth Krisztina</td><td>kriszti@gmail.com</td><td>6060 Tiszakécske Árpád utca 4.</td><td>1978-06-12</td><td>46</td><td>46</td></tr>",
                            "<tr><td>ESZTERE</td><td>Érsek Eszter</td><td>eszter.érsek@mail.hu</td><td>6785 Pusztamérges Kossuth Lajos utca 6.</td><td>1978-08-28</td><td>46</td><td>46</td></tr>",
                            "<tr><td>jozsef2</td><td>Vajda József</td><td>józsef.vajda@mail.hu</td><td>6700 Szeged Baracsi László utca 14.</td><td>1978-09-04</td><td>46</td><td>46</td></tr>",
                            "<tr><td>brigitta</td><td>Székely Brigitta</td><td>brigitta.székely@mail.hu</td><td>2462 Martonvásár Fő utca 47.</td><td>1978-09-13</td><td>46</td><td>46</td></tr>",
                            "<tr><td>lajos</td><td>Kiss Lajos</td><td>lajos.kiss@mail.hu</td><td>1077 Budapest Dob utca 1</td><td>1978-10-31</td><td>46</td><td>46</td></tr>",
                            "<tr><td>daniel</td><td>Rácz Dániel</td><td>dániel.rácz@mail.hu</td><td>9181 Kimle Szabadság tér 9.</td><td>1978-11-28</td><td>46</td><td>46</td></tr>",
                            "<tr><td>MIKLOSB</td><td>Balla Miklós</td><td>miklós.balla@mail.hu</td><td>4060 Balmazújváros Szent István utca 2.</td><td>1979-02-16</td><td>46</td><td>45</td></tr>",
                            "<tr><td>zsuzsa3</td><td>Varsányi Zsuzsa</td><td>zsuzsa.varsányi@mail.hu</td><td>8600 Siófok Árpád utca 4.</td><td>1979-03-06</td><td>46</td><td>45</td></tr>",
                            "<tr><td>krisztina</td><td>Szedlár Krisztina</td><td>krisztina@gmail.com</td><td>6646 Tömörkény Arany János utca 1.</td><td>1979-05-10</td><td>45</td><td>45</td></tr>",
                            "<tr><td>MIHALYJ</td><td>Juhász Mihály</td><td>mihály.juhász@mail.hu</td><td>6786 Ruzsa Rákóczi utca 1.</td><td>1979-10-12</td><td>45</td><td>45</td></tr>",
                            "<tr><td>zoltan</td><td>Fodor Zoltán</td><td>zoltán.fodor@mail.hu</td><td>3441 Mezőkeresztes Fő utca 23.</td><td>1979-11-25</td><td>45</td><td>45</td></tr>",
                            "<tr><td>agnes</td><td>Lengyel Ágnes</td><td>agnes@gmail.com</td><td>5200 Törökszentmiklós Deák Ferenc út 5.</td><td>1979-12-10</td><td>45</td><td>45</td></tr>",
                            "<tr><td>attila</td><td>Csóti Attila</td><td>attila@gmail.com</td><td>3000 Hatvan Bajcsy-Zsilinszky utca 4.</td><td>1979-12-25</td><td>45</td><td>44</td></tr>",
                            "<tr><td>GYORGYO</td><td>Oroszi György</td><td>GYORGYO@gmail.com</td><td>7220 Sarkad Dózsa György u. 1.</td><td>1980-03-23</td><td>45</td><td>44</td></tr>",
                            "<tr><td>SZABOLCSM</td><td>Miklós Szabolcs</td><td>szabolcs.miklós@mail.hu</td><td>1102 Budapest Fő út 169.</td><td>1980-08-11</td><td>44</td><td>44</td></tr>",
                            "<tr><td>tamara2</td><td>Miklós Tamara</td><td>tamara.miklós@mail.hu</td><td>3910 Tokaj Kossuth út 39.</td><td>1980-08-11</td><td>44</td><td>44</td></tr>",
                            "<tr><td>ANDRASN</td><td>Nagy András</td><td>andrás.nagy@mail.hu</td><td>6500 Baja Fő út 169.</td><td>1980-09-05</td><td>44</td><td>44</td></tr>",
                            "<tr><td>zsuzsa</td><td>Pusztai Zsuzsanna</td><td>zsuzsanna@gmail.com</td><td>6783 Ásotthalom Badacsonyi utca 12.</td><td>1980-09-17</td><td>44</td><td>44</td></tr>",
                            "<tr><td>aladar</td><td>Dunai Aladár</td><td>aladár.dunai@mail.hu</td><td>5931 Nagyszénás Árpád utca 23.</td><td>1980-11-01</td><td>44</td><td>43</td></tr>",
                            "<tr><td>EVAV</td><td>Viktor Éva</td><td>EVAV@gmail.com</td><td>6913 Csanádpalota Arany János utca 3.</td><td>1980-12-26</td><td>44</td><td>43</td></tr>",
                            "<tr><td>BEATRIXS</td><td>Szekendi Beatrix</td><td>beatrix.szekendi@mail.hu</td><td>4060 Balmazújváros Jászai tér 21.</td><td>1981-04-06</td><td>43</td><td>43</td></tr>",
                            "<tr><td>andrea4</td><td>Neizer Andrea</td><td>andrea4@gmail.com</td><td>1124 Budapest Kiss u. 8.</td><td>1981-05-17</td><td>43</td><td>43</td></tr>",
                            "<tr><td>nikolett3</td><td>Horváth Nikolett</td><td>nikolett3@gmail.com</td><td>1072 Budapest Arany János utca 1.</td><td>1981-09-29</td><td>43</td><td>42</td></tr>",
                            "<tr><td>AGNESH</td><td>Horváth Ágnes</td><td>AGNESH@gmail.com</td><td>8200 Veszprém Rákóczi utca 21.</td><td>1981-12-24</td><td>43</td><td>42</td></tr>",
                            "<tr><td>klaudia2</td><td>Bakó Klaudia</td><td>klaudia.bakó@mail.hu</td><td>8254 Kővágóörs Kossuth Lajos utca 6.</td><td>1982-04-16</td><td>42</td><td>42</td></tr>",
                            "<tr><td>akos</td><td>Bíró Ákos</td><td>ákos.bíró@mail.hu</td><td>9023 Győr Kossuth Lajos utca 47/b.</td><td>1982-04-24</td><td>42</td><td>42</td></tr>",
                            "<tr><td>attila1</td><td>Gulyás Attila</td><td>attila.gulyás@mail.hu</td><td>3881 Abaújszántó Szolnoki út 8.</td><td>1982-08-16</td><td>42</td><td>42</td></tr>",
                            "<tr><td>gabriella1</td><td>Nagy Gabriella</td><td>gabriella1@gmail.com</td><td>1077 Budapest Dob utca 1</td><td>1982-11-01</td><td>42</td><td>41</td></tr>",
                            "<tr><td>georgij</td><td>Nyíri Georgij</td><td>georgij.nyíri@mail.hu</td><td>8391 Sármellék Grassalkovich út 10.</td><td>1983-02-23</td><td>42</td><td>41</td></tr>",
                            "<tr><td>norbert4</td><td>Mile Norbert</td><td>norbert4@gmail.com</td><td>3973 Cigánd Bajcsy-Zsilinszky utca 4.</td><td>1983-06-15</td><td>41</td><td>41</td></tr>",
                            "<tr><td>peter3</td><td>Szalai Péter</td><td>peter3@gmail.com</td><td>1155 Budapest Arany János utca 3.</td><td>1983-07-18</td><td>41</td><td>41</td></tr>",
                            "<tr><td>veronika4</td><td>Tankó Veronika</td><td>veronika4@gmail.com</td><td>6412 Balotaszállás Rendeki utca 21.</td><td>1983-08-28</td><td>41</td><td>41</td></tr>",
                            "<tr><td>ZSOLTJ</td><td>Józsa Zsolt</td><td>ZSOLTJ@gmail.com</td><td>8315 Gyenesdiás Bajcsy-Zsilinszky utca 4.</td><td>1983-09-29</td><td>41</td><td>41</td></tr>",
                            "<tr><td>ferenc1</td><td>Orosz Ferenc</td><td>ferenc.orosz@mail.hu</td><td>5061 Tiszasüly Arany János utca 3.</td><td>1983-10-08</td><td>41</td><td>41</td></tr>",
                            "<tr><td>zsofi1</td><td>Molnár Zsófi</td><td>zsofi1@gmail.com</td><td>2730 Albertirsa Árpád utca 23.</td><td>1983-11-17</td><td>41</td><td>41</td></tr>",
                            "<tr><td>IBOLYAA</td><td>Andor Ibolya</td><td>ibolya.andor@mail.hu</td><td>9023 Győr Posta köz 2.</td><td>1983-11-27</td><td>41</td><td>41</td></tr>",
                            "<tr><td>kristof4</td><td>Poprádi Kristóf</td><td>kristof4@gmail.com</td><td>8220 Balatonalmádi Mészáros utca 7.</td><td>1984-01-15</td><td>41</td><td>40</td></tr>",
                            "<tr><td>csongor3</td><td>Nagymihály Csongor</td><td>csongor.nagymihály@mail.hu</td><td>9181 Kimle Deák Ferenc út 5.</td><td>1984-03-05</td><td>41</td><td>40</td></tr>",
                            "<tr><td>andras4</td><td>Back András</td><td>andras4@gmail.com</td><td>3783 Edelény Fő út 169.</td><td>1984-04-07</td><td>40</td><td>40</td></tr>",
                            "<tr><td>edit</td><td>Bittmann Edit</td><td>edit.bittmann@mail.hu</td><td>6077 Orgovány Fő utca 60.</td><td>1984-04-20</td><td>40</td><td>40</td></tr>",
                            "<tr><td>tamas</td><td>Antal Tamás</td><td>tamás.antal@mail.hu</td><td>4440 Tiszavasvári Posta köz 2.</td><td>1984-09-05</td><td>40</td><td>40</td></tr>",
                            "<tr><td>JANOSP</td><td>Pálinkás János</td><td>JANOSP@gmail.com</td><td>5920 Csorvás Padragi út 158.</td><td>1984-10-12</td><td>40</td><td>40</td></tr>",
                            "<tr><td>bernadett1</td><td>Simon Bernadett</td><td>bernadett1@gmail.com</td><td>2300 Ráckeve Fő utca 108.</td><td>1984-10-13</td><td>40</td><td>40</td></tr>",
                            "<tr><td>balazs2</td><td>Szűcs Balázs</td><td>balázs.szűcs@mail.hu</td><td>3170 Szécsény Szabadság utca 95.</td><td>1984-10-31</td><td>40</td><td>39</td></tr>",
                            "<tr><td>tibor2</td><td>Dániel Tibor</td><td>tibor2@gmail.com</td><td>6646 Tömörkény Árpád utca 23.</td><td>1985-02-02</td><td>40</td><td>39</td></tr>",
                            "<tr><td>julia4</td><td>Nagy Júlia</td><td>julia4@gmail.com</td><td>7000 Sárbogárd Jászai tér 21.</td><td>1985-08-11</td><td>39</td><td>39</td></tr>",
                            "<tr><td>peter4</td><td>Bíró Péter</td><td>péter.bíró@mail.hu</td><td>5137 Jászkisér Rákóczi utca 67.</td><td>1985-09-01</td><td>39</td><td>39</td></tr>",
                            "<tr><td>jozsef</td><td>Gergely József</td><td>jozsef@gmail.com</td><td>6050 Lajosmizse Fő út 18.</td><td>1985-11-01</td><td>39</td><td>39</td></tr>",
                            "<tr><td>ZOLTANT</td><td>Tóth Zoltán</td><td>zoltán.tóth@mail.hu</td><td>4244 Újfehértó Posta köz 2.</td><td>1985-12-14</td><td>39</td><td>39</td></tr>",
                            "<tr><td>roland1</td><td>Ferencz Roland</td><td>roland.ferencz@mail.hu</td><td>2424 Előszállás Fő út 169.</td><td>1985-12-31</td><td>39</td><td>38</td></tr>",
                            "<tr><td>valentin</td><td>Feró Valentin</td><td>valentin.feró@mail.hu</td><td>3895 Gönc Búvár utca 4.</td><td>1986-01-09</td><td>39</td><td>38</td></tr>",
                            "<tr><td>katalin4</td><td>Kertész Katalin</td><td>katalin4@gmail.com</td><td>2800 Tatabánya Búvár utca 4.</td><td>1986-04-13</td><td>38</td><td>38</td></tr>",
                            "<tr><td>ARPADM</td><td>Móricz Árpád</td><td>árpád.móricz@mail.hu</td><td>3910 Tokaj Rákóczi utca 67.</td><td>1986-04-20</td><td>38</td><td>38</td></tr>",
                            "<tr><td>zoltan4</td><td>Barna Zoltán</td><td>zoltan4@gmail.com</td><td>8313 Balatongyörök Jászai tér 21.</td><td>1986-05-20</td><td>38</td><td>38</td></tr>",
                            "<tr><td>istvan</td><td>Soós István</td><td>istvan@gmail.com</td><td>2370 Dabas Kossuth utca 27.</td><td>1986-06-28</td><td>38</td><td>38</td></tr>",
                            "<tr><td>balazs3</td><td>Bakódy Balázs</td><td>balazs3@gmail.com</td><td>2131 Göd Arany János utca 1.</td><td>1986-09-09</td><td>38</td><td>38</td></tr>",
                            "<tr><td>dani</td><td>Vörös Dániel</td><td>daniel@gmail.com</td><td>7150 Bonyhád Dózsa György u. 1.</td><td>1986-10-14</td><td>38</td><td>38</td></tr>",
                            "<tr><td>ANDREAT</td><td>Tornyos Andrea</td><td>ANDREAT@gmail.com</td><td>6131 Szank Bécsi utca 82.</td><td>1986-11-14</td><td>38</td><td>38</td></tr>",
                            "<tr><td>henrik3</td><td>Nádudvari Henrik</td><td>henrik.nádudvari@mail.hu</td><td>1077 Budapest Tanácsköztársaság tér 1.</td><td>1986-12-05</td><td>38</td><td>37</td></tr>",
                            "<tr><td>gabor4</td><td>Telek Gábor</td><td>gábor.telek@mail.hu</td><td>9071 Görbeháza Fő út 169.</td><td>1987-03-15</td><td>38</td><td>37</td></tr>",
                            "<tr><td>eszter</td><td>Molnár Eszter</td><td>eszter.molnár@mail.hu</td><td>6800 Hódmezővásárhely Fő út 77.</td><td>1987-05-10</td><td>37</td><td>37</td></tr>",
                            "<tr><td>bence</td><td>Győrffy Bence</td><td>bence@gmail.com</td><td>6900 Makó Árpád utca 23.</td><td>1987-07-09</td><td>37</td><td>37</td></tr>",
                            "<tr><td>KRISZTINAG</td><td>Gyárfás Krisztina</td><td>KRISZTINAG@gmail.com</td><td>6762 Sándorfalva Arany János utca 1.</td><td>1987-09-19</td><td>37</td><td>36</td></tr>",
                            "<tr><td>BERNADETTO</td><td>Orbán Bernadett</td><td>bernadett.orbán@mail.hu</td><td>5085 Rákóczifalva Arany János utca 1.</td><td>1987-12-07</td><td>37</td><td>36</td></tr>",
                            "<tr><td>RENATAK</td><td>Kardos Renáta</td><td>renáta.kardos@mail.hu</td><td>7086 Ozora Bécsi utca 82.</td><td>1988-05-17</td><td>36</td><td>36</td></tr>",
                            "<tr><td>zsolt1</td><td>Pulai Zsolt</td><td>zsolt.pulai@mail.hu</td><td>8391 Sármellék Fő utca 60.</td><td>1988-05-27</td><td>36</td><td>36</td></tr>",
                            "<tr><td>imre</td><td>Búza Imre</td><td>imre.búza@mail.hu</td><td>9181 Kimle Petőfi Sándor tér 1.</td><td>1988-09-30</td><td>36</td><td>36</td></tr>",
                            "<tr><td>AGNESK</td><td>Kovács Ágnes</td><td>AGNESK@gmail.com</td><td>1084 Budapest Endrődi Sándor utca 47.</td><td>1988-10-02</td><td>36</td><td>36</td></tr>",
                            "<tr><td>ANIKOS</td><td>Simon Anikó</td><td>ANIKOS@gmail.com</td><td>5137 Jászkisér Bécsi utca 82.</td><td>1988-12-14</td><td>36</td><td>36</td></tr>",
                            "<tr><td>roza2</td><td>Bucskó Róza</td><td>roza2@gmail.com</td><td>5661 Újkígyós Arany János utca 3.</td><td>1988-12-26</td><td>36</td><td>35</td></tr>",
                            "<tr><td>sandor3</td><td>Farkas Sándor</td><td>sándor.farkas@mail.hu</td><td>8640 Fonyód Tanácsköztársaság tér 1.</td><td>1989-01-27</td><td>36</td><td>35</td></tr>",
                            "<tr><td>ISTVANV</td><td>Varga István</td><td>ISTVANV@gmail.com</td><td>6320 Solt Hősök tere 11.</td><td>1989-04-09</td><td>35</td><td>35</td></tr>",
                            "<tr><td>VIKTORK</td><td>Keresztúri Viktor</td><td>viktor.keresztúri@mail.hu</td><td>2532 Tokodaltáró Nagy Lajos tér 4.</td><td>1989-05-05</td><td>35</td><td>35</td></tr>",
                            "<tr><td>marton</td><td>Kalacsi Márton</td><td>marton@gmail.com</td><td>5137 Jászkisér Fő út 169.</td><td>1989-06-24</td><td>35</td><td>35</td></tr>",
                            "<tr><td>ARONK</td><td>Kelemen Áron</td><td>áron.kelemen@mail.hu</td><td>8200 Veszprém Petőfi utca 8.</td><td>1989-08-10</td><td>35</td><td>35</td></tr>",
                            "<tr><td>emese</td><td>Kuruc Emese</td><td>emese.kuruc@mail.hu</td><td>6700 Szeged Rákóczi utca 67.</td><td>1989-08-10</td><td>35</td><td>34</td></tr>",
                            "<tr><td>balint1</td><td>Molnár Bálint</td><td>balint1@gmail.com</td><td>9181 Kimle Fő út 169.</td><td>1989-08-24</td><td>35</td><td>34</td></tr>",
                            "<tr><td>annamaria1</td><td>Szűcs Annamária</td><td>annamária.szűcs@mail.hu</td><td>1191 Budapest Rendeki utca 21.</td><td>1990-04-27</td><td>34</td><td>34</td></tr>",
                            "<tr><td>ARPADH</td><td>Horváth Árpád</td><td>árpád.horváth@mail.hu</td><td>7349 Szászvár Dózsa György u. 1.</td><td>1990-05-18</td><td>34</td><td>34</td></tr>",
                            "<tr><td>GABORS</td><td>Szöllősi Gábor</td><td>GABORS@gmail.com</td><td>3630 Putnok Kossuth utca 27.</td><td>1990-05-31</td><td>34</td><td>34</td></tr>",
                            "<tr><td>arpad2</td><td>Ötvös Árpád</td><td>árpád.ötvös@mail.hu</td><td>2600 Vác Padragi út 158.</td><td>1990-06-08</td><td>34</td><td>34</td></tr>",
                            "<tr><td>szabolcs</td><td>Bodor Szabolcs</td><td>szabolcs.bodor@mail.hu</td><td>6786 Ruzsa Ady Endre út 27.</td><td>1990-07-16</td><td>34</td><td>34</td></tr>",
                            "<tr><td>ilona3</td><td>Bosnyák Ilona</td><td>ilona3@gmail.com</td><td>2483 Gárdony Posta köz 2.</td><td>1990-08-06</td><td>34</td><td>34</td></tr>",
                            "<tr><td>julianna4</td><td>Szabó Julianna</td><td>julianna4@gmail.com</td><td>6700 Szeged Kossuth Lajos utca 6.</td><td>1990-09-29</td><td>34</td><td>34</td></tr>",
                            "<tr><td>david4</td><td>Berta Dávid</td><td>david4@gmail.com</td><td>3500 Miskolc Balatoni út 12.</td><td>1990-10-08</td><td>34</td><td>33</td></tr>",
                            "<tr><td>RENATAS</td><td>Szirmai Renáta</td><td>RENATAS@gmail.com</td><td>2053 Herceghalom Kossuth utca 27.</td><td>1991-03-26</td><td>34</td><td>33</td></tr>",
                            "<tr><td>brigitta3</td><td>Pataki Brigitta</td><td>brigitta.pataki@mail.hu</td><td>2730 Albertirsa Rendeki utca 21.</td><td>1991-05-23</td><td>33</td><td>33</td></tr>",
                            "<tr><td>vivien3</td><td>Boros Vivien</td><td>vivien3@gmail.com</td><td>2117 Isaszeg Fő út 122.</td><td>1991-07-01</td><td>33</td><td>33</td></tr>",
                            "<tr><td>tihamer</td><td>Kazy Tihamér</td><td>tihamér.kazy@mail.hu</td><td>2370 Dabas Fő utca 60.</td><td>1991-07-05</td><td>33</td><td>33</td></tr>",
                            "<tr><td>norbert2</td><td>Hegedűs Norbert</td><td>norbert.hegedűs@mail.hu</td><td>2081 Piliscsaba Rendeki utca 21.</td><td>1991-07-17</td><td>33</td><td>33</td></tr>",
                            "<tr><td>adam1</td><td>Kiss Ádám</td><td>ádám.kiss@mail.hu</td><td>5630 Békés Szolnoki út 8.</td><td>1991-12-28</td><td>33</td><td>33</td></tr>",
                            "<tr><td>sebestyen</td><td>Rab Sebestyén</td><td>sebestyen@gmail.com</td><td>7130 Tolna Központi telep 3.</td><td>1992-03-03</td><td>33</td><td>32</td></tr>",
                            "<tr><td>alexandra</td><td>Bagóczki Alexandra</td><td>alexandra.bagóczki@mail.hu</td><td>2381 Táborfalva Petőfi utca 1/2.</td><td>1992-03-25</td><td>33</td><td>32</td></tr>",
                            "<tr><td>SEBASTIANF</td><td>Foltényi Sebastián</td><td>SEBASTIANF@gmail.com</td><td>7960 Sellye Grassalkovich út 10.</td><td>1992-09-09</td><td>32</td><td>32</td></tr>",
                            "<tr><td>balazs1</td><td>Bozsik Balázs</td><td>balázs.bozsik@mail.hu</td><td>2300 Ráckeve Bécsi utca 82.</td><td>1992-11-03</td><td>32</td><td>32</td></tr>",
                            "<tr><td>julia</td><td>Tóth Júlia</td><td>julia@gmail.com</td><td>5310 Kisújszállás Árpád utca 4.</td><td>1993-03-02</td><td>32</td><td>31</td></tr>",
                            "<tr><td>andrea</td><td>Kiss Andrea</td><td>andrea.kiss@mail.hu</td><td>1113 Budapest Petőfi Sándor utca 87.</td><td>1993-03-25</td><td>32</td><td>31</td></tr>",
                            "<tr><td>eszter4</td><td>Fülöp Eszter</td><td>eszter.fülöp@mail.hu</td><td>3643 Dédestapolcsány Kossuth Lajos utca 47/b.</td><td>1993-06-28</td><td>31</td><td>31</td></tr>",
                            "<tr><td>rajmond4</td><td>Rácz Rajmond</td><td>rajmond.rácz@mail.hu</td><td>9155 Lébény Petőfi utca 1/2.</td><td>1993-09-25</td><td>31</td><td>31</td></tr>",
                            "<tr><td>tibor</td><td>Gombos Tibor</td><td>tibor.gombos@mail.hu</td><td>7100 Szekszárd Kossuth utca 77.</td><td>1993-11-28</td><td>31</td><td>31</td></tr>",
                            "<tr><td>polla</td><td>Palágyi Polla</td><td>polla@gmail.com</td><td>2484 Agárd Fő út 18.</td><td>1994-02-04</td><td>31</td><td>30</td></tr>",
                            "<tr><td>beata4</td><td>Bagi Beáta</td><td>beáta.bagi@mail.hu</td><td>8477 Tüskevár Felszabadulás utca 32.</td><td>1994-03-19</td><td>31</td><td>30</td></tr>",
                            "<tr><td>zsuzsanna</td><td>Barta Zsuzsanna</td><td>zsuzsanna.barta@mail.hu</td><td>4172 Biharnagybajom Dózsa György utca 37.</td><td>1994-10-07</td><td>30</td><td>30</td></tr>",
                            "<tr><td>BELAF</td><td>Farkas Béla</td><td>BELAF@gmail.com</td><td>5530 Vésztő Petőfi Sándor utca 3.</td><td>1995-02-24</td><td>30</td><td>29</td></tr>",
                            "<tr><td>kati</td><td>Zatykó Katalin</td><td>katalin.zatykó@mail.hu</td><td>7511 Ötvöskónyi Kossuth Lajos utca 6.</td><td>1995-05-01</td><td>29</td><td>29</td></tr>",
                            "<tr><td>ATTILAO</td><td>Opra Attila</td><td>ATTILAO@gmail.com</td><td>8283 Káptalantóti Rákóczi út 200.</td><td>1995-05-08</td><td>29</td><td>29</td></tr>",
                            "<tr><td>dora3</td><td>Sarodi Dóra</td><td>dóra.sarodi@mail.hu</td><td>2855 Bokod Fő út 18.</td><td>1995-05-18</td><td>29</td><td>29</td></tr>",
                            "<tr><td>miklos2</td><td>Gondos Miklós</td><td>miklos2@gmail.com</td><td>2100 Gödöllő Árpád utca 23.</td><td>1995-10-07</td><td>29</td><td>29</td></tr>",
                            "<tr><td>maria1</td><td>Baráth Mária</td><td>mária.baráth@mail.hu</td><td>1047 Budapest Posta köz 2.</td><td>1995-11-19</td><td>29</td><td>29</td></tr>",
                            "<tr><td>timea</td><td>Papós Tímea</td><td>timea@gmail.com</td><td>1035 Budapest  Kossuth út 77.</td><td>1996-01-08</td><td>29</td><td>29</td></tr>",
                            "<tr><td>mark</td><td>Kispál Márk</td><td>márk.kispál@mail.hu</td><td>1086 Budapest Juhászföldi út 1.</td><td>1996-01-23</td><td>29</td><td>28</td></tr>",
                            "<tr><td>balint</td><td>Horváth Bálint</td><td>balint@gmail.com</td><td>6646 Tömörkény Endrődi Sándor utca 47.</td><td>1996-03-17</td><td>29</td><td>28</td></tr>",
                            "<tr><td>VIKTORIAU</td><td>Urbán Viktoria</td><td>viktoria.urbán@mail.hu</td><td>3860 Encs Népboltsor  2.</td><td>1996-05-03</td><td>28</td><td>28</td></tr>",
                            "<tr><td>andrea3</td><td>Szomor Andrea</td><td>andrea3@gmail.com</td><td>7960 Sellye Bécsi utca 82.</td><td>1996-05-10</td><td>28</td><td>28</td></tr>",
                            "<tr><td>fruzsina4</td><td>Frank Fruzsina</td><td>fruzsina4@gmail.com</td><td>9700 Szombathely Szabadság utca 95.</td><td>1996-08-16</td><td>28</td><td>28</td></tr>",
                            "<tr><td>bernadett2</td><td>Kovács Bernadett</td><td>bernadett.kovács@mail.hu</td><td>4200 Hajdúszoboszló Fő út 122.</td><td>1996-08-20</td><td>28</td><td>28</td></tr>",
                            "<tr><td>lala</td><td>Nagymihály Lajos</td><td>lajos.nagymihály@mail.hu</td><td>8638 Balatonlelle Rákóczi út 200.</td><td>1997-02-24</td><td>28</td><td>27</td></tr>",
                            "<tr><td>MATEK</td><td>Koza Máté</td><td>máté.koza@mail.hu</td><td>1011 Budapest Központi telep 3.</td><td>1997-02-28</td><td>28</td><td>27</td></tr>",
                            "<tr><td>ANDRASE</td><td>Erdei András</td><td>ANDRASE@gmail.com</td><td>5071 Besenyszög Szolnoki út 8.</td><td>1997-05-29</td><td>27</td><td>27</td></tr>",
                            "<tr><td>sandor4</td><td>Nagy Sándor</td><td>sandor4@gmail.com</td><td>4600 Kisvárda Fő utca 47.</td><td>1997-06-11</td><td>27</td><td>27</td></tr>",
                            "<tr><td>JUDITH</td><td>Hídasi Judit</td><td>JUDITH@gmail.com</td><td>2100 Gödöllő Fő út 169.</td><td>1997-07-12</td><td>27</td><td>27</td></tr>",
                            "<tr><td>balint2</td><td>Vukasinovity Bálint</td><td>balint2@gmail.com</td><td>2330 Dunaharaszti Béke utca 7.</td><td>1997-09-03</td><td>27</td><td>27</td></tr>",
                            "<tr><td>MARKH</td><td>Horváth Márk</td><td>márk.horváth@mail.hu</td><td>4400 Nyíregyháza Badacsonyi utca 12.</td><td>1997-09-23</td><td>27</td><td>27</td></tr>",
                            "<tr><td>NIKOLETTAT</td><td>Tatár Nikoletta</td><td>nikoletta.tatár@mail.hu</td><td>1067 Budapest Győri utca 12.</td><td>1997-10-19</td><td>27</td><td>27</td></tr>",
                            "<tr><td>andras41</td><td>Komjáti András</td><td>andras41@gmail.com</td><td>5065 Nagykörű Kossuth út 24.</td><td>1997-10-25</td><td>27</td><td>27</td></tr>",
                            "<tr><td>andras2</td><td>Tóth András</td><td>andrás.tóth@mail.hu</td><td>4071 Egyek Petőfi utca 30.</td><td>1997-10-31</td><td>27</td><td>27</td></tr>",
                            "<tr><td>TAMASF</td><td>Fényes Tamás</td><td>TAMASF@gmail.com</td><td>9023 Győr Arany János utca 1.</td><td>1997-11-06</td><td>27</td><td>27</td></tr>",
                            "<tr><td>istvan1</td><td>Vizi István</td><td>istván.vizi@mail.hu</td><td>7086 Ozora Rákóczi utca 1.</td><td>1997-12-01</td><td>27</td><td>27</td></tr>",
                            "<tr><td>eszter2</td><td>Balogh Eszter</td><td>eszter.balogh@mail.hu</td><td>6760 Kistelek Kossuth utca 11.</td><td>1998-01-31</td><td>27</td><td>27</td></tr>",
                            "</table>"
                        ]
                    }
                }
            ],
            "execution_count": 41
        },
        {
            "cell_type": "markdown",
            "source": [
                "15. <span style=\"background-color: rgb(255, 255, 255); color: rgb(0, 0, 0); font-family: &quot;Open Sans&quot;, sans-serif; font-size: 14.44px;\">Listázzuk azon rendelési tételeket, amelynek értéke nagyobb, mint a legdrágább termék listaára azon termékek közül, amelyek szülő kategóriája a ruha!</span>"
            ],
            "metadata": {
                "azdata_cell_guid": "93552388-ffec-49ff-99e5-ae8dc8072601"
            },
            "attachments": {}
        },
        {
            "cell_type": "code",
            "source": [
                ""
            ],
            "metadata": {
                "azdata_cell_guid": "0e7f547f-7d96-4611-b1c2-0fa84a581e79",
                "language": "sql"
            },
            "outputs": [],
            "execution_count": null
        }
    ]
}